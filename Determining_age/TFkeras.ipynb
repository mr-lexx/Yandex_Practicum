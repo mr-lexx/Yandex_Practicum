{
 "cells": [
  {
   "cell_type": "markdown",
   "metadata": {},
   "source": [
    "# Определение возраста покупателей"
   ]
  },
  {
   "cell_type": "code",
   "execution_count": 2,
   "metadata": {},
   "outputs": [],
   "source": [
    "import numpy as np\n",
    "import pandas as pd\n",
    "import matplotlib.pyplot as plt\n",
    "from tensorflow.keras.preprocessing.image import ImageDataGenerator\n",
    "\n",
    "\n",
    "from tensorflow.keras.layers import Conv2D, Flatten, Dense, AvgPool2D,MaxPooling2D,GlobalAveragePooling2D\n",
    "from tensorflow.keras.models import Sequential\n",
    "from tensorflow.keras.optimizers import Adam\n",
    "from tensorflow.keras.preprocessing.image import ImageDataGenerator\n",
    "from tensorflow.keras.applications.resnet import ResNet50"
   ]
  },
  {
   "cell_type": "markdown",
   "metadata": {},
   "source": [
    "## Исследовательский анализ данных"
   ]
  },
  {
   "cell_type": "code",
   "execution_count": 3,
   "metadata": {},
   "outputs": [
    {
     "name": "stdout",
     "output_type": "stream",
     "text": [
      "Found 7591 validated image filenames.\n"
     ]
    }
   ],
   "source": [
    "labels = pd.read_csv('/datasets/faces/labels.csv')\n",
    "train_datagen = ImageDataGenerator(rescale=1./255)\n",
    "train_gen_flow = train_datagen.flow_from_dataframe(\n",
    "        dataframe=labels,\n",
    "        directory='/datasets/faces/final_files/',\n",
    "        x_col='file_name',\n",
    "        y_col='real_age',\n",
    "        target_size=(224, 224),\n",
    "        batch_size=32,\n",
    "        class_mode='raw',\n",
    "        seed=12345)  "
   ]
  },
  {
   "cell_type": "code",
   "execution_count": 4,
   "metadata": {},
   "outputs": [
    {
     "name": "stdout",
     "output_type": "stream",
     "text": [
      "<class 'pandas.core.frame.DataFrame'>\n",
      "RangeIndex: 7591 entries, 0 to 7590\n",
      "Data columns (total 2 columns):\n",
      " #   Column     Non-Null Count  Dtype \n",
      "---  ------     --------------  ----- \n",
      " 0   file_name  7591 non-null   object\n",
      " 1   real_age   7591 non-null   int64 \n",
      "dtypes: int64(1), object(1)\n",
      "memory usage: 118.7+ KB\n"
     ]
    }
   ],
   "source": [
    "labels.info()"
   ]
  },
  {
   "cell_type": "code",
   "execution_count": 5,
   "metadata": {},
   "outputs": [
    {
     "data": {
      "text/html": [
       "<div>\n",
       "<style scoped>\n",
       "    .dataframe tbody tr th:only-of-type {\n",
       "        vertical-align: middle;\n",
       "    }\n",
       "\n",
       "    .dataframe tbody tr th {\n",
       "        vertical-align: top;\n",
       "    }\n",
       "\n",
       "    .dataframe thead th {\n",
       "        text-align: right;\n",
       "    }\n",
       "</style>\n",
       "<table border=\"1\" class=\"dataframe\">\n",
       "  <thead>\n",
       "    <tr style=\"text-align: right;\">\n",
       "      <th></th>\n",
       "      <th>file_name</th>\n",
       "      <th>real_age</th>\n",
       "    </tr>\n",
       "  </thead>\n",
       "  <tbody>\n",
       "    <tr>\n",
       "      <th>0</th>\n",
       "      <td>000000.jpg</td>\n",
       "      <td>4</td>\n",
       "    </tr>\n",
       "    <tr>\n",
       "      <th>1</th>\n",
       "      <td>000001.jpg</td>\n",
       "      <td>18</td>\n",
       "    </tr>\n",
       "    <tr>\n",
       "      <th>2</th>\n",
       "      <td>000002.jpg</td>\n",
       "      <td>80</td>\n",
       "    </tr>\n",
       "    <tr>\n",
       "      <th>3</th>\n",
       "      <td>000003.jpg</td>\n",
       "      <td>50</td>\n",
       "    </tr>\n",
       "    <tr>\n",
       "      <th>4</th>\n",
       "      <td>000004.jpg</td>\n",
       "      <td>17</td>\n",
       "    </tr>\n",
       "  </tbody>\n",
       "</table>\n",
       "</div>"
      ],
      "text/plain": [
       "    file_name  real_age\n",
       "0  000000.jpg         4\n",
       "1  000001.jpg        18\n",
       "2  000002.jpg        80\n",
       "3  000003.jpg        50\n",
       "4  000004.jpg        17"
      ]
     },
     "execution_count": 5,
     "metadata": {},
     "output_type": "execute_result"
    }
   ],
   "source": [
    "labels.head()"
   ]
  },
  {
   "cell_type": "code",
   "execution_count": 5,
   "metadata": {},
   "outputs": [
    {
     "data": {
      "text/plain": [
       "(7591, 2)"
      ]
     },
     "execution_count": 5,
     "metadata": {},
     "output_type": "execute_result"
    }
   ],
   "source": [
    "labels.shape"
   ]
  },
  {
   "cell_type": "code",
   "execution_count": 61,
   "metadata": {},
   "outputs": [
    {
     "data": {
      "image/png": "[encoded data removed]",
      "text/plain": [
       "<Figure size 864x576 with 1 Axes>"
      ]
     },
     "metadata": {
      "needs_background": "light"
     },
     "output_type": "display_data"
    }
   ],
   "source": [
    "plt.figure()\n",
    "labels['real_age'].plot(kind='hist', \n",
    "                        grid=True, \n",
    "                        figsize=(12,8), \n",
    "                        bins=100,\n",
    "                        xlabel = 'Возраст',\n",
    "                        title='Распределения возраста в иходных данных');"
   ]
  },
  {
   "cell_type": "code",
   "execution_count": 53,
   "metadata": {},
   "outputs": [
    {
     "data": {
      "text/html": [
       "<div>\n",
       "<style scoped>\n",
       "    .dataframe tbody tr th:only-of-type {\n",
       "        vertical-align: middle;\n",
       "    }\n",
       "\n",
       "    .dataframe tbody tr th {\n",
       "        vertical-align: top;\n",
       "    }\n",
       "\n",
       "    .dataframe thead th {\n",
       "        text-align: right;\n",
       "    }\n",
       "</style>\n",
       "<table border=\"1\" class=\"dataframe\">\n",
       "  <thead>\n",
       "    <tr style=\"text-align: right;\">\n",
       "      <th>real_age</th>\n",
       "      <th>1</th>\n",
       "      <th>2</th>\n",
       "      <th>3</th>\n",
       "      <th>4</th>\n",
       "      <th>5</th>\n",
       "      <th>6</th>\n",
       "      <th>7</th>\n",
       "      <th>8</th>\n",
       "      <th>9</th>\n",
       "      <th>10</th>\n",
       "      <th>11</th>\n",
       "      <th>12</th>\n",
       "      <th>13</th>\n",
       "      <th>14</th>\n",
       "      <th>15</th>\n",
       "      <th>16</th>\n",
       "      <th>17</th>\n",
       "      <th>18</th>\n",
       "      <th>19</th>\n",
       "      <th>20</th>\n",
       "    </tr>\n",
       "  </thead>\n",
       "  <tbody>\n",
       "    <tr>\n",
       "      <th>file_name</th>\n",
       "      <td>149</td>\n",
       "      <td>88</td>\n",
       "      <td>25</td>\n",
       "      <td>101</td>\n",
       "      <td>87</td>\n",
       "      <td>68</td>\n",
       "      <td>67</td>\n",
       "      <td>44</td>\n",
       "      <td>34</td>\n",
       "      <td>45</td>\n",
       "      <td>51</td>\n",
       "      <td>56</td>\n",
       "      <td>79</td>\n",
       "      <td>125</td>\n",
       "      <td>128</td>\n",
       "      <td>193</td>\n",
       "      <td>163</td>\n",
       "      <td>193</td>\n",
       "      <td>180</td>\n",
       "      <td>178</td>\n",
       "    </tr>\n",
       "  </tbody>\n",
       "</table>\n",
       "</div>"
      ],
      "text/plain": [
       "real_age    1   2   3    4   5   6   7   8   9   10  11  12  13   14   15  \\\n",
       "file_name  149  88  25  101  87  68  67  44  34  45  51  56  79  125  128   \n",
       "\n",
       "real_age    16   17   18   19   20  \n",
       "file_name  193  163  193  180  178  "
      ]
     },
     "execution_count": 53,
     "metadata": {},
     "output_type": "execute_result"
    }
   ],
   "source": [
    "labels.groupby('real_age').count().head(20).T"
   ]
  },
  {
   "cell_type": "code",
   "execution_count": 105,
   "metadata": {},
   "outputs": [
    {
     "data": {
      "text/html": [
       "<div>\n",
       "<style scoped>\n",
       "    .dataframe tbody tr th:only-of-type {\n",
       "        vertical-align: middle;\n",
       "    }\n",
       "\n",
       "    .dataframe tbody tr th {\n",
       "        vertical-align: top;\n",
       "    }\n",
       "\n",
       "    .dataframe thead th {\n",
       "        text-align: right;\n",
       "    }\n",
       "</style>\n",
       "<table border=\"1\" class=\"dataframe\">\n",
       "  <thead>\n",
       "    <tr style=\"text-align: right;\">\n",
       "      <th>real_age</th>\n",
       "      <th>26</th>\n",
       "      <th>27</th>\n",
       "      <th>28</th>\n",
       "      <th>29</th>\n",
       "      <th>30</th>\n",
       "      <th>31</th>\n",
       "      <th>32</th>\n",
       "      <th>33</th>\n",
       "      <th>34</th>\n",
       "      <th>35</th>\n",
       "      <th>...</th>\n",
       "      <th>88</th>\n",
       "      <th>89</th>\n",
       "      <th>90</th>\n",
       "      <th>91</th>\n",
       "      <th>93</th>\n",
       "      <th>94</th>\n",
       "      <th>95</th>\n",
       "      <th>96</th>\n",
       "      <th>97</th>\n",
       "      <th>100</th>\n",
       "    </tr>\n",
       "  </thead>\n",
       "  <tbody>\n",
       "    <tr>\n",
       "      <th>file_name</th>\n",
       "      <td>226</td>\n",
       "      <td>229</td>\n",
       "      <td>217</td>\n",
       "      <td>164</td>\n",
       "      <td>317</td>\n",
       "      <td>129</td>\n",
       "      <td>174</td>\n",
       "      <td>144</td>\n",
       "      <td>156</td>\n",
       "      <td>147</td>\n",
       "      <td>...</td>\n",
       "      <td>3</td>\n",
       "      <td>4</td>\n",
       "      <td>21</td>\n",
       "      <td>1</td>\n",
       "      <td>1</td>\n",
       "      <td>5</td>\n",
       "      <td>2</td>\n",
       "      <td>2</td>\n",
       "      <td>1</td>\n",
       "      <td>1</td>\n",
       "    </tr>\n",
       "  </tbody>\n",
       "</table>\n",
       "<p>1 rows × 72 columns</p>\n",
       "</div>"
      ],
      "text/plain": [
       "real_age   26   27   28   29   30   31   32   33   34   35   ...  88   89   \\\n",
       "file_name  226  229  217  164  317  129  174  144  156  147  ...    3    4   \n",
       "\n",
       "real_age   90   91   93   94   95   96   97   100  \n",
       "file_name   21    1    1    5    2    2    1    1  \n",
       "\n",
       "[1 rows x 72 columns]"
      ]
     },
     "execution_count": 105,
     "metadata": {},
     "output_type": "execute_result"
    }
   ],
   "source": [
    "labels.groupby('real_age').count().iloc[25:].T"
   ]
  },
  {
   "cell_type": "code",
   "execution_count": 63,
   "metadata": {},
   "outputs": [
    {
     "data": {
      "text/html": [
       "<div>\n",
       "<style scoped>\n",
       "    .dataframe tbody tr th:only-of-type {\n",
       "        vertical-align: middle;\n",
       "    }\n",
       "\n",
       "    .dataframe tbody tr th {\n",
       "        vertical-align: top;\n",
       "    }\n",
       "\n",
       "    .dataframe thead th {\n",
       "        text-align: right;\n",
       "    }\n",
       "</style>\n",
       "<table border=\"1\" class=\"dataframe\">\n",
       "  <thead>\n",
       "    <tr style=\"text-align: right;\">\n",
       "      <th></th>\n",
       "      <th>count</th>\n",
       "      <th>mean</th>\n",
       "      <th>std</th>\n",
       "      <th>min</th>\n",
       "      <th>25%</th>\n",
       "      <th>50%</th>\n",
       "      <th>75%</th>\n",
       "      <th>max</th>\n",
       "    </tr>\n",
       "  </thead>\n",
       "  <tbody>\n",
       "    <tr>\n",
       "      <th>real_age</th>\n",
       "      <td>7591.0</td>\n",
       "      <td>31.201159</td>\n",
       "      <td>17.14506</td>\n",
       "      <td>1.0</td>\n",
       "      <td>20.0</td>\n",
       "      <td>29.0</td>\n",
       "      <td>41.0</td>\n",
       "      <td>100.0</td>\n",
       "    </tr>\n",
       "  </tbody>\n",
       "</table>\n",
       "</div>"
      ],
      "text/plain": [
       "           count       mean       std  min   25%   50%   75%    max\n",
       "real_age  7591.0  31.201159  17.14506  1.0  20.0  29.0  41.0  100.0"
      ]
     },
     "execution_count": 63,
     "metadata": {},
     "output_type": "execute_result"
    }
   ],
   "source": [
    "labels.describe().T"
   ]
  },
  {
   "cell_type": "markdown",
   "metadata": {},
   "source": [
    "Как видим данные на графике распределены неравномерно и есть просадки в некоторых возрастных категориях. Больше всего фотографий для лиц от 14 до 40 лет."
   ]
  },
  {
   "cell_type": "markdown",
   "metadata": {},
   "source": [
    "Выведем случайные 5 фотографий людей и их возраст"
   ]
  },
  {
   "cell_type": "code",
   "execution_count": 15,
   "metadata": {},
   "outputs": [
    {
     "data": {
      "image/png": "[encoded data removed]",
      "text/plain": [
       "<Figure size 720x720 with 5 Axes>"
      ]
     },
     "metadata": {},
     "output_type": "display_data"
    }
   ],
   "source": [
    "features, target = next(train_gen_flow)\n",
    "\n",
    "\n",
    "fig = plt.figure(figsize=(10,10))\n",
    "for i in range(5):\n",
    "    fig.add_subplot(5, 5, i+1)\n",
    "    plt.imshow(features[i])\n",
    "    plt.title('Возраст: ' + str(target[i]))\n",
    "    plt.xticks([])\n",
    "    plt.yticks([])\n",
    "    plt.tight_layout()\n",
    "    "
   ]
  },
  {
   "cell_type": "code",
   "execution_count": 17,
   "metadata": {},
   "outputs": [
    {
     "data": {
      "text/plain": [
       "(32, 224, 224, 3)"
      ]
     },
     "execution_count": 17,
     "metadata": {},
     "output_type": "execute_result"
    }
   ],
   "source": [
    "features.shape"
   ]
  },
  {
   "cell_type": "markdown",
   "metadata": {},
   "source": [
    "Для обучения моделей даны квадратные цветные фотографии размерностью в 224 точки. Основная часть пар фото-возраст соответсвует возрастному критерию 20-41. Некоторые возрастные группы представлены в единичных экземплярах и очевидно, что точный возраст для некоторых возрастов определить будет невозможно, поэтому рекомендовано было бы объединить некоторые возраста в категории (например: дети, подростки, взрослые, пожилые).\n",
    "Для супермаркета особенно вожно определять совершеннолетие покупателя, чтобы ограничить возможность в покупке определенных категорий товаров. В пограничной зоне 16-20 лет представленно достаточно большое количество фотографий."
   ]
  },
  {
   "cell_type": "markdown",
   "metadata": {},
   "source": [
    "## Обучение модели"
   ]
  },
  {
   "cell_type": "markdown",
   "metadata": {},
   "source": [
    "Перенесите сюда код обучения модели и её результат вывода на экран.\n",
    "\n",
    "\n",
    "(Код в этом разделе запускается в отдельном GPU-тренажёре, поэтому оформлен не как ячейка с кодом, а как код в текстовой ячейке)"
   ]
  },
  {
   "cell_type": "code",
   "execution_count": 106,
   "metadata": {},
   "outputs": [],
   "source": [
    "def load_test(path):\n",
    "    labels = pd.read_csv(path+'labels.csv') \n",
    "    test_datagen = ImageDataGenerator(rescale=1./255,\n",
    "                                    validation_split=0.25)\n",
    "    test_datagen_flow = test_datagen.flow_from_dataframe(dataframe=labels,\n",
    "        directory=path + 'final_files/',\n",
    "        x_col='file_name',\n",
    "        y_col='real_age',\n",
    "        target_size=(224, 224),\n",
    "        batch_size=32,\n",
    "        class_mode='raw',\n",
    "        subset='validation',\n",
    "        seed=12345) \n",
    "    return test_datagen_flow\n",
    "\n",
    "\n",
    "def load_train(path):\n",
    "    labels = pd.read_csv(path+'labels.csv') \n",
    "    train_datagen = ImageDataGenerator(rescale=1./255,\n",
    "                                   validation_split=0.25,\n",
    "                                   horizontal_flip=True,\n",
    "                                   brightness_range=(0.8, 1.))\n",
    "\n",
    "    train_datagen_flow = train_datagen.flow_from_dataframe(dataframe=labels,\n",
    "      directory=path + 'final_files/',\n",
    "      x_col='file_name',\n",
    "      y_col='real_age',\n",
    "      target_size=(224, 224),\n",
    "      batch_size=32,\n",
    "      class_mode='raw',\n",
    "      subset='training',\n",
    "      seed=12345)\n",
    "    return train_datagen_flow\n",
    "\n",
    "\n",
    "def create_model(input_shape):\n",
    "\n",
    "    backbone = ResNet50(input_shape=input_shape,\n",
    "                    weights='imagenet', \n",
    "                    include_top=False)\n",
    "\n",
    "    model = Sequential()\n",
    "    model.add(backbone)\n",
    "    model.add(GlobalAveragePooling2D()) \n",
    "    model.add(Dense(2, activation='relu')) \n",
    "    optimizer = Adam(lr=0.0001)\n",
    "    model.compile(optimizer=optimizer,loss='mean_squared_error',metrics=['mae'])\n",
    "\n",
    "    return model\n",
    "\n",
    "def train_model(model, train_data, test_data, batch_size=None, epochs=10,\n",
    "               steps_per_epoch=None, validation_steps=None):\n",
    "\n",
    "    model.fit(train_data, \n",
    "              validation_data=test_data,\n",
    "              batch_size=batch_size, epochs=epochs,\n",
    "              steps_per_epoch=steps_per_epoch,\n",
    "              validation_steps=validation_steps,\n",
    "              verbose=2)\n",
    "\n",
    "    return model"
   ]
  },
  {
   "cell_type": "markdown",
   "metadata": {},
   "source": [
    "Результаты обучения:"
   ]
  },
  {
   "cell_type": "markdown",
   "metadata": {},
   "source": [
    "Train for 178 steps, validate for 60 steps<br>\n",
    "Epoch 1/10<br>\n",
    "178/178 - 66s - loss: 192.7955 - mae: 10.2169 - val_loss: 445.7577 - val_mae: 16.0345<br>\n",
    "Epoch 2/10<br>\n",
    "178/178 - 51s - loss: 92.0148 - mae: 7.2176 - val_loss: 451.7124 - val_mae: 16.1872<br>\n",
    "Epoch 3/10<br>\n",
    "178/178 - 52s - loss: 68.6918 - mae: 6.3159 - val_loss: 429.8841 - val_mae: 15.5845<br>\n",
    "Epoch 4/10<br>\n",
    "178/178 - 52s - loss: 52.3643 - mae: 5.5509 - val_loss: 480.4401 - val_mae: 18.5414<br>\n",
    "Epoch 5/10<br>\n",
    "178/178 - 51s - loss: 38.9084 - mae: 4.7773 - val_loss: 126.2638 - val_mae: 8.7828<br>\n",
    "Epoch 6/10<br>\n",
    "178/178 - 52s - loss: 36.5956 - mae: 4.5910 - val_loss: 89.8351 - val_mae: 7.3560<br>\n",
    "Epoch 7/10<br>\n",
    "178/178 - 51s - loss: 28.1620 - mae: 4.0976 - val_loss: 102.2060 - val_mae: 7.6877<br>\n",
    "Epoch 8/10<br>\n",
    "178/178 - 52s - loss: 23.8569 - mae: 3.7121 - val_loss: 75.5281 - val_mae: 6.3656<br>\n",
    "Epoch 9/10<br>\n",
    "178/178 - 50s - loss: 18.8138 - mae: 3.3444 - val_loss: 69.9061 - val_mae: 6.1709<br>\n",
    "Epoch 10/10<br>\n",
    "178/178 - 48s - loss: 16.2523 - mae: 3.1018 - val_loss: 88.0730 - val_mae: 6.9229<br>\n",
    "<br>\n",
    "60/60 - 10s - loss: 88.0730 - mae: 6.9229<br>\n",
    "Test MAE: 6.9229<br>"
   ]
  },
  {
   "cell_type": "markdown",
   "metadata": {},
   "source": [
    "## Анализ обученной модели"
   ]
  },
  {
   "cell_type": "markdown",
   "metadata": {},
   "source": [
    "Подобрав оптимальные параметры обучающей модели ResNet50 удалось добиться требуемого значения функции потерь (MSE) <7 на 10 эпохах, тем не менее достаточно было 8. Общее время обучения модели заняло порядка 10 минут."
   ]
  },
  {
   "cell_type": "markdown",
   "metadata": {},
   "source": [
    "ВЫВОД: Супермаркетом «Хлеб-Соль» был предоставлен датасет из 7591 фотографий людей и соответствующего им возраста. Возрастной промежуток составил от 1 до 100 лет. Построив график распределения, было обнаружено, что данное распределение неравномерное и большая часть фотографий соответствовала возрастной категории 20-41 год. Имеются просадки в категории 8-12 лет, а также спрад после 26 лет с некоторыми \"всплесками\". Были выведены несколько произвольных фотографии для проверки адекватности предоставленных данных.\n",
    "В качестве модели машинного обучения была выбрана Resnet50, которая позволила добиться заданной точности."
   ]
  }
 ],
 "metadata": {
  "ExecuteTimeLog": [
   {
    "duration": 3044,
    "start_time": "2023-08-24T02:18:01.645Z"
   },
   {
    "duration": 0,
    "start_time": "2023-08-24T02:21:22.349Z"
   },
   {
    "duration": 0,
    "start_time": "2023-08-24T02:21:22.350Z"
   },
   {
    "duration": 0,
    "start_time": "2023-08-24T02:21:22.352Z"
   },
   {
    "duration": 68,
    "start_time": "2023-08-24T02:21:26.061Z"
   },
   {
    "duration": 8,
    "start_time": "2023-08-24T02:29:57.682Z"
   },
   {
    "duration": 278,
    "start_time": "2023-08-24T02:29:57.697Z"
   },
   {
    "duration": 116973,
    "start_time": "2023-08-24T02:29:57.977Z"
   },
   {
    "duration": 283,
    "start_time": "2023-08-24T02:34:10.954Z"
   },
   {
    "duration": 13,
    "start_time": "2023-08-24T02:34:28.219Z"
   },
   {
    "duration": 3,
    "start_time": "2023-08-24T02:34:33.355Z"
   },
   {
    "duration": 382,
    "start_time": "2023-08-24T02:34:50.061Z"
   },
   {
    "duration": 304,
    "start_time": "2023-08-24T02:35:41.274Z"
   },
   {
    "duration": 309,
    "start_time": "2023-08-24T02:36:00.375Z"
   },
   {
    "duration": 346,
    "start_time": "2023-08-24T02:38:07.933Z"
   },
   {
    "duration": 322,
    "start_time": "2023-08-24T02:38:24.900Z"
   },
   {
    "duration": 291,
    "start_time": "2023-08-24T02:38:54.840Z"
   },
   {
    "duration": 466,
    "start_time": "2023-08-24T02:39:24.266Z"
   },
   {
    "duration": 285,
    "start_time": "2023-08-24T02:39:49.640Z"
   },
   {
    "duration": 213,
    "start_time": "2023-08-24T02:40:09.922Z"
   },
   {
    "duration": 109,
    "start_time": "2023-08-24T02:40:14.418Z"
   },
   {
    "duration": 141,
    "start_time": "2023-08-24T02:40:22.847Z"
   },
   {
    "duration": 283,
    "start_time": "2023-08-24T02:42:20.716Z"
   },
   {
    "duration": 279,
    "start_time": "2023-08-24T02:42:32.963Z"
   },
   {
    "duration": 290,
    "start_time": "2023-08-24T02:44:17.049Z"
   },
   {
    "duration": 101,
    "start_time": "2023-08-24T02:45:36.842Z"
   },
   {
    "duration": 277,
    "start_time": "2023-08-24T02:45:43.314Z"
   },
   {
    "duration": 503,
    "start_time": "2023-08-24T02:46:00.806Z"
   },
   {
    "duration": 301,
    "start_time": "2023-08-24T02:46:47.457Z"
   },
   {
    "duration": 298,
    "start_time": "2023-08-24T02:47:11.541Z"
   },
   {
    "duration": 268,
    "start_time": "2023-08-24T02:48:45.319Z"
   },
   {
    "duration": 314,
    "start_time": "2023-08-24T02:50:16.633Z"
   },
   {
    "duration": 321,
    "start_time": "2023-08-24T02:52:41.597Z"
   },
   {
    "duration": 500,
    "start_time": "2023-08-24T02:52:56.909Z"
   },
   {
    "duration": 336,
    "start_time": "2023-08-24T02:53:06.302Z"
   },
   {
    "duration": 332,
    "start_time": "2023-08-24T02:53:26.736Z"
   },
   {
    "duration": 292,
    "start_time": "2023-08-24T02:54:04.149Z"
   },
   {
    "duration": 304,
    "start_time": "2023-08-24T02:56:05.744Z"
   },
   {
    "duration": 271,
    "start_time": "2023-08-24T02:56:15.615Z"
   },
   {
    "duration": 116,
    "start_time": "2023-08-24T02:57:30.610Z"
   },
   {
    "duration": 391,
    "start_time": "2023-08-24T02:57:44.346Z"
   },
   {
    "duration": 507,
    "start_time": "2023-08-24T02:58:14.935Z"
   },
   {
    "duration": 136,
    "start_time": "2023-08-24T03:01:10.110Z"
   },
   {
    "duration": 164,
    "start_time": "2023-08-24T03:01:23.709Z"
   },
   {
    "duration": 165,
    "start_time": "2023-08-24T03:01:29.811Z"
   },
   {
    "duration": 315,
    "start_time": "2023-08-24T03:01:37.512Z"
   },
   {
    "duration": 364,
    "start_time": "2023-08-24T03:02:03.166Z"
   },
   {
    "duration": 281,
    "start_time": "2023-08-24T03:02:45.660Z"
   },
   {
    "duration": 287,
    "start_time": "2023-08-24T03:04:20.150Z"
   },
   {
    "duration": 77,
    "start_time": "2023-08-24T03:04:27.777Z"
   },
   {
    "duration": 8,
    "start_time": "2023-08-24T03:05:28.011Z"
   },
   {
    "duration": 10,
    "start_time": "2023-08-24T03:07:06.046Z"
   },
   {
    "duration": 14,
    "start_time": "2023-08-24T03:07:16.576Z"
   },
   {
    "duration": 20,
    "start_time": "2023-08-24T03:08:14.287Z"
   },
   {
    "duration": 603,
    "start_time": "2023-08-24T03:10:06.196Z"
   },
   {
    "duration": 298,
    "start_time": "2023-08-24T03:11:41.016Z"
   },
   {
    "duration": 370,
    "start_time": "2023-08-24T03:13:16.637Z"
   },
   {
    "duration": 316,
    "start_time": "2023-08-24T03:14:29.536Z"
   },
   {
    "duration": 313,
    "start_time": "2023-08-24T03:14:44.556Z"
   },
   {
    "duration": 311,
    "start_time": "2023-08-24T03:15:52.194Z"
   },
   {
    "duration": 325,
    "start_time": "2023-08-24T03:16:18.442Z"
   },
   {
    "duration": 541,
    "start_time": "2023-08-24T03:16:36.918Z"
   },
   {
    "duration": 13,
    "start_time": "2023-08-24T03:17:32.897Z"
   },
   {
    "duration": 17,
    "start_time": "2023-08-24T03:17:41.049Z"
   },
   {
    "duration": 100,
    "start_time": "2023-08-24T03:19:24.147Z"
   },
   {
    "duration": 30,
    "start_time": "2023-08-24T03:23:22.220Z"
   },
   {
    "duration": 1704,
    "start_time": "2023-08-24T03:25:05.913Z"
   },
   {
    "duration": 2462,
    "start_time": "2023-08-24T03:25:13.639Z"
   },
   {
    "duration": 2691,
    "start_time": "2023-08-24T03:25:23.500Z"
   },
   {
    "duration": 2854,
    "start_time": "2023-08-24T03:25:32.393Z"
   },
   {
    "duration": 3422,
    "start_time": "2023-08-24T03:25:51.437Z"
   },
   {
    "duration": 3330,
    "start_time": "2023-08-24T03:26:04.944Z"
   },
   {
    "duration": 3416,
    "start_time": "2023-08-24T03:26:12.549Z"
   },
   {
    "duration": 3243,
    "start_time": "2023-08-24T03:26:27.826Z"
   },
   {
    "duration": 3820,
    "start_time": "2023-08-24T03:27:05.671Z"
   },
   {
    "duration": 3242,
    "start_time": "2023-08-24T03:27:32.012Z"
   },
   {
    "duration": 1661,
    "start_time": "2023-08-24T03:28:03.073Z"
   },
   {
    "duration": 1887,
    "start_time": "2023-08-24T03:28:35.676Z"
   },
   {
    "duration": 2001,
    "start_time": "2023-08-24T03:30:36.811Z"
   },
   {
    "duration": 2036,
    "start_time": "2023-08-24T03:30:57.914Z"
   },
   {
    "duration": 3634,
    "start_time": "2023-08-24T03:31:09.110Z"
   },
   {
    "duration": 4478,
    "start_time": "2023-08-24T03:31:38.010Z"
   },
   {
    "duration": 5100,
    "start_time": "2023-08-24T03:32:13.097Z"
   },
   {
    "duration": 5262,
    "start_time": "2023-08-24T03:32:40.811Z"
   },
   {
    "duration": 3675,
    "start_time": "2023-08-24T03:32:56.179Z"
   },
   {
    "duration": 2108,
    "start_time": "2023-08-24T03:33:16.445Z"
   },
   {
    "duration": 2983,
    "start_time": "2023-08-24T03:33:32.567Z"
   },
   {
    "duration": 148,
    "start_time": "2023-08-24T03:33:53.408Z"
   },
   {
    "duration": 4517,
    "start_time": "2023-08-24T03:34:02.222Z"
   },
   {
    "duration": 106,
    "start_time": "2023-08-24T03:34:33.342Z"
   },
   {
    "duration": 1952,
    "start_time": "2023-08-24T03:34:40.310Z"
   },
   {
    "duration": 2085,
    "start_time": "2023-08-24T03:34:54.666Z"
   },
   {
    "duration": 2100,
    "start_time": "2023-08-24T03:35:38.428Z"
   },
   {
    "duration": 1678,
    "start_time": "2023-08-24T03:37:48.145Z"
   },
   {
    "duration": 2187,
    "start_time": "2023-08-24T03:37:57.889Z"
   },
   {
    "duration": 2032,
    "start_time": "2023-08-24T03:38:09.045Z"
   },
   {
    "duration": 1979,
    "start_time": "2023-08-24T03:38:18.856Z"
   },
   {
    "duration": 2181,
    "start_time": "2023-08-24T03:38:31.855Z"
   },
   {
    "duration": 4,
    "start_time": "2023-08-24T03:48:24.175Z"
   },
   {
    "duration": 6,
    "start_time": "2023-08-24T03:48:40.775Z"
   },
   {
    "duration": 10,
    "start_time": "2023-08-24T03:48:57.038Z"
   },
   {
    "duration": 6,
    "start_time": "2023-08-24T03:49:01.725Z"
   },
   {
    "duration": 6,
    "start_time": "2023-08-24T04:00:38.043Z"
   },
   {
    "duration": 17,
    "start_time": "2023-08-24T04:28:02.788Z"
   },
   {
    "duration": 16,
    "start_time": "2023-08-24T04:45:08.133Z"
   },
   {
    "duration": 13,
    "start_time": "2023-08-24T04:45:51.072Z"
   },
   {
    "duration": 11,
    "start_time": "2023-08-24T04:49:19.666Z"
   },
   {
    "duration": 59,
    "start_time": "2023-08-24T07:03:30.847Z"
   },
   {
    "duration": 2832,
    "start_time": "2023-08-24T07:03:34.374Z"
   },
   {
    "duration": 106826,
    "start_time": "2023-08-24T07:03:37.208Z"
   },
   {
    "duration": 10,
    "start_time": "2023-08-24T07:05:24.036Z"
   },
   {
    "duration": 43,
    "start_time": "2023-08-24T07:05:24.048Z"
   },
   {
    "duration": 2131,
    "start_time": "2023-08-24T07:36:26.401Z"
   },
   {
    "duration": 2050,
    "start_time": "2023-08-24T07:36:43.433Z"
   },
   {
    "duration": 2070,
    "start_time": "2023-08-24T07:37:32.808Z"
   },
   {
    "duration": 2193,
    "start_time": "2023-08-24T07:37:52.076Z"
   },
   {
    "duration": 2118,
    "start_time": "2023-08-24T07:38:18.068Z"
   },
   {
    "duration": 1821,
    "start_time": "2023-08-24T07:38:53.494Z"
   },
   {
    "duration": 2285,
    "start_time": "2023-08-24T07:39:25.433Z"
   },
   {
    "duration": 1858,
    "start_time": "2023-08-24T07:39:56.694Z"
   },
   {
    "duration": 2302,
    "start_time": "2023-08-24T07:40:15.180Z"
   },
   {
    "duration": 2186,
    "start_time": "2023-08-24T07:40:23.242Z"
   },
   {
    "duration": 405,
    "start_time": "2023-08-24T07:41:01.370Z"
   },
   {
    "duration": 4,
    "start_time": "2023-08-24T07:42:41.300Z"
   },
   {
    "duration": 575,
    "start_time": "2023-08-24T07:43:13.145Z"
   }
  ],
  "kernelspec": {
   "display_name": "Python 3 (ipykernel)",
   "language": "python",
   "name": "python3"
  },
  "language_info": {
   "codemirror_mode": {
    "name": "ipython",
    "version": 3
   },
   "file_extension": ".py",
   "mimetype": "text/x-python",
   "name": "python",
   "nbconvert_exporter": "python",
   "pygments_lexer": "ipython3",
   "version": "3.11.4"
  },
  "toc": {
   "base_numbering": 1,
   "nav_menu": {},
   "number_sections": true,
   "sideBar": true,
   "skip_h1_title": true,
   "title_cell": "Table of Contents",
   "title_sidebar": "Contents",
   "toc_cell": false,
   "toc_position": {},
   "toc_section_display": true,
   "toc_window_display": false
  }
 },
 "nbformat": 4,
 "nbformat_minor": 4
}

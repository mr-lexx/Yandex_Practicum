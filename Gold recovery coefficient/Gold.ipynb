{
 "cells": [
  {
   "cell_type": "markdown",
   "metadata": {},
   "source": [
    "# Восстановление золота из руды"
   ]
  },
  {
   "cell_type": "markdown",
   "metadata": {},
   "source": [
    "## Подготовка данных"
   ]
  },
  {
   "cell_type": "code",
   "execution_count": 2,
   "metadata": {},
   "outputs": [],
   "source": [
    "import pandas as pd\n",
    "import numpy as np\n",
    "import matplotlib.pyplot as plt\n",
    "\n",
    "from sklearn.preprocessing import MinMaxScaler\n",
    "\n",
    "from sklearn.linear_model import LinearRegression\n",
    "from sklearn.tree import DecisionTreeRegressor\n",
    "from sklearn.ensemble import RandomForestRegressor\n",
    "from sklearn.dummy import DummyRegressor\n",
    "\n",
    "from sklearn. metrics import mean_absolute_error, make_scorer\n",
    "from sklearn.model_selection import cross_val_score\n",
    "\n",
    "from IPython.core.display import display, HTML"
   ]
  },
  {
   "cell_type": "code",
   "execution_count": 3,
   "metadata": {},
   "outputs": [],
   "source": [
    "STATE = 12345"
   ]
  },
  {
   "cell_type": "code",
   "execution_count": 4,
   "metadata": {},
   "outputs": [
    {
     "data": {
      "text/html": [
       "<style>.container { width:70% !important; }</style>"
      ],
      "text/plain": [
       "<IPython.core.display.HTML object>"
      ]
     },
     "metadata": {},
     "output_type": "display_data"
    }
   ],
   "source": [
    "display(HTML(\"<style>.container { width:70% !important; }</style>\"))"
   ]
  },
  {
   "cell_type": "code",
   "execution_count": 5,
   "metadata": {},
   "outputs": [],
   "source": [
    "data = pd.read_csv('/datasets/gold_industry_full.csv')\n",
    "data_train = pd.read_csv('/datasets/gold_industry_train.csv')\n",
    "data_test = pd.read_csv('/datasets/gold_industry_test.csv')"
   ]
  },
  {
   "cell_type": "code",
   "execution_count": 6,
   "metadata": {},
   "outputs": [],
   "source": [
    "pd.set_option('display.max_rows', 50)\n",
    "pd.set_option('display.max_columns', None)"
   ]
  },
  {
   "cell_type": "markdown",
   "metadata": {},
   "source": [
    "### Знакомство с данными. Обработка дубликатов и пропусков."
   ]
  },
  {
   "cell_type": "code",
   "execution_count": 7,
   "metadata": {},
   "outputs": [
    {
     "data": {
      "text/html": [
       "<div>\n",
       "<style scoped>\n",
       "    .dataframe tbody tr th:only-of-type {\n",
       "        vertical-align: middle;\n",
       "    }\n",
       "\n",
       "    .dataframe tbody tr th {\n",
       "        vertical-align: top;\n",
       "    }\n",
       "\n",
       "    .dataframe thead th {\n",
       "        text-align: right;\n",
       "    }\n",
       "</style>\n",
       "<table border=\"1\" class=\"dataframe\">\n",
       "  <thead>\n",
       "    <tr style=\"text-align: right;\">\n",
       "      <th></th>\n",
       "      <th>date</th>\n",
       "      <th>rougher.input.feed_au</th>\n",
       "      <th>rougher.input.feed_ag</th>\n",
       "      <th>rougher.input.feed_pb</th>\n",
       "      <th>rougher.input.feed_sol</th>\n",
       "      <th>rougher.input.feed_rate</th>\n",
       "      <th>rougher.input.feed_size</th>\n",
       "      <th>rougher.input.floatbank10_sulfate</th>\n",
       "      <th>rougher.input.floatbank10_xanthate</th>\n",
       "      <th>rougher.state.floatbank10_a_air</th>\n",
       "      <th>rougher.state.floatbank10_a_level</th>\n",
       "      <th>rougher.state.floatbank10_b_air</th>\n",
       "      <th>rougher.state.floatbank10_b_level</th>\n",
       "      <th>rougher.state.floatbank10_c_air</th>\n",
       "      <th>rougher.state.floatbank10_c_level</th>\n",
       "      <th>rougher.state.floatbank10_d_air</th>\n",
       "      <th>rougher.state.floatbank10_d_level</th>\n",
       "      <th>rougher.state.floatbank10_e_air</th>\n",
       "      <th>rougher.state.floatbank10_e_level</th>\n",
       "      <th>rougher.state.floatbank10_f_air</th>\n",
       "      <th>rougher.state.floatbank10_f_level</th>\n",
       "      <th>rougher.input.floatbank11_sulfate</th>\n",
       "      <th>rougher.input.floatbank11_xanthate</th>\n",
       "      <th>rougher.calculation.sulfate_to_au_concentrate</th>\n",
       "      <th>rougher.calculation.floatbank10_sulfate_to_au_feed</th>\n",
       "      <th>rougher.calculation.floatbank11_sulfate_to_au_feed</th>\n",
       "      <th>rougher.calculation.au_pb_ratio</th>\n",
       "      <th>rougher.output.concentrate_au</th>\n",
       "      <th>rougher.output.concentrate_ag</th>\n",
       "      <th>rougher.output.concentrate_pb</th>\n",
       "      <th>rougher.output.concentrate_sol</th>\n",
       "      <th>rougher.output.recovery</th>\n",
       "      <th>rougher.output.tail_au</th>\n",
       "      <th>rougher.output.tail_ag</th>\n",
       "      <th>rougher.output.tail_pb</th>\n",
       "      <th>rougher.output.tail_sol</th>\n",
       "      <th>primary_cleaner.input.sulfate</th>\n",
       "      <th>primary_cleaner.input.depressant</th>\n",
       "      <th>primary_cleaner.input.feed_size</th>\n",
       "      <th>primary_cleaner.input.xanthate</th>\n",
       "      <th>primary_cleaner.state.floatbank8_a_air</th>\n",
       "      <th>primary_cleaner.state.floatbank8_a_level</th>\n",
       "      <th>primary_cleaner.state.floatbank8_b_air</th>\n",
       "      <th>primary_cleaner.state.floatbank8_b_level</th>\n",
       "      <th>primary_cleaner.state.floatbank8_c_air</th>\n",
       "      <th>primary_cleaner.state.floatbank8_c_level</th>\n",
       "      <th>primary_cleaner.state.floatbank8_d_air</th>\n",
       "      <th>primary_cleaner.state.floatbank8_d_level</th>\n",
       "      <th>primary_cleaner.output.concentrate_au</th>\n",
       "      <th>primary_cleaner.output.concentrate_ag</th>\n",
       "      <th>primary_cleaner.output.concentrate_pb</th>\n",
       "      <th>primary_cleaner.output.concentrate_sol</th>\n",
       "      <th>primary_cleaner.output.tail_au</th>\n",
       "      <th>primary_cleaner.output.tail_ag</th>\n",
       "      <th>primary_cleaner.output.tail_pb</th>\n",
       "      <th>primary_cleaner.output.tail_sol</th>\n",
       "      <th>secondary_cleaner.state.floatbank2_a_air</th>\n",
       "      <th>secondary_cleaner.state.floatbank2_a_level</th>\n",
       "      <th>secondary_cleaner.state.floatbank2_b_air</th>\n",
       "      <th>secondary_cleaner.state.floatbank2_b_level</th>\n",
       "      <th>secondary_cleaner.state.floatbank3_a_air</th>\n",
       "      <th>secondary_cleaner.state.floatbank3_a_level</th>\n",
       "      <th>secondary_cleaner.state.floatbank3_b_air</th>\n",
       "      <th>secondary_cleaner.state.floatbank3_b_level</th>\n",
       "      <th>secondary_cleaner.state.floatbank4_a_air</th>\n",
       "      <th>secondary_cleaner.state.floatbank4_a_level</th>\n",
       "      <th>secondary_cleaner.state.floatbank4_b_air</th>\n",
       "      <th>secondary_cleaner.state.floatbank4_b_level</th>\n",
       "      <th>secondary_cleaner.state.floatbank5_a_air</th>\n",
       "      <th>secondary_cleaner.state.floatbank5_a_level</th>\n",
       "      <th>secondary_cleaner.state.floatbank5_b_air</th>\n",
       "      <th>secondary_cleaner.state.floatbank5_b_level</th>\n",
       "      <th>secondary_cleaner.state.floatbank6_a_air</th>\n",
       "      <th>secondary_cleaner.state.floatbank6_a_level</th>\n",
       "      <th>secondary_cleaner.output.tail_au</th>\n",
       "      <th>secondary_cleaner.output.tail_ag</th>\n",
       "      <th>secondary_cleaner.output.tail_pb</th>\n",
       "      <th>secondary_cleaner.output.tail_sol</th>\n",
       "      <th>final.output.concentrate_au</th>\n",
       "      <th>final.output.concentrate_ag</th>\n",
       "      <th>final.output.concentrate_pb</th>\n",
       "      <th>final.output.concentrate_sol</th>\n",
       "      <th>final.output.recovery</th>\n",
       "      <th>final.output.tail_au</th>\n",
       "      <th>final.output.tail_ag</th>\n",
       "      <th>final.output.tail_pb</th>\n",
       "      <th>final.output.tail_sol</th>\n",
       "    </tr>\n",
       "  </thead>\n",
       "  <tbody>\n",
       "    <tr>\n",
       "      <th>0</th>\n",
       "      <td>2016-01-15 00:00:00</td>\n",
       "      <td>6.486150</td>\n",
       "      <td>6.100378</td>\n",
       "      <td>2.284912</td>\n",
       "      <td>36.808594</td>\n",
       "      <td>523.546326</td>\n",
       "      <td>55.486599</td>\n",
       "      <td>11.986616</td>\n",
       "      <td>6.007990</td>\n",
       "      <td>999.706909</td>\n",
       "      <td>-404.066986</td>\n",
       "      <td>1603.011353</td>\n",
       "      <td>-434.715027</td>\n",
       "      <td>1602.375000</td>\n",
       "      <td>-442.204468</td>\n",
       "      <td>1598.937256</td>\n",
       "      <td>-451.294128</td>\n",
       "      <td>1404.472046</td>\n",
       "      <td>-455.462982</td>\n",
       "      <td>1416.354980</td>\n",
       "      <td>-451.939636</td>\n",
       "      <td>11.836743</td>\n",
       "      <td>6.005818</td>\n",
       "      <td>41885.707031</td>\n",
       "      <td>3481.779053</td>\n",
       "      <td>3520.337158</td>\n",
       "      <td>2.838687</td>\n",
       "      <td>19.793808</td>\n",
       "      <td>11.500771</td>\n",
       "      <td>7.101074</td>\n",
       "      <td>28.029297</td>\n",
       "      <td>87.107763</td>\n",
       "      <td>1.170244</td>\n",
       "      <td>5.008018</td>\n",
       "      <td>0.508728</td>\n",
       "      <td>19.154297</td>\n",
       "      <td>127.092003</td>\n",
       "      <td>10.128295</td>\n",
       "      <td>7.25</td>\n",
       "      <td>0.988759</td>\n",
       "      <td>1549.775757</td>\n",
       "      <td>-498.912140</td>\n",
       "      <td>1551.434204</td>\n",
       "      <td>-516.403442</td>\n",
       "      <td>1549.873901</td>\n",
       "      <td>-498.666595</td>\n",
       "      <td>1554.367432</td>\n",
       "      <td>-493.428131</td>\n",
       "      <td>34.174427</td>\n",
       "      <td>8.547551</td>\n",
       "      <td>10.389648</td>\n",
       "      <td>19.529297</td>\n",
       "      <td>2.106679</td>\n",
       "      <td>14.936526</td>\n",
       "      <td>2.534912</td>\n",
       "      <td>7.476074</td>\n",
       "      <td>25.853109</td>\n",
       "      <td>-498.526489</td>\n",
       "      <td>23.893660</td>\n",
       "      <td>-501.406281</td>\n",
       "      <td>23.961798</td>\n",
       "      <td>-495.262817</td>\n",
       "      <td>21.940409</td>\n",
       "      <td>-499.340973</td>\n",
       "      <td>14.016835</td>\n",
       "      <td>-502.488007</td>\n",
       "      <td>12.099931</td>\n",
       "      <td>-504.715942</td>\n",
       "      <td>9.925633</td>\n",
       "      <td>-498.310211</td>\n",
       "      <td>8.079666</td>\n",
       "      <td>-500.470978</td>\n",
       "      <td>14.151341</td>\n",
       "      <td>-605.841980</td>\n",
       "      <td>2.606185</td>\n",
       "      <td>14.500184</td>\n",
       "      <td>4.694824</td>\n",
       "      <td>8.764648</td>\n",
       "      <td>42.192020</td>\n",
       "      <td>6.055403</td>\n",
       "      <td>9.889648</td>\n",
       "      <td>5.507324</td>\n",
       "      <td>70.541216</td>\n",
       "      <td>2.143149</td>\n",
       "      <td>10.411962</td>\n",
       "      <td>0.895447</td>\n",
       "      <td>16.904297</td>\n",
       "    </tr>\n",
       "    <tr>\n",
       "      <th>1</th>\n",
       "      <td>2016-01-15 01:00:00</td>\n",
       "      <td>6.478583</td>\n",
       "      <td>6.161113</td>\n",
       "      <td>2.266033</td>\n",
       "      <td>35.753385</td>\n",
       "      <td>525.290581</td>\n",
       "      <td>57.278666</td>\n",
       "      <td>11.971193</td>\n",
       "      <td>6.005766</td>\n",
       "      <td>1000.286398</td>\n",
       "      <td>-400.065196</td>\n",
       "      <td>1600.754587</td>\n",
       "      <td>-449.953435</td>\n",
       "      <td>1600.479580</td>\n",
       "      <td>-449.830646</td>\n",
       "      <td>1600.527589</td>\n",
       "      <td>-449.953649</td>\n",
       "      <td>1399.227084</td>\n",
       "      <td>-450.869848</td>\n",
       "      <td>1399.719514</td>\n",
       "      <td>-450.119001</td>\n",
       "      <td>11.996163</td>\n",
       "      <td>6.012594</td>\n",
       "      <td>42050.861809</td>\n",
       "      <td>3498.370979</td>\n",
       "      <td>3489.981857</td>\n",
       "      <td>2.858998</td>\n",
       "      <td>20.050975</td>\n",
       "      <td>11.615865</td>\n",
       "      <td>7.278807</td>\n",
       "      <td>28.067063</td>\n",
       "      <td>86.843261</td>\n",
       "      <td>1.184827</td>\n",
       "      <td>4.955378</td>\n",
       "      <td>0.536689</td>\n",
       "      <td>18.965234</td>\n",
       "      <td>125.629232</td>\n",
       "      <td>10.296251</td>\n",
       "      <td>7.25</td>\n",
       "      <td>1.002663</td>\n",
       "      <td>1576.166671</td>\n",
       "      <td>-500.904965</td>\n",
       "      <td>1575.950626</td>\n",
       "      <td>-499.865889</td>\n",
       "      <td>1575.994189</td>\n",
       "      <td>-499.315107</td>\n",
       "      <td>1574.479259</td>\n",
       "      <td>-498.931665</td>\n",
       "      <td>34.118526</td>\n",
       "      <td>8.558743</td>\n",
       "      <td>10.497069</td>\n",
       "      <td>19.369147</td>\n",
       "      <td>2.353017</td>\n",
       "      <td>16.250511</td>\n",
       "      <td>3.049646</td>\n",
       "      <td>6.733907</td>\n",
       "      <td>25.880539</td>\n",
       "      <td>-499.989656</td>\n",
       "      <td>23.889530</td>\n",
       "      <td>-500.372428</td>\n",
       "      <td>23.970550</td>\n",
       "      <td>-500.085473</td>\n",
       "      <td>22.085714</td>\n",
       "      <td>-499.446897</td>\n",
       "      <td>13.992281</td>\n",
       "      <td>-505.503262</td>\n",
       "      <td>11.950531</td>\n",
       "      <td>-501.331529</td>\n",
       "      <td>10.039245</td>\n",
       "      <td>-500.169983</td>\n",
       "      <td>7.984757</td>\n",
       "      <td>-500.582168</td>\n",
       "      <td>13.998353</td>\n",
       "      <td>-599.787184</td>\n",
       "      <td>2.488248</td>\n",
       "      <td>14.265474</td>\n",
       "      <td>4.592547</td>\n",
       "      <td>9.001494</td>\n",
       "      <td>42.701629</td>\n",
       "      <td>6.029369</td>\n",
       "      <td>9.968944</td>\n",
       "      <td>5.257781</td>\n",
       "      <td>69.266198</td>\n",
       "      <td>2.224930</td>\n",
       "      <td>10.462676</td>\n",
       "      <td>0.927452</td>\n",
       "      <td>16.634514</td>\n",
       "    </tr>\n",
       "    <tr>\n",
       "      <th>2</th>\n",
       "      <td>2016-01-15 02:00:00</td>\n",
       "      <td>6.362222</td>\n",
       "      <td>6.116455</td>\n",
       "      <td>2.159622</td>\n",
       "      <td>35.971630</td>\n",
       "      <td>530.026610</td>\n",
       "      <td>57.510649</td>\n",
       "      <td>11.920603</td>\n",
       "      <td>6.197377</td>\n",
       "      <td>999.719565</td>\n",
       "      <td>-400.074028</td>\n",
       "      <td>1599.337330</td>\n",
       "      <td>-450.008530</td>\n",
       "      <td>1599.672797</td>\n",
       "      <td>-449.954491</td>\n",
       "      <td>1599.849325</td>\n",
       "      <td>-449.954185</td>\n",
       "      <td>1399.180945</td>\n",
       "      <td>-449.937588</td>\n",
       "      <td>1400.316682</td>\n",
       "      <td>-450.527147</td>\n",
       "      <td>11.920305</td>\n",
       "      <td>6.204633</td>\n",
       "      <td>42018.101184</td>\n",
       "      <td>3495.348910</td>\n",
       "      <td>3502.359819</td>\n",
       "      <td>2.945989</td>\n",
       "      <td>19.737170</td>\n",
       "      <td>11.695753</td>\n",
       "      <td>7.216833</td>\n",
       "      <td>27.454037</td>\n",
       "      <td>86.842308</td>\n",
       "      <td>1.162562</td>\n",
       "      <td>4.843460</td>\n",
       "      <td>0.546416</td>\n",
       "      <td>18.808533</td>\n",
       "      <td>123.819808</td>\n",
       "      <td>11.316280</td>\n",
       "      <td>7.25</td>\n",
       "      <td>0.991265</td>\n",
       "      <td>1601.556163</td>\n",
       "      <td>-499.997791</td>\n",
       "      <td>1600.386685</td>\n",
       "      <td>-500.607762</td>\n",
       "      <td>1602.003542</td>\n",
       "      <td>-500.870069</td>\n",
       "      <td>1599.541515</td>\n",
       "      <td>-499.827444</td>\n",
       "      <td>33.969464</td>\n",
       "      <td>8.603505</td>\n",
       "      <td>10.354494</td>\n",
       "      <td>19.167579</td>\n",
       "      <td>2.416800</td>\n",
       "      <td>16.491823</td>\n",
       "      <td>3.124664</td>\n",
       "      <td>6.471768</td>\n",
       "      <td>26.005245</td>\n",
       "      <td>-499.929616</td>\n",
       "      <td>23.886657</td>\n",
       "      <td>-499.951928</td>\n",
       "      <td>23.913535</td>\n",
       "      <td>-499.442343</td>\n",
       "      <td>23.957717</td>\n",
       "      <td>-499.901982</td>\n",
       "      <td>14.015015</td>\n",
       "      <td>-502.520901</td>\n",
       "      <td>11.912783</td>\n",
       "      <td>-501.133383</td>\n",
       "      <td>10.070913</td>\n",
       "      <td>-500.129135</td>\n",
       "      <td>8.013877</td>\n",
       "      <td>-500.517572</td>\n",
       "      <td>14.028663</td>\n",
       "      <td>-601.427363</td>\n",
       "      <td>2.458187</td>\n",
       "      <td>14.115662</td>\n",
       "      <td>4.624775</td>\n",
       "      <td>8.842896</td>\n",
       "      <td>42.657501</td>\n",
       "      <td>6.055926</td>\n",
       "      <td>10.213995</td>\n",
       "      <td>5.383759</td>\n",
       "      <td>68.116445</td>\n",
       "      <td>2.257889</td>\n",
       "      <td>10.507046</td>\n",
       "      <td>0.953716</td>\n",
       "      <td>16.208849</td>\n",
       "    </tr>\n",
       "    <tr>\n",
       "      <th>3</th>\n",
       "      <td>2016-01-15 03:00:00</td>\n",
       "      <td>6.118189</td>\n",
       "      <td>6.043309</td>\n",
       "      <td>2.037807</td>\n",
       "      <td>36.862241</td>\n",
       "      <td>542.590390</td>\n",
       "      <td>57.792734</td>\n",
       "      <td>11.630094</td>\n",
       "      <td>6.203177</td>\n",
       "      <td>999.814770</td>\n",
       "      <td>-400.200179</td>\n",
       "      <td>1600.059442</td>\n",
       "      <td>-450.619948</td>\n",
       "      <td>1600.012842</td>\n",
       "      <td>-449.910497</td>\n",
       "      <td>1597.725177</td>\n",
       "      <td>-450.130127</td>\n",
       "      <td>1400.943157</td>\n",
       "      <td>-450.030142</td>\n",
       "      <td>1400.234743</td>\n",
       "      <td>-449.790835</td>\n",
       "      <td>11.692450</td>\n",
       "      <td>6.196578</td>\n",
       "      <td>42029.447991</td>\n",
       "      <td>3498.578313</td>\n",
       "      <td>3499.162912</td>\n",
       "      <td>3.002340</td>\n",
       "      <td>19.320810</td>\n",
       "      <td>11.915047</td>\n",
       "      <td>7.175616</td>\n",
       "      <td>27.341277</td>\n",
       "      <td>87.226430</td>\n",
       "      <td>1.079755</td>\n",
       "      <td>4.655288</td>\n",
       "      <td>0.542525</td>\n",
       "      <td>19.330200</td>\n",
       "      <td>122.270188</td>\n",
       "      <td>11.322140</td>\n",
       "      <td>7.25</td>\n",
       "      <td>0.996739</td>\n",
       "      <td>1599.968720</td>\n",
       "      <td>-500.951778</td>\n",
       "      <td>1600.659236</td>\n",
       "      <td>-499.677094</td>\n",
       "      <td>1600.304144</td>\n",
       "      <td>-500.727997</td>\n",
       "      <td>1600.449520</td>\n",
       "      <td>-500.052575</td>\n",
       "      <td>28.260743</td>\n",
       "      <td>7.221879</td>\n",
       "      <td>8.496563</td>\n",
       "      <td>15.978538</td>\n",
       "      <td>2.262051</td>\n",
       "      <td>16.024359</td>\n",
       "      <td>2.960362</td>\n",
       "      <td>6.843791</td>\n",
       "      <td>25.942508</td>\n",
       "      <td>-499.176749</td>\n",
       "      <td>23.955516</td>\n",
       "      <td>-499.848796</td>\n",
       "      <td>23.966838</td>\n",
       "      <td>-500.008812</td>\n",
       "      <td>23.954443</td>\n",
       "      <td>-499.944710</td>\n",
       "      <td>14.036510</td>\n",
       "      <td>-500.857308</td>\n",
       "      <td>11.999550</td>\n",
       "      <td>-501.193686</td>\n",
       "      <td>9.970366</td>\n",
       "      <td>-499.201640</td>\n",
       "      <td>7.977324</td>\n",
       "      <td>-500.255908</td>\n",
       "      <td>14.005551</td>\n",
       "      <td>-599.996129</td>\n",
       "      <td>2.322062</td>\n",
       "      <td>13.732071</td>\n",
       "      <td>4.482453</td>\n",
       "      <td>9.122857</td>\n",
       "      <td>42.689819</td>\n",
       "      <td>6.047977</td>\n",
       "      <td>9.977019</td>\n",
       "      <td>4.858634</td>\n",
       "      <td>68.347543</td>\n",
       "      <td>2.146849</td>\n",
       "      <td>10.422762</td>\n",
       "      <td>0.883763</td>\n",
       "      <td>16.532835</td>\n",
       "    </tr>\n",
       "    <tr>\n",
       "      <th>4</th>\n",
       "      <td>2016-01-15 04:00:00</td>\n",
       "      <td>5.663707</td>\n",
       "      <td>6.060915</td>\n",
       "      <td>1.786875</td>\n",
       "      <td>34.347666</td>\n",
       "      <td>540.531893</td>\n",
       "      <td>56.047189</td>\n",
       "      <td>10.957755</td>\n",
       "      <td>6.198826</td>\n",
       "      <td>999.678690</td>\n",
       "      <td>-399.752729</td>\n",
       "      <td>1600.208824</td>\n",
       "      <td>-449.599614</td>\n",
       "      <td>1600.357732</td>\n",
       "      <td>-450.034364</td>\n",
       "      <td>1599.759049</td>\n",
       "      <td>-449.909799</td>\n",
       "      <td>1401.560902</td>\n",
       "      <td>-448.877187</td>\n",
       "      <td>1401.160227</td>\n",
       "      <td>-450.407128</td>\n",
       "      <td>10.960521</td>\n",
       "      <td>6.194897</td>\n",
       "      <td>42125.354245</td>\n",
       "      <td>3494.800771</td>\n",
       "      <td>3506.679315</td>\n",
       "      <td>3.169615</td>\n",
       "      <td>19.216101</td>\n",
       "      <td>12.411054</td>\n",
       "      <td>7.240205</td>\n",
       "      <td>27.041023</td>\n",
       "      <td>86.688794</td>\n",
       "      <td>1.012642</td>\n",
       "      <td>4.552800</td>\n",
       "      <td>0.515438</td>\n",
       "      <td>19.267422</td>\n",
       "      <td>117.988169</td>\n",
       "      <td>11.913613</td>\n",
       "      <td>7.25</td>\n",
       "      <td>1.009869</td>\n",
       "      <td>1601.339707</td>\n",
       "      <td>-498.975456</td>\n",
       "      <td>1601.437854</td>\n",
       "      <td>-500.323246</td>\n",
       "      <td>1599.581894</td>\n",
       "      <td>-500.888152</td>\n",
       "      <td>1602.649541</td>\n",
       "      <td>-500.593010</td>\n",
       "      <td>33.044932</td>\n",
       "      <td>9.089428</td>\n",
       "      <td>9.986786</td>\n",
       "      <td>19.199864</td>\n",
       "      <td>2.277073</td>\n",
       "      <td>16.480185</td>\n",
       "      <td>3.112100</td>\n",
       "      <td>6.550154</td>\n",
       "      <td>26.024787</td>\n",
       "      <td>-500.279091</td>\n",
       "      <td>23.955345</td>\n",
       "      <td>-500.593614</td>\n",
       "      <td>23.985703</td>\n",
       "      <td>-500.083811</td>\n",
       "      <td>23.958945</td>\n",
       "      <td>-499.990309</td>\n",
       "      <td>14.027298</td>\n",
       "      <td>-499.838632</td>\n",
       "      <td>11.953070</td>\n",
       "      <td>-501.053894</td>\n",
       "      <td>9.925709</td>\n",
       "      <td>-501.686727</td>\n",
       "      <td>7.894242</td>\n",
       "      <td>-500.356035</td>\n",
       "      <td>13.996647</td>\n",
       "      <td>-601.496691</td>\n",
       "      <td>2.330448</td>\n",
       "      <td>14.079996</td>\n",
       "      <td>4.470737</td>\n",
       "      <td>8.871028</td>\n",
       "      <td>42.774141</td>\n",
       "      <td>6.148599</td>\n",
       "      <td>10.142511</td>\n",
       "      <td>4.939416</td>\n",
       "      <td>66.927016</td>\n",
       "      <td>2.055292</td>\n",
       "      <td>10.360302</td>\n",
       "      <td>0.792826</td>\n",
       "      <td>16.525686</td>\n",
       "    </tr>\n",
       "    <tr>\n",
       "      <th>...</th>\n",
       "      <td>...</td>\n",
       "      <td>...</td>\n",
       "      <td>...</td>\n",
       "      <td>...</td>\n",
       "      <td>...</td>\n",
       "      <td>...</td>\n",
       "      <td>...</td>\n",
       "      <td>...</td>\n",
       "      <td>...</td>\n",
       "      <td>...</td>\n",
       "      <td>...</td>\n",
       "      <td>...</td>\n",
       "      <td>...</td>\n",
       "      <td>...</td>\n",
       "      <td>...</td>\n",
       "      <td>...</td>\n",
       "      <td>...</td>\n",
       "      <td>...</td>\n",
       "      <td>...</td>\n",
       "      <td>...</td>\n",
       "      <td>...</td>\n",
       "      <td>...</td>\n",
       "      <td>...</td>\n",
       "      <td>...</td>\n",
       "      <td>...</td>\n",
       "      <td>...</td>\n",
       "      <td>...</td>\n",
       "      <td>...</td>\n",
       "      <td>...</td>\n",
       "      <td>...</td>\n",
       "      <td>...</td>\n",
       "      <td>...</td>\n",
       "      <td>...</td>\n",
       "      <td>...</td>\n",
       "      <td>...</td>\n",
       "      <td>...</td>\n",
       "      <td>...</td>\n",
       "      <td>...</td>\n",
       "      <td>...</td>\n",
       "      <td>...</td>\n",
       "      <td>...</td>\n",
       "      <td>...</td>\n",
       "      <td>...</td>\n",
       "      <td>...</td>\n",
       "      <td>...</td>\n",
       "      <td>...</td>\n",
       "      <td>...</td>\n",
       "      <td>...</td>\n",
       "      <td>...</td>\n",
       "      <td>...</td>\n",
       "      <td>...</td>\n",
       "      <td>...</td>\n",
       "      <td>...</td>\n",
       "      <td>...</td>\n",
       "      <td>...</td>\n",
       "      <td>...</td>\n",
       "      <td>...</td>\n",
       "      <td>...</td>\n",
       "      <td>...</td>\n",
       "      <td>...</td>\n",
       "      <td>...</td>\n",
       "      <td>...</td>\n",
       "      <td>...</td>\n",
       "      <td>...</td>\n",
       "      <td>...</td>\n",
       "      <td>...</td>\n",
       "      <td>...</td>\n",
       "      <td>...</td>\n",
       "      <td>...</td>\n",
       "      <td>...</td>\n",
       "      <td>...</td>\n",
       "      <td>...</td>\n",
       "      <td>...</td>\n",
       "      <td>...</td>\n",
       "      <td>...</td>\n",
       "      <td>...</td>\n",
       "      <td>...</td>\n",
       "      <td>...</td>\n",
       "      <td>...</td>\n",
       "      <td>...</td>\n",
       "      <td>...</td>\n",
       "      <td>...</td>\n",
       "      <td>...</td>\n",
       "      <td>...</td>\n",
       "      <td>...</td>\n",
       "      <td>...</td>\n",
       "      <td>...</td>\n",
       "    </tr>\n",
       "    <tr>\n",
       "      <th>19434</th>\n",
       "      <td>2018-08-18 06:59:59</td>\n",
       "      <td>6.620245</td>\n",
       "      <td>5.992592</td>\n",
       "      <td>2.589242</td>\n",
       "      <td>39.934641</td>\n",
       "      <td>578.654582</td>\n",
       "      <td>63.473450</td>\n",
       "      <td>14.688804</td>\n",
       "      <td>6.898599</td>\n",
       "      <td>999.688257</td>\n",
       "      <td>-399.217124</td>\n",
       "      <td>1600.278420</td>\n",
       "      <td>-450.107091</td>\n",
       "      <td>1599.737339</td>\n",
       "      <td>-448.396498</td>\n",
       "      <td>1598.207230</td>\n",
       "      <td>-450.370000</td>\n",
       "      <td>1396.848252</td>\n",
       "      <td>-458.073441</td>\n",
       "      <td>1397.977965</td>\n",
       "      <td>-442.705181</td>\n",
       "      <td>14.676690</td>\n",
       "      <td>6.903515</td>\n",
       "      <td>42054.384954</td>\n",
       "      <td>3499.600613</td>\n",
       "      <td>3499.494045</td>\n",
       "      <td>2.556827</td>\n",
       "      <td>18.470301</td>\n",
       "      <td>11.039123</td>\n",
       "      <td>7.405501</td>\n",
       "      <td>25.960548</td>\n",
       "      <td>85.462226</td>\n",
       "      <td>1.387434</td>\n",
       "      <td>4.949871</td>\n",
       "      <td>0.754358</td>\n",
       "      <td>20.634540</td>\n",
       "      <td>150.944211</td>\n",
       "      <td>12.516814</td>\n",
       "      <td>7.25</td>\n",
       "      <td>1.005121</td>\n",
       "      <td>1599.713324</td>\n",
       "      <td>-500.811273</td>\n",
       "      <td>1596.499220</td>\n",
       "      <td>-499.189257</td>\n",
       "      <td>1599.635875</td>\n",
       "      <td>-500.178569</td>\n",
       "      <td>1598.888237</td>\n",
       "      <td>-499.112223</td>\n",
       "      <td>22.132642</td>\n",
       "      <td>5.775645</td>\n",
       "      <td>7.112666</td>\n",
       "      <td>12.377102</td>\n",
       "      <td>2.020822</td>\n",
       "      <td>15.316786</td>\n",
       "      <td>2.843019</td>\n",
       "      <td>7.608820</td>\n",
       "      <td>26.008972</td>\n",
       "      <td>-500.410938</td>\n",
       "      <td>24.075851</td>\n",
       "      <td>-499.647030</td>\n",
       "      <td>23.969678</td>\n",
       "      <td>-500.207930</td>\n",
       "      <td>23.978896</td>\n",
       "      <td>-499.862885</td>\n",
       "      <td>14.003057</td>\n",
       "      <td>-503.152258</td>\n",
       "      <td>12.016724</td>\n",
       "      <td>-501.136446</td>\n",
       "      <td>10.041864</td>\n",
       "      <td>-499.338844</td>\n",
       "      <td>8.007022</td>\n",
       "      <td>-500.279583</td>\n",
       "      <td>14.001271</td>\n",
       "      <td>-602.072365</td>\n",
       "      <td>2.073936</td>\n",
       "      <td>12.740218</td>\n",
       "      <td>4.460185</td>\n",
       "      <td>10.013738</td>\n",
       "      <td>42.435181</td>\n",
       "      <td>5.719113</td>\n",
       "      <td>10.621027</td>\n",
       "      <td>6.459561</td>\n",
       "      <td>68.786981</td>\n",
       "      <td>2.314786</td>\n",
       "      <td>10.286797</td>\n",
       "      <td>1.171459</td>\n",
       "      <td>19.131121</td>\n",
       "    </tr>\n",
       "    <tr>\n",
       "      <th>19435</th>\n",
       "      <td>2018-08-18 07:59:59</td>\n",
       "      <td>6.741324</td>\n",
       "      <td>6.158617</td>\n",
       "      <td>2.647185</td>\n",
       "      <td>40.176307</td>\n",
       "      <td>571.622005</td>\n",
       "      <td>62.815291</td>\n",
       "      <td>14.892720</td>\n",
       "      <td>6.903204</td>\n",
       "      <td>1000.479783</td>\n",
       "      <td>-399.574748</td>\n",
       "      <td>1600.585419</td>\n",
       "      <td>-450.871865</td>\n",
       "      <td>1600.054220</td>\n",
       "      <td>-451.892850</td>\n",
       "      <td>1604.245003</td>\n",
       "      <td>-450.784204</td>\n",
       "      <td>1397.507497</td>\n",
       "      <td>-452.207181</td>\n",
       "      <td>1398.025205</td>\n",
       "      <td>-451.184768</td>\n",
       "      <td>14.838200</td>\n",
       "      <td>6.894752</td>\n",
       "      <td>41864.191758</td>\n",
       "      <td>3502.154561</td>\n",
       "      <td>3496.709736</td>\n",
       "      <td>2.546601</td>\n",
       "      <td>19.041308</td>\n",
       "      <td>11.231501</td>\n",
       "      <td>7.467612</td>\n",
       "      <td>27.231114</td>\n",
       "      <td>85.443505</td>\n",
       "      <td>1.406886</td>\n",
       "      <td>4.930477</td>\n",
       "      <td>0.749174</td>\n",
       "      <td>19.764783</td>\n",
       "      <td>147.591165</td>\n",
       "      <td>12.517364</td>\n",
       "      <td>7.25</td>\n",
       "      <td>0.959430</td>\n",
       "      <td>1602.999120</td>\n",
       "      <td>-500.526448</td>\n",
       "      <td>1597.866105</td>\n",
       "      <td>-499.798253</td>\n",
       "      <td>1598.796914</td>\n",
       "      <td>-498.214347</td>\n",
       "      <td>1597.075286</td>\n",
       "      <td>-499.158291</td>\n",
       "      <td>33.800422</td>\n",
       "      <td>8.273869</td>\n",
       "      <td>11.090304</td>\n",
       "      <td>18.542572</td>\n",
       "      <td>2.179186</td>\n",
       "      <td>15.888505</td>\n",
       "      <td>3.078792</td>\n",
       "      <td>7.166831</td>\n",
       "      <td>26.019475</td>\n",
       "      <td>-499.818693</td>\n",
       "      <td>23.991310</td>\n",
       "      <td>-500.888315</td>\n",
       "      <td>24.026801</td>\n",
       "      <td>-499.856287</td>\n",
       "      <td>23.959707</td>\n",
       "      <td>-500.428539</td>\n",
       "      <td>14.031220</td>\n",
       "      <td>-503.471307</td>\n",
       "      <td>11.966426</td>\n",
       "      <td>-500.656842</td>\n",
       "      <td>10.051620</td>\n",
       "      <td>-498.318772</td>\n",
       "      <td>8.018091</td>\n",
       "      <td>-499.696138</td>\n",
       "      <td>13.958937</td>\n",
       "      <td>-599.213013</td>\n",
       "      <td>2.245725</td>\n",
       "      <td>13.176513</td>\n",
       "      <td>4.656804</td>\n",
       "      <td>9.841210</td>\n",
       "      <td>43.440341</td>\n",
       "      <td>5.410126</td>\n",
       "      <td>10.868937</td>\n",
       "      <td>6.258693</td>\n",
       "      <td>67.839536</td>\n",
       "      <td>2.423143</td>\n",
       "      <td>10.382891</td>\n",
       "      <td>1.239738</td>\n",
       "      <td>18.544924</td>\n",
       "    </tr>\n",
       "    <tr>\n",
       "      <th>19436</th>\n",
       "      <td>2018-08-18 08:59:59</td>\n",
       "      <td>6.627458</td>\n",
       "      <td>6.015149</td>\n",
       "      <td>2.466127</td>\n",
       "      <td>39.841423</td>\n",
       "      <td>563.733146</td>\n",
       "      <td>61.287347</td>\n",
       "      <td>13.723692</td>\n",
       "      <td>6.700148</td>\n",
       "      <td>1000.014718</td>\n",
       "      <td>-400.320877</td>\n",
       "      <td>1600.572169</td>\n",
       "      <td>-449.351989</td>\n",
       "      <td>1601.079206</td>\n",
       "      <td>-450.846324</td>\n",
       "      <td>1597.862670</td>\n",
       "      <td>-449.053827</td>\n",
       "      <td>1400.353257</td>\n",
       "      <td>-448.866374</td>\n",
       "      <td>1399.930779</td>\n",
       "      <td>-449.388880</td>\n",
       "      <td>13.716111</td>\n",
       "      <td>6.703495</td>\n",
       "      <td>42074.094403</td>\n",
       "      <td>3500.134009</td>\n",
       "      <td>3497.454405</td>\n",
       "      <td>2.687395</td>\n",
       "      <td>19.270994</td>\n",
       "      <td>11.309414</td>\n",
       "      <td>7.244361</td>\n",
       "      <td>27.324612</td>\n",
       "      <td>87.235441</td>\n",
       "      <td>1.208540</td>\n",
       "      <td>4.785475</td>\n",
       "      <td>0.630120</td>\n",
       "      <td>19.901033</td>\n",
       "      <td>144.447728</td>\n",
       "      <td>12.499446</td>\n",
       "      <td>7.25</td>\n",
       "      <td>0.904020</td>\n",
       "      <td>1596.610313</td>\n",
       "      <td>-499.416573</td>\n",
       "      <td>1597.325921</td>\n",
       "      <td>-499.944194</td>\n",
       "      <td>1601.441880</td>\n",
       "      <td>-499.658913</td>\n",
       "      <td>1599.758645</td>\n",
       "      <td>-501.149616</td>\n",
       "      <td>35.644428</td>\n",
       "      <td>7.842272</td>\n",
       "      <td>10.519069</td>\n",
       "      <td>18.827480</td>\n",
       "      <td>1.872079</td>\n",
       "      <td>16.108364</td>\n",
       "      <td>3.082925</td>\n",
       "      <td>7.684671</td>\n",
       "      <td>25.953364</td>\n",
       "      <td>-501.033038</td>\n",
       "      <td>24.039465</td>\n",
       "      <td>-500.088979</td>\n",
       "      <td>24.010117</td>\n",
       "      <td>-499.705384</td>\n",
       "      <td>24.024501</td>\n",
       "      <td>-499.466383</td>\n",
       "      <td>13.996317</td>\n",
       "      <td>-502.995300</td>\n",
       "      <td>11.980055</td>\n",
       "      <td>-500.607751</td>\n",
       "      <td>9.964501</td>\n",
       "      <td>-499.261719</td>\n",
       "      <td>8.065048</td>\n",
       "      <td>-499.492395</td>\n",
       "      <td>13.997801</td>\n",
       "      <td>-600.621416</td>\n",
       "      <td>1.965589</td>\n",
       "      <td>14.372378</td>\n",
       "      <td>4.402372</td>\n",
       "      <td>10.119344</td>\n",
       "      <td>44.284117</td>\n",
       "      <td>5.437716</td>\n",
       "      <td>9.781181</td>\n",
       "      <td>6.057627</td>\n",
       "      <td>70.847012</td>\n",
       "      <td>2.161256</td>\n",
       "      <td>10.324415</td>\n",
       "      <td>0.961210</td>\n",
       "      <td>18.185262</td>\n",
       "    </tr>\n",
       "    <tr>\n",
       "      <th>19437</th>\n",
       "      <td>2018-08-18 09:59:59</td>\n",
       "      <td>6.702243</td>\n",
       "      <td>6.097592</td>\n",
       "      <td>2.278955</td>\n",
       "      <td>37.728375</td>\n",
       "      <td>549.812490</td>\n",
       "      <td>59.637037</td>\n",
       "      <td>13.746510</td>\n",
       "      <td>6.706417</td>\n",
       "      <td>999.635748</td>\n",
       "      <td>-399.484884</td>\n",
       "      <td>1599.852212</td>\n",
       "      <td>-449.448826</td>\n",
       "      <td>1599.325946</td>\n",
       "      <td>-448.812166</td>\n",
       "      <td>1614.612892</td>\n",
       "      <td>-449.774665</td>\n",
       "      <td>1401.626496</td>\n",
       "      <td>-447.607440</td>\n",
       "      <td>1400.158685</td>\n",
       "      <td>-448.035466</td>\n",
       "      <td>13.758277</td>\n",
       "      <td>6.702969</td>\n",
       "      <td>42019.291707</td>\n",
       "      <td>3502.637709</td>\n",
       "      <td>3495.776643</td>\n",
       "      <td>2.940927</td>\n",
       "      <td>19.620480</td>\n",
       "      <td>11.528770</td>\n",
       "      <td>7.091962</td>\n",
       "      <td>27.774855</td>\n",
       "      <td>89.299981</td>\n",
       "      <td>1.031923</td>\n",
       "      <td>4.559246</td>\n",
       "      <td>0.557099</td>\n",
       "      <td>20.067665</td>\n",
       "      <td>147.944885</td>\n",
       "      <td>12.481529</td>\n",
       "      <td>7.25</td>\n",
       "      <td>0.893913</td>\n",
       "      <td>1603.053015</td>\n",
       "      <td>-499.728573</td>\n",
       "      <td>1600.537532</td>\n",
       "      <td>-500.096021</td>\n",
       "      <td>1597.568005</td>\n",
       "      <td>-499.601040</td>\n",
       "      <td>1599.213513</td>\n",
       "      <td>-500.964698</td>\n",
       "      <td>28.081869</td>\n",
       "      <td>5.899284</td>\n",
       "      <td>8.154167</td>\n",
       "      <td>14.301345</td>\n",
       "      <td>1.874228</td>\n",
       "      <td>15.993499</td>\n",
       "      <td>3.077749</td>\n",
       "      <td>7.312664</td>\n",
       "      <td>26.111929</td>\n",
       "      <td>-499.496608</td>\n",
       "      <td>24.094419</td>\n",
       "      <td>-500.250900</td>\n",
       "      <td>23.945513</td>\n",
       "      <td>-500.816108</td>\n",
       "      <td>23.995434</td>\n",
       "      <td>-499.761541</td>\n",
       "      <td>13.983963</td>\n",
       "      <td>-503.675714</td>\n",
       "      <td>11.928745</td>\n",
       "      <td>-500.583183</td>\n",
       "      <td>9.970359</td>\n",
       "      <td>-498.822343</td>\n",
       "      <td>8.016377</td>\n",
       "      <td>-499.013145</td>\n",
       "      <td>14.000032</td>\n",
       "      <td>-600.024741</td>\n",
       "      <td>1.868321</td>\n",
       "      <td>13.795229</td>\n",
       "      <td>4.576720</td>\n",
       "      <td>9.876374</td>\n",
       "      <td>43.339714</td>\n",
       "      <td>5.664983</td>\n",
       "      <td>10.168953</td>\n",
       "      <td>5.484318</td>\n",
       "      <td>72.659046</td>\n",
       "      <td>2.064422</td>\n",
       "      <td>10.475957</td>\n",
       "      <td>1.050592</td>\n",
       "      <td>17.525656</td>\n",
       "    </tr>\n",
       "    <tr>\n",
       "      <th>19438</th>\n",
       "      <td>2018-08-18 10:59:59</td>\n",
       "      <td>6.633002</td>\n",
       "      <td>5.908793</td>\n",
       "      <td>2.440899</td>\n",
       "      <td>36.958540</td>\n",
       "      <td>573.076049</td>\n",
       "      <td>58.509262</td>\n",
       "      <td>13.707775</td>\n",
       "      <td>6.820245</td>\n",
       "      <td>1000.589156</td>\n",
       "      <td>-398.879586</td>\n",
       "      <td>1598.975250</td>\n",
       "      <td>-451.238638</td>\n",
       "      <td>1600.058139</td>\n",
       "      <td>-451.271448</td>\n",
       "      <td>1610.182874</td>\n",
       "      <td>-450.460190</td>\n",
       "      <td>1399.194663</td>\n",
       "      <td>-450.332681</td>\n",
       "      <td>1399.638290</td>\n",
       "      <td>-450.198722</td>\n",
       "      <td>13.812674</td>\n",
       "      <td>6.790624</td>\n",
       "      <td>41882.126352</td>\n",
       "      <td>3499.915439</td>\n",
       "      <td>3519.952954</td>\n",
       "      <td>2.717442</td>\n",
       "      <td>19.497669</td>\n",
       "      <td>11.116297</td>\n",
       "      <td>7.297363</td>\n",
       "      <td>27.497520</td>\n",
       "      <td>87.650868</td>\n",
       "      <td>1.167140</td>\n",
       "      <td>4.667157</td>\n",
       "      <td>0.615418</td>\n",
       "      <td>18.907179</td>\n",
       "      <td>138.120409</td>\n",
       "      <td>12.464032</td>\n",
       "      <td>7.25</td>\n",
       "      <td>0.898779</td>\n",
       "      <td>1603.436598</td>\n",
       "      <td>-499.864400</td>\n",
       "      <td>1597.455353</td>\n",
       "      <td>-500.266905</td>\n",
       "      <td>1600.747882</td>\n",
       "      <td>-500.541002</td>\n",
       "      <td>1599.754053</td>\n",
       "      <td>-499.216962</td>\n",
       "      <td>34.826500</td>\n",
       "      <td>8.098985</td>\n",
       "      <td>10.525324</td>\n",
       "      <td>18.436589</td>\n",
       "      <td>2.025454</td>\n",
       "      <td>15.535214</td>\n",
       "      <td>2.866688</td>\n",
       "      <td>7.265906</td>\n",
       "      <td>26.059510</td>\n",
       "      <td>-499.151646</td>\n",
       "      <td>23.934570</td>\n",
       "      <td>-499.351758</td>\n",
       "      <td>23.994184</td>\n",
       "      <td>-500.078566</td>\n",
       "      <td>23.924481</td>\n",
       "      <td>-499.989024</td>\n",
       "      <td>13.989632</td>\n",
       "      <td>-503.195299</td>\n",
       "      <td>12.052233</td>\n",
       "      <td>-500.928547</td>\n",
       "      <td>9.962574</td>\n",
       "      <td>-502.986357</td>\n",
       "      <td>7.979219</td>\n",
       "      <td>-500.146835</td>\n",
       "      <td>13.981614</td>\n",
       "      <td>-598.070855</td>\n",
       "      <td>2.073737</td>\n",
       "      <td>13.209191</td>\n",
       "      <td>4.550553</td>\n",
       "      <td>9.813732</td>\n",
       "      <td>43.235220</td>\n",
       "      <td>5.687063</td>\n",
       "      <td>9.980404</td>\n",
       "      <td>5.282514</td>\n",
       "      <td>70.279619</td>\n",
       "      <td>2.209593</td>\n",
       "      <td>10.487013</td>\n",
       "      <td>1.159805</td>\n",
       "      <td>17.483979</td>\n",
       "    </tr>\n",
       "  </tbody>\n",
       "</table>\n",
       "<p>19439 rows × 87 columns</p>\n",
       "</div>"
      ],
      "text/plain": [
       "                      date  rougher.input.feed_au  rougher.input.feed_ag  \\\n",
       "0      2016-01-15 00:00:00               6.486150               6.100378   \n",
       "1      2016-01-15 01:00:00               6.478583               6.161113   \n",
       "2      2016-01-15 02:00:00               6.362222               6.116455   \n",
       "3      2016-01-15 03:00:00               6.118189               6.043309   \n",
       "4      2016-01-15 04:00:00               5.663707               6.060915   \n",
       "...                    ...                    ...                    ...   \n",
       "19434  2018-08-18 06:59:59               6.620245               5.992592   \n",
       "19435  2018-08-18 07:59:59               6.741324               6.158617   \n",
       "19436  2018-08-18 08:59:59               6.627458               6.015149   \n",
       "19437  2018-08-18 09:59:59               6.702243               6.097592   \n",
       "19438  2018-08-18 10:59:59               6.633002               5.908793   \n",
       "\n",
       "       rougher.input.feed_pb  rougher.input.feed_sol  rougher.input.feed_rate  \\\n",
       "0                   2.284912               36.808594               523.546326   \n",
       "1                   2.266033               35.753385               525.290581   \n",
       "2                   2.159622               35.971630               530.026610   \n",
       "3                   2.037807               36.862241               542.590390   \n",
       "4                   1.786875               34.347666               540.531893   \n",
       "...                      ...                     ...                      ...   \n",
       "19434               2.589242               39.934641               578.654582   \n",
       "19435               2.647185               40.176307               571.622005   \n",
       "19436               2.466127               39.841423               563.733146   \n",
       "19437               2.278955               37.728375               549.812490   \n",
       "19438               2.440899               36.958540               573.076049   \n",
       "\n",
       "       rougher.input.feed_size  rougher.input.floatbank10_sulfate  \\\n",
       "0                    55.486599                          11.986616   \n",
       "1                    57.278666                          11.971193   \n",
       "2                    57.510649                          11.920603   \n",
       "3                    57.792734                          11.630094   \n",
       "4                    56.047189                          10.957755   \n",
       "...                        ...                                ...   \n",
       "19434                63.473450                          14.688804   \n",
       "19435                62.815291                          14.892720   \n",
       "19436                61.287347                          13.723692   \n",
       "19437                59.637037                          13.746510   \n",
       "19438                58.509262                          13.707775   \n",
       "\n",
       "       rougher.input.floatbank10_xanthate  rougher.state.floatbank10_a_air  \\\n",
       "0                                6.007990                       999.706909   \n",
       "1                                6.005766                      1000.286398   \n",
       "2                                6.197377                       999.719565   \n",
       "3                                6.203177                       999.814770   \n",
       "4                                6.198826                       999.678690   \n",
       "...                                   ...                              ...   \n",
       "19434                            6.898599                       999.688257   \n",
       "19435                            6.903204                      1000.479783   \n",
       "19436                            6.700148                      1000.014718   \n",
       "19437                            6.706417                       999.635748   \n",
       "19438                            6.820245                      1000.589156   \n",
       "\n",
       "       rougher.state.floatbank10_a_level  rougher.state.floatbank10_b_air  \\\n",
       "0                            -404.066986                      1603.011353   \n",
       "1                            -400.065196                      1600.754587   \n",
       "2                            -400.074028                      1599.337330   \n",
       "3                            -400.200179                      1600.059442   \n",
       "4                            -399.752729                      1600.208824   \n",
       "...                                  ...                              ...   \n",
       "19434                        -399.217124                      1600.278420   \n",
       "19435                        -399.574748                      1600.585419   \n",
       "19436                        -400.320877                      1600.572169   \n",
       "19437                        -399.484884                      1599.852212   \n",
       "19438                        -398.879586                      1598.975250   \n",
       "\n",
       "       rougher.state.floatbank10_b_level  rougher.state.floatbank10_c_air  \\\n",
       "0                            -434.715027                      1602.375000   \n",
       "1                            -449.953435                      1600.479580   \n",
       "2                            -450.008530                      1599.672797   \n",
       "3                            -450.619948                      1600.012842   \n",
       "4                            -449.599614                      1600.357732   \n",
       "...                                  ...                              ...   \n",
       "19434                        -450.107091                      1599.737339   \n",
       "19435                        -450.871865                      1600.054220   \n",
       "19436                        -449.351989                      1601.079206   \n",
       "19437                        -449.448826                      1599.325946   \n",
       "19438                        -451.238638                      1600.058139   \n",
       "\n",
       "       rougher.state.floatbank10_c_level  rougher.state.floatbank10_d_air  \\\n",
       "0                            -442.204468                      1598.937256   \n",
       "1                            -449.830646                      1600.527589   \n",
       "2                            -449.954491                      1599.849325   \n",
       "3                            -449.910497                      1597.725177   \n",
       "4                            -450.034364                      1599.759049   \n",
       "...                                  ...                              ...   \n",
       "19434                        -448.396498                      1598.207230   \n",
       "19435                        -451.892850                      1604.245003   \n",
       "19436                        -450.846324                      1597.862670   \n",
       "19437                        -448.812166                      1614.612892   \n",
       "19438                        -451.271448                      1610.182874   \n",
       "\n",
       "       rougher.state.floatbank10_d_level  rougher.state.floatbank10_e_air  \\\n",
       "0                            -451.294128                      1404.472046   \n",
       "1                            -449.953649                      1399.227084   \n",
       "2                            -449.954185                      1399.180945   \n",
       "3                            -450.130127                      1400.943157   \n",
       "4                            -449.909799                      1401.560902   \n",
       "...                                  ...                              ...   \n",
       "19434                        -450.370000                      1396.848252   \n",
       "19435                        -450.784204                      1397.507497   \n",
       "19436                        -449.053827                      1400.353257   \n",
       "19437                        -449.774665                      1401.626496   \n",
       "19438                        -450.460190                      1399.194663   \n",
       "\n",
       "       rougher.state.floatbank10_e_level  rougher.state.floatbank10_f_air  \\\n",
       "0                            -455.462982                      1416.354980   \n",
       "1                            -450.869848                      1399.719514   \n",
       "2                            -449.937588                      1400.316682   \n",
       "3                            -450.030142                      1400.234743   \n",
       "4                            -448.877187                      1401.160227   \n",
       "...                                  ...                              ...   \n",
       "19434                        -458.073441                      1397.977965   \n",
       "19435                        -452.207181                      1398.025205   \n",
       "19436                        -448.866374                      1399.930779   \n",
       "19437                        -447.607440                      1400.158685   \n",
       "19438                        -450.332681                      1399.638290   \n",
       "\n",
       "       rougher.state.floatbank10_f_level  rougher.input.floatbank11_sulfate  \\\n",
       "0                            -451.939636                          11.836743   \n",
       "1                            -450.119001                          11.996163   \n",
       "2                            -450.527147                          11.920305   \n",
       "3                            -449.790835                          11.692450   \n",
       "4                            -450.407128                          10.960521   \n",
       "...                                  ...                                ...   \n",
       "19434                        -442.705181                          14.676690   \n",
       "19435                        -451.184768                          14.838200   \n",
       "19436                        -449.388880                          13.716111   \n",
       "19437                        -448.035466                          13.758277   \n",
       "19438                        -450.198722                          13.812674   \n",
       "\n",
       "       rougher.input.floatbank11_xanthate  \\\n",
       "0                                6.005818   \n",
       "1                                6.012594   \n",
       "2                                6.204633   \n",
       "3                                6.196578   \n",
       "4                                6.194897   \n",
       "...                                   ...   \n",
       "19434                            6.903515   \n",
       "19435                            6.894752   \n",
       "19436                            6.703495   \n",
       "19437                            6.702969   \n",
       "19438                            6.790624   \n",
       "\n",
       "       rougher.calculation.sulfate_to_au_concentrate  \\\n",
       "0                                       41885.707031   \n",
       "1                                       42050.861809   \n",
       "2                                       42018.101184   \n",
       "3                                       42029.447991   \n",
       "4                                       42125.354245   \n",
       "...                                              ...   \n",
       "19434                                   42054.384954   \n",
       "19435                                   41864.191758   \n",
       "19436                                   42074.094403   \n",
       "19437                                   42019.291707   \n",
       "19438                                   41882.126352   \n",
       "\n",
       "       rougher.calculation.floatbank10_sulfate_to_au_feed  \\\n",
       "0                                            3481.779053    \n",
       "1                                            3498.370979    \n",
       "2                                            3495.348910    \n",
       "3                                            3498.578313    \n",
       "4                                            3494.800771    \n",
       "...                                                  ...    \n",
       "19434                                        3499.600613    \n",
       "19435                                        3502.154561    \n",
       "19436                                        3500.134009    \n",
       "19437                                        3502.637709    \n",
       "19438                                        3499.915439    \n",
       "\n",
       "       rougher.calculation.floatbank11_sulfate_to_au_feed  \\\n",
       "0                                            3520.337158    \n",
       "1                                            3489.981857    \n",
       "2                                            3502.359819    \n",
       "3                                            3499.162912    \n",
       "4                                            3506.679315    \n",
       "...                                                  ...    \n",
       "19434                                        3499.494045    \n",
       "19435                                        3496.709736    \n",
       "19436                                        3497.454405    \n",
       "19437                                        3495.776643    \n",
       "19438                                        3519.952954    \n",
       "\n",
       "       rougher.calculation.au_pb_ratio  rougher.output.concentrate_au  \\\n",
       "0                             2.838687                      19.793808   \n",
       "1                             2.858998                      20.050975   \n",
       "2                             2.945989                      19.737170   \n",
       "3                             3.002340                      19.320810   \n",
       "4                             3.169615                      19.216101   \n",
       "...                                ...                            ...   \n",
       "19434                         2.556827                      18.470301   \n",
       "19435                         2.546601                      19.041308   \n",
       "19436                         2.687395                      19.270994   \n",
       "19437                         2.940927                      19.620480   \n",
       "19438                         2.717442                      19.497669   \n",
       "\n",
       "       rougher.output.concentrate_ag  rougher.output.concentrate_pb  \\\n",
       "0                          11.500771                       7.101074   \n",
       "1                          11.615865                       7.278807   \n",
       "2                          11.695753                       7.216833   \n",
       "3                          11.915047                       7.175616   \n",
       "4                          12.411054                       7.240205   \n",
       "...                              ...                            ...   \n",
       "19434                      11.039123                       7.405501   \n",
       "19435                      11.231501                       7.467612   \n",
       "19436                      11.309414                       7.244361   \n",
       "19437                      11.528770                       7.091962   \n",
       "19438                      11.116297                       7.297363   \n",
       "\n",
       "       rougher.output.concentrate_sol  rougher.output.recovery  \\\n",
       "0                           28.029297                87.107763   \n",
       "1                           28.067063                86.843261   \n",
       "2                           27.454037                86.842308   \n",
       "3                           27.341277                87.226430   \n",
       "4                           27.041023                86.688794   \n",
       "...                               ...                      ...   \n",
       "19434                       25.960548                85.462226   \n",
       "19435                       27.231114                85.443505   \n",
       "19436                       27.324612                87.235441   \n",
       "19437                       27.774855                89.299981   \n",
       "19438                       27.497520                87.650868   \n",
       "\n",
       "       rougher.output.tail_au  rougher.output.tail_ag  rougher.output.tail_pb  \\\n",
       "0                    1.170244                5.008018                0.508728   \n",
       "1                    1.184827                4.955378                0.536689   \n",
       "2                    1.162562                4.843460                0.546416   \n",
       "3                    1.079755                4.655288                0.542525   \n",
       "4                    1.012642                4.552800                0.515438   \n",
       "...                       ...                     ...                     ...   \n",
       "19434                1.387434                4.949871                0.754358   \n",
       "19435                1.406886                4.930477                0.749174   \n",
       "19436                1.208540                4.785475                0.630120   \n",
       "19437                1.031923                4.559246                0.557099   \n",
       "19438                1.167140                4.667157                0.615418   \n",
       "\n",
       "       rougher.output.tail_sol  primary_cleaner.input.sulfate  \\\n",
       "0                    19.154297                     127.092003   \n",
       "1                    18.965234                     125.629232   \n",
       "2                    18.808533                     123.819808   \n",
       "3                    19.330200                     122.270188   \n",
       "4                    19.267422                     117.988169   \n",
       "...                        ...                            ...   \n",
       "19434                20.634540                     150.944211   \n",
       "19435                19.764783                     147.591165   \n",
       "19436                19.901033                     144.447728   \n",
       "19437                20.067665                     147.944885   \n",
       "19438                18.907179                     138.120409   \n",
       "\n",
       "       primary_cleaner.input.depressant  primary_cleaner.input.feed_size  \\\n",
       "0                             10.128295                             7.25   \n",
       "1                             10.296251                             7.25   \n",
       "2                             11.316280                             7.25   \n",
       "3                             11.322140                             7.25   \n",
       "4                             11.913613                             7.25   \n",
       "...                                 ...                              ...   \n",
       "19434                         12.516814                             7.25   \n",
       "19435                         12.517364                             7.25   \n",
       "19436                         12.499446                             7.25   \n",
       "19437                         12.481529                             7.25   \n",
       "19438                         12.464032                             7.25   \n",
       "\n",
       "       primary_cleaner.input.xanthate  primary_cleaner.state.floatbank8_a_air  \\\n",
       "0                            0.988759                             1549.775757   \n",
       "1                            1.002663                             1576.166671   \n",
       "2                            0.991265                             1601.556163   \n",
       "3                            0.996739                             1599.968720   \n",
       "4                            1.009869                             1601.339707   \n",
       "...                               ...                                     ...   \n",
       "19434                        1.005121                             1599.713324   \n",
       "19435                        0.959430                             1602.999120   \n",
       "19436                        0.904020                             1596.610313   \n",
       "19437                        0.893913                             1603.053015   \n",
       "19438                        0.898779                             1603.436598   \n",
       "\n",
       "       primary_cleaner.state.floatbank8_a_level  \\\n",
       "0                                   -498.912140   \n",
       "1                                   -500.904965   \n",
       "2                                   -499.997791   \n",
       "3                                   -500.951778   \n",
       "4                                   -498.975456   \n",
       "...                                         ...   \n",
       "19434                               -500.811273   \n",
       "19435                               -500.526448   \n",
       "19436                               -499.416573   \n",
       "19437                               -499.728573   \n",
       "19438                               -499.864400   \n",
       "\n",
       "       primary_cleaner.state.floatbank8_b_air  \\\n",
       "0                                 1551.434204   \n",
       "1                                 1575.950626   \n",
       "2                                 1600.386685   \n",
       "3                                 1600.659236   \n",
       "4                                 1601.437854   \n",
       "...                                       ...   \n",
       "19434                             1596.499220   \n",
       "19435                             1597.866105   \n",
       "19436                             1597.325921   \n",
       "19437                             1600.537532   \n",
       "19438                             1597.455353   \n",
       "\n",
       "       primary_cleaner.state.floatbank8_b_level  \\\n",
       "0                                   -516.403442   \n",
       "1                                   -499.865889   \n",
       "2                                   -500.607762   \n",
       "3                                   -499.677094   \n",
       "4                                   -500.323246   \n",
       "...                                         ...   \n",
       "19434                               -499.189257   \n",
       "19435                               -499.798253   \n",
       "19436                               -499.944194   \n",
       "19437                               -500.096021   \n",
       "19438                               -500.266905   \n",
       "\n",
       "       primary_cleaner.state.floatbank8_c_air  \\\n",
       "0                                 1549.873901   \n",
       "1                                 1575.994189   \n",
       "2                                 1602.003542   \n",
       "3                                 1600.304144   \n",
       "4                                 1599.581894   \n",
       "...                                       ...   \n",
       "19434                             1599.635875   \n",
       "19435                             1598.796914   \n",
       "19436                             1601.441880   \n",
       "19437                             1597.568005   \n",
       "19438                             1600.747882   \n",
       "\n",
       "       primary_cleaner.state.floatbank8_c_level  \\\n",
       "0                                   -498.666595   \n",
       "1                                   -499.315107   \n",
       "2                                   -500.870069   \n",
       "3                                   -500.727997   \n",
       "4                                   -500.888152   \n",
       "...                                         ...   \n",
       "19434                               -500.178569   \n",
       "19435                               -498.214347   \n",
       "19436                               -499.658913   \n",
       "19437                               -499.601040   \n",
       "19438                               -500.541002   \n",
       "\n",
       "       primary_cleaner.state.floatbank8_d_air  \\\n",
       "0                                 1554.367432   \n",
       "1                                 1574.479259   \n",
       "2                                 1599.541515   \n",
       "3                                 1600.449520   \n",
       "4                                 1602.649541   \n",
       "...                                       ...   \n",
       "19434                             1598.888237   \n",
       "19435                             1597.075286   \n",
       "19436                             1599.758645   \n",
       "19437                             1599.213513   \n",
       "19438                             1599.754053   \n",
       "\n",
       "       primary_cleaner.state.floatbank8_d_level  \\\n",
       "0                                   -493.428131   \n",
       "1                                   -498.931665   \n",
       "2                                   -499.827444   \n",
       "3                                   -500.052575   \n",
       "4                                   -500.593010   \n",
       "...                                         ...   \n",
       "19434                               -499.112223   \n",
       "19435                               -499.158291   \n",
       "19436                               -501.149616   \n",
       "19437                               -500.964698   \n",
       "19438                               -499.216962   \n",
       "\n",
       "       primary_cleaner.output.concentrate_au  \\\n",
       "0                                  34.174427   \n",
       "1                                  34.118526   \n",
       "2                                  33.969464   \n",
       "3                                  28.260743   \n",
       "4                                  33.044932   \n",
       "...                                      ...   \n",
       "19434                              22.132642   \n",
       "19435                              33.800422   \n",
       "19436                              35.644428   \n",
       "19437                              28.081869   \n",
       "19438                              34.826500   \n",
       "\n",
       "       primary_cleaner.output.concentrate_ag  \\\n",
       "0                                   8.547551   \n",
       "1                                   8.558743   \n",
       "2                                   8.603505   \n",
       "3                                   7.221879   \n",
       "4                                   9.089428   \n",
       "...                                      ...   \n",
       "19434                               5.775645   \n",
       "19435                               8.273869   \n",
       "19436                               7.842272   \n",
       "19437                               5.899284   \n",
       "19438                               8.098985   \n",
       "\n",
       "       primary_cleaner.output.concentrate_pb  \\\n",
       "0                                  10.389648   \n",
       "1                                  10.497069   \n",
       "2                                  10.354494   \n",
       "3                                   8.496563   \n",
       "4                                   9.986786   \n",
       "...                                      ...   \n",
       "19434                               7.112666   \n",
       "19435                              11.090304   \n",
       "19436                              10.519069   \n",
       "19437                               8.154167   \n",
       "19438                              10.525324   \n",
       "\n",
       "       primary_cleaner.output.concentrate_sol  primary_cleaner.output.tail_au  \\\n",
       "0                                   19.529297                        2.106679   \n",
       "1                                   19.369147                        2.353017   \n",
       "2                                   19.167579                        2.416800   \n",
       "3                                   15.978538                        2.262051   \n",
       "4                                   19.199864                        2.277073   \n",
       "...                                       ...                             ...   \n",
       "19434                               12.377102                        2.020822   \n",
       "19435                               18.542572                        2.179186   \n",
       "19436                               18.827480                        1.872079   \n",
       "19437                               14.301345                        1.874228   \n",
       "19438                               18.436589                        2.025454   \n",
       "\n",
       "       primary_cleaner.output.tail_ag  primary_cleaner.output.tail_pb  \\\n",
       "0                           14.936526                        2.534912   \n",
       "1                           16.250511                        3.049646   \n",
       "2                           16.491823                        3.124664   \n",
       "3                           16.024359                        2.960362   \n",
       "4                           16.480185                        3.112100   \n",
       "...                               ...                             ...   \n",
       "19434                       15.316786                        2.843019   \n",
       "19435                       15.888505                        3.078792   \n",
       "19436                       16.108364                        3.082925   \n",
       "19437                       15.993499                        3.077749   \n",
       "19438                       15.535214                        2.866688   \n",
       "\n",
       "       primary_cleaner.output.tail_sol  \\\n",
       "0                             7.476074   \n",
       "1                             6.733907   \n",
       "2                             6.471768   \n",
       "3                             6.843791   \n",
       "4                             6.550154   \n",
       "...                                ...   \n",
       "19434                         7.608820   \n",
       "19435                         7.166831   \n",
       "19436                         7.684671   \n",
       "19437                         7.312664   \n",
       "19438                         7.265906   \n",
       "\n",
       "       secondary_cleaner.state.floatbank2_a_air  \\\n",
       "0                                     25.853109   \n",
       "1                                     25.880539   \n",
       "2                                     26.005245   \n",
       "3                                     25.942508   \n",
       "4                                     26.024787   \n",
       "...                                         ...   \n",
       "19434                                 26.008972   \n",
       "19435                                 26.019475   \n",
       "19436                                 25.953364   \n",
       "19437                                 26.111929   \n",
       "19438                                 26.059510   \n",
       "\n",
       "       secondary_cleaner.state.floatbank2_a_level  \\\n",
       "0                                     -498.526489   \n",
       "1                                     -499.989656   \n",
       "2                                     -499.929616   \n",
       "3                                     -499.176749   \n",
       "4                                     -500.279091   \n",
       "...                                           ...   \n",
       "19434                                 -500.410938   \n",
       "19435                                 -499.818693   \n",
       "19436                                 -501.033038   \n",
       "19437                                 -499.496608   \n",
       "19438                                 -499.151646   \n",
       "\n",
       "       secondary_cleaner.state.floatbank2_b_air  \\\n",
       "0                                     23.893660   \n",
       "1                                     23.889530   \n",
       "2                                     23.886657   \n",
       "3                                     23.955516   \n",
       "4                                     23.955345   \n",
       "...                                         ...   \n",
       "19434                                 24.075851   \n",
       "19435                                 23.991310   \n",
       "19436                                 24.039465   \n",
       "19437                                 24.094419   \n",
       "19438                                 23.934570   \n",
       "\n",
       "       secondary_cleaner.state.floatbank2_b_level  \\\n",
       "0                                     -501.406281   \n",
       "1                                     -500.372428   \n",
       "2                                     -499.951928   \n",
       "3                                     -499.848796   \n",
       "4                                     -500.593614   \n",
       "...                                           ...   \n",
       "19434                                 -499.647030   \n",
       "19435                                 -500.888315   \n",
       "19436                                 -500.088979   \n",
       "19437                                 -500.250900   \n",
       "19438                                 -499.351758   \n",
       "\n",
       "       secondary_cleaner.state.floatbank3_a_air  \\\n",
       "0                                     23.961798   \n",
       "1                                     23.970550   \n",
       "2                                     23.913535   \n",
       "3                                     23.966838   \n",
       "4                                     23.985703   \n",
       "...                                         ...   \n",
       "19434                                 23.969678   \n",
       "19435                                 24.026801   \n",
       "19436                                 24.010117   \n",
       "19437                                 23.945513   \n",
       "19438                                 23.994184   \n",
       "\n",
       "       secondary_cleaner.state.floatbank3_a_level  \\\n",
       "0                                     -495.262817   \n",
       "1                                     -500.085473   \n",
       "2                                     -499.442343   \n",
       "3                                     -500.008812   \n",
       "4                                     -500.083811   \n",
       "...                                           ...   \n",
       "19434                                 -500.207930   \n",
       "19435                                 -499.856287   \n",
       "19436                                 -499.705384   \n",
       "19437                                 -500.816108   \n",
       "19438                                 -500.078566   \n",
       "\n",
       "       secondary_cleaner.state.floatbank3_b_air  \\\n",
       "0                                     21.940409   \n",
       "1                                     22.085714   \n",
       "2                                     23.957717   \n",
       "3                                     23.954443   \n",
       "4                                     23.958945   \n",
       "...                                         ...   \n",
       "19434                                 23.978896   \n",
       "19435                                 23.959707   \n",
       "19436                                 24.024501   \n",
       "19437                                 23.995434   \n",
       "19438                                 23.924481   \n",
       "\n",
       "       secondary_cleaner.state.floatbank3_b_level  \\\n",
       "0                                     -499.340973   \n",
       "1                                     -499.446897   \n",
       "2                                     -499.901982   \n",
       "3                                     -499.944710   \n",
       "4                                     -499.990309   \n",
       "...                                           ...   \n",
       "19434                                 -499.862885   \n",
       "19435                                 -500.428539   \n",
       "19436                                 -499.466383   \n",
       "19437                                 -499.761541   \n",
       "19438                                 -499.989024   \n",
       "\n",
       "       secondary_cleaner.state.floatbank4_a_air  \\\n",
       "0                                     14.016835   \n",
       "1                                     13.992281   \n",
       "2                                     14.015015   \n",
       "3                                     14.036510   \n",
       "4                                     14.027298   \n",
       "...                                         ...   \n",
       "19434                                 14.003057   \n",
       "19435                                 14.031220   \n",
       "19436                                 13.996317   \n",
       "19437                                 13.983963   \n",
       "19438                                 13.989632   \n",
       "\n",
       "       secondary_cleaner.state.floatbank4_a_level  \\\n",
       "0                                     -502.488007   \n",
       "1                                     -505.503262   \n",
       "2                                     -502.520901   \n",
       "3                                     -500.857308   \n",
       "4                                     -499.838632   \n",
       "...                                           ...   \n",
       "19434                                 -503.152258   \n",
       "19435                                 -503.471307   \n",
       "19436                                 -502.995300   \n",
       "19437                                 -503.675714   \n",
       "19438                                 -503.195299   \n",
       "\n",
       "       secondary_cleaner.state.floatbank4_b_air  \\\n",
       "0                                     12.099931   \n",
       "1                                     11.950531   \n",
       "2                                     11.912783   \n",
       "3                                     11.999550   \n",
       "4                                     11.953070   \n",
       "...                                         ...   \n",
       "19434                                 12.016724   \n",
       "19435                                 11.966426   \n",
       "19436                                 11.980055   \n",
       "19437                                 11.928745   \n",
       "19438                                 12.052233   \n",
       "\n",
       "       secondary_cleaner.state.floatbank4_b_level  \\\n",
       "0                                     -504.715942   \n",
       "1                                     -501.331529   \n",
       "2                                     -501.133383   \n",
       "3                                     -501.193686   \n",
       "4                                     -501.053894   \n",
       "...                                           ...   \n",
       "19434                                 -501.136446   \n",
       "19435                                 -500.656842   \n",
       "19436                                 -500.607751   \n",
       "19437                                 -500.583183   \n",
       "19438                                 -500.928547   \n",
       "\n",
       "       secondary_cleaner.state.floatbank5_a_air  \\\n",
       "0                                      9.925633   \n",
       "1                                     10.039245   \n",
       "2                                     10.070913   \n",
       "3                                      9.970366   \n",
       "4                                      9.925709   \n",
       "...                                         ...   \n",
       "19434                                 10.041864   \n",
       "19435                                 10.051620   \n",
       "19436                                  9.964501   \n",
       "19437                                  9.970359   \n",
       "19438                                  9.962574   \n",
       "\n",
       "       secondary_cleaner.state.floatbank5_a_level  \\\n",
       "0                                     -498.310211   \n",
       "1                                     -500.169983   \n",
       "2                                     -500.129135   \n",
       "3                                     -499.201640   \n",
       "4                                     -501.686727   \n",
       "...                                           ...   \n",
       "19434                                 -499.338844   \n",
       "19435                                 -498.318772   \n",
       "19436                                 -499.261719   \n",
       "19437                                 -498.822343   \n",
       "19438                                 -502.986357   \n",
       "\n",
       "       secondary_cleaner.state.floatbank5_b_air  \\\n",
       "0                                      8.079666   \n",
       "1                                      7.984757   \n",
       "2                                      8.013877   \n",
       "3                                      7.977324   \n",
       "4                                      7.894242   \n",
       "...                                         ...   \n",
       "19434                                  8.007022   \n",
       "19435                                  8.018091   \n",
       "19436                                  8.065048   \n",
       "19437                                  8.016377   \n",
       "19438                                  7.979219   \n",
       "\n",
       "       secondary_cleaner.state.floatbank5_b_level  \\\n",
       "0                                     -500.470978   \n",
       "1                                     -500.582168   \n",
       "2                                     -500.517572   \n",
       "3                                     -500.255908   \n",
       "4                                     -500.356035   \n",
       "...                                           ...   \n",
       "19434                                 -500.279583   \n",
       "19435                                 -499.696138   \n",
       "19436                                 -499.492395   \n",
       "19437                                 -499.013145   \n",
       "19438                                 -500.146835   \n",
       "\n",
       "       secondary_cleaner.state.floatbank6_a_air  \\\n",
       "0                                     14.151341   \n",
       "1                                     13.998353   \n",
       "2                                     14.028663   \n",
       "3                                     14.005551   \n",
       "4                                     13.996647   \n",
       "...                                         ...   \n",
       "19434                                 14.001271   \n",
       "19435                                 13.958937   \n",
       "19436                                 13.997801   \n",
       "19437                                 14.000032   \n",
       "19438                                 13.981614   \n",
       "\n",
       "       secondary_cleaner.state.floatbank6_a_level  \\\n",
       "0                                     -605.841980   \n",
       "1                                     -599.787184   \n",
       "2                                     -601.427363   \n",
       "3                                     -599.996129   \n",
       "4                                     -601.496691   \n",
       "...                                           ...   \n",
       "19434                                 -602.072365   \n",
       "19435                                 -599.213013   \n",
       "19436                                 -600.621416   \n",
       "19437                                 -600.024741   \n",
       "19438                                 -598.070855   \n",
       "\n",
       "       secondary_cleaner.output.tail_au  secondary_cleaner.output.tail_ag  \\\n",
       "0                              2.606185                         14.500184   \n",
       "1                              2.488248                         14.265474   \n",
       "2                              2.458187                         14.115662   \n",
       "3                              2.322062                         13.732071   \n",
       "4                              2.330448                         14.079996   \n",
       "...                                 ...                               ...   \n",
       "19434                          2.073936                         12.740218   \n",
       "19435                          2.245725                         13.176513   \n",
       "19436                          1.965589                         14.372378   \n",
       "19437                          1.868321                         13.795229   \n",
       "19438                          2.073737                         13.209191   \n",
       "\n",
       "       secondary_cleaner.output.tail_pb  secondary_cleaner.output.tail_sol  \\\n",
       "0                              4.694824                           8.764648   \n",
       "1                              4.592547                           9.001494   \n",
       "2                              4.624775                           8.842896   \n",
       "3                              4.482453                           9.122857   \n",
       "4                              4.470737                           8.871028   \n",
       "...                                 ...                                ...   \n",
       "19434                          4.460185                          10.013738   \n",
       "19435                          4.656804                           9.841210   \n",
       "19436                          4.402372                          10.119344   \n",
       "19437                          4.576720                           9.876374   \n",
       "19438                          4.550553                           9.813732   \n",
       "\n",
       "       final.output.concentrate_au  final.output.concentrate_ag  \\\n",
       "0                        42.192020                     6.055403   \n",
       "1                        42.701629                     6.029369   \n",
       "2                        42.657501                     6.055926   \n",
       "3                        42.689819                     6.047977   \n",
       "4                        42.774141                     6.148599   \n",
       "...                            ...                          ...   \n",
       "19434                    42.435181                     5.719113   \n",
       "19435                    43.440341                     5.410126   \n",
       "19436                    44.284117                     5.437716   \n",
       "19437                    43.339714                     5.664983   \n",
       "19438                    43.235220                     5.687063   \n",
       "\n",
       "       final.output.concentrate_pb  final.output.concentrate_sol  \\\n",
       "0                         9.889648                      5.507324   \n",
       "1                         9.968944                      5.257781   \n",
       "2                        10.213995                      5.383759   \n",
       "3                         9.977019                      4.858634   \n",
       "4                        10.142511                      4.939416   \n",
       "...                            ...                           ...   \n",
       "19434                    10.621027                      6.459561   \n",
       "19435                    10.868937                      6.258693   \n",
       "19436                     9.781181                      6.057627   \n",
       "19437                    10.168953                      5.484318   \n",
       "19438                     9.980404                      5.282514   \n",
       "\n",
       "       final.output.recovery  final.output.tail_au  final.output.tail_ag  \\\n",
       "0                  70.541216              2.143149             10.411962   \n",
       "1                  69.266198              2.224930             10.462676   \n",
       "2                  68.116445              2.257889             10.507046   \n",
       "3                  68.347543              2.146849             10.422762   \n",
       "4                  66.927016              2.055292             10.360302   \n",
       "...                      ...                   ...                   ...   \n",
       "19434              68.786981              2.314786             10.286797   \n",
       "19435              67.839536              2.423143             10.382891   \n",
       "19436              70.847012              2.161256             10.324415   \n",
       "19437              72.659046              2.064422             10.475957   \n",
       "19438              70.279619              2.209593             10.487013   \n",
       "\n",
       "       final.output.tail_pb  final.output.tail_sol  \n",
       "0                  0.895447              16.904297  \n",
       "1                  0.927452              16.634514  \n",
       "2                  0.953716              16.208849  \n",
       "3                  0.883763              16.532835  \n",
       "4                  0.792826              16.525686  \n",
       "...                     ...                    ...  \n",
       "19434              1.171459              19.131121  \n",
       "19435              1.239738              18.544924  \n",
       "19436              0.961210              18.185262  \n",
       "19437              1.050592              17.525656  \n",
       "19438              1.159805              17.483979  \n",
       "\n",
       "[19439 rows x 87 columns]"
      ]
     },
     "execution_count": 7,
     "metadata": {},
     "output_type": "execute_result"
    }
   ],
   "source": [
    "data"
   ]
  },
  {
   "cell_type": "code",
   "execution_count": 8,
   "metadata": {},
   "outputs": [
    {
     "data": {
      "text/html": [
       "<div>\n",
       "<style scoped>\n",
       "    .dataframe tbody tr th:only-of-type {\n",
       "        vertical-align: middle;\n",
       "    }\n",
       "\n",
       "    .dataframe tbody tr th {\n",
       "        vertical-align: top;\n",
       "    }\n",
       "\n",
       "    .dataframe thead th {\n",
       "        text-align: right;\n",
       "    }\n",
       "</style>\n",
       "<table border=\"1\" class=\"dataframe\">\n",
       "  <thead>\n",
       "    <tr style=\"text-align: right;\">\n",
       "      <th></th>\n",
       "      <th>date</th>\n",
       "      <th>rougher.input.feed_au</th>\n",
       "      <th>rougher.input.feed_ag</th>\n",
       "      <th>rougher.input.feed_pb</th>\n",
       "      <th>rougher.input.feed_sol</th>\n",
       "      <th>rougher.input.feed_rate</th>\n",
       "      <th>rougher.input.feed_size</th>\n",
       "      <th>rougher.input.floatbank10_sulfate</th>\n",
       "      <th>rougher.input.floatbank10_xanthate</th>\n",
       "      <th>rougher.state.floatbank10_a_air</th>\n",
       "      <th>rougher.state.floatbank10_a_level</th>\n",
       "      <th>rougher.state.floatbank10_b_air</th>\n",
       "      <th>rougher.state.floatbank10_b_level</th>\n",
       "      <th>rougher.state.floatbank10_c_air</th>\n",
       "      <th>rougher.state.floatbank10_c_level</th>\n",
       "      <th>rougher.state.floatbank10_d_air</th>\n",
       "      <th>rougher.state.floatbank10_d_level</th>\n",
       "      <th>rougher.state.floatbank10_e_air</th>\n",
       "      <th>rougher.state.floatbank10_e_level</th>\n",
       "      <th>rougher.state.floatbank10_f_air</th>\n",
       "      <th>rougher.state.floatbank10_f_level</th>\n",
       "      <th>rougher.input.floatbank11_sulfate</th>\n",
       "      <th>rougher.input.floatbank11_xanthate</th>\n",
       "      <th>rougher.calculation.sulfate_to_au_concentrate</th>\n",
       "      <th>rougher.calculation.floatbank10_sulfate_to_au_feed</th>\n",
       "      <th>rougher.calculation.floatbank11_sulfate_to_au_feed</th>\n",
       "      <th>rougher.calculation.au_pb_ratio</th>\n",
       "      <th>rougher.output.concentrate_au</th>\n",
       "      <th>rougher.output.concentrate_ag</th>\n",
       "      <th>rougher.output.concentrate_pb</th>\n",
       "      <th>rougher.output.concentrate_sol</th>\n",
       "      <th>rougher.output.recovery</th>\n",
       "      <th>rougher.output.tail_au</th>\n",
       "      <th>rougher.output.tail_ag</th>\n",
       "      <th>rougher.output.tail_pb</th>\n",
       "      <th>rougher.output.tail_sol</th>\n",
       "      <th>primary_cleaner.input.sulfate</th>\n",
       "      <th>primary_cleaner.input.depressant</th>\n",
       "      <th>primary_cleaner.input.feed_size</th>\n",
       "      <th>primary_cleaner.input.xanthate</th>\n",
       "      <th>primary_cleaner.state.floatbank8_a_air</th>\n",
       "      <th>primary_cleaner.state.floatbank8_a_level</th>\n",
       "      <th>primary_cleaner.state.floatbank8_b_air</th>\n",
       "      <th>primary_cleaner.state.floatbank8_b_level</th>\n",
       "      <th>primary_cleaner.state.floatbank8_c_air</th>\n",
       "      <th>primary_cleaner.state.floatbank8_c_level</th>\n",
       "      <th>primary_cleaner.state.floatbank8_d_air</th>\n",
       "      <th>primary_cleaner.state.floatbank8_d_level</th>\n",
       "      <th>primary_cleaner.output.concentrate_au</th>\n",
       "      <th>primary_cleaner.output.concentrate_ag</th>\n",
       "      <th>primary_cleaner.output.concentrate_pb</th>\n",
       "      <th>primary_cleaner.output.concentrate_sol</th>\n",
       "      <th>primary_cleaner.output.tail_au</th>\n",
       "      <th>primary_cleaner.output.tail_ag</th>\n",
       "      <th>primary_cleaner.output.tail_pb</th>\n",
       "      <th>primary_cleaner.output.tail_sol</th>\n",
       "      <th>secondary_cleaner.state.floatbank2_a_air</th>\n",
       "      <th>secondary_cleaner.state.floatbank2_a_level</th>\n",
       "      <th>secondary_cleaner.state.floatbank2_b_air</th>\n",
       "      <th>secondary_cleaner.state.floatbank2_b_level</th>\n",
       "      <th>secondary_cleaner.state.floatbank3_a_air</th>\n",
       "      <th>secondary_cleaner.state.floatbank3_a_level</th>\n",
       "      <th>secondary_cleaner.state.floatbank3_b_air</th>\n",
       "      <th>secondary_cleaner.state.floatbank3_b_level</th>\n",
       "      <th>secondary_cleaner.state.floatbank4_a_air</th>\n",
       "      <th>secondary_cleaner.state.floatbank4_a_level</th>\n",
       "      <th>secondary_cleaner.state.floatbank4_b_air</th>\n",
       "      <th>secondary_cleaner.state.floatbank4_b_level</th>\n",
       "      <th>secondary_cleaner.state.floatbank5_a_air</th>\n",
       "      <th>secondary_cleaner.state.floatbank5_a_level</th>\n",
       "      <th>secondary_cleaner.state.floatbank5_b_air</th>\n",
       "      <th>secondary_cleaner.state.floatbank5_b_level</th>\n",
       "      <th>secondary_cleaner.state.floatbank6_a_air</th>\n",
       "      <th>secondary_cleaner.state.floatbank6_a_level</th>\n",
       "      <th>secondary_cleaner.output.tail_au</th>\n",
       "      <th>secondary_cleaner.output.tail_ag</th>\n",
       "      <th>secondary_cleaner.output.tail_pb</th>\n",
       "      <th>secondary_cleaner.output.tail_sol</th>\n",
       "      <th>final.output.concentrate_au</th>\n",
       "      <th>final.output.concentrate_ag</th>\n",
       "      <th>final.output.concentrate_pb</th>\n",
       "      <th>final.output.concentrate_sol</th>\n",
       "      <th>final.output.recovery</th>\n",
       "      <th>final.output.tail_au</th>\n",
       "      <th>final.output.tail_ag</th>\n",
       "      <th>final.output.tail_pb</th>\n",
       "      <th>final.output.tail_sol</th>\n",
       "    </tr>\n",
       "  </thead>\n",
       "  <tbody>\n",
       "    <tr>\n",
       "      <th>0</th>\n",
       "      <td>2016-01-15 00:00:00</td>\n",
       "      <td>6.486150</td>\n",
       "      <td>6.100378</td>\n",
       "      <td>2.284912</td>\n",
       "      <td>36.808594</td>\n",
       "      <td>523.546326</td>\n",
       "      <td>55.486599</td>\n",
       "      <td>11.986616</td>\n",
       "      <td>6.007990</td>\n",
       "      <td>999.706909</td>\n",
       "      <td>-404.066986</td>\n",
       "      <td>1603.011353</td>\n",
       "      <td>-434.715027</td>\n",
       "      <td>1602.375000</td>\n",
       "      <td>-442.204468</td>\n",
       "      <td>1598.937256</td>\n",
       "      <td>-451.294128</td>\n",
       "      <td>1404.472046</td>\n",
       "      <td>-455.462982</td>\n",
       "      <td>1416.354980</td>\n",
       "      <td>-451.939636</td>\n",
       "      <td>11.836743</td>\n",
       "      <td>6.005818</td>\n",
       "      <td>41885.707031</td>\n",
       "      <td>3481.779053</td>\n",
       "      <td>3520.337158</td>\n",
       "      <td>2.838687</td>\n",
       "      <td>19.793808</td>\n",
       "      <td>11.500771</td>\n",
       "      <td>7.101074</td>\n",
       "      <td>28.029297</td>\n",
       "      <td>87.107763</td>\n",
       "      <td>1.170244</td>\n",
       "      <td>5.008018</td>\n",
       "      <td>0.508728</td>\n",
       "      <td>19.154297</td>\n",
       "      <td>127.092003</td>\n",
       "      <td>10.128295</td>\n",
       "      <td>7.25</td>\n",
       "      <td>0.988759</td>\n",
       "      <td>1549.775757</td>\n",
       "      <td>-498.912140</td>\n",
       "      <td>1551.434204</td>\n",
       "      <td>-516.403442</td>\n",
       "      <td>1549.873901</td>\n",
       "      <td>-498.666595</td>\n",
       "      <td>1554.367432</td>\n",
       "      <td>-493.428131</td>\n",
       "      <td>34.174427</td>\n",
       "      <td>8.547551</td>\n",
       "      <td>10.389648</td>\n",
       "      <td>19.529297</td>\n",
       "      <td>2.106679</td>\n",
       "      <td>14.936526</td>\n",
       "      <td>2.534912</td>\n",
       "      <td>7.476074</td>\n",
       "      <td>25.853109</td>\n",
       "      <td>-498.526489</td>\n",
       "      <td>23.893660</td>\n",
       "      <td>-501.406281</td>\n",
       "      <td>23.961798</td>\n",
       "      <td>-495.262817</td>\n",
       "      <td>21.940409</td>\n",
       "      <td>-499.340973</td>\n",
       "      <td>14.016835</td>\n",
       "      <td>-502.488007</td>\n",
       "      <td>12.099931</td>\n",
       "      <td>-504.715942</td>\n",
       "      <td>9.925633</td>\n",
       "      <td>-498.310211</td>\n",
       "      <td>8.079666</td>\n",
       "      <td>-500.470978</td>\n",
       "      <td>14.151341</td>\n",
       "      <td>-605.841980</td>\n",
       "      <td>2.606185</td>\n",
       "      <td>14.500184</td>\n",
       "      <td>4.694824</td>\n",
       "      <td>8.764648</td>\n",
       "      <td>42.192020</td>\n",
       "      <td>6.055403</td>\n",
       "      <td>9.889648</td>\n",
       "      <td>5.507324</td>\n",
       "      <td>70.541216</td>\n",
       "      <td>2.143149</td>\n",
       "      <td>10.411962</td>\n",
       "      <td>0.895447</td>\n",
       "      <td>16.904297</td>\n",
       "    </tr>\n",
       "    <tr>\n",
       "      <th>1</th>\n",
       "      <td>2016-01-15 01:00:00</td>\n",
       "      <td>6.478583</td>\n",
       "      <td>6.161113</td>\n",
       "      <td>2.266033</td>\n",
       "      <td>35.753385</td>\n",
       "      <td>525.290581</td>\n",
       "      <td>57.278666</td>\n",
       "      <td>11.971193</td>\n",
       "      <td>6.005766</td>\n",
       "      <td>1000.286398</td>\n",
       "      <td>-400.065196</td>\n",
       "      <td>1600.754587</td>\n",
       "      <td>-449.953435</td>\n",
       "      <td>1600.479580</td>\n",
       "      <td>-449.830646</td>\n",
       "      <td>1600.527589</td>\n",
       "      <td>-449.953649</td>\n",
       "      <td>1399.227084</td>\n",
       "      <td>-450.869848</td>\n",
       "      <td>1399.719514</td>\n",
       "      <td>-450.119001</td>\n",
       "      <td>11.996163</td>\n",
       "      <td>6.012594</td>\n",
       "      <td>42050.861809</td>\n",
       "      <td>3498.370979</td>\n",
       "      <td>3489.981857</td>\n",
       "      <td>2.858998</td>\n",
       "      <td>20.050975</td>\n",
       "      <td>11.615865</td>\n",
       "      <td>7.278807</td>\n",
       "      <td>28.067063</td>\n",
       "      <td>86.843261</td>\n",
       "      <td>1.184827</td>\n",
       "      <td>4.955378</td>\n",
       "      <td>0.536689</td>\n",
       "      <td>18.965234</td>\n",
       "      <td>125.629232</td>\n",
       "      <td>10.296251</td>\n",
       "      <td>7.25</td>\n",
       "      <td>1.002663</td>\n",
       "      <td>1576.166671</td>\n",
       "      <td>-500.904965</td>\n",
       "      <td>1575.950626</td>\n",
       "      <td>-499.865889</td>\n",
       "      <td>1575.994189</td>\n",
       "      <td>-499.315107</td>\n",
       "      <td>1574.479259</td>\n",
       "      <td>-498.931665</td>\n",
       "      <td>34.118526</td>\n",
       "      <td>8.558743</td>\n",
       "      <td>10.497069</td>\n",
       "      <td>19.369147</td>\n",
       "      <td>2.353017</td>\n",
       "      <td>16.250511</td>\n",
       "      <td>3.049646</td>\n",
       "      <td>6.733907</td>\n",
       "      <td>25.880539</td>\n",
       "      <td>-499.989656</td>\n",
       "      <td>23.889530</td>\n",
       "      <td>-500.372428</td>\n",
       "      <td>23.970550</td>\n",
       "      <td>-500.085473</td>\n",
       "      <td>22.085714</td>\n",
       "      <td>-499.446897</td>\n",
       "      <td>13.992281</td>\n",
       "      <td>-505.503262</td>\n",
       "      <td>11.950531</td>\n",
       "      <td>-501.331529</td>\n",
       "      <td>10.039245</td>\n",
       "      <td>-500.169983</td>\n",
       "      <td>7.984757</td>\n",
       "      <td>-500.582168</td>\n",
       "      <td>13.998353</td>\n",
       "      <td>-599.787184</td>\n",
       "      <td>2.488248</td>\n",
       "      <td>14.265474</td>\n",
       "      <td>4.592547</td>\n",
       "      <td>9.001494</td>\n",
       "      <td>42.701629</td>\n",
       "      <td>6.029369</td>\n",
       "      <td>9.968944</td>\n",
       "      <td>5.257781</td>\n",
       "      <td>69.266198</td>\n",
       "      <td>2.224930</td>\n",
       "      <td>10.462676</td>\n",
       "      <td>0.927452</td>\n",
       "      <td>16.634514</td>\n",
       "    </tr>\n",
       "    <tr>\n",
       "      <th>2</th>\n",
       "      <td>2016-01-15 02:00:00</td>\n",
       "      <td>6.362222</td>\n",
       "      <td>6.116455</td>\n",
       "      <td>2.159622</td>\n",
       "      <td>35.971630</td>\n",
       "      <td>530.026610</td>\n",
       "      <td>57.510649</td>\n",
       "      <td>11.920603</td>\n",
       "      <td>6.197377</td>\n",
       "      <td>999.719565</td>\n",
       "      <td>-400.074028</td>\n",
       "      <td>1599.337330</td>\n",
       "      <td>-450.008530</td>\n",
       "      <td>1599.672797</td>\n",
       "      <td>-449.954491</td>\n",
       "      <td>1599.849325</td>\n",
       "      <td>-449.954185</td>\n",
       "      <td>1399.180945</td>\n",
       "      <td>-449.937588</td>\n",
       "      <td>1400.316682</td>\n",
       "      <td>-450.527147</td>\n",
       "      <td>11.920305</td>\n",
       "      <td>6.204633</td>\n",
       "      <td>42018.101184</td>\n",
       "      <td>3495.348910</td>\n",
       "      <td>3502.359819</td>\n",
       "      <td>2.945989</td>\n",
       "      <td>19.737170</td>\n",
       "      <td>11.695753</td>\n",
       "      <td>7.216833</td>\n",
       "      <td>27.454037</td>\n",
       "      <td>86.842308</td>\n",
       "      <td>1.162562</td>\n",
       "      <td>4.843460</td>\n",
       "      <td>0.546416</td>\n",
       "      <td>18.808533</td>\n",
       "      <td>123.819808</td>\n",
       "      <td>11.316280</td>\n",
       "      <td>7.25</td>\n",
       "      <td>0.991265</td>\n",
       "      <td>1601.556163</td>\n",
       "      <td>-499.997791</td>\n",
       "      <td>1600.386685</td>\n",
       "      <td>-500.607762</td>\n",
       "      <td>1602.003542</td>\n",
       "      <td>-500.870069</td>\n",
       "      <td>1599.541515</td>\n",
       "      <td>-499.827444</td>\n",
       "      <td>33.969464</td>\n",
       "      <td>8.603505</td>\n",
       "      <td>10.354494</td>\n",
       "      <td>19.167579</td>\n",
       "      <td>2.416800</td>\n",
       "      <td>16.491823</td>\n",
       "      <td>3.124664</td>\n",
       "      <td>6.471768</td>\n",
       "      <td>26.005245</td>\n",
       "      <td>-499.929616</td>\n",
       "      <td>23.886657</td>\n",
       "      <td>-499.951928</td>\n",
       "      <td>23.913535</td>\n",
       "      <td>-499.442343</td>\n",
       "      <td>23.957717</td>\n",
       "      <td>-499.901982</td>\n",
       "      <td>14.015015</td>\n",
       "      <td>-502.520901</td>\n",
       "      <td>11.912783</td>\n",
       "      <td>-501.133383</td>\n",
       "      <td>10.070913</td>\n",
       "      <td>-500.129135</td>\n",
       "      <td>8.013877</td>\n",
       "      <td>-500.517572</td>\n",
       "      <td>14.028663</td>\n",
       "      <td>-601.427363</td>\n",
       "      <td>2.458187</td>\n",
       "      <td>14.115662</td>\n",
       "      <td>4.624775</td>\n",
       "      <td>8.842896</td>\n",
       "      <td>42.657501</td>\n",
       "      <td>6.055926</td>\n",
       "      <td>10.213995</td>\n",
       "      <td>5.383759</td>\n",
       "      <td>68.116445</td>\n",
       "      <td>2.257889</td>\n",
       "      <td>10.507046</td>\n",
       "      <td>0.953716</td>\n",
       "      <td>16.208849</td>\n",
       "    </tr>\n",
       "    <tr>\n",
       "      <th>3</th>\n",
       "      <td>2016-01-15 03:00:00</td>\n",
       "      <td>6.118189</td>\n",
       "      <td>6.043309</td>\n",
       "      <td>2.037807</td>\n",
       "      <td>36.862241</td>\n",
       "      <td>542.590390</td>\n",
       "      <td>57.792734</td>\n",
       "      <td>11.630094</td>\n",
       "      <td>6.203177</td>\n",
       "      <td>999.814770</td>\n",
       "      <td>-400.200179</td>\n",
       "      <td>1600.059442</td>\n",
       "      <td>-450.619948</td>\n",
       "      <td>1600.012842</td>\n",
       "      <td>-449.910497</td>\n",
       "      <td>1597.725177</td>\n",
       "      <td>-450.130127</td>\n",
       "      <td>1400.943157</td>\n",
       "      <td>-450.030142</td>\n",
       "      <td>1400.234743</td>\n",
       "      <td>-449.790835</td>\n",
       "      <td>11.692450</td>\n",
       "      <td>6.196578</td>\n",
       "      <td>42029.447991</td>\n",
       "      <td>3498.578313</td>\n",
       "      <td>3499.162912</td>\n",
       "      <td>3.002340</td>\n",
       "      <td>19.320810</td>\n",
       "      <td>11.915047</td>\n",
       "      <td>7.175616</td>\n",
       "      <td>27.341277</td>\n",
       "      <td>87.226430</td>\n",
       "      <td>1.079755</td>\n",
       "      <td>4.655288</td>\n",
       "      <td>0.542525</td>\n",
       "      <td>19.330200</td>\n",
       "      <td>122.270188</td>\n",
       "      <td>11.322140</td>\n",
       "      <td>7.25</td>\n",
       "      <td>0.996739</td>\n",
       "      <td>1599.968720</td>\n",
       "      <td>-500.951778</td>\n",
       "      <td>1600.659236</td>\n",
       "      <td>-499.677094</td>\n",
       "      <td>1600.304144</td>\n",
       "      <td>-500.727997</td>\n",
       "      <td>1600.449520</td>\n",
       "      <td>-500.052575</td>\n",
       "      <td>28.260743</td>\n",
       "      <td>7.221879</td>\n",
       "      <td>8.496563</td>\n",
       "      <td>15.978538</td>\n",
       "      <td>2.262051</td>\n",
       "      <td>16.024359</td>\n",
       "      <td>2.960362</td>\n",
       "      <td>6.843791</td>\n",
       "      <td>25.942508</td>\n",
       "      <td>-499.176749</td>\n",
       "      <td>23.955516</td>\n",
       "      <td>-499.848796</td>\n",
       "      <td>23.966838</td>\n",
       "      <td>-500.008812</td>\n",
       "      <td>23.954443</td>\n",
       "      <td>-499.944710</td>\n",
       "      <td>14.036510</td>\n",
       "      <td>-500.857308</td>\n",
       "      <td>11.999550</td>\n",
       "      <td>-501.193686</td>\n",
       "      <td>9.970366</td>\n",
       "      <td>-499.201640</td>\n",
       "      <td>7.977324</td>\n",
       "      <td>-500.255908</td>\n",
       "      <td>14.005551</td>\n",
       "      <td>-599.996129</td>\n",
       "      <td>2.322062</td>\n",
       "      <td>13.732071</td>\n",
       "      <td>4.482453</td>\n",
       "      <td>9.122857</td>\n",
       "      <td>42.689819</td>\n",
       "      <td>6.047977</td>\n",
       "      <td>9.977019</td>\n",
       "      <td>4.858634</td>\n",
       "      <td>68.347543</td>\n",
       "      <td>2.146849</td>\n",
       "      <td>10.422762</td>\n",
       "      <td>0.883763</td>\n",
       "      <td>16.532835</td>\n",
       "    </tr>\n",
       "    <tr>\n",
       "      <th>4</th>\n",
       "      <td>2016-01-15 04:00:00</td>\n",
       "      <td>5.663707</td>\n",
       "      <td>6.060915</td>\n",
       "      <td>1.786875</td>\n",
       "      <td>34.347666</td>\n",
       "      <td>540.531893</td>\n",
       "      <td>56.047189</td>\n",
       "      <td>10.957755</td>\n",
       "      <td>6.198826</td>\n",
       "      <td>999.678690</td>\n",
       "      <td>-399.752729</td>\n",
       "      <td>1600.208824</td>\n",
       "      <td>-449.599614</td>\n",
       "      <td>1600.357732</td>\n",
       "      <td>-450.034364</td>\n",
       "      <td>1599.759049</td>\n",
       "      <td>-449.909799</td>\n",
       "      <td>1401.560902</td>\n",
       "      <td>-448.877187</td>\n",
       "      <td>1401.160227</td>\n",
       "      <td>-450.407128</td>\n",
       "      <td>10.960521</td>\n",
       "      <td>6.194897</td>\n",
       "      <td>42125.354245</td>\n",
       "      <td>3494.800771</td>\n",
       "      <td>3506.679315</td>\n",
       "      <td>3.169615</td>\n",
       "      <td>19.216101</td>\n",
       "      <td>12.411054</td>\n",
       "      <td>7.240205</td>\n",
       "      <td>27.041023</td>\n",
       "      <td>86.688794</td>\n",
       "      <td>1.012642</td>\n",
       "      <td>4.552800</td>\n",
       "      <td>0.515438</td>\n",
       "      <td>19.267422</td>\n",
       "      <td>117.988169</td>\n",
       "      <td>11.913613</td>\n",
       "      <td>7.25</td>\n",
       "      <td>1.009869</td>\n",
       "      <td>1601.339707</td>\n",
       "      <td>-498.975456</td>\n",
       "      <td>1601.437854</td>\n",
       "      <td>-500.323246</td>\n",
       "      <td>1599.581894</td>\n",
       "      <td>-500.888152</td>\n",
       "      <td>1602.649541</td>\n",
       "      <td>-500.593010</td>\n",
       "      <td>33.044932</td>\n",
       "      <td>9.089428</td>\n",
       "      <td>9.986786</td>\n",
       "      <td>19.199864</td>\n",
       "      <td>2.277073</td>\n",
       "      <td>16.480185</td>\n",
       "      <td>3.112100</td>\n",
       "      <td>6.550154</td>\n",
       "      <td>26.024787</td>\n",
       "      <td>-500.279091</td>\n",
       "      <td>23.955345</td>\n",
       "      <td>-500.593614</td>\n",
       "      <td>23.985703</td>\n",
       "      <td>-500.083811</td>\n",
       "      <td>23.958945</td>\n",
       "      <td>-499.990309</td>\n",
       "      <td>14.027298</td>\n",
       "      <td>-499.838632</td>\n",
       "      <td>11.953070</td>\n",
       "      <td>-501.053894</td>\n",
       "      <td>9.925709</td>\n",
       "      <td>-501.686727</td>\n",
       "      <td>7.894242</td>\n",
       "      <td>-500.356035</td>\n",
       "      <td>13.996647</td>\n",
       "      <td>-601.496691</td>\n",
       "      <td>2.330448</td>\n",
       "      <td>14.079996</td>\n",
       "      <td>4.470737</td>\n",
       "      <td>8.871028</td>\n",
       "      <td>42.774141</td>\n",
       "      <td>6.148599</td>\n",
       "      <td>10.142511</td>\n",
       "      <td>4.939416</td>\n",
       "      <td>66.927016</td>\n",
       "      <td>2.055292</td>\n",
       "      <td>10.360302</td>\n",
       "      <td>0.792826</td>\n",
       "      <td>16.525686</td>\n",
       "    </tr>\n",
       "  </tbody>\n",
       "</table>\n",
       "</div>"
      ],
      "text/plain": [
       "                  date  rougher.input.feed_au  rougher.input.feed_ag  \\\n",
       "0  2016-01-15 00:00:00               6.486150               6.100378   \n",
       "1  2016-01-15 01:00:00               6.478583               6.161113   \n",
       "2  2016-01-15 02:00:00               6.362222               6.116455   \n",
       "3  2016-01-15 03:00:00               6.118189               6.043309   \n",
       "4  2016-01-15 04:00:00               5.663707               6.060915   \n",
       "\n",
       "   rougher.input.feed_pb  rougher.input.feed_sol  rougher.input.feed_rate  \\\n",
       "0               2.284912               36.808594               523.546326   \n",
       "1               2.266033               35.753385               525.290581   \n",
       "2               2.159622               35.971630               530.026610   \n",
       "3               2.037807               36.862241               542.590390   \n",
       "4               1.786875               34.347666               540.531893   \n",
       "\n",
       "   rougher.input.feed_size  rougher.input.floatbank10_sulfate  \\\n",
       "0                55.486599                          11.986616   \n",
       "1                57.278666                          11.971193   \n",
       "2                57.510649                          11.920603   \n",
       "3                57.792734                          11.630094   \n",
       "4                56.047189                          10.957755   \n",
       "\n",
       "   rougher.input.floatbank10_xanthate  rougher.state.floatbank10_a_air  \\\n",
       "0                            6.007990                       999.706909   \n",
       "1                            6.005766                      1000.286398   \n",
       "2                            6.197377                       999.719565   \n",
       "3                            6.203177                       999.814770   \n",
       "4                            6.198826                       999.678690   \n",
       "\n",
       "   rougher.state.floatbank10_a_level  rougher.state.floatbank10_b_air  \\\n",
       "0                        -404.066986                      1603.011353   \n",
       "1                        -400.065196                      1600.754587   \n",
       "2                        -400.074028                      1599.337330   \n",
       "3                        -400.200179                      1600.059442   \n",
       "4                        -399.752729                      1600.208824   \n",
       "\n",
       "   rougher.state.floatbank10_b_level  rougher.state.floatbank10_c_air  \\\n",
       "0                        -434.715027                      1602.375000   \n",
       "1                        -449.953435                      1600.479580   \n",
       "2                        -450.008530                      1599.672797   \n",
       "3                        -450.619948                      1600.012842   \n",
       "4                        -449.599614                      1600.357732   \n",
       "\n",
       "   rougher.state.floatbank10_c_level  rougher.state.floatbank10_d_air  \\\n",
       "0                        -442.204468                      1598.937256   \n",
       "1                        -449.830646                      1600.527589   \n",
       "2                        -449.954491                      1599.849325   \n",
       "3                        -449.910497                      1597.725177   \n",
       "4                        -450.034364                      1599.759049   \n",
       "\n",
       "   rougher.state.floatbank10_d_level  rougher.state.floatbank10_e_air  \\\n",
       "0                        -451.294128                      1404.472046   \n",
       "1                        -449.953649                      1399.227084   \n",
       "2                        -449.954185                      1399.180945   \n",
       "3                        -450.130127                      1400.943157   \n",
       "4                        -449.909799                      1401.560902   \n",
       "\n",
       "   rougher.state.floatbank10_e_level  rougher.state.floatbank10_f_air  \\\n",
       "0                        -455.462982                      1416.354980   \n",
       "1                        -450.869848                      1399.719514   \n",
       "2                        -449.937588                      1400.316682   \n",
       "3                        -450.030142                      1400.234743   \n",
       "4                        -448.877187                      1401.160227   \n",
       "\n",
       "   rougher.state.floatbank10_f_level  rougher.input.floatbank11_sulfate  \\\n",
       "0                        -451.939636                          11.836743   \n",
       "1                        -450.119001                          11.996163   \n",
       "2                        -450.527147                          11.920305   \n",
       "3                        -449.790835                          11.692450   \n",
       "4                        -450.407128                          10.960521   \n",
       "\n",
       "   rougher.input.floatbank11_xanthate  \\\n",
       "0                            6.005818   \n",
       "1                            6.012594   \n",
       "2                            6.204633   \n",
       "3                            6.196578   \n",
       "4                            6.194897   \n",
       "\n",
       "   rougher.calculation.sulfate_to_au_concentrate  \\\n",
       "0                                   41885.707031   \n",
       "1                                   42050.861809   \n",
       "2                                   42018.101184   \n",
       "3                                   42029.447991   \n",
       "4                                   42125.354245   \n",
       "\n",
       "   rougher.calculation.floatbank10_sulfate_to_au_feed  \\\n",
       "0                                        3481.779053    \n",
       "1                                        3498.370979    \n",
       "2                                        3495.348910    \n",
       "3                                        3498.578313    \n",
       "4                                        3494.800771    \n",
       "\n",
       "   rougher.calculation.floatbank11_sulfate_to_au_feed  \\\n",
       "0                                        3520.337158    \n",
       "1                                        3489.981857    \n",
       "2                                        3502.359819    \n",
       "3                                        3499.162912    \n",
       "4                                        3506.679315    \n",
       "\n",
       "   rougher.calculation.au_pb_ratio  rougher.output.concentrate_au  \\\n",
       "0                         2.838687                      19.793808   \n",
       "1                         2.858998                      20.050975   \n",
       "2                         2.945989                      19.737170   \n",
       "3                         3.002340                      19.320810   \n",
       "4                         3.169615                      19.216101   \n",
       "\n",
       "   rougher.output.concentrate_ag  rougher.output.concentrate_pb  \\\n",
       "0                      11.500771                       7.101074   \n",
       "1                      11.615865                       7.278807   \n",
       "2                      11.695753                       7.216833   \n",
       "3                      11.915047                       7.175616   \n",
       "4                      12.411054                       7.240205   \n",
       "\n",
       "   rougher.output.concentrate_sol  rougher.output.recovery  \\\n",
       "0                       28.029297                87.107763   \n",
       "1                       28.067063                86.843261   \n",
       "2                       27.454037                86.842308   \n",
       "3                       27.341277                87.226430   \n",
       "4                       27.041023                86.688794   \n",
       "\n",
       "   rougher.output.tail_au  rougher.output.tail_ag  rougher.output.tail_pb  \\\n",
       "0                1.170244                5.008018                0.508728   \n",
       "1                1.184827                4.955378                0.536689   \n",
       "2                1.162562                4.843460                0.546416   \n",
       "3                1.079755                4.655288                0.542525   \n",
       "4                1.012642                4.552800                0.515438   \n",
       "\n",
       "   rougher.output.tail_sol  primary_cleaner.input.sulfate  \\\n",
       "0                19.154297                     127.092003   \n",
       "1                18.965234                     125.629232   \n",
       "2                18.808533                     123.819808   \n",
       "3                19.330200                     122.270188   \n",
       "4                19.267422                     117.988169   \n",
       "\n",
       "   primary_cleaner.input.depressant  primary_cleaner.input.feed_size  \\\n",
       "0                         10.128295                             7.25   \n",
       "1                         10.296251                             7.25   \n",
       "2                         11.316280                             7.25   \n",
       "3                         11.322140                             7.25   \n",
       "4                         11.913613                             7.25   \n",
       "\n",
       "   primary_cleaner.input.xanthate  primary_cleaner.state.floatbank8_a_air  \\\n",
       "0                        0.988759                             1549.775757   \n",
       "1                        1.002663                             1576.166671   \n",
       "2                        0.991265                             1601.556163   \n",
       "3                        0.996739                             1599.968720   \n",
       "4                        1.009869                             1601.339707   \n",
       "\n",
       "   primary_cleaner.state.floatbank8_a_level  \\\n",
       "0                               -498.912140   \n",
       "1                               -500.904965   \n",
       "2                               -499.997791   \n",
       "3                               -500.951778   \n",
       "4                               -498.975456   \n",
       "\n",
       "   primary_cleaner.state.floatbank8_b_air  \\\n",
       "0                             1551.434204   \n",
       "1                             1575.950626   \n",
       "2                             1600.386685   \n",
       "3                             1600.659236   \n",
       "4                             1601.437854   \n",
       "\n",
       "   primary_cleaner.state.floatbank8_b_level  \\\n",
       "0                               -516.403442   \n",
       "1                               -499.865889   \n",
       "2                               -500.607762   \n",
       "3                               -499.677094   \n",
       "4                               -500.323246   \n",
       "\n",
       "   primary_cleaner.state.floatbank8_c_air  \\\n",
       "0                             1549.873901   \n",
       "1                             1575.994189   \n",
       "2                             1602.003542   \n",
       "3                             1600.304144   \n",
       "4                             1599.581894   \n",
       "\n",
       "   primary_cleaner.state.floatbank8_c_level  \\\n",
       "0                               -498.666595   \n",
       "1                               -499.315107   \n",
       "2                               -500.870069   \n",
       "3                               -500.727997   \n",
       "4                               -500.888152   \n",
       "\n",
       "   primary_cleaner.state.floatbank8_d_air  \\\n",
       "0                             1554.367432   \n",
       "1                             1574.479259   \n",
       "2                             1599.541515   \n",
       "3                             1600.449520   \n",
       "4                             1602.649541   \n",
       "\n",
       "   primary_cleaner.state.floatbank8_d_level  \\\n",
       "0                               -493.428131   \n",
       "1                               -498.931665   \n",
       "2                               -499.827444   \n",
       "3                               -500.052575   \n",
       "4                               -500.593010   \n",
       "\n",
       "   primary_cleaner.output.concentrate_au  \\\n",
       "0                              34.174427   \n",
       "1                              34.118526   \n",
       "2                              33.969464   \n",
       "3                              28.260743   \n",
       "4                              33.044932   \n",
       "\n",
       "   primary_cleaner.output.concentrate_ag  \\\n",
       "0                               8.547551   \n",
       "1                               8.558743   \n",
       "2                               8.603505   \n",
       "3                               7.221879   \n",
       "4                               9.089428   \n",
       "\n",
       "   primary_cleaner.output.concentrate_pb  \\\n",
       "0                              10.389648   \n",
       "1                              10.497069   \n",
       "2                              10.354494   \n",
       "3                               8.496563   \n",
       "4                               9.986786   \n",
       "\n",
       "   primary_cleaner.output.concentrate_sol  primary_cleaner.output.tail_au  \\\n",
       "0                               19.529297                        2.106679   \n",
       "1                               19.369147                        2.353017   \n",
       "2                               19.167579                        2.416800   \n",
       "3                               15.978538                        2.262051   \n",
       "4                               19.199864                        2.277073   \n",
       "\n",
       "   primary_cleaner.output.tail_ag  primary_cleaner.output.tail_pb  \\\n",
       "0                       14.936526                        2.534912   \n",
       "1                       16.250511                        3.049646   \n",
       "2                       16.491823                        3.124664   \n",
       "3                       16.024359                        2.960362   \n",
       "4                       16.480185                        3.112100   \n",
       "\n",
       "   primary_cleaner.output.tail_sol  secondary_cleaner.state.floatbank2_a_air  \\\n",
       "0                         7.476074                                 25.853109   \n",
       "1                         6.733907                                 25.880539   \n",
       "2                         6.471768                                 26.005245   \n",
       "3                         6.843791                                 25.942508   \n",
       "4                         6.550154                                 26.024787   \n",
       "\n",
       "   secondary_cleaner.state.floatbank2_a_level  \\\n",
       "0                                 -498.526489   \n",
       "1                                 -499.989656   \n",
       "2                                 -499.929616   \n",
       "3                                 -499.176749   \n",
       "4                                 -500.279091   \n",
       "\n",
       "   secondary_cleaner.state.floatbank2_b_air  \\\n",
       "0                                 23.893660   \n",
       "1                                 23.889530   \n",
       "2                                 23.886657   \n",
       "3                                 23.955516   \n",
       "4                                 23.955345   \n",
       "\n",
       "   secondary_cleaner.state.floatbank2_b_level  \\\n",
       "0                                 -501.406281   \n",
       "1                                 -500.372428   \n",
       "2                                 -499.951928   \n",
       "3                                 -499.848796   \n",
       "4                                 -500.593614   \n",
       "\n",
       "   secondary_cleaner.state.floatbank3_a_air  \\\n",
       "0                                 23.961798   \n",
       "1                                 23.970550   \n",
       "2                                 23.913535   \n",
       "3                                 23.966838   \n",
       "4                                 23.985703   \n",
       "\n",
       "   secondary_cleaner.state.floatbank3_a_level  \\\n",
       "0                                 -495.262817   \n",
       "1                                 -500.085473   \n",
       "2                                 -499.442343   \n",
       "3                                 -500.008812   \n",
       "4                                 -500.083811   \n",
       "\n",
       "   secondary_cleaner.state.floatbank3_b_air  \\\n",
       "0                                 21.940409   \n",
       "1                                 22.085714   \n",
       "2                                 23.957717   \n",
       "3                                 23.954443   \n",
       "4                                 23.958945   \n",
       "\n",
       "   secondary_cleaner.state.floatbank3_b_level  \\\n",
       "0                                 -499.340973   \n",
       "1                                 -499.446897   \n",
       "2                                 -499.901982   \n",
       "3                                 -499.944710   \n",
       "4                                 -499.990309   \n",
       "\n",
       "   secondary_cleaner.state.floatbank4_a_air  \\\n",
       "0                                 14.016835   \n",
       "1                                 13.992281   \n",
       "2                                 14.015015   \n",
       "3                                 14.036510   \n",
       "4                                 14.027298   \n",
       "\n",
       "   secondary_cleaner.state.floatbank4_a_level  \\\n",
       "0                                 -502.488007   \n",
       "1                                 -505.503262   \n",
       "2                                 -502.520901   \n",
       "3                                 -500.857308   \n",
       "4                                 -499.838632   \n",
       "\n",
       "   secondary_cleaner.state.floatbank4_b_air  \\\n",
       "0                                 12.099931   \n",
       "1                                 11.950531   \n",
       "2                                 11.912783   \n",
       "3                                 11.999550   \n",
       "4                                 11.953070   \n",
       "\n",
       "   secondary_cleaner.state.floatbank4_b_level  \\\n",
       "0                                 -504.715942   \n",
       "1                                 -501.331529   \n",
       "2                                 -501.133383   \n",
       "3                                 -501.193686   \n",
       "4                                 -501.053894   \n",
       "\n",
       "   secondary_cleaner.state.floatbank5_a_air  \\\n",
       "0                                  9.925633   \n",
       "1                                 10.039245   \n",
       "2                                 10.070913   \n",
       "3                                  9.970366   \n",
       "4                                  9.925709   \n",
       "\n",
       "   secondary_cleaner.state.floatbank5_a_level  \\\n",
       "0                                 -498.310211   \n",
       "1                                 -500.169983   \n",
       "2                                 -500.129135   \n",
       "3                                 -499.201640   \n",
       "4                                 -501.686727   \n",
       "\n",
       "   secondary_cleaner.state.floatbank5_b_air  \\\n",
       "0                                  8.079666   \n",
       "1                                  7.984757   \n",
       "2                                  8.013877   \n",
       "3                                  7.977324   \n",
       "4                                  7.894242   \n",
       "\n",
       "   secondary_cleaner.state.floatbank5_b_level  \\\n",
       "0                                 -500.470978   \n",
       "1                                 -500.582168   \n",
       "2                                 -500.517572   \n",
       "3                                 -500.255908   \n",
       "4                                 -500.356035   \n",
       "\n",
       "   secondary_cleaner.state.floatbank6_a_air  \\\n",
       "0                                 14.151341   \n",
       "1                                 13.998353   \n",
       "2                                 14.028663   \n",
       "3                                 14.005551   \n",
       "4                                 13.996647   \n",
       "\n",
       "   secondary_cleaner.state.floatbank6_a_level  \\\n",
       "0                                 -605.841980   \n",
       "1                                 -599.787184   \n",
       "2                                 -601.427363   \n",
       "3                                 -599.996129   \n",
       "4                                 -601.496691   \n",
       "\n",
       "   secondary_cleaner.output.tail_au  secondary_cleaner.output.tail_ag  \\\n",
       "0                          2.606185                         14.500184   \n",
       "1                          2.488248                         14.265474   \n",
       "2                          2.458187                         14.115662   \n",
       "3                          2.322062                         13.732071   \n",
       "4                          2.330448                         14.079996   \n",
       "\n",
       "   secondary_cleaner.output.tail_pb  secondary_cleaner.output.tail_sol  \\\n",
       "0                          4.694824                           8.764648   \n",
       "1                          4.592547                           9.001494   \n",
       "2                          4.624775                           8.842896   \n",
       "3                          4.482453                           9.122857   \n",
       "4                          4.470737                           8.871028   \n",
       "\n",
       "   final.output.concentrate_au  final.output.concentrate_ag  \\\n",
       "0                    42.192020                     6.055403   \n",
       "1                    42.701629                     6.029369   \n",
       "2                    42.657501                     6.055926   \n",
       "3                    42.689819                     6.047977   \n",
       "4                    42.774141                     6.148599   \n",
       "\n",
       "   final.output.concentrate_pb  final.output.concentrate_sol  \\\n",
       "0                     9.889648                      5.507324   \n",
       "1                     9.968944                      5.257781   \n",
       "2                    10.213995                      5.383759   \n",
       "3                     9.977019                      4.858634   \n",
       "4                    10.142511                      4.939416   \n",
       "\n",
       "   final.output.recovery  final.output.tail_au  final.output.tail_ag  \\\n",
       "0              70.541216              2.143149             10.411962   \n",
       "1              69.266198              2.224930             10.462676   \n",
       "2              68.116445              2.257889             10.507046   \n",
       "3              68.347543              2.146849             10.422762   \n",
       "4              66.927016              2.055292             10.360302   \n",
       "\n",
       "   final.output.tail_pb  final.output.tail_sol  \n",
       "0              0.895447              16.904297  \n",
       "1              0.927452              16.634514  \n",
       "2              0.953716              16.208849  \n",
       "3              0.883763              16.532835  \n",
       "4              0.792826              16.525686  "
      ]
     },
     "execution_count": 8,
     "metadata": {},
     "output_type": "execute_result"
    }
   ],
   "source": [
    "data_train.head()"
   ]
  },
  {
   "cell_type": "code",
   "execution_count": 9,
   "metadata": {},
   "outputs": [
    {
     "data": {
      "text/html": [
       "<div>\n",
       "<style scoped>\n",
       "    .dataframe tbody tr th:only-of-type {\n",
       "        vertical-align: middle;\n",
       "    }\n",
       "\n",
       "    .dataframe tbody tr th {\n",
       "        vertical-align: top;\n",
       "    }\n",
       "\n",
       "    .dataframe thead th {\n",
       "        text-align: right;\n",
       "    }\n",
       "</style>\n",
       "<table border=\"1\" class=\"dataframe\">\n",
       "  <thead>\n",
       "    <tr style=\"text-align: right;\">\n",
       "      <th></th>\n",
       "      <th>date</th>\n",
       "      <th>rougher.input.feed_au</th>\n",
       "      <th>rougher.input.feed_ag</th>\n",
       "      <th>rougher.input.feed_pb</th>\n",
       "      <th>rougher.input.feed_sol</th>\n",
       "      <th>rougher.input.feed_rate</th>\n",
       "      <th>rougher.input.feed_size</th>\n",
       "      <th>rougher.input.floatbank10_sulfate</th>\n",
       "      <th>rougher.input.floatbank10_xanthate</th>\n",
       "      <th>rougher.state.floatbank10_a_air</th>\n",
       "      <th>rougher.state.floatbank10_a_level</th>\n",
       "      <th>rougher.state.floatbank10_b_air</th>\n",
       "      <th>rougher.state.floatbank10_b_level</th>\n",
       "      <th>rougher.state.floatbank10_c_air</th>\n",
       "      <th>rougher.state.floatbank10_c_level</th>\n",
       "      <th>rougher.state.floatbank10_d_air</th>\n",
       "      <th>rougher.state.floatbank10_d_level</th>\n",
       "      <th>rougher.state.floatbank10_e_air</th>\n",
       "      <th>rougher.state.floatbank10_e_level</th>\n",
       "      <th>rougher.state.floatbank10_f_air</th>\n",
       "      <th>rougher.state.floatbank10_f_level</th>\n",
       "      <th>rougher.input.floatbank11_sulfate</th>\n",
       "      <th>rougher.input.floatbank11_xanthate</th>\n",
       "      <th>primary_cleaner.input.sulfate</th>\n",
       "      <th>primary_cleaner.input.depressant</th>\n",
       "      <th>primary_cleaner.input.feed_size</th>\n",
       "      <th>primary_cleaner.input.xanthate</th>\n",
       "      <th>primary_cleaner.state.floatbank8_a_air</th>\n",
       "      <th>primary_cleaner.state.floatbank8_a_level</th>\n",
       "      <th>primary_cleaner.state.floatbank8_b_air</th>\n",
       "      <th>primary_cleaner.state.floatbank8_b_level</th>\n",
       "      <th>primary_cleaner.state.floatbank8_c_air</th>\n",
       "      <th>primary_cleaner.state.floatbank8_c_level</th>\n",
       "      <th>primary_cleaner.state.floatbank8_d_air</th>\n",
       "      <th>primary_cleaner.state.floatbank8_d_level</th>\n",
       "      <th>secondary_cleaner.state.floatbank2_a_air</th>\n",
       "      <th>secondary_cleaner.state.floatbank2_a_level</th>\n",
       "      <th>secondary_cleaner.state.floatbank2_b_air</th>\n",
       "      <th>secondary_cleaner.state.floatbank2_b_level</th>\n",
       "      <th>secondary_cleaner.state.floatbank3_a_air</th>\n",
       "      <th>secondary_cleaner.state.floatbank3_a_level</th>\n",
       "      <th>secondary_cleaner.state.floatbank3_b_air</th>\n",
       "      <th>secondary_cleaner.state.floatbank3_b_level</th>\n",
       "      <th>secondary_cleaner.state.floatbank4_a_air</th>\n",
       "      <th>secondary_cleaner.state.floatbank4_a_level</th>\n",
       "      <th>secondary_cleaner.state.floatbank4_b_air</th>\n",
       "      <th>secondary_cleaner.state.floatbank4_b_level</th>\n",
       "      <th>secondary_cleaner.state.floatbank5_a_air</th>\n",
       "      <th>secondary_cleaner.state.floatbank5_a_level</th>\n",
       "      <th>secondary_cleaner.state.floatbank5_b_air</th>\n",
       "      <th>secondary_cleaner.state.floatbank5_b_level</th>\n",
       "      <th>secondary_cleaner.state.floatbank6_a_air</th>\n",
       "      <th>secondary_cleaner.state.floatbank6_a_level</th>\n",
       "    </tr>\n",
       "  </thead>\n",
       "  <tbody>\n",
       "    <tr>\n",
       "      <th>0</th>\n",
       "      <td>2017-12-09 14:59:59</td>\n",
       "      <td>4.365491</td>\n",
       "      <td>6.158718</td>\n",
       "      <td>3.875727</td>\n",
       "      <td>39.135119</td>\n",
       "      <td>555.820208</td>\n",
       "      <td>94.544358</td>\n",
       "      <td>6.146982</td>\n",
       "      <td>9.308612</td>\n",
       "      <td>1196.238112</td>\n",
       "      <td>-299.862743</td>\n",
       "      <td>1147.248241</td>\n",
       "      <td>-500.363165</td>\n",
       "      <td>1047.279065</td>\n",
       "      <td>-500.354091</td>\n",
       "      <td>948.756608</td>\n",
       "      <td>-498.439416</td>\n",
       "      <td>849.441918</td>\n",
       "      <td>-499.255503</td>\n",
       "      <td>850.112246</td>\n",
       "      <td>-499.407112</td>\n",
       "      <td>6.168939</td>\n",
       "      <td>9.309852</td>\n",
       "      <td>95.248427</td>\n",
       "      <td>8.078957</td>\n",
       "      <td>6.500000</td>\n",
       "      <td>1.283045</td>\n",
       "      <td>1648.759906</td>\n",
       "      <td>-399.862053</td>\n",
       "      <td>1650.135395</td>\n",
       "      <td>-399.957321</td>\n",
       "      <td>1648.831890</td>\n",
       "      <td>-400.586116</td>\n",
       "      <td>1649.464582</td>\n",
       "      <td>-400.673303</td>\n",
       "      <td>34.940919</td>\n",
       "      <td>-500.150510</td>\n",
       "      <td>30.031867</td>\n",
       "      <td>-500.328335</td>\n",
       "      <td>26.033990</td>\n",
       "      <td>-500.147792</td>\n",
       "      <td>22.952306</td>\n",
       "      <td>-500.037678</td>\n",
       "      <td>23.018622</td>\n",
       "      <td>-500.492702</td>\n",
       "      <td>20.020205</td>\n",
       "      <td>-500.220296</td>\n",
       "      <td>17.963512</td>\n",
       "      <td>-499.939490</td>\n",
       "      <td>12.990306</td>\n",
       "      <td>-500.080993</td>\n",
       "      <td>19.990336</td>\n",
       "      <td>-499.191575</td>\n",
       "    </tr>\n",
       "    <tr>\n",
       "      <th>1</th>\n",
       "      <td>2017-12-09 15:59:59</td>\n",
       "      <td>4.362781</td>\n",
       "      <td>6.048130</td>\n",
       "      <td>3.902537</td>\n",
       "      <td>39.713906</td>\n",
       "      <td>544.731687</td>\n",
       "      <td>123.742430</td>\n",
       "      <td>6.210119</td>\n",
       "      <td>9.297709</td>\n",
       "      <td>1201.904177</td>\n",
       "      <td>-299.907308</td>\n",
       "      <td>1154.087804</td>\n",
       "      <td>-500.036580</td>\n",
       "      <td>1054.009756</td>\n",
       "      <td>-500.237335</td>\n",
       "      <td>944.138793</td>\n",
       "      <td>-496.866953</td>\n",
       "      <td>851.589767</td>\n",
       "      <td>-499.040466</td>\n",
       "      <td>851.345606</td>\n",
       "      <td>-499.122561</td>\n",
       "      <td>6.209517</td>\n",
       "      <td>9.297194</td>\n",
       "      <td>98.880538</td>\n",
       "      <td>7.984164</td>\n",
       "      <td>6.500000</td>\n",
       "      <td>1.241969</td>\n",
       "      <td>1646.547763</td>\n",
       "      <td>-398.977083</td>\n",
       "      <td>1648.212240</td>\n",
       "      <td>-400.383265</td>\n",
       "      <td>1648.917387</td>\n",
       "      <td>-399.521344</td>\n",
       "      <td>1651.498591</td>\n",
       "      <td>-399.745329</td>\n",
       "      <td>34.980742</td>\n",
       "      <td>-498.131002</td>\n",
       "      <td>29.968453</td>\n",
       "      <td>-586.013330</td>\n",
       "      <td>25.971737</td>\n",
       "      <td>-499.608392</td>\n",
       "      <td>22.958448</td>\n",
       "      <td>-499.821308</td>\n",
       "      <td>23.024963</td>\n",
       "      <td>-501.153409</td>\n",
       "      <td>20.054122</td>\n",
       "      <td>-500.314711</td>\n",
       "      <td>17.979515</td>\n",
       "      <td>-499.272871</td>\n",
       "      <td>12.992404</td>\n",
       "      <td>-499.976268</td>\n",
       "      <td>20.013986</td>\n",
       "      <td>-500.625471</td>\n",
       "    </tr>\n",
       "    <tr>\n",
       "      <th>2</th>\n",
       "      <td>2017-12-09 16:59:59</td>\n",
       "      <td>5.081681</td>\n",
       "      <td>6.082745</td>\n",
       "      <td>4.564078</td>\n",
       "      <td>37.208683</td>\n",
       "      <td>558.155110</td>\n",
       "      <td>82.610855</td>\n",
       "      <td>7.363824</td>\n",
       "      <td>9.003562</td>\n",
       "      <td>1200.826926</td>\n",
       "      <td>-300.124116</td>\n",
       "      <td>1150.754676</td>\n",
       "      <td>-499.986009</td>\n",
       "      <td>1049.182824</td>\n",
       "      <td>-500.014696</td>\n",
       "      <td>948.085464</td>\n",
       "      <td>-499.997003</td>\n",
       "      <td>850.170086</td>\n",
       "      <td>-500.270334</td>\n",
       "      <td>849.557905</td>\n",
       "      <td>-500.198702</td>\n",
       "      <td>7.358308</td>\n",
       "      <td>9.000624</td>\n",
       "      <td>119.497545</td>\n",
       "      <td>8.003752</td>\n",
       "      <td>6.500000</td>\n",
       "      <td>1.259741</td>\n",
       "      <td>1647.368779</td>\n",
       "      <td>-399.788506</td>\n",
       "      <td>1648.395206</td>\n",
       "      <td>-400.166490</td>\n",
       "      <td>1648.953828</td>\n",
       "      <td>-400.468641</td>\n",
       "      <td>1649.821569</td>\n",
       "      <td>-400.071884</td>\n",
       "      <td>34.952967</td>\n",
       "      <td>-501.204647</td>\n",
       "      <td>29.927025</td>\n",
       "      <td>-500.106628</td>\n",
       "      <td>25.978253</td>\n",
       "      <td>-499.890060</td>\n",
       "      <td>23.004376</td>\n",
       "      <td>-500.014529</td>\n",
       "      <td>22.993827</td>\n",
       "      <td>-501.559663</td>\n",
       "      <td>20.029144</td>\n",
       "      <td>-500.000662</td>\n",
       "      <td>18.012723</td>\n",
       "      <td>-500.024764</td>\n",
       "      <td>13.016445</td>\n",
       "      <td>-500.058432</td>\n",
       "      <td>19.973767</td>\n",
       "      <td>-501.394155</td>\n",
       "    </tr>\n",
       "    <tr>\n",
       "      <th>3</th>\n",
       "      <td>2017-12-09 17:59:59</td>\n",
       "      <td>5.145949</td>\n",
       "      <td>6.084374</td>\n",
       "      <td>4.768124</td>\n",
       "      <td>36.808874</td>\n",
       "      <td>539.713765</td>\n",
       "      <td>77.984784</td>\n",
       "      <td>6.927072</td>\n",
       "      <td>8.955597</td>\n",
       "      <td>1199.292489</td>\n",
       "      <td>-299.778385</td>\n",
       "      <td>1152.512559</td>\n",
       "      <td>-500.338106</td>\n",
       "      <td>1052.601592</td>\n",
       "      <td>-499.695075</td>\n",
       "      <td>955.171539</td>\n",
       "      <td>-500.294989</td>\n",
       "      <td>851.957342</td>\n",
       "      <td>-499.779541</td>\n",
       "      <td>850.765662</td>\n",
       "      <td>-501.030559</td>\n",
       "      <td>6.929364</td>\n",
       "      <td>8.920717</td>\n",
       "      <td>108.080163</td>\n",
       "      <td>7.970121</td>\n",
       "      <td>6.660000</td>\n",
       "      <td>0.774909</td>\n",
       "      <td>1652.660845</td>\n",
       "      <td>-399.702218</td>\n",
       "      <td>1651.203128</td>\n",
       "      <td>-400.291472</td>\n",
       "      <td>1651.924848</td>\n",
       "      <td>-398.058033</td>\n",
       "      <td>1650.782696</td>\n",
       "      <td>-399.597977</td>\n",
       "      <td>35.038256</td>\n",
       "      <td>-500.102649</td>\n",
       "      <td>30.066959</td>\n",
       "      <td>-500.211499</td>\n",
       "      <td>26.013515</td>\n",
       "      <td>-500.054597</td>\n",
       "      <td>22.988928</td>\n",
       "      <td>-499.981410</td>\n",
       "      <td>23.032807</td>\n",
       "      <td>-501.287889</td>\n",
       "      <td>19.977466</td>\n",
       "      <td>-500.159903</td>\n",
       "      <td>17.980463</td>\n",
       "      <td>-500.504602</td>\n",
       "      <td>12.949071</td>\n",
       "      <td>-500.009937</td>\n",
       "      <td>20.010332</td>\n",
       "      <td>-508.337973</td>\n",
       "    </tr>\n",
       "    <tr>\n",
       "      <th>4</th>\n",
       "      <td>2017-12-09 18:59:59</td>\n",
       "      <td>5.735249</td>\n",
       "      <td>6.165220</td>\n",
       "      <td>4.512346</td>\n",
       "      <td>37.810642</td>\n",
       "      <td>558.713584</td>\n",
       "      <td>86.434874</td>\n",
       "      <td>7.823471</td>\n",
       "      <td>7.490356</td>\n",
       "      <td>1198.005449</td>\n",
       "      <td>-300.283401</td>\n",
       "      <td>1099.481500</td>\n",
       "      <td>-499.702465</td>\n",
       "      <td>999.539264</td>\n",
       "      <td>-499.306051</td>\n",
       "      <td>889.445596</td>\n",
       "      <td>-498.118617</td>\n",
       "      <td>800.533525</td>\n",
       "      <td>-499.765068</td>\n",
       "      <td>800.510356</td>\n",
       "      <td>-497.289533</td>\n",
       "      <td>7.824875</td>\n",
       "      <td>7.500678</td>\n",
       "      <td>117.750648</td>\n",
       "      <td>6.954311</td>\n",
       "      <td>6.426667</td>\n",
       "      <td>0.731271</td>\n",
       "      <td>1649.411497</td>\n",
       "      <td>-399.853156</td>\n",
       "      <td>1648.917211</td>\n",
       "      <td>-400.321866</td>\n",
       "      <td>1649.117753</td>\n",
       "      <td>-399.645348</td>\n",
       "      <td>1650.398209</td>\n",
       "      <td>-400.654533</td>\n",
       "      <td>34.894598</td>\n",
       "      <td>-498.444587</td>\n",
       "      <td>30.020745</td>\n",
       "      <td>-533.831343</td>\n",
       "      <td>26.022094</td>\n",
       "      <td>-499.725484</td>\n",
       "      <td>22.992992</td>\n",
       "      <td>-499.891405</td>\n",
       "      <td>23.001911</td>\n",
       "      <td>-499.947838</td>\n",
       "      <td>20.023735</td>\n",
       "      <td>-499.713680</td>\n",
       "      <td>17.990955</td>\n",
       "      <td>-500.334769</td>\n",
       "      <td>13.007523</td>\n",
       "      <td>-499.968459</td>\n",
       "      <td>19.995999</td>\n",
       "      <td>-499.788805</td>\n",
       "    </tr>\n",
       "  </tbody>\n",
       "</table>\n",
       "</div>"
      ],
      "text/plain": [
       "                  date  rougher.input.feed_au  rougher.input.feed_ag  \\\n",
       "0  2017-12-09 14:59:59               4.365491               6.158718   \n",
       "1  2017-12-09 15:59:59               4.362781               6.048130   \n",
       "2  2017-12-09 16:59:59               5.081681               6.082745   \n",
       "3  2017-12-09 17:59:59               5.145949               6.084374   \n",
       "4  2017-12-09 18:59:59               5.735249               6.165220   \n",
       "\n",
       "   rougher.input.feed_pb  rougher.input.feed_sol  rougher.input.feed_rate  \\\n",
       "0               3.875727               39.135119               555.820208   \n",
       "1               3.902537               39.713906               544.731687   \n",
       "2               4.564078               37.208683               558.155110   \n",
       "3               4.768124               36.808874               539.713765   \n",
       "4               4.512346               37.810642               558.713584   \n",
       "\n",
       "   rougher.input.feed_size  rougher.input.floatbank10_sulfate  \\\n",
       "0                94.544358                           6.146982   \n",
       "1               123.742430                           6.210119   \n",
       "2                82.610855                           7.363824   \n",
       "3                77.984784                           6.927072   \n",
       "4                86.434874                           7.823471   \n",
       "\n",
       "   rougher.input.floatbank10_xanthate  rougher.state.floatbank10_a_air  \\\n",
       "0                            9.308612                      1196.238112   \n",
       "1                            9.297709                      1201.904177   \n",
       "2                            9.003562                      1200.826926   \n",
       "3                            8.955597                      1199.292489   \n",
       "4                            7.490356                      1198.005449   \n",
       "\n",
       "   rougher.state.floatbank10_a_level  rougher.state.floatbank10_b_air  \\\n",
       "0                        -299.862743                      1147.248241   \n",
       "1                        -299.907308                      1154.087804   \n",
       "2                        -300.124116                      1150.754676   \n",
       "3                        -299.778385                      1152.512559   \n",
       "4                        -300.283401                      1099.481500   \n",
       "\n",
       "   rougher.state.floatbank10_b_level  rougher.state.floatbank10_c_air  \\\n",
       "0                        -500.363165                      1047.279065   \n",
       "1                        -500.036580                      1054.009756   \n",
       "2                        -499.986009                      1049.182824   \n",
       "3                        -500.338106                      1052.601592   \n",
       "4                        -499.702465                       999.539264   \n",
       "\n",
       "   rougher.state.floatbank10_c_level  rougher.state.floatbank10_d_air  \\\n",
       "0                        -500.354091                       948.756608   \n",
       "1                        -500.237335                       944.138793   \n",
       "2                        -500.014696                       948.085464   \n",
       "3                        -499.695075                       955.171539   \n",
       "4                        -499.306051                       889.445596   \n",
       "\n",
       "   rougher.state.floatbank10_d_level  rougher.state.floatbank10_e_air  \\\n",
       "0                        -498.439416                       849.441918   \n",
       "1                        -496.866953                       851.589767   \n",
       "2                        -499.997003                       850.170086   \n",
       "3                        -500.294989                       851.957342   \n",
       "4                        -498.118617                       800.533525   \n",
       "\n",
       "   rougher.state.floatbank10_e_level  rougher.state.floatbank10_f_air  \\\n",
       "0                        -499.255503                       850.112246   \n",
       "1                        -499.040466                       851.345606   \n",
       "2                        -500.270334                       849.557905   \n",
       "3                        -499.779541                       850.765662   \n",
       "4                        -499.765068                       800.510356   \n",
       "\n",
       "   rougher.state.floatbank10_f_level  rougher.input.floatbank11_sulfate  \\\n",
       "0                        -499.407112                           6.168939   \n",
       "1                        -499.122561                           6.209517   \n",
       "2                        -500.198702                           7.358308   \n",
       "3                        -501.030559                           6.929364   \n",
       "4                        -497.289533                           7.824875   \n",
       "\n",
       "   rougher.input.floatbank11_xanthate  primary_cleaner.input.sulfate  \\\n",
       "0                            9.309852                      95.248427   \n",
       "1                            9.297194                      98.880538   \n",
       "2                            9.000624                     119.497545   \n",
       "3                            8.920717                     108.080163   \n",
       "4                            7.500678                     117.750648   \n",
       "\n",
       "   primary_cleaner.input.depressant  primary_cleaner.input.feed_size  \\\n",
       "0                          8.078957                         6.500000   \n",
       "1                          7.984164                         6.500000   \n",
       "2                          8.003752                         6.500000   \n",
       "3                          7.970121                         6.660000   \n",
       "4                          6.954311                         6.426667   \n",
       "\n",
       "   primary_cleaner.input.xanthate  primary_cleaner.state.floatbank8_a_air  \\\n",
       "0                        1.283045                             1648.759906   \n",
       "1                        1.241969                             1646.547763   \n",
       "2                        1.259741                             1647.368779   \n",
       "3                        0.774909                             1652.660845   \n",
       "4                        0.731271                             1649.411497   \n",
       "\n",
       "   primary_cleaner.state.floatbank8_a_level  \\\n",
       "0                               -399.862053   \n",
       "1                               -398.977083   \n",
       "2                               -399.788506   \n",
       "3                               -399.702218   \n",
       "4                               -399.853156   \n",
       "\n",
       "   primary_cleaner.state.floatbank8_b_air  \\\n",
       "0                             1650.135395   \n",
       "1                             1648.212240   \n",
       "2                             1648.395206   \n",
       "3                             1651.203128   \n",
       "4                             1648.917211   \n",
       "\n",
       "   primary_cleaner.state.floatbank8_b_level  \\\n",
       "0                               -399.957321   \n",
       "1                               -400.383265   \n",
       "2                               -400.166490   \n",
       "3                               -400.291472   \n",
       "4                               -400.321866   \n",
       "\n",
       "   primary_cleaner.state.floatbank8_c_air  \\\n",
       "0                             1648.831890   \n",
       "1                             1648.917387   \n",
       "2                             1648.953828   \n",
       "3                             1651.924848   \n",
       "4                             1649.117753   \n",
       "\n",
       "   primary_cleaner.state.floatbank8_c_level  \\\n",
       "0                               -400.586116   \n",
       "1                               -399.521344   \n",
       "2                               -400.468641   \n",
       "3                               -398.058033   \n",
       "4                               -399.645348   \n",
       "\n",
       "   primary_cleaner.state.floatbank8_d_air  \\\n",
       "0                             1649.464582   \n",
       "1                             1651.498591   \n",
       "2                             1649.821569   \n",
       "3                             1650.782696   \n",
       "4                             1650.398209   \n",
       "\n",
       "   primary_cleaner.state.floatbank8_d_level  \\\n",
       "0                               -400.673303   \n",
       "1                               -399.745329   \n",
       "2                               -400.071884   \n",
       "3                               -399.597977   \n",
       "4                               -400.654533   \n",
       "\n",
       "   secondary_cleaner.state.floatbank2_a_air  \\\n",
       "0                                 34.940919   \n",
       "1                                 34.980742   \n",
       "2                                 34.952967   \n",
       "3                                 35.038256   \n",
       "4                                 34.894598   \n",
       "\n",
       "   secondary_cleaner.state.floatbank2_a_level  \\\n",
       "0                                 -500.150510   \n",
       "1                                 -498.131002   \n",
       "2                                 -501.204647   \n",
       "3                                 -500.102649   \n",
       "4                                 -498.444587   \n",
       "\n",
       "   secondary_cleaner.state.floatbank2_b_air  \\\n",
       "0                                 30.031867   \n",
       "1                                 29.968453   \n",
       "2                                 29.927025   \n",
       "3                                 30.066959   \n",
       "4                                 30.020745   \n",
       "\n",
       "   secondary_cleaner.state.floatbank2_b_level  \\\n",
       "0                                 -500.328335   \n",
       "1                                 -586.013330   \n",
       "2                                 -500.106628   \n",
       "3                                 -500.211499   \n",
       "4                                 -533.831343   \n",
       "\n",
       "   secondary_cleaner.state.floatbank3_a_air  \\\n",
       "0                                 26.033990   \n",
       "1                                 25.971737   \n",
       "2                                 25.978253   \n",
       "3                                 26.013515   \n",
       "4                                 26.022094   \n",
       "\n",
       "   secondary_cleaner.state.floatbank3_a_level  \\\n",
       "0                                 -500.147792   \n",
       "1                                 -499.608392   \n",
       "2                                 -499.890060   \n",
       "3                                 -500.054597   \n",
       "4                                 -499.725484   \n",
       "\n",
       "   secondary_cleaner.state.floatbank3_b_air  \\\n",
       "0                                 22.952306   \n",
       "1                                 22.958448   \n",
       "2                                 23.004376   \n",
       "3                                 22.988928   \n",
       "4                                 22.992992   \n",
       "\n",
       "   secondary_cleaner.state.floatbank3_b_level  \\\n",
       "0                                 -500.037678   \n",
       "1                                 -499.821308   \n",
       "2                                 -500.014529   \n",
       "3                                 -499.981410   \n",
       "4                                 -499.891405   \n",
       "\n",
       "   secondary_cleaner.state.floatbank4_a_air  \\\n",
       "0                                 23.018622   \n",
       "1                                 23.024963   \n",
       "2                                 22.993827   \n",
       "3                                 23.032807   \n",
       "4                                 23.001911   \n",
       "\n",
       "   secondary_cleaner.state.floatbank4_a_level  \\\n",
       "0                                 -500.492702   \n",
       "1                                 -501.153409   \n",
       "2                                 -501.559663   \n",
       "3                                 -501.287889   \n",
       "4                                 -499.947838   \n",
       "\n",
       "   secondary_cleaner.state.floatbank4_b_air  \\\n",
       "0                                 20.020205   \n",
       "1                                 20.054122   \n",
       "2                                 20.029144   \n",
       "3                                 19.977466   \n",
       "4                                 20.023735   \n",
       "\n",
       "   secondary_cleaner.state.floatbank4_b_level  \\\n",
       "0                                 -500.220296   \n",
       "1                                 -500.314711   \n",
       "2                                 -500.000662   \n",
       "3                                 -500.159903   \n",
       "4                                 -499.713680   \n",
       "\n",
       "   secondary_cleaner.state.floatbank5_a_air  \\\n",
       "0                                 17.963512   \n",
       "1                                 17.979515   \n",
       "2                                 18.012723   \n",
       "3                                 17.980463   \n",
       "4                                 17.990955   \n",
       "\n",
       "   secondary_cleaner.state.floatbank5_a_level  \\\n",
       "0                                 -499.939490   \n",
       "1                                 -499.272871   \n",
       "2                                 -500.024764   \n",
       "3                                 -500.504602   \n",
       "4                                 -500.334769   \n",
       "\n",
       "   secondary_cleaner.state.floatbank5_b_air  \\\n",
       "0                                 12.990306   \n",
       "1                                 12.992404   \n",
       "2                                 13.016445   \n",
       "3                                 12.949071   \n",
       "4                                 13.007523   \n",
       "\n",
       "   secondary_cleaner.state.floatbank5_b_level  \\\n",
       "0                                 -500.080993   \n",
       "1                                 -499.976268   \n",
       "2                                 -500.058432   \n",
       "3                                 -500.009937   \n",
       "4                                 -499.968459   \n",
       "\n",
       "   secondary_cleaner.state.floatbank6_a_air  \\\n",
       "0                                 19.990336   \n",
       "1                                 20.013986   \n",
       "2                                 19.973767   \n",
       "3                                 20.010332   \n",
       "4                                 19.995999   \n",
       "\n",
       "   secondary_cleaner.state.floatbank6_a_level  \n",
       "0                                 -499.191575  \n",
       "1                                 -500.625471  \n",
       "2                                 -501.394155  \n",
       "3                                 -508.337973  \n",
       "4                                 -499.788805  "
      ]
     },
     "execution_count": 9,
     "metadata": {},
     "output_type": "execute_result"
    }
   ],
   "source": [
    "data_test.head()"
   ]
  },
  {
   "cell_type": "code",
   "execution_count": 10,
   "metadata": {},
   "outputs": [
    {
     "name": "stdout",
     "output_type": "stream",
     "text": [
      "============================================================\n",
      "- Всего строк: 19439. \n",
      "- Всего столбцов: 87\n",
      "- Строк с пропусками: 3345 (17.2%)\n",
      "- Кол-во строк-дубликатов:  0\n",
      "================ ↓↓ Информацио о фрейме: ↓↓ ================\n",
      "<class 'pandas.core.frame.DataFrame'>\n",
      "RangeIndex: 19439 entries, 0 to 19438\n",
      "Data columns (total 87 columns):\n",
      " #   Column                                              Non-Null Count  Dtype  \n",
      "---  ------                                              --------------  -----  \n",
      " 0   date                                                19439 non-null  object \n",
      " 1   rougher.input.feed_au                               19439 non-null  float64\n",
      " 2   rougher.input.feed_ag                               19439 non-null  float64\n",
      " 3   rougher.input.feed_pb                               19339 non-null  float64\n",
      " 4   rougher.input.feed_sol                              19340 non-null  float64\n",
      " 5   rougher.input.feed_rate                             19428 non-null  float64\n",
      " 6   rougher.input.feed_size                             19294 non-null  float64\n",
      " 7   rougher.input.floatbank10_sulfate                   19405 non-null  float64\n",
      " 8   rougher.input.floatbank10_xanthate                  19431 non-null  float64\n",
      " 9   rougher.state.floatbank10_a_air                     19438 non-null  float64\n",
      " 10  rougher.state.floatbank10_a_level                   19438 non-null  float64\n",
      " 11  rougher.state.floatbank10_b_air                     19438 non-null  float64\n",
      " 12  rougher.state.floatbank10_b_level                   19438 non-null  float64\n",
      " 13  rougher.state.floatbank10_c_air                     19438 non-null  float64\n",
      " 14  rougher.state.floatbank10_c_level                   19438 non-null  float64\n",
      " 15  rougher.state.floatbank10_d_air                     19439 non-null  float64\n",
      " 16  rougher.state.floatbank10_d_level                   19439 non-null  float64\n",
      " 17  rougher.state.floatbank10_e_air                     19003 non-null  float64\n",
      " 18  rougher.state.floatbank10_e_level                   19439 non-null  float64\n",
      " 19  rougher.state.floatbank10_f_air                     19439 non-null  float64\n",
      " 20  rougher.state.floatbank10_f_level                   19439 non-null  float64\n",
      " 21  rougher.input.floatbank11_sulfate                   19395 non-null  float64\n",
      " 22  rougher.input.floatbank11_xanthate                  18986 non-null  float64\n",
      " 23  rougher.calculation.sulfate_to_au_concentrate       19437 non-null  float64\n",
      " 24  rougher.calculation.floatbank10_sulfate_to_au_feed  19437 non-null  float64\n",
      " 25  rougher.calculation.floatbank11_sulfate_to_au_feed  19437 non-null  float64\n",
      " 26  rougher.calculation.au_pb_ratio                     19439 non-null  float64\n",
      " 27  rougher.output.concentrate_au                       19439 non-null  float64\n",
      " 28  rougher.output.concentrate_ag                       19439 non-null  float64\n",
      " 29  rougher.output.concentrate_pb                       19439 non-null  float64\n",
      " 30  rougher.output.concentrate_sol                      19416 non-null  float64\n",
      " 31  rougher.output.recovery                             19439 non-null  float64\n",
      " 32  rougher.output.tail_au                              19439 non-null  float64\n",
      " 33  rougher.output.tail_ag                              19438 non-null  float64\n",
      " 34  rougher.output.tail_pb                              19439 non-null  float64\n",
      " 35  rougher.output.tail_sol                             19439 non-null  float64\n",
      " 36  primary_cleaner.input.sulfate                       19415 non-null  float64\n",
      " 37  primary_cleaner.input.depressant                    19402 non-null  float64\n",
      " 38  primary_cleaner.input.feed_size                     19439 non-null  float64\n",
      " 39  primary_cleaner.input.xanthate                      19335 non-null  float64\n",
      " 40  primary_cleaner.state.floatbank8_a_air              19435 non-null  float64\n",
      " 41  primary_cleaner.state.floatbank8_a_level            19438 non-null  float64\n",
      " 42  primary_cleaner.state.floatbank8_b_air              19435 non-null  float64\n",
      " 43  primary_cleaner.state.floatbank8_b_level            19438 non-null  float64\n",
      " 44  primary_cleaner.state.floatbank8_c_air              19437 non-null  float64\n",
      " 45  primary_cleaner.state.floatbank8_c_level            19438 non-null  float64\n",
      " 46  primary_cleaner.state.floatbank8_d_air              19436 non-null  float64\n",
      " 47  primary_cleaner.state.floatbank8_d_level            19438 non-null  float64\n",
      " 48  primary_cleaner.output.concentrate_au               19439 non-null  float64\n",
      " 49  primary_cleaner.output.concentrate_ag               19439 non-null  float64\n",
      " 50  primary_cleaner.output.concentrate_pb               19323 non-null  float64\n",
      " 51  primary_cleaner.output.concentrate_sol              19069 non-null  float64\n",
      " 52  primary_cleaner.output.tail_au                      19439 non-null  float64\n",
      " 53  primary_cleaner.output.tail_ag                      19435 non-null  float64\n",
      " 54  primary_cleaner.output.tail_pb                      19418 non-null  float64\n",
      " 55  primary_cleaner.output.tail_sol                     19377 non-null  float64\n",
      " 56  secondary_cleaner.state.floatbank2_a_air            19219 non-null  float64\n",
      " 57  secondary_cleaner.state.floatbank2_a_level          19438 non-null  float64\n",
      " 58  secondary_cleaner.state.floatbank2_b_air            19416 non-null  float64\n",
      " 59  secondary_cleaner.state.floatbank2_b_level          19438 non-null  float64\n",
      " 60  secondary_cleaner.state.floatbank3_a_air            19426 non-null  float64\n",
      " 61  secondary_cleaner.state.floatbank3_a_level          19438 non-null  float64\n",
      " 62  secondary_cleaner.state.floatbank3_b_air            19438 non-null  float64\n",
      " 63  secondary_cleaner.state.floatbank3_b_level          19438 non-null  float64\n",
      " 64  secondary_cleaner.state.floatbank4_a_air            19433 non-null  float64\n",
      " 65  secondary_cleaner.state.floatbank4_a_level          19438 non-null  float64\n",
      " 66  secondary_cleaner.state.floatbank4_b_air            19438 non-null  float64\n",
      " 67  secondary_cleaner.state.floatbank4_b_level          19438 non-null  float64\n",
      " 68  secondary_cleaner.state.floatbank5_a_air            19438 non-null  float64\n",
      " 69  secondary_cleaner.state.floatbank5_a_level          19438 non-null  float64\n",
      " 70  secondary_cleaner.state.floatbank5_b_air            19438 non-null  float64\n",
      " 71  secondary_cleaner.state.floatbank5_b_level          19438 non-null  float64\n",
      " 72  secondary_cleaner.state.floatbank6_a_air            19437 non-null  float64\n",
      " 73  secondary_cleaner.state.floatbank6_a_level          19438 non-null  float64\n",
      " 74  secondary_cleaner.output.tail_au                    19439 non-null  float64\n",
      " 75  secondary_cleaner.output.tail_ag                    19437 non-null  float64\n",
      " 76  secondary_cleaner.output.tail_pb                    19427 non-null  float64\n",
      " 77  secondary_cleaner.output.tail_sol                   17691 non-null  float64\n",
      " 78  final.output.concentrate_au                         19439 non-null  float64\n",
      " 79  final.output.concentrate_ag                         19438 non-null  float64\n",
      " 80  final.output.concentrate_pb                         19438 non-null  float64\n",
      " 81  final.output.concentrate_sol                        19228 non-null  float64\n",
      " 82  final.output.recovery                               19439 non-null  float64\n",
      " 83  final.output.tail_au                                19439 non-null  float64\n",
      " 84  final.output.tail_ag                                19438 non-null  float64\n",
      " 85  final.output.tail_pb                                19338 non-null  float64\n",
      " 86  final.output.tail_sol                               19433 non-null  float64\n",
      "dtypes: float64(86), object(1)\n",
      "memory usage: 12.9+ MB\n",
      "\n",
      "============================================================\n",
      "- Всего строк: 14579. \n",
      "- Всего столбцов: 87\n",
      "- Строк с пропусками: 2242 (15.4%)\n",
      "- Кол-во строк-дубликатов:  0\n",
      "================ ↓↓ Информацио о фрейме: ↓↓ ================\n",
      "<class 'pandas.core.frame.DataFrame'>\n",
      "RangeIndex: 14579 entries, 0 to 14578\n",
      "Data columns (total 87 columns):\n",
      " #   Column                                              Non-Null Count  Dtype  \n",
      "---  ------                                              --------------  -----  \n",
      " 0   date                                                14579 non-null  object \n",
      " 1   rougher.input.feed_au                               14579 non-null  float64\n",
      " 2   rougher.input.feed_ag                               14579 non-null  float64\n",
      " 3   rougher.input.feed_pb                               14507 non-null  float64\n",
      " 4   rougher.input.feed_sol                              14502 non-null  float64\n",
      " 5   rougher.input.feed_rate                             14572 non-null  float64\n",
      " 6   rougher.input.feed_size                             14478 non-null  float64\n",
      " 7   rougher.input.floatbank10_sulfate                   14548 non-null  float64\n",
      " 8   rougher.input.floatbank10_xanthate                  14572 non-null  float64\n",
      " 9   rougher.state.floatbank10_a_air                     14579 non-null  float64\n",
      " 10  rougher.state.floatbank10_a_level                   14579 non-null  float64\n",
      " 11  rougher.state.floatbank10_b_air                     14579 non-null  float64\n",
      " 12  rougher.state.floatbank10_b_level                   14579 non-null  float64\n",
      " 13  rougher.state.floatbank10_c_air                     14579 non-null  float64\n",
      " 14  rougher.state.floatbank10_c_level                   14579 non-null  float64\n",
      " 15  rougher.state.floatbank10_d_air                     14579 non-null  float64\n",
      " 16  rougher.state.floatbank10_d_level                   14579 non-null  float64\n",
      " 17  rougher.state.floatbank10_e_air                     14150 non-null  float64\n",
      " 18  rougher.state.floatbank10_e_level                   14579 non-null  float64\n",
      " 19  rougher.state.floatbank10_f_air                     14579 non-null  float64\n",
      " 20  rougher.state.floatbank10_f_level                   14579 non-null  float64\n",
      " 21  rougher.input.floatbank11_sulfate                   14543 non-null  float64\n",
      " 22  rougher.input.floatbank11_xanthate                  14172 non-null  float64\n",
      " 23  rougher.calculation.sulfate_to_au_concentrate       14578 non-null  float64\n",
      " 24  rougher.calculation.floatbank10_sulfate_to_au_feed  14578 non-null  float64\n",
      " 25  rougher.calculation.floatbank11_sulfate_to_au_feed  14578 non-null  float64\n",
      " 26  rougher.calculation.au_pb_ratio                     14579 non-null  float64\n",
      " 27  rougher.output.concentrate_au                       14579 non-null  float64\n",
      " 28  rougher.output.concentrate_ag                       14579 non-null  float64\n",
      " 29  rougher.output.concentrate_pb                       14579 non-null  float64\n",
      " 30  rougher.output.concentrate_sol                      14561 non-null  float64\n",
      " 31  rougher.output.recovery                             14579 non-null  float64\n",
      " 32  rougher.output.tail_au                              14579 non-null  float64\n",
      " 33  rougher.output.tail_ag                              14578 non-null  float64\n",
      " 34  rougher.output.tail_pb                              14579 non-null  float64\n",
      " 35  rougher.output.tail_sol                             14579 non-null  float64\n",
      " 36  primary_cleaner.input.sulfate                       14556 non-null  float64\n",
      " 37  primary_cleaner.input.depressant                    14551 non-null  float64\n",
      " 38  primary_cleaner.input.feed_size                     14579 non-null  float64\n",
      " 39  primary_cleaner.input.xanthate                      14518 non-null  float64\n",
      " 40  primary_cleaner.state.floatbank8_a_air              14576 non-null  float64\n",
      " 41  primary_cleaner.state.floatbank8_a_level            14579 non-null  float64\n",
      " 42  primary_cleaner.state.floatbank8_b_air              14576 non-null  float64\n",
      " 43  primary_cleaner.state.floatbank8_b_level            14579 non-null  float64\n",
      " 44  primary_cleaner.state.floatbank8_c_air              14579 non-null  float64\n",
      " 45  primary_cleaner.state.floatbank8_c_level            14579 non-null  float64\n",
      " 46  primary_cleaner.state.floatbank8_d_air              14578 non-null  float64\n",
      " 47  primary_cleaner.state.floatbank8_d_level            14579 non-null  float64\n",
      " 48  primary_cleaner.output.concentrate_au               14579 non-null  float64\n",
      " 49  primary_cleaner.output.concentrate_ag               14579 non-null  float64\n",
      " 50  primary_cleaner.output.concentrate_pb               14491 non-null  float64\n",
      " 51  primary_cleaner.output.concentrate_sol              14314 non-null  float64\n",
      " 52  primary_cleaner.output.tail_au                      14579 non-null  float64\n",
      " 53  primary_cleaner.output.tail_ag                      14575 non-null  float64\n",
      " 54  primary_cleaner.output.tail_pb                      14573 non-null  float64\n",
      " 55  primary_cleaner.output.tail_sol                     14534 non-null  float64\n",
      " 56  secondary_cleaner.state.floatbank2_a_air            14485 non-null  float64\n",
      " 57  secondary_cleaner.state.floatbank2_a_level          14579 non-null  float64\n",
      " 58  secondary_cleaner.state.floatbank2_b_air            14557 non-null  float64\n",
      " 59  secondary_cleaner.state.floatbank2_b_level          14579 non-null  float64\n",
      " 60  secondary_cleaner.state.floatbank3_a_air            14567 non-null  float64\n",
      " 61  secondary_cleaner.state.floatbank3_a_level          14579 non-null  float64\n",
      " 62  secondary_cleaner.state.floatbank3_b_air            14579 non-null  float64\n",
      " 63  secondary_cleaner.state.floatbank3_b_level          14579 non-null  float64\n",
      " 64  secondary_cleaner.state.floatbank4_a_air            14574 non-null  float64\n",
      " 65  secondary_cleaner.state.floatbank4_a_level          14579 non-null  float64\n",
      " 66  secondary_cleaner.state.floatbank4_b_air            14579 non-null  float64\n",
      " 67  secondary_cleaner.state.floatbank4_b_level          14579 non-null  float64\n",
      " 68  secondary_cleaner.state.floatbank5_a_air            14579 non-null  float64\n",
      " 69  secondary_cleaner.state.floatbank5_a_level          14579 non-null  float64\n",
      " 70  secondary_cleaner.state.floatbank5_b_air            14579 non-null  float64\n",
      " 71  secondary_cleaner.state.floatbank5_b_level          14579 non-null  float64\n",
      " 72  secondary_cleaner.state.floatbank6_a_air            14578 non-null  float64\n",
      " 73  secondary_cleaner.state.floatbank6_a_level          14579 non-null  float64\n",
      " 74  secondary_cleaner.output.tail_au                    14579 non-null  float64\n",
      " 75  secondary_cleaner.output.tail_ag                    14578 non-null  float64\n",
      " 76  secondary_cleaner.output.tail_pb                    14575 non-null  float64\n",
      " 77  secondary_cleaner.output.tail_sol                   13659 non-null  float64\n",
      " 78  final.output.concentrate_au                         14579 non-null  float64\n",
      " 79  final.output.concentrate_ag                         14578 non-null  float64\n",
      " 80  final.output.concentrate_pb                         14578 non-null  float64\n",
      " 81  final.output.concentrate_sol                        14387 non-null  float64\n",
      " 82  final.output.recovery                               14579 non-null  float64\n",
      " 83  final.output.tail_au                                14579 non-null  float64\n",
      " 84  final.output.tail_ag                                14578 non-null  float64\n",
      " 85  final.output.tail_pb                                14504 non-null  float64\n",
      " 86  final.output.tail_sol                               14574 non-null  float64\n",
      "dtypes: float64(86), object(1)\n",
      "memory usage: 9.7+ MB\n",
      "\n",
      "============================================================\n",
      "- Всего строк: 4860. \n",
      "- Всего столбцов: 53\n",
      "- Строк с пропусками: 323 (6.6%)\n",
      "- Кол-во строк-дубликатов:  0\n",
      "================ ↓↓ Информацио о фрейме: ↓↓ ================\n",
      "<class 'pandas.core.frame.DataFrame'>\n",
      "RangeIndex: 4860 entries, 0 to 4859\n",
      "Data columns (total 53 columns):\n",
      " #   Column                                      Non-Null Count  Dtype  \n",
      "---  ------                                      --------------  -----  \n",
      " 0   date                                        4860 non-null   object \n",
      " 1   rougher.input.feed_au                       4860 non-null   float64\n",
      " 2   rougher.input.feed_ag                       4860 non-null   float64\n",
      " 3   rougher.input.feed_pb                       4832 non-null   float64\n",
      " 4   rougher.input.feed_sol                      4838 non-null   float64\n",
      " 5   rougher.input.feed_rate                     4856 non-null   float64\n",
      " 6   rougher.input.feed_size                     4816 non-null   float64\n",
      " 7   rougher.input.floatbank10_sulfate           4857 non-null   float64\n",
      " 8   rougher.input.floatbank10_xanthate          4859 non-null   float64\n",
      " 9   rougher.state.floatbank10_a_air             4859 non-null   float64\n",
      " 10  rougher.state.floatbank10_a_level           4859 non-null   float64\n",
      " 11  rougher.state.floatbank10_b_air             4859 non-null   float64\n",
      " 12  rougher.state.floatbank10_b_level           4859 non-null   float64\n",
      " 13  rougher.state.floatbank10_c_air             4859 non-null   float64\n",
      " 14  rougher.state.floatbank10_c_level           4859 non-null   float64\n",
      " 15  rougher.state.floatbank10_d_air             4860 non-null   float64\n",
      " 16  rougher.state.floatbank10_d_level           4860 non-null   float64\n",
      " 17  rougher.state.floatbank10_e_air             4853 non-null   float64\n",
      " 18  rougher.state.floatbank10_e_level           4860 non-null   float64\n",
      " 19  rougher.state.floatbank10_f_air             4860 non-null   float64\n",
      " 20  rougher.state.floatbank10_f_level           4860 non-null   float64\n",
      " 21  rougher.input.floatbank11_sulfate           4852 non-null   float64\n",
      " 22  rougher.input.floatbank11_xanthate          4814 non-null   float64\n",
      " 23  primary_cleaner.input.sulfate               4859 non-null   float64\n",
      " 24  primary_cleaner.input.depressant            4851 non-null   float64\n",
      " 25  primary_cleaner.input.feed_size             4860 non-null   float64\n",
      " 26  primary_cleaner.input.xanthate              4817 non-null   float64\n",
      " 27  primary_cleaner.state.floatbank8_a_air      4859 non-null   float64\n",
      " 28  primary_cleaner.state.floatbank8_a_level    4859 non-null   float64\n",
      " 29  primary_cleaner.state.floatbank8_b_air      4859 non-null   float64\n",
      " 30  primary_cleaner.state.floatbank8_b_level    4859 non-null   float64\n",
      " 31  primary_cleaner.state.floatbank8_c_air      4858 non-null   float64\n",
      " 32  primary_cleaner.state.floatbank8_c_level    4859 non-null   float64\n",
      " 33  primary_cleaner.state.floatbank8_d_air      4858 non-null   float64\n",
      " 34  primary_cleaner.state.floatbank8_d_level    4859 non-null   float64\n",
      " 35  secondary_cleaner.state.floatbank2_a_air    4734 non-null   float64\n",
      " 36  secondary_cleaner.state.floatbank2_a_level  4859 non-null   float64\n",
      " 37  secondary_cleaner.state.floatbank2_b_air    4859 non-null   float64\n",
      " 38  secondary_cleaner.state.floatbank2_b_level  4859 non-null   float64\n",
      " 39  secondary_cleaner.state.floatbank3_a_air    4859 non-null   float64\n",
      " 40  secondary_cleaner.state.floatbank3_a_level  4859 non-null   float64\n",
      " 41  secondary_cleaner.state.floatbank3_b_air    4859 non-null   float64\n",
      " 42  secondary_cleaner.state.floatbank3_b_level  4859 non-null   float64\n",
      " 43  secondary_cleaner.state.floatbank4_a_air    4859 non-null   float64\n",
      " 44  secondary_cleaner.state.floatbank4_a_level  4859 non-null   float64\n",
      " 45  secondary_cleaner.state.floatbank4_b_air    4859 non-null   float64\n",
      " 46  secondary_cleaner.state.floatbank4_b_level  4859 non-null   float64\n",
      " 47  secondary_cleaner.state.floatbank5_a_air    4859 non-null   float64\n",
      " 48  secondary_cleaner.state.floatbank5_a_level  4859 non-null   float64\n",
      " 49  secondary_cleaner.state.floatbank5_b_air    4859 non-null   float64\n",
      " 50  secondary_cleaner.state.floatbank5_b_level  4859 non-null   float64\n",
      " 51  secondary_cleaner.state.floatbank6_a_air    4859 non-null   float64\n",
      " 52  secondary_cleaner.state.floatbank6_a_level  4859 non-null   float64\n",
      "dtypes: float64(52), object(1)\n",
      "memory usage: 2.0+ MB\n",
      "\n"
     ]
    }
   ],
   "source": [
    "for df in [data, data_train, data_test]:\n",
    "    print('='*60)\n",
    "    print(f'- Всего строк: {df.shape[0]}. \\n- Всего столбцов: {df.shape[1]}')\n",
    "    print(f'- Строк с пропусками: {len(df)-len(df.dropna())} ({((len(df)-len(df.dropna()))/len(df)):.1%})')\n",
    "    print('- Кол-во строк-дубликатов: ',df.duplicated().sum())\n",
    "    print('='*16, '↓↓ Информацио о фрейме: ↓↓', '='*16)\n",
    "    df.info()\n",
    "    print()"
   ]
  },
  {
   "cell_type": "markdown",
   "metadata": {},
   "source": [
    "Посмотрим в каких стобцах встречаются пропуски."
   ]
  },
  {
   "cell_type": "code",
   "execution_count": 11,
   "metadata": {},
   "outputs": [],
   "source": [
    "pd.set_option('display.max_rows', None)\n",
    "data.isna().any(axis=0)\n",
    "pd.set_option('display.max_rows', 50)"
   ]
  },
  {
   "cell_type": "markdown",
   "metadata": {},
   "source": [
    "Столбец date следовало бы привести к подходящему типу datetime, но в нашем случае нет необходимости в этом, так в данном виде он отлично сортируется и в строковом типе. Для создания модели он использоваться не будет.<br>\n",
    "Дуликатов нет.<br> Пропусков достаточно много (более 15% в тренировочной выборке и 6% в тестовой) и они затронули большую часть столбцов. \n",
    "Известно, что соседние по времени параметры часто похожи, поэтому заполним пропуски в тренировочной и тестовой выборках, используя предыдущие занчения."
   ]
  },
  {
   "cell_type": "code",
   "execution_count": 12,
   "metadata": {},
   "outputs": [
    {
     "name": "stdout",
     "output_type": "stream",
     "text": [
      "Пропусков в тренировочной:  0\n",
      "Пропусков в тестовой:  0\n"
     ]
    }
   ],
   "source": [
    "data_train.sort_values(by='date', inplace=True)\n",
    "data_train.ffill(axis=0, inplace=True)\n",
    "print('Пропусков в тренировочной: ', len(data_train) - len(data_train.dropna()))\n",
    "data_test.sort_values(by='date', inplace=True)\n",
    "data_test.ffill(axis=0, inplace=True)\n",
    "print('Пропусков в тестовой: ', len(data_test) - len(data_test.dropna()))"
   ]
  },
  {
   "cell_type": "markdown",
   "metadata": {},
   "source": [
    "### Расчёт эффективности обогащения"
   ]
  },
  {
   "cell_type": "markdown",
   "metadata": {},
   "source": [
    "Посчитаем recovery по заданной формуле для обучающей выборки data_train и расчет MAE\n",
    "<table align=left><tr align=left>\n",
    "    <td><img src='https://pictures.s3.yandex.net/resources/Recovery_1576238822.jpg' width='700'></td>\n",
    "    <td><div align=left><font size=3>\n",
    "        <ul><li>C — доля золота в концентрате после флотации/очистки</left></li>\n",
    "            <li>F — доля золота в сырье/концентрате до флотации/очистки</li>\n",
    "            <li>T — доля золота в отвальных хвостах после флотации/очистки.</li>\n",
    "        </ul></font>\n",
    "    </td>\n",
    "    </tr>\n",
    "</table>"
   ]
  },
  {
   "cell_type": "code",
   "execution_count": 13,
   "metadata": {
    "scrolled": true
   },
   "outputs": [
    {
     "data": {
      "text/plain": [
       "9.83758577644259e-15"
      ]
     },
     "execution_count": 13,
     "metadata": {},
     "output_type": "execute_result"
    }
   ],
   "source": [
    "recovery = (data_train['rougher.output.concentrate_au']*\n",
    "           (data_train['rougher.input.feed_au'] - data_train['rougher.output.tail_au'])/ \n",
    "           (data_train['rougher.input.feed_au']*\n",
    "           (data_train['rougher.output.concentrate_au'] - data_train['rougher.output.tail_au']))*100)\n",
    "mean_absolute_error(data_train['rougher.output.recovery'], recovery)"
   ]
  },
  {
   "cell_type": "markdown",
   "metadata": {},
   "source": [
    "Значения отличаются на триллионные доли процентов. Столь малой разницей можно принебрегать."
   ]
  },
  {
   "cell_type": "markdown",
   "metadata": {},
   "source": [
    "Как можно заметить выше в таблице отсутствует доля золота в концентрате после второй очистки. Эти значения можно при необходимости восстановить по значению столбца final.output.recovery"
   ]
  },
  {
   "cell_type": "markdown",
   "metadata": {},
   "source": [
    "### Проанализируем недостающие в тестовой столбцы и причины отсутствия."
   ]
  },
  {
   "cell_type": "code",
   "execution_count": 14,
   "metadata": {},
   "outputs": [
    {
     "data": {
      "text/plain": [
       "{'final.output.concentrate_ag',\n",
       " 'final.output.concentrate_au',\n",
       " 'final.output.concentrate_pb',\n",
       " 'final.output.concentrate_sol',\n",
       " 'final.output.recovery',\n",
       " 'final.output.tail_ag',\n",
       " 'final.output.tail_au',\n",
       " 'final.output.tail_pb',\n",
       " 'final.output.tail_sol',\n",
       " 'primary_cleaner.output.concentrate_ag',\n",
       " 'primary_cleaner.output.concentrate_au',\n",
       " 'primary_cleaner.output.concentrate_pb',\n",
       " 'primary_cleaner.output.concentrate_sol',\n",
       " 'primary_cleaner.output.tail_ag',\n",
       " 'primary_cleaner.output.tail_au',\n",
       " 'primary_cleaner.output.tail_pb',\n",
       " 'primary_cleaner.output.tail_sol',\n",
       " 'rougher.calculation.au_pb_ratio',\n",
       " 'rougher.calculation.floatbank10_sulfate_to_au_feed',\n",
       " 'rougher.calculation.floatbank11_sulfate_to_au_feed',\n",
       " 'rougher.calculation.sulfate_to_au_concentrate',\n",
       " 'rougher.output.concentrate_ag',\n",
       " 'rougher.output.concentrate_au',\n",
       " 'rougher.output.concentrate_pb',\n",
       " 'rougher.output.concentrate_sol',\n",
       " 'rougher.output.recovery',\n",
       " 'rougher.output.tail_ag',\n",
       " 'rougher.output.tail_au',\n",
       " 'rougher.output.tail_pb',\n",
       " 'rougher.output.tail_sol',\n",
       " 'secondary_cleaner.output.tail_ag',\n",
       " 'secondary_cleaner.output.tail_au',\n",
       " 'secondary_cleaner.output.tail_pb',\n",
       " 'secondary_cleaner.output.tail_sol'}"
      ]
     },
     "execution_count": 14,
     "metadata": {},
     "output_type": "execute_result"
    }
   ],
   "source": [
    "set(data_train.columns) - set(data_test.columns)"
   ]
  },
  {
   "cell_type": "markdown",
   "metadata": {},
   "source": [
    "Как видно все столбцы относятся к параметру output и calculation, что относится к результатам, полученным после проведения этапов очистки."
   ]
  },
  {
   "cell_type": "markdown",
   "metadata": {},
   "source": [
    "## Анализ данных"
   ]
  },
  {
   "cell_type": "markdown",
   "metadata": {},
   "source": [
    "### Посмотрим как менялась эффективность обогащения в зависимости от года"
   ]
  },
  {
   "cell_type": "code",
   "execution_count": 15,
   "metadata": {},
   "outputs": [
    {
     "data": {
      "text/html": [
       "<div>\n",
       "<style scoped>\n",
       "    .dataframe tbody tr th:only-of-type {\n",
       "        vertical-align: middle;\n",
       "    }\n",
       "\n",
       "    .dataframe tbody tr th {\n",
       "        vertical-align: top;\n",
       "    }\n",
       "\n",
       "    .dataframe thead tr th {\n",
       "        text-align: left;\n",
       "    }\n",
       "\n",
       "    .dataframe thead tr:last-of-type th {\n",
       "        text-align: right;\n",
       "    }\n",
       "</style>\n",
       "<table border=\"1\" class=\"dataframe\">\n",
       "  <thead>\n",
       "    <tr>\n",
       "      <th></th>\n",
       "      <th colspan=\"2\" halign=\"left\">mean</th>\n",
       "      <th colspan=\"2\" halign=\"left\">median</th>\n",
       "    </tr>\n",
       "    <tr>\n",
       "      <th></th>\n",
       "      <th>final.output.recovery</th>\n",
       "      <th>rougher.output.recovery</th>\n",
       "      <th>final.output.recovery</th>\n",
       "      <th>rougher.output.recovery</th>\n",
       "    </tr>\n",
       "    <tr>\n",
       "      <th>year</th>\n",
       "      <th></th>\n",
       "      <th></th>\n",
       "      <th></th>\n",
       "      <th></th>\n",
       "    </tr>\n",
       "  </thead>\n",
       "  <tbody>\n",
       "    <tr>\n",
       "      <th>2016</th>\n",
       "      <td>66.141241</td>\n",
       "      <td>81.308685</td>\n",
       "      <td>67.452059</td>\n",
       "      <td>84.607724</td>\n",
       "    </tr>\n",
       "    <tr>\n",
       "      <th>2017</th>\n",
       "      <td>67.714944</td>\n",
       "      <td>84.114640</td>\n",
       "      <td>69.027984</td>\n",
       "      <td>87.802820</td>\n",
       "    </tr>\n",
       "    <tr>\n",
       "      <th>2018</th>\n",
       "      <td>67.388241</td>\n",
       "      <td>85.304181</td>\n",
       "      <td>68.233156</td>\n",
       "      <td>86.407238</td>\n",
       "    </tr>\n",
       "  </tbody>\n",
       "</table>\n",
       "</div>"
      ],
      "text/plain": [
       "                      mean                                        median  \\\n",
       "     final.output.recovery rougher.output.recovery final.output.recovery   \n",
       "year                                                                       \n",
       "2016             66.141241               81.308685             67.452059   \n",
       "2017             67.714944               84.114640             69.027984   \n",
       "2018             67.388241               85.304181             68.233156   \n",
       "\n",
       "                              \n",
       "     rougher.output.recovery  \n",
       "year                          \n",
       "2016               84.607724  \n",
       "2017               87.802820  \n",
       "2018               86.407238  "
      ]
     },
     "execution_count": 15,
     "metadata": {},
     "output_type": "execute_result"
    }
   ],
   "source": [
    "(data\n",
    "    .assign(year = pd.to_datetime(data['date']).dt.year)\n",
    "    .pivot_table(index='year',\n",
    "                 values=['final.output.recovery','rougher.output.recovery'],\n",
    "                 aggfunc=['mean','median']))"
   ]
  },
  {
   "cell_type": "code",
   "execution_count": 16,
   "metadata": {},
   "outputs": [
    {
     "data": {
      "image/png": "[encoded data removed]",
      "text/plain": [
       "<Figure size 1440x1080 with 1 Axes>"
      ]
     },
     "metadata": {
      "needs_background": "light"
     },
     "output_type": "display_data"
    }
   ],
   "source": [
    "(data\n",
    "    .assign(year = pd.to_datetime(data['date']).dt.year)\n",
    "    .pivot_table(index='date',\n",
    "                 columns='year',\n",
    "                 values=['rougher.output.recovery',\n",
    "                         'final.output.concentrate_au'],\n",
    "                 aggfunc='first')\n",
    "    .plot(kind='hist',\n",
    "          alpha=0.3,\n",
    "          bins=300,\n",
    "          figsize=(20,15)));"
   ]
  },
  {
   "cell_type": "markdown",
   "metadata": {},
   "source": [
    "Однозначный вывод об изменении эффективности обогащения во времени сделать нельзя."
   ]
  },
  {
   "cell_type": "markdown",
   "metadata": {},
   "source": [
    "### Построим графики изменения концентрации веществ для золота"
   ]
  },
  {
   "cell_type": "markdown",
   "metadata": {},
   "source": [
    "Построим график зависимости концентрации золота, серебра и свинца после очистки от содержания в неочищенной смеси. "
   ]
  },
  {
   "cell_type": "code",
   "execution_count": 17,
   "metadata": {},
   "outputs": [
    {
     "data": {
      "image/png": "[encoded data removed]",
      "text/plain": [
       "<Figure size 1440x720 with 1 Axes>"
      ]
     },
     "metadata": {
      "needs_background": "light"
     },
     "output_type": "display_data"
    }
   ],
   "source": [
    "data_train.plot(x='rougher.input.feed_au',\n",
    "                y='final.output.concentrate_au',\n",
    "                kind='scatter',\n",
    "                title='Для Au',\n",
    "                grid=True,\n",
    "                figsize=(20,10));\n",
    "plt.xlabel(\"Концентрация золота в сырье\")\n",
    "plt.ylabel(\"Концентрация золота после очистки\")\n",
    "plt.plot([0, 14], [0, 14], ls=\"-\", c='red', alpha=0.5)\n",
    "plt.show()"
   ]
  },
  {
   "cell_type": "markdown",
   "metadata": {},
   "source": [
    "Наблюдаются аномальные значения, при которых начальная концентрация выше и нулевая после очистки.<br> \n",
    "Найдём возможные аномалии, когда концентрация золота после очистки меньше начального или промежуточного и уж тем более не нулевая."
   ]
  },
  {
   "cell_type": "code",
   "execution_count": 18,
   "metadata": {},
   "outputs": [],
   "source": [
    "def ano_search (df, final_raw, raw_list): #поиск аномалий\n",
    "    count = 1\n",
    "    total = 0\n",
    "    for raw in raw_list:\n",
    "        tmp = (df[df[raw] > df[final_raw]].shape[0])\n",
    "        print (f'На этапе {count} обнаружено {tmp} аномалий!')\n",
    "        count += 1\n",
    "        total += tmp\n",
    "    print(f'Всего аномалий обнаружено: {total}')"
   ]
  },
  {
   "cell_type": "code",
   "execution_count": 19,
   "metadata": {},
   "outputs": [],
   "source": [
    "def ano_cut (df, final_raw, raw_list): # удаление аномалий\n",
    "    total_raws = df.shape[0]\n",
    "    for raw in raw_list:\n",
    "        df = df[df[raw] < df[final_raw]]\n",
    "    print (f'Всего строк удалено: {total_raws - df.shape[0]}')    \n",
    "    return df"
   ]
  },
  {
   "cell_type": "code",
   "execution_count": 20,
   "metadata": {},
   "outputs": [],
   "source": [
    "raw_list_au = ['rougher.input.feed_au', \n",
    "               'rougher.output.concentrate_au', \n",
    "               'primary_cleaner.output.concentrate_au', \n",
    "               'final.output.concentrate_au']\n",
    "raw_list_ag = ['rougher.input.feed_ag', \n",
    "               'rougher.output.concentrate_ag', \n",
    "               'primary_cleaner.output.concentrate_ag', \n",
    "               'final.output.concentrate_ag']\n",
    "raw_list_pb = ['rougher.input.feed_pb', \n",
    "               'rougher.output.concentrate_pb', \n",
    "               'primary_cleaner.output.concentrate_pb', \n",
    "               'final.output.concentrate_pb']"
   ]
  },
  {
   "cell_type": "code",
   "execution_count": 21,
   "metadata": {},
   "outputs": [
    {
     "name": "stdout",
     "output_type": "stream",
     "text": [
      "На этапе 1 обнаружено 105 аномалий!\n",
      "На этапе 2 обнаружено 161 аномалий!\n",
      "На этапе 3 обнаружено 276 аномалий!\n",
      "Всего аномалий обнаружено: 542\n"
     ]
    }
   ],
   "source": [
    "ano_search(data_train, raw_list_au[-1], raw_list_au[:-1])"
   ]
  },
  {
   "cell_type": "markdown",
   "metadata": {},
   "source": [
    "Аномалий не так и много относительно общего количества строк. Избавимся от них."
   ]
  },
  {
   "cell_type": "code",
   "execution_count": 22,
   "metadata": {},
   "outputs": [
    {
     "name": "stdout",
     "output_type": "stream",
     "text": [
      "Всего строк удалено: 284\n"
     ]
    }
   ],
   "source": [
    "data_train = ano_cut(data_train, raw_list_au[-1], raw_list_au[:-1])"
   ]
  },
  {
   "cell_type": "markdown",
   "metadata": {},
   "source": [
    "### Построим диаграммы распределения для Au, Ag, Pb."
   ]
  },
  {
   "cell_type": "code",
   "execution_count": 23,
   "metadata": {},
   "outputs": [],
   "source": [
    "stage_columns = []\n",
    "stage = ['Сырье','Черновой концентрат','После первой очистки','Финальный концентрат']\n",
    "stage_columns.append(['rougher.input.feed_au',\n",
    "                   'rougher.input.feed_ag',\n",
    "                   'rougher.input.feed_pb'])\n",
    "stage_columns.append(['rougher.output.concentrate_au',\n",
    "                   'rougher.output.concentrate_ag',\n",
    "                   'rougher.output.concentrate_pb'])\n",
    "stage_columns.append(['primary_cleaner.output.concentrate_au',\n",
    "                   'primary_cleaner.output.concentrate_ag',\n",
    "                   'primary_cleaner.output.concentrate_pb'])\n",
    "stage_columns.append(['final.output.concentrate_au',\n",
    "                   'final.output.concentrate_ag',\n",
    "                   'final.output.concentrate_pb'])"
   ]
  },
  {
   "cell_type": "code",
   "execution_count": 24,
   "metadata": {},
   "outputs": [],
   "source": [
    "def hist_fun_1 (df, name=''):\n",
    "    title1 = 'Диаграмма размаха значений концентрации '+ name + ' на разных этапах очистки'\n",
    "    title2 = 'Гистограмма распределения значений концентрации '+ name + ' на разных этапах очистки'\n",
    "    df.columns = stage\n",
    "    df.plot(kind='box', \n",
    "                       figsize=(20,10),\n",
    "                       vert=False,\n",
    "                       rot=80,\n",
    "                       title=title1);\n",
    "    df.plot(kind='hist',\n",
    "                title=title2,\n",
    "                figsize=(20,10),\n",
    "                bins=300,\n",
    "                grid=True,\n",
    "                alpha=0.5);\n",
    "    plt.xlabel('Концентрация')\n",
    "    plt.ylabel(\"Количество значений\");\n",
    "    plt.show()"
   ]
  },
  {
   "cell_type": "code",
   "execution_count": 25,
   "metadata": {},
   "outputs": [
    {
     "data": {
      "image/png": "[encoded data removed]",
      "text/plain": [
       "<Figure size 1440x720 with 1 Axes>"
      ]
     },
     "metadata": {
      "needs_background": "light"
     },
     "output_type": "display_data"
    },
    {
     "data": {
      "image/png": "[encoded data removed]",
      "text/plain": [
       "<Figure size 1440x720 with 1 Axes>"
      ]
     },
     "metadata": {
      "needs_background": "light"
     },
     "output_type": "display_data"
    }
   ],
   "source": [
    "hist_fun_1 (data[raw_list_au], 'Au (золото)')"
   ]
  },
  {
   "cell_type": "code",
   "execution_count": 26,
   "metadata": {},
   "outputs": [
    {
     "data": {
      "image/png": "[encoded data removed]",
      "text/plain": [
       "<Figure size 1440x720 with 1 Axes>"
      ]
     },
     "metadata": {
      "needs_background": "light"
     },
     "output_type": "display_data"
    },
    {
     "data": {
      "image/png": "[encoded data removed]",
      "text/plain": [
       "<Figure size 1440x720 with 1 Axes>"
      ]
     },
     "metadata": {
      "needs_background": "light"
     },
     "output_type": "display_data"
    }
   ],
   "source": [
    "hist_fun_1 (data[raw_list_ag], 'Ag (серебро)')"
   ]
  },
  {
   "cell_type": "code",
   "execution_count": 27,
   "metadata": {},
   "outputs": [
    {
     "data": {
      "image/png": "[encoded data removed]",
      "text/plain": [
       "<Figure size 1440x720 with 1 Axes>"
      ]
     },
     "metadata": {
      "needs_background": "light"
     },
     "output_type": "display_data"
    },
    {
     "data": {
      "image/png": "[encoded data removed]",
      "text/plain": [
       "<Figure size 1440x720 with 1 Axes>"
      ]
     },
     "metadata": {
      "needs_background": "light"
     },
     "output_type": "display_data"
    }
   ],
   "source": [
    "hist_fun_1 (data[raw_list_pb], 'Pb (свинец)')"
   ]
  },
  {
   "cell_type": "markdown",
   "metadata": {},
   "source": [
    "Вывод: Концентрация золота с каждым этапом очистки увеличивается. Концентрация серебра по отношению к начальному значению уменьшается, а свинца увеличивается."
   ]
  },
  {
   "cell_type": "markdown",
   "metadata": {},
   "source": [
    "### Сравним размер гранул в исходном сырье на обучающей и тестовой выборках."
   ]
  },
  {
   "cell_type": "code",
   "execution_count": 28,
   "metadata": {},
   "outputs": [
    {
     "data": {
      "text/plain": [
       "count    14295.000000\n",
       "mean        59.000648\n",
       "std         22.445442\n",
       "min          0.049194\n",
       "25%         47.347409\n",
       "50%         54.476700\n",
       "75%         64.455810\n",
       "max        484.967466\n",
       "Name: rougher.input.feed_size, dtype: float64"
      ]
     },
     "execution_count": 28,
     "metadata": {},
     "output_type": "execute_result"
    }
   ],
   "source": [
    "data_train['rougher.input.feed_size'].describe()"
   ]
  },
  {
   "cell_type": "code",
   "execution_count": 29,
   "metadata": {},
   "outputs": [
    {
     "data": {
      "image/png": "[encoded data removed]",
      "text/plain": [
       "<Figure size 1080x648 with 1 Axes>"
      ]
     },
     "metadata": {
      "needs_background": "light"
     },
     "output_type": "display_data"
    }
   ],
   "source": [
    "content = pd.DataFrame()\n",
    "content ['Обучаюшая'] = data_train['rougher.input.feed_size']\n",
    "content ['Тестовая'] = data_test['rougher.input.feed_size']\n",
    "content.plot(kind='hist',\n",
    "             title='Распределение размера гранул на обучающей и тестовой выборках',\n",
    "             figsize=(15,9),\n",
    "             bins=300,\n",
    "             grid=True,\n",
    "             density=True,\n",
    "             alpha=0.5);\n",
    "plt.xlabel('Концентрация')\n",
    "plt.ylabel(\"Относительное зн-е\");\n",
    "plt.show()"
   ]
  },
  {
   "cell_type": "markdown",
   "metadata": {},
   "source": [
    "В целом распределения похожи несмотря на то, что есть сильные выбросы."
   ]
  },
  {
   "cell_type": "markdown",
   "metadata": {},
   "source": [
    "### Исследуем суммарную концентрацию металлов на разных стадиях."
   ]
  },
  {
   "cell_type": "code",
   "execution_count": 30,
   "metadata": {},
   "outputs": [
    {
     "data": {
      "image/png": "[encoded data removed]",
      "text/plain": [
       "<Figure size 1080x648 with 1 Axes>"
      ]
     },
     "metadata": {
      "needs_background": "light"
     },
     "output_type": "display_data"
    }
   ],
   "source": [
    "content = pd.DataFrame()\n",
    "for i in range(4):\n",
    "    content [stage[i]] = data_train[stage_columns[i]].sum(axis=1)\n",
    "content.plot(kind='hist',\n",
    "             title='Cуммарная концентрация металлов на разных стадиях',\n",
    "             figsize=(15,9),\n",
    "             bins=300,\n",
    "             grid=True,\n",
    "             alpha=0.5);\n",
    "plt.xlabel('Концентрация')\n",
    "plt.ylabel(\"Количество значений\");\n",
    "plt.show()\n"
   ]
  },
  {
   "cell_type": "markdown",
   "metadata": {},
   "source": [
    "Суммарная концентрация металлов с каждым этапом увеличивается, а отклонение уменьшается."
   ]
  },
  {
   "cell_type": "code",
   "execution_count": 31,
   "metadata": {},
   "outputs": [
    {
     "data": {
      "image/png": "[encoded data removed]",
      "text/plain": [
       "<Figure size 1080x648 with 1 Axes>"
      ]
     },
     "metadata": {
      "needs_background": "light"
     },
     "output_type": "display_data"
    }
   ],
   "source": [
    "content.plot(kind='box',\n",
    "             title='Cуммарная концентрация металлов на разных стадиях',\n",
    "             figsize=(15,9));\n",
    "plt.xlabel('Концентрация')\n",
    "plt.ylabel(\"Количество значений\");\n",
    "plt.show()"
   ]
  },
  {
   "cell_type": "markdown",
   "metadata": {},
   "source": [
    "Проверим наличие нулевых значений концентрации и удалим их на всех этапах."
   ]
  },
  {
   "cell_type": "code",
   "execution_count": 32,
   "metadata": {},
   "outputs": [
    {
     "name": "stdout",
     "output_type": "stream",
     "text": [
      "Количество строк с нулевыми значениями:  486\n"
     ]
    }
   ],
   "source": [
    "list_index = set([])\n",
    "list_index_zero = set([])\n",
    "for i in range(4):\n",
    "    list_index_zero = list_index_zero | set((data_train[data_train[stage_columns[i]].sum(axis=1) == 0]).index)\n",
    "print('Количество строк с нулевыми значениями: ',len(list_index_zero))"
   ]
  },
  {
   "cell_type": "markdown",
   "metadata": {},
   "source": [
    "Удалим соответствующие строки."
   ]
  },
  {
   "cell_type": "code",
   "execution_count": 33,
   "metadata": {},
   "outputs": [],
   "source": [
    "data_train.drop(index=list(list_index_zero), inplace=True)"
   ]
  },
  {
   "cell_type": "markdown",
   "metadata": {},
   "source": [
    "Изучив суммарную концентрацию металлов на разных этапах, были обнаружены нулевые значения и отброшены."
   ]
  },
  {
   "cell_type": "markdown",
   "metadata": {},
   "source": [
    "## Модель"
   ]
  },
  {
   "cell_type": "markdown",
   "metadata": {},
   "source": [
    "Для решения задачи введём новую метрику качества — sMAPE (англ. Symmetric Mean Absolute Percentage Error, «симметричное среднее абсолютное процентное отклонение»)."
   ]
  },
  {
   "cell_type": "code",
   "execution_count": 34,
   "metadata": {},
   "outputs": [],
   "source": [
    "def smape (target, predict):\n",
    "    smape = (abs(target - predict)/(abs(target) + abs(predict))*2*100).mean()\n",
    "    return smape\n",
    "\n",
    "smape_score = make_scorer(smape)"
   ]
  },
  {
   "cell_type": "code",
   "execution_count": 35,
   "metadata": {},
   "outputs": [],
   "source": [
    "def total_smape (rougher_smape, final_smape):\n",
    "    return 0.25*rougher_smape + 0.75*final_smape"
   ]
  },
  {
   "cell_type": "markdown",
   "metadata": {},
   "source": [
    "Для обучения моделей используем только те признаки в обучающей выборке, которые представлены в тестовой.<br>\n",
    "Целевые переменные у нас будут rougher.output.recovery и final.output.recovery.\n",
    "Колонка date нам не потребуется. поэтому использовать ее не будем."
   ]
  },
  {
   "cell_type": "code",
   "execution_count": 36,
   "metadata": {},
   "outputs": [],
   "source": [
    "# параметр date не нужен\n",
    "features_test = data_test.drop(columns='date')\n",
    "\n",
    "# берем список параметров из тестовой\n",
    "features_train = data_train[features_test.columns] \n",
    "\n",
    "target_train = data_train[['rougher.output.recovery', \n",
    "                           'final.output.recovery']]\n",
    "target_train.columns = ['rougher', 'final']\n",
    "\n",
    "# target извлечем из общего датасета\n",
    "target_test = data_test.merge(data[['date',\n",
    "                                    'rougher.output.recovery', \n",
    "                                    'final.output.recovery']], \n",
    "                              on=\"date\")[['rougher.output.recovery',\n",
    "                                          'final.output.recovery']]\n",
    "target_test.columns = ['rougher', 'final']\n",
    "                        \n",
    "scaler = MinMaxScaler()\n",
    "scaler.fit(features_train)\n",
    "features_train = scaler.transform(features_train)\n",
    "features_test = scaler.transform(features_test)"
   ]
  },
  {
   "cell_type": "markdown",
   "metadata": {},
   "source": [
    "### Модель линейной регрессии"
   ]
  },
  {
   "cell_type": "markdown",
   "metadata": {},
   "source": [
    "Обучим модель и оценим их качество кросс-валидацией"
   ]
  },
  {
   "cell_type": "code",
   "execution_count": 37,
   "metadata": {},
   "outputs": [
    {
     "name": "stdout",
     "output_type": "stream",
     "text": [
      "CPU times: user 2 µs, sys: 0 ns, total: 2 µs\n",
      "Wall time: 6.2 µs\n",
      "* sMAPE: 8.728913557994726\n"
     ]
    }
   ],
   "source": [
    "%time\n",
    "model_line = LinearRegression()\n",
    "\n",
    "score_rougher = cross_val_score(model_line, \n",
    "                                features_train, \n",
    "                                target_train['rougher'], \n",
    "                                cv=5, \n",
    "                                scoring=smape_score).mean()\n",
    "score_final = cross_val_score(model_line, \n",
    "                              features_train, \n",
    "                              target_train['final'], \n",
    "                              cv=5, \n",
    "                              scoring=smape_score).mean()\n",
    "\n",
    "smape_line = total_smape (score_rougher, score_final)\n",
    "print(f'* sMAPE: {smape_line}') "
   ]
  },
  {
   "cell_type": "markdown",
   "metadata": {},
   "source": [
    "### Модель дерева решений"
   ]
  },
  {
   "cell_type": "code",
   "execution_count": 38,
   "metadata": {},
   "outputs": [
    {
     "name": "stdout",
     "output_type": "stream",
     "text": [
      "** sMAPE: 8.393778583960462 (max_depth: 2) **\n",
      "CPU times: user 44.1 s, sys: 130 ms, total: 44.2 s\n",
      "Wall time: 44.4 s\n"
     ]
    }
   ],
   "source": [
    "%%time\n",
    "best_score = 11\n",
    "bad_score = 0\n",
    "#for depth in range(2,40,4):\n",
    "for depth in range(2,20,2):\n",
    "    model_tree = DecisionTreeRegressor(max_depth=depth,\n",
    "                                       random_state=STATE)\n",
    "    score_rougher = cross_val_score(model_tree, \n",
    "                                    features_train, \n",
    "                                    target_train['rougher'], \n",
    "                                    cv=5, \n",
    "                                    scoring=smape_score).mean()\n",
    "    score_final = cross_val_score(model_tree, \n",
    "                                  features_train, \n",
    "                                  target_train['final'], \n",
    "                                  cv=5, \n",
    "                                  scoring=smape_score).mean()\n",
    "    smape_tree = total_smape (score_rougher, score_final)\n",
    "    if best_score > smape_tree:\n",
    "        best_score = smape_tree\n",
    "        message = '** sMAPE: ' + str(best_score) + ' (max_depth: ' + str(depth) +') **'\n",
    "print(message)        "
   ]
  },
  {
   "cell_type": "markdown",
   "metadata": {},
   "source": [
    "### Модель случайного леса"
   ]
  },
  {
   "cell_type": "code",
   "execution_count": 39,
   "metadata": {},
   "outputs": [
    {
     "name": "stdout",
     "output_type": "stream",
     "text": [
      "** sMAPE: 8.18897621232637 (max_depth: 2, n_estimators: 12) **\n",
      "CPU times: user 4min 54s, sys: 303 ms, total: 4min 55s\n",
      "Wall time: 4min 56s\n"
     ]
    }
   ],
   "source": [
    "%%time \n",
    "best_score = 100 #цикл работает около 5 минут\n",
    "for est in range(2, 40, 10):\n",
    "    for depth in range(2,8,2):\n",
    "        model_forest = RandomForestRegressor(random_state=STATE,\n",
    "                                             n_estimators=est, \n",
    "                                             max_depth=depth)\n",
    "        score_rougher = cross_val_score(model_forest, \n",
    "                                        features_train, \n",
    "                                        target_train['rougher'], \n",
    "                                        cv=5, \n",
    "                                        scoring=smape_score, \n",
    "                                        n_jobs = -1).mean()\n",
    "        score_final = cross_val_score(model_forest, \n",
    "                                      features_train, \n",
    "                                      target_train['final'], \n",
    "                                      cv=5, \n",
    "                                      scoring=smape_score, \n",
    "                                      n_jobs = -1).mean()\n",
    "        smape_forest = total_smape (score_rougher, score_final)\n",
    "        if best_score > smape_forest:\n",
    "            best_score = smape_forest\n",
    "            message = '** sMAPE: ' + str(best_score) + ' (max_depth: ' + \\\n",
    "str(depth) + ', n_estimators: ' + str(est) +') **'\n",
    "print(message)"
   ]
  },
  {
   "cell_type": "markdown",
   "metadata": {},
   "source": [
    "Итого: лучший результат показала модель случайного леса с результатом sMape = 8.19 (n_estimators = 32, max_depth = 4)"
   ]
  },
  {
   "cell_type": "markdown",
   "metadata": {},
   "source": [
    "### Проверка модели на тестовой выборке"
   ]
  },
  {
   "cell_type": "code",
   "execution_count": 40,
   "metadata": {},
   "outputs": [
    {
     "name": "stdout",
     "output_type": "stream",
     "text": [
      "Показатель sMAPE на тестовой выборке:  6.717605342030899\n"
     ]
    }
   ],
   "source": [
    "model_forest_rougher = RandomForestRegressor(random_state=STATE,\n",
    "                                             n_estimators=32, \n",
    "                                             max_depth=4)\n",
    "model_forest_final = RandomForestRegressor(random_state=STATE,\n",
    "                                           n_estimators=32, \n",
    "                                           max_depth=4)\n",
    "model_forest_rougher.fit(features_train, target_train['rougher'])\n",
    "model_forest_final.fit(features_train, target_train['final'])\n",
    "\n",
    "predicted_rougher = model_forest_rougher.predict(features_test)\n",
    "predicted_final = model_forest_final.predict(features_test)\n",
    "\n",
    "smape_rougher = smape(target_test['rougher'], predicted_rougher)\n",
    "smape_final = smape(target_test['final'], predicted_final)\n",
    "print('Показатель sMAPE на тестовой выборке: ', total_smape (smape_rougher, smape_final))\n"
   ]
  },
  {
   "cell_type": "markdown",
   "metadata": {},
   "source": [
    "### Проверка модели на адекватность, используя константную."
   ]
  },
  {
   "cell_type": "code",
   "execution_count": 41,
   "metadata": {},
   "outputs": [
    {
     "name": "stdout",
     "output_type": "stream",
     "text": [
      "Показатель sMAPE константной модели:  8.458535867248395\n"
     ]
    }
   ],
   "source": [
    "dummy_rougher = DummyRegressor()\n",
    "dummy_final = DummyRegressor()\n",
    "dummy_rougher.fit(features_train, target_train['rougher'])\n",
    "dummy_final.fit(features_train, target_train['final'])\n",
    "\n",
    "predicted_rougher = dummy_rougher.predict(features_test)\n",
    "predicted_final = dummy_final.predict(features_test)\n",
    "\n",
    "smape_rougher = smape(target_test['rougher'], predicted_rougher)\n",
    "smape_final = smape(target_test['final'], predicted_final)\n",
    "print('Показатель sMAPE константной модели: ', total_smape (smape_rougher, smape_final))"
   ]
  },
  {
   "cell_type": "markdown",
   "metadata": {},
   "source": [
    "Выбранная модель случайного леса прошла проверку на адекватность."
   ]
  },
  {
   "cell_type": "markdown",
   "metadata": {},
   "source": [
    "## ИТОГОВЫЙ ВЫВОД:"
   ]
  },
  {
   "cell_type": "markdown",
   "metadata": {},
   "source": [
    "    По заказу компании \"Цифры\" требовалось создать модель машинного обучения для предсказания ккоэффициента восстановления золота из золотосодержащей руды. Были предоставлены данные с многочисленными параметрами очистки. В исходных таблицах было достаточно много пропусков. Было известно, что соседние по времени параметры похожи, что позволило восстановить данные. Также были обнаружены аномальные значения (концентрация золота после очистки была меньше изначальной или воообще нулевая), которые были отброшены. Была проведена визуализация изменения концентрации металлов на разных этапах очистки, а также сравнение данных на обучающй и тестовой выборках. Для обучения было выбрано 3 модели и выбрана самая эффективная, а затем протестирована. Проверку выбранная модель прошла."
   ]
  }
 ],
 "metadata": {
  "ExecuteTimeLog": [
   {
    "duration": 627,
    "start_time": "2023-05-15T19:06:30.417Z"
   },
   {
    "duration": 39,
    "start_time": "2023-05-15T19:06:38.518Z"
   },
   {
    "duration": 3117,
    "start_time": "2023-05-15T19:07:31.863Z"
   },
   {
    "duration": 26,
    "start_time": "2023-05-15T19:08:02.422Z"
   },
   {
    "duration": 17,
    "start_time": "2023-05-15T19:09:06.758Z"
   },
   {
    "duration": 13,
    "start_time": "2023-05-15T19:09:13.342Z"
   },
   {
    "duration": 154,
    "start_time": "2023-05-15T19:13:16.104Z"
   },
   {
    "duration": 27448,
    "start_time": "2023-05-15T19:16:09.254Z"
   },
   {
    "duration": 76,
    "start_time": "2023-05-15T19:16:52.544Z"
   },
   {
    "duration": 875,
    "start_time": "2023-05-15T19:16:53.043Z"
   },
   {
    "duration": 890,
    "start_time": "2023-05-15T19:19:43.876Z"
   },
   {
    "duration": 30,
    "start_time": "2023-05-15T19:19:44.768Z"
   },
   {
    "duration": 92,
    "start_time": "2023-05-15T19:19:45.111Z"
   },
   {
    "duration": 44,
    "start_time": "2023-05-15T19:21:52.762Z"
   },
   {
    "duration": 22449,
    "start_time": "2023-05-15T19:22:37.903Z"
   },
   {
    "duration": 30,
    "start_time": "2023-05-15T19:24:08.558Z"
   },
   {
    "duration": 133,
    "start_time": "2023-05-15T19:24:10.550Z"
   },
   {
    "duration": 93,
    "start_time": "2023-05-15T19:24:49.358Z"
   },
   {
    "duration": 844,
    "start_time": "2023-05-15T19:25:07.819Z"
   },
   {
    "duration": 50,
    "start_time": "2023-05-15T19:25:08.665Z"
   },
   {
    "duration": 109,
    "start_time": "2023-05-15T19:25:14.186Z"
   },
   {
    "duration": 18,
    "start_time": "2023-05-15T19:25:18.075Z"
   },
   {
    "duration": 17,
    "start_time": "2023-05-15T19:25:19.065Z"
   },
   {
    "duration": 3061,
    "start_time": "2023-05-15T19:25:32.992Z"
   },
   {
    "duration": 3318,
    "start_time": "2023-05-15T19:25:59.080Z"
   },
   {
    "duration": 15,
    "start_time": "2023-05-15T19:29:50.882Z"
   },
   {
    "duration": 1721,
    "start_time": "2023-05-15T19:30:11.489Z"
   },
   {
    "duration": 39,
    "start_time": "2023-05-15T19:30:13.301Z"
   },
   {
    "duration": 20,
    "start_time": "2023-05-15T19:57:35.167Z"
   },
   {
    "duration": 2741,
    "start_time": "2023-05-15T19:57:42.327Z"
   },
   {
    "duration": 2647,
    "start_time": "2023-05-15T19:57:48.946Z"
   },
   {
    "duration": 2321,
    "start_time": "2023-05-15T19:58:02.535Z"
   },
   {
    "duration": 24,
    "start_time": "2023-05-15T19:58:04.861Z"
   },
   {
    "duration": 3,
    "start_time": "2023-05-15T19:58:52.514Z"
   },
   {
    "duration": 951,
    "start_time": "2023-05-15T19:59:00.191Z"
   },
   {
    "duration": 10,
    "start_time": "2023-05-15T19:59:01.827Z"
   },
   {
    "duration": 2,
    "start_time": "2023-05-15T19:59:02.668Z"
   },
   {
    "duration": 29,
    "start_time": "2023-05-15T19:59:03.623Z"
   },
   {
    "duration": 39,
    "start_time": "2023-05-15T20:13:51.055Z"
   },
   {
    "duration": 58,
    "start_time": "2023-05-15T20:14:10.902Z"
   },
   {
    "duration": 38,
    "start_time": "2023-05-15T20:14:58.845Z"
   },
   {
    "duration": 213,
    "start_time": "2023-05-15T20:23:36.776Z"
   },
   {
    "duration": 113,
    "start_time": "2023-05-15T20:24:11.546Z"
   },
   {
    "duration": 113,
    "start_time": "2023-05-15T20:25:11.824Z"
   },
   {
    "duration": 109,
    "start_time": "2023-05-15T20:25:26.591Z"
   },
   {
    "duration": 114,
    "start_time": "2023-05-15T20:26:19.151Z"
   },
   {
    "duration": 130,
    "start_time": "2023-05-15T20:26:24.013Z"
   },
   {
    "duration": 114,
    "start_time": "2023-05-15T20:26:30.148Z"
   },
   {
    "duration": 117,
    "start_time": "2023-05-15T20:26:35.240Z"
   },
   {
    "duration": 111,
    "start_time": "2023-05-15T20:26:39.260Z"
   },
   {
    "duration": 115,
    "start_time": "2023-05-15T20:26:46.398Z"
   },
   {
    "duration": 130,
    "start_time": "2023-05-15T20:26:54.833Z"
   },
   {
    "duration": 113,
    "start_time": "2023-05-15T20:27:00.397Z"
   },
   {
    "duration": 143,
    "start_time": "2023-05-15T20:27:05.908Z"
   },
   {
    "duration": 142,
    "start_time": "2023-05-15T20:32:29.651Z"
   },
   {
    "duration": 18,
    "start_time": "2023-05-15T20:36:39.760Z"
   },
   {
    "duration": 3,
    "start_time": "2023-05-15T20:42:18.440Z"
   },
   {
    "duration": 106,
    "start_time": "2023-05-15T20:42:19.144Z"
   },
   {
    "duration": 13,
    "start_time": "2023-05-15T20:48:31.618Z"
   },
   {
    "duration": 13,
    "start_time": "2023-05-15T21:12:47.277Z"
   },
   {
    "duration": 115,
    "start_time": "2023-05-15T21:42:23.828Z"
   },
   {
    "duration": 100,
    "start_time": "2023-05-15T21:43:26.684Z"
   },
   {
    "duration": 107,
    "start_time": "2023-05-15T21:45:58.615Z"
   },
   {
    "duration": 104,
    "start_time": "2023-05-15T22:05:03.373Z"
   },
   {
    "duration": 15,
    "start_time": "2023-05-15T22:05:35.650Z"
   },
   {
    "duration": 48,
    "start_time": "2023-05-15T22:05:54.170Z"
   },
   {
    "duration": 131,
    "start_time": "2023-05-15T22:06:05.766Z"
   },
   {
    "duration": 3,
    "start_time": "2023-05-15T22:06:30.911Z"
   },
   {
    "duration": 125,
    "start_time": "2023-05-15T22:06:39.344Z"
   },
   {
    "duration": 0,
    "start_time": "2023-05-15T22:10:12.667Z"
   },
   {
    "duration": 2,
    "start_time": "2023-05-15T22:10:30.594Z"
   },
   {
    "duration": 31,
    "start_time": "2023-05-15T22:12:55.827Z"
   },
   {
    "duration": 12,
    "start_time": "2023-05-15T22:13:23.676Z"
   },
   {
    "duration": 93,
    "start_time": "2023-05-15T22:14:58.219Z"
   },
   {
    "duration": 42,
    "start_time": "2023-05-16T10:05:43.719Z"
   },
   {
    "duration": 403,
    "start_time": "2023-05-16T10:05:55.012Z"
   },
   {
    "duration": 54,
    "start_time": "2023-05-16T10:05:55.459Z"
   },
   {
    "duration": 2222,
    "start_time": "2023-05-16T10:05:59.162Z"
   },
   {
    "duration": 133,
    "start_time": "2023-05-16T10:06:02.791Z"
   },
   {
    "duration": 4,
    "start_time": "2023-05-16T10:06:09.407Z"
   },
   {
    "duration": 116,
    "start_time": "2023-05-16T10:06:09.888Z"
   },
   {
    "duration": 19,
    "start_time": "2023-05-16T10:06:10.309Z"
   },
   {
    "duration": 17,
    "start_time": "2023-05-16T10:06:15.387Z"
   },
   {
    "duration": 15,
    "start_time": "2023-05-16T10:06:16.243Z"
   },
   {
    "duration": 111,
    "start_time": "2023-05-16T10:06:20.496Z"
   },
   {
    "duration": 7,
    "start_time": "2023-05-16T10:06:47.558Z"
   },
   {
    "duration": 9,
    "start_time": "2023-05-16T10:06:55.456Z"
   },
   {
    "duration": 402,
    "start_time": "2023-05-16T10:07:22.352Z"
   },
   {
    "duration": 17,
    "start_time": "2023-05-16T10:09:02.788Z"
   },
   {
    "duration": 15,
    "start_time": "2023-05-16T10:09:25.259Z"
   },
   {
    "duration": 22,
    "start_time": "2023-05-16T10:10:02.102Z"
   },
   {
    "duration": 84,
    "start_time": "2023-05-16T10:11:06.055Z"
   },
   {
    "duration": 13,
    "start_time": "2023-05-16T10:11:26.855Z"
   },
   {
    "duration": 17,
    "start_time": "2023-05-16T10:11:57.922Z"
   },
   {
    "duration": 84,
    "start_time": "2023-05-16T10:12:25.314Z"
   },
   {
    "duration": 84,
    "start_time": "2023-05-16T10:12:35.499Z"
   },
   {
    "duration": 85,
    "start_time": "2023-05-16T10:12:45.462Z"
   },
   {
    "duration": 10,
    "start_time": "2023-05-16T10:14:06.617Z"
   },
   {
    "duration": 87,
    "start_time": "2023-05-16T10:14:40.295Z"
   },
   {
    "duration": 94,
    "start_time": "2023-05-16T10:15:11.559Z"
   },
   {
    "duration": 9,
    "start_time": "2023-05-16T10:15:58.812Z"
   },
   {
    "duration": 10,
    "start_time": "2023-05-16T10:16:44.105Z"
   },
   {
    "duration": 14,
    "start_time": "2023-05-16T10:17:02.459Z"
   },
   {
    "duration": 6,
    "start_time": "2023-05-16T10:22:13.915Z"
   },
   {
    "duration": 133,
    "start_time": "2023-05-16T10:27:23.674Z"
   },
   {
    "duration": 145,
    "start_time": "2023-05-16T10:27:39.901Z"
   },
   {
    "duration": 133,
    "start_time": "2023-05-16T10:27:54.963Z"
   },
   {
    "duration": 3,
    "start_time": "2023-05-16T10:30:57.262Z"
   },
   {
    "duration": 754,
    "start_time": "2023-05-16T10:31:04.452Z"
   },
   {
    "duration": 47,
    "start_time": "2023-05-16T10:33:40.710Z"
   },
   {
    "duration": 4,
    "start_time": "2023-05-16T10:33:47.505Z"
   },
   {
    "duration": 12,
    "start_time": "2023-05-16T10:33:51.858Z"
   },
   {
    "duration": 8,
    "start_time": "2023-05-16T10:33:58.052Z"
   },
   {
    "duration": 95,
    "start_time": "2023-05-16T10:34:42.090Z"
   },
   {
    "duration": 8,
    "start_time": "2023-05-16T10:35:36.699Z"
   },
   {
    "duration": 78,
    "start_time": "2023-05-16T10:39:15.555Z"
   },
   {
    "duration": 86,
    "start_time": "2023-05-16T10:40:08.314Z"
   },
   {
    "duration": 58,
    "start_time": "2023-05-16T10:41:01.958Z"
   },
   {
    "duration": 9,
    "start_time": "2023-05-16T10:42:12.864Z"
   },
   {
    "duration": 10,
    "start_time": "2023-05-16T10:42:28.278Z"
   },
   {
    "duration": 10,
    "start_time": "2023-05-16T10:42:39.292Z"
   },
   {
    "duration": 144,
    "start_time": "2023-05-16T10:42:49.590Z"
   },
   {
    "duration": 84,
    "start_time": "2023-05-16T10:44:06.721Z"
   },
   {
    "duration": 24,
    "start_time": "2023-05-16T10:44:18.307Z"
   },
   {
    "duration": 9,
    "start_time": "2023-05-16T10:44:31.905Z"
   },
   {
    "duration": 10,
    "start_time": "2023-05-16T10:45:01.862Z"
   },
   {
    "duration": 9,
    "start_time": "2023-05-16T10:45:06.806Z"
   },
   {
    "duration": 98,
    "start_time": "2023-05-16T10:46:17.703Z"
   },
   {
    "duration": 8,
    "start_time": "2023-05-16T10:46:27.499Z"
   },
   {
    "duration": 13,
    "start_time": "2023-05-16T10:46:40.199Z"
   },
   {
    "duration": 14,
    "start_time": "2023-05-16T10:46:45.962Z"
   },
   {
    "duration": 9,
    "start_time": "2023-05-16T10:46:55.012Z"
   },
   {
    "duration": 9,
    "start_time": "2023-05-16T10:47:09.302Z"
   },
   {
    "duration": 9,
    "start_time": "2023-05-16T10:47:39.990Z"
   },
   {
    "duration": 10,
    "start_time": "2023-05-16T10:47:57.014Z"
   },
   {
    "duration": 10,
    "start_time": "2023-05-16T10:49:00.194Z"
   },
   {
    "duration": 9,
    "start_time": "2023-05-16T10:49:29.719Z"
   },
   {
    "duration": 9,
    "start_time": "2023-05-16T10:49:38.411Z"
   },
   {
    "duration": 14,
    "start_time": "2023-05-16T10:51:43.964Z"
   },
   {
    "duration": 18,
    "start_time": "2023-05-16T10:53:06.310Z"
   },
   {
    "duration": 9,
    "start_time": "2023-05-16T10:53:47.755Z"
   },
   {
    "duration": 8,
    "start_time": "2023-05-16T10:53:59.462Z"
   },
   {
    "duration": 13,
    "start_time": "2023-05-16T10:54:12.159Z"
   },
   {
    "duration": 10,
    "start_time": "2023-05-16T10:54:38.054Z"
   },
   {
    "duration": 10,
    "start_time": "2023-05-16T10:55:26.252Z"
   },
   {
    "duration": 11,
    "start_time": "2023-05-16T10:55:33.016Z"
   },
   {
    "duration": 12,
    "start_time": "2023-05-16T10:56:05.336Z"
   },
   {
    "duration": 10,
    "start_time": "2023-05-16T10:56:11.721Z"
   },
   {
    "duration": 10,
    "start_time": "2023-05-16T10:56:38.690Z"
   },
   {
    "duration": 132,
    "start_time": "2023-05-16T10:57:21.414Z"
   },
   {
    "duration": 124,
    "start_time": "2023-05-16T10:57:26.066Z"
   },
   {
    "duration": 133,
    "start_time": "2023-05-16T10:57:36.461Z"
   },
   {
    "duration": 146,
    "start_time": "2023-05-16T10:57:42.990Z"
   },
   {
    "duration": 135,
    "start_time": "2023-05-16T10:57:47.722Z"
   },
   {
    "duration": 158,
    "start_time": "2023-05-16T10:58:10.695Z"
   },
   {
    "duration": 152,
    "start_time": "2023-05-16T10:59:02.063Z"
   },
   {
    "duration": 311,
    "start_time": "2023-05-16T11:08:04.354Z"
   },
   {
    "duration": 195,
    "start_time": "2023-05-16T11:08:41.652Z"
   },
   {
    "duration": 193,
    "start_time": "2023-05-16T11:09:58.254Z"
   },
   {
    "duration": 209,
    "start_time": "2023-05-16T11:10:27.965Z"
   },
   {
    "duration": 3,
    "start_time": "2023-05-16T11:10:34.862Z"
   },
   {
    "duration": 205,
    "start_time": "2023-05-16T11:10:36.754Z"
   },
   {
    "duration": 2,
    "start_time": "2023-05-16T11:10:48.909Z"
   },
   {
    "duration": 186,
    "start_time": "2023-05-16T11:10:53.570Z"
   },
   {
    "duration": 202,
    "start_time": "2023-05-16T11:11:11.419Z"
   },
   {
    "duration": 195,
    "start_time": "2023-05-16T11:11:44.409Z"
   },
   {
    "duration": 199,
    "start_time": "2023-05-16T11:11:57.092Z"
   },
   {
    "duration": 201,
    "start_time": "2023-05-16T11:12:16.663Z"
   },
   {
    "duration": 3,
    "start_time": "2023-05-16T11:12:21.185Z"
   },
   {
    "duration": 63,
    "start_time": "2023-05-16T11:12:21.860Z"
   },
   {
    "duration": 783,
    "start_time": "2023-05-16T11:12:22.722Z"
   },
   {
    "duration": 3,
    "start_time": "2023-05-16T11:12:23.507Z"
   },
   {
    "duration": 308,
    "start_time": "2023-05-16T11:12:24.258Z"
   },
   {
    "duration": 207,
    "start_time": "2023-05-16T11:12:29.622Z"
   },
   {
    "duration": 781,
    "start_time": "2023-05-16T11:13:05.118Z"
   },
   {
    "duration": 310,
    "start_time": "2023-05-16T11:13:06.706Z"
   },
   {
    "duration": 290,
    "start_time": "2023-05-16T11:13:09.564Z"
   },
   {
    "duration": 3,
    "start_time": "2023-05-16T11:14:01.025Z"
   },
   {
    "duration": 312,
    "start_time": "2023-05-16T11:14:02.015Z"
   },
   {
    "duration": 290,
    "start_time": "2023-05-16T11:14:28.115Z"
   },
   {
    "duration": 71,
    "start_time": "2023-05-16T11:14:30.566Z"
   },
   {
    "duration": 76,
    "start_time": "2023-05-16T11:14:56.690Z"
   },
   {
    "duration": 85,
    "start_time": "2023-05-16T11:15:23.714Z"
   },
   {
    "duration": 99,
    "start_time": "2023-05-16T11:18:23.241Z"
   },
   {
    "duration": 7,
    "start_time": "2023-05-16T11:18:38.160Z"
   },
   {
    "duration": 7,
    "start_time": "2023-05-16T11:19:40.519Z"
   },
   {
    "duration": 7,
    "start_time": "2023-05-16T11:20:03.301Z"
   },
   {
    "duration": 8,
    "start_time": "2023-05-16T11:20:20.226Z"
   },
   {
    "duration": 313,
    "start_time": "2023-05-16T11:21:30.953Z"
   },
   {
    "duration": 295,
    "start_time": "2023-05-16T11:23:08.655Z"
   },
   {
    "duration": 290,
    "start_time": "2023-05-16T11:23:25.061Z"
   },
   {
    "duration": 287,
    "start_time": "2023-05-16T11:23:35.667Z"
   },
   {
    "duration": 9,
    "start_time": "2023-05-16T11:26:32.054Z"
   },
   {
    "duration": 9,
    "start_time": "2023-05-16T11:26:36.251Z"
   },
   {
    "duration": 4,
    "start_time": "2023-05-16T11:26:45.523Z"
   },
   {
    "duration": 547,
    "start_time": "2023-05-16T11:26:58.026Z"
   },
   {
    "duration": 8,
    "start_time": "2023-05-16T11:34:19.922Z"
   },
   {
    "duration": 78,
    "start_time": "2023-05-16T11:34:30.526Z"
   },
   {
    "duration": 74,
    "start_time": "2023-05-16T11:35:11.256Z"
   },
   {
    "duration": 43,
    "start_time": "2023-05-16T11:35:25.319Z"
   },
   {
    "duration": 80,
    "start_time": "2023-05-16T11:35:42.822Z"
   },
   {
    "duration": 89,
    "start_time": "2023-05-16T11:36:12.946Z"
   },
   {
    "duration": 296,
    "start_time": "2023-05-16T11:39:28.858Z"
   },
   {
    "duration": 300,
    "start_time": "2023-05-16T11:39:51.558Z"
   },
   {
    "duration": 297,
    "start_time": "2023-05-16T11:40:10.865Z"
   },
   {
    "duration": 539,
    "start_time": "2023-05-16T11:41:33.150Z"
   },
   {
    "duration": 316,
    "start_time": "2023-05-16T11:41:47.894Z"
   },
   {
    "duration": 294,
    "start_time": "2023-05-16T11:42:15.266Z"
   },
   {
    "duration": 298,
    "start_time": "2023-05-16T11:43:19.665Z"
   },
   {
    "duration": 314,
    "start_time": "2023-05-16T11:43:59.318Z"
   },
   {
    "duration": 304,
    "start_time": "2023-05-16T11:44:11.173Z"
   },
   {
    "duration": 310,
    "start_time": "2023-05-16T11:44:38.962Z"
   },
   {
    "duration": 311,
    "start_time": "2023-05-16T11:44:47.753Z"
   },
   {
    "duration": 327,
    "start_time": "2023-05-16T11:45:41.864Z"
   },
   {
    "duration": 332,
    "start_time": "2023-05-16T11:45:48.618Z"
   },
   {
    "duration": 10,
    "start_time": "2023-05-16T11:49:25.667Z"
   },
   {
    "duration": 158,
    "start_time": "2023-05-16T11:50:06.619Z"
   },
   {
    "duration": 1248,
    "start_time": "2023-05-16T11:54:58.978Z"
   },
   {
    "duration": 107,
    "start_time": "2023-05-16T11:55:00.228Z"
   },
   {
    "duration": 869,
    "start_time": "2023-05-16T11:55:01.555Z"
   },
   {
    "duration": 3,
    "start_time": "2023-05-16T11:55:02.426Z"
   },
   {
    "duration": 94,
    "start_time": "2023-05-16T11:55:06.754Z"
   },
   {
    "duration": 76,
    "start_time": "2023-05-16T11:55:07.749Z"
   },
   {
    "duration": 52,
    "start_time": "2023-05-16T11:55:09.114Z"
   },
   {
    "duration": 83,
    "start_time": "2023-05-16T11:55:19.511Z"
   },
   {
    "duration": 95,
    "start_time": "2023-05-16T11:55:22.290Z"
   },
   {
    "duration": 77,
    "start_time": "2023-05-16T11:55:28.387Z"
   },
   {
    "duration": 113,
    "start_time": "2023-05-16T11:58:40.234Z"
   },
   {
    "duration": 79,
    "start_time": "2023-05-16T11:59:24.506Z"
   },
   {
    "duration": 21,
    "start_time": "2023-05-16T12:05:47.214Z"
   },
   {
    "duration": 19,
    "start_time": "2023-05-16T12:07:15.246Z"
   },
   {
    "duration": 18,
    "start_time": "2023-05-16T12:08:43.854Z"
   },
   {
    "duration": 16,
    "start_time": "2023-05-16T12:10:03.078Z"
   },
   {
    "duration": 27,
    "start_time": "2023-05-16T12:10:05.084Z"
   },
   {
    "duration": 25,
    "start_time": "2023-05-16T12:10:59.150Z"
   },
   {
    "duration": 13,
    "start_time": "2023-05-16T12:11:00.454Z"
   },
   {
    "duration": 9,
    "start_time": "2023-05-16T12:12:44.651Z"
   },
   {
    "duration": 8,
    "start_time": "2023-05-16T12:12:48.190Z"
   },
   {
    "duration": 3,
    "start_time": "2023-05-16T12:16:18.048Z"
   },
   {
    "duration": 6,
    "start_time": "2023-05-16T12:16:18.053Z"
   },
   {
    "duration": 61,
    "start_time": "2023-05-16T12:16:18.061Z"
   },
   {
    "duration": 773,
    "start_time": "2023-05-16T12:16:18.124Z"
   },
   {
    "duration": 2,
    "start_time": "2023-05-16T12:16:18.900Z"
   },
   {
    "duration": 85,
    "start_time": "2023-05-16T12:16:18.903Z"
   },
   {
    "duration": 73,
    "start_time": "2023-05-16T12:16:18.990Z"
   },
   {
    "duration": 38,
    "start_time": "2023-05-16T12:16:19.065Z"
   },
   {
    "duration": 350,
    "start_time": "2023-05-16T12:16:19.105Z"
   },
   {
    "duration": 12,
    "start_time": "2023-05-16T12:16:19.457Z"
   },
   {
    "duration": 14,
    "start_time": "2023-05-16T12:16:29.754Z"
   },
   {
    "duration": 11,
    "start_time": "2023-05-16T12:16:39.692Z"
   },
   {
    "duration": 6513,
    "start_time": "2023-05-16T12:16:48.610Z"
   },
   {
    "duration": 5933,
    "start_time": "2023-05-16T12:16:55.501Z"
   },
   {
    "duration": 4,
    "start_time": "2023-05-16T12:18:05.871Z"
   },
   {
    "duration": 80,
    "start_time": "2023-05-16T12:18:25.844Z"
   },
   {
    "duration": 55,
    "start_time": "2023-05-16T12:18:34.202Z"
   },
   {
    "duration": 78,
    "start_time": "2023-05-16T12:18:42.222Z"
   },
   {
    "duration": 12,
    "start_time": "2023-05-16T12:18:59.003Z"
   },
   {
    "duration": 58,
    "start_time": "2023-05-16T12:19:09.345Z"
   },
   {
    "duration": 42,
    "start_time": "2023-05-16T12:19:18.249Z"
   },
   {
    "duration": 10,
    "start_time": "2023-05-16T12:20:16.910Z"
   },
   {
    "duration": 52,
    "start_time": "2023-05-16T12:20:30.081Z"
   },
   {
    "duration": 83,
    "start_time": "2023-05-16T12:20:56.346Z"
   },
   {
    "duration": 43,
    "start_time": "2023-05-16T12:21:25.482Z"
   },
   {
    "duration": 56,
    "start_time": "2023-05-16T12:37:10.661Z"
   },
   {
    "duration": 34,
    "start_time": "2023-05-16T12:37:27.071Z"
   },
   {
    "duration": 74,
    "start_time": "2023-05-16T13:28:05.165Z"
   },
   {
    "duration": 75,
    "start_time": "2023-05-16T13:43:36.746Z"
   },
   {
    "duration": 105,
    "start_time": "2023-05-16T13:56:14.957Z"
   },
   {
    "duration": 11,
    "start_time": "2023-05-16T13:56:22.522Z"
   },
   {
    "duration": 10,
    "start_time": "2023-05-16T13:57:31.764Z"
   },
   {
    "duration": 15,
    "start_time": "2023-05-16T13:58:02.968Z"
   },
   {
    "duration": 4,
    "start_time": "2023-05-16T13:58:16.855Z"
   },
   {
    "duration": 920,
    "start_time": "2023-05-16T14:03:21.654Z"
   },
   {
    "duration": 4,
    "start_time": "2023-05-16T14:04:49.214Z"
   },
   {
    "duration": 1272,
    "start_time": "2023-05-16T14:04:49.651Z"
   },
   {
    "duration": 49,
    "start_time": "2023-05-16T14:04:50.926Z"
   },
   {
    "duration": 343,
    "start_time": "2023-05-16T14:05:04.425Z"
   },
   {
    "duration": 988,
    "start_time": "2023-05-16T14:05:08.954Z"
   },
   {
    "duration": 15,
    "start_time": "2023-05-16T14:05:09.944Z"
   },
   {
    "duration": 96,
    "start_time": "2023-05-16T14:05:12.204Z"
   },
   {
    "duration": 105,
    "start_time": "2023-05-16T14:05:12.705Z"
   },
   {
    "duration": 63,
    "start_time": "2023-05-16T14:05:13.451Z"
   },
   {
    "duration": 460,
    "start_time": "2023-05-16T14:05:13.901Z"
   },
   {
    "duration": 20,
    "start_time": "2023-05-16T14:05:15.665Z"
   },
   {
    "duration": 52,
    "start_time": "2023-05-16T14:05:17.055Z"
   },
   {
    "duration": 15,
    "start_time": "2023-05-16T14:05:18.957Z"
   },
   {
    "duration": 8,
    "start_time": "2023-05-16T14:05:20.558Z"
   },
   {
    "duration": 658,
    "start_time": "2023-05-16T14:05:21.869Z"
   },
   {
    "duration": 264,
    "start_time": "2023-05-16T14:05:43.869Z"
   },
   {
    "duration": 230,
    "start_time": "2023-05-16T14:08:57.604Z"
   },
   {
    "duration": 180,
    "start_time": "2023-05-16T14:09:51.692Z"
   },
   {
    "duration": 280,
    "start_time": "2023-05-16T14:09:58.251Z"
   },
   {
    "duration": 246,
    "start_time": "2023-05-16T14:11:41.817Z"
   },
   {
    "duration": 194,
    "start_time": "2023-05-16T14:11:58.920Z"
   },
   {
    "duration": 140,
    "start_time": "2023-05-16T14:13:17.284Z"
   },
   {
    "duration": 212,
    "start_time": "2023-05-16T14:13:30.769Z"
   },
   {
    "duration": 296,
    "start_time": "2023-05-16T14:14:10.812Z"
   },
   {
    "duration": 17,
    "start_time": "2023-05-16T14:14:42.269Z"
   },
   {
    "duration": 24,
    "start_time": "2023-05-16T14:15:26.569Z"
   },
   {
    "duration": 24,
    "start_time": "2023-05-16T14:15:57.879Z"
   },
   {
    "duration": 32,
    "start_time": "2023-05-16T14:16:21.219Z"
   },
   {
    "duration": 39,
    "start_time": "2023-05-16T14:16:36.308Z"
   },
   {
    "duration": 24,
    "start_time": "2023-05-16T14:17:44.092Z"
   },
   {
    "duration": 34,
    "start_time": "2023-05-16T14:19:55.708Z"
   },
   {
    "duration": 173,
    "start_time": "2023-05-16T14:20:56.655Z"
   },
   {
    "duration": 22,
    "start_time": "2023-05-16T14:21:07.016Z"
   },
   {
    "duration": 30,
    "start_time": "2023-05-16T14:21:44.055Z"
   },
   {
    "duration": 30,
    "start_time": "2023-05-16T14:22:20.796Z"
   },
   {
    "duration": 3,
    "start_time": "2023-05-16T14:22:40.467Z"
   },
   {
    "duration": 15,
    "start_time": "2023-05-16T14:22:45.448Z"
   },
   {
    "duration": 7,
    "start_time": "2023-05-16T14:23:19.599Z"
   },
   {
    "duration": 8,
    "start_time": "2023-05-16T14:23:23.653Z"
   },
   {
    "duration": 204,
    "start_time": "2023-05-16T14:23:31.443Z"
   },
   {
    "duration": 16,
    "start_time": "2023-05-16T14:26:34.147Z"
   },
   {
    "duration": 17,
    "start_time": "2023-05-16T14:27:24.451Z"
   },
   {
    "duration": 65,
    "start_time": "2023-05-16T14:27:36.670Z"
   },
   {
    "duration": 19,
    "start_time": "2023-05-16T14:29:24.342Z"
   },
   {
    "duration": 4,
    "start_time": "2023-05-16T14:29:36.658Z"
   },
   {
    "duration": 27,
    "start_time": "2023-05-16T14:29:42.459Z"
   },
   {
    "duration": 12,
    "start_time": "2023-05-16T14:31:36.042Z"
   },
   {
    "duration": 10,
    "start_time": "2023-05-16T14:32:03.952Z"
   },
   {
    "duration": 9,
    "start_time": "2023-05-16T14:32:26.419Z"
   },
   {
    "duration": 774,
    "start_time": "2023-05-16T14:32:37.815Z"
   },
   {
    "duration": 20,
    "start_time": "2023-05-16T14:32:42.516Z"
   },
   {
    "duration": 214,
    "start_time": "2023-05-16T14:32:50.741Z"
   },
   {
    "duration": 392,
    "start_time": "2023-05-16T14:36:08.519Z"
   },
   {
    "duration": 783,
    "start_time": "2023-05-16T14:36:32.147Z"
   },
   {
    "duration": 800,
    "start_time": "2023-05-16T14:36:50.308Z"
   },
   {
    "duration": 6,
    "start_time": "2023-05-16T14:47:14.323Z"
   },
   {
    "duration": 14,
    "start_time": "2023-05-16T14:51:03.448Z"
   },
   {
    "duration": 11,
    "start_time": "2023-05-16T14:51:18.955Z"
   },
   {
    "duration": 3,
    "start_time": "2023-05-16T14:53:21.651Z"
   },
   {
    "duration": 21,
    "start_time": "2023-05-16T14:53:21.656Z"
   },
   {
    "duration": 54,
    "start_time": "2023-05-16T14:53:21.679Z"
   },
   {
    "duration": 840,
    "start_time": "2023-05-16T14:53:21.735Z"
   },
   {
    "duration": 4,
    "start_time": "2023-05-16T14:53:22.581Z"
   },
   {
    "duration": 147,
    "start_time": "2023-05-16T14:53:22.587Z"
   },
   {
    "duration": 97,
    "start_time": "2023-05-16T14:53:22.736Z"
   },
   {
    "duration": 62,
    "start_time": "2023-05-16T14:53:22.846Z"
   },
   {
    "duration": 396,
    "start_time": "2023-05-16T14:53:22.909Z"
   },
   {
    "duration": 8,
    "start_time": "2023-05-16T14:53:23.307Z"
   },
   {
    "duration": 52,
    "start_time": "2023-05-16T14:53:23.346Z"
   },
   {
    "duration": 10,
    "start_time": "2023-05-16T14:53:23.400Z"
   },
   {
    "duration": 10,
    "start_time": "2023-05-16T14:53:23.412Z"
   },
   {
    "duration": 100,
    "start_time": "2023-05-16T14:53:23.448Z"
   },
   {
    "duration": 0,
    "start_time": "2023-05-16T14:53:23.550Z"
   },
   {
    "duration": 13,
    "start_time": "2023-05-16T14:53:32.482Z"
   },
   {
    "duration": 9,
    "start_time": "2023-05-16T14:55:18.699Z"
   },
   {
    "duration": 13,
    "start_time": "2023-05-16T14:59:01.707Z"
   },
   {
    "duration": 4,
    "start_time": "2023-05-16T15:25:37.998Z"
   },
   {
    "duration": 18,
    "start_time": "2023-05-16T15:26:30.418Z"
   },
   {
    "duration": 10,
    "start_time": "2023-05-16T15:27:29.339Z"
   },
   {
    "duration": 19,
    "start_time": "2023-05-16T15:27:31.782Z"
   },
   {
    "duration": 10,
    "start_time": "2023-05-16T15:27:59.098Z"
   },
   {
    "duration": 1927,
    "start_time": "2023-05-16T15:28:29.097Z"
   },
   {
    "duration": 1750,
    "start_time": "2023-05-16T15:28:39.082Z"
   },
   {
    "duration": 14,
    "start_time": "2023-05-16T15:29:02.886Z"
   },
   {
    "duration": 615,
    "start_time": "2023-05-16T15:29:09.807Z"
   },
   {
    "duration": 875,
    "start_time": "2023-05-16T15:31:28.878Z"
   },
   {
    "duration": 906,
    "start_time": "2023-05-16T15:31:37.440Z"
   },
   {
    "duration": 757,
    "start_time": "2023-05-16T15:31:47.806Z"
   },
   {
    "duration": 777,
    "start_time": "2023-05-16T15:31:55.406Z"
   },
   {
    "duration": 899,
    "start_time": "2023-05-16T15:32:07.572Z"
   },
   {
    "duration": 788,
    "start_time": "2023-05-16T15:32:19.270Z"
   },
   {
    "duration": 825,
    "start_time": "2023-05-16T15:32:37.002Z"
   },
   {
    "duration": 298,
    "start_time": "2023-05-16T15:54:03.388Z"
   },
   {
    "duration": 3,
    "start_time": "2023-05-16T15:55:58.655Z"
   },
   {
    "duration": 22,
    "start_time": "2023-05-16T15:55:58.660Z"
   },
   {
    "duration": 101,
    "start_time": "2023-05-16T15:55:58.684Z"
   },
   {
    "duration": 758,
    "start_time": "2023-05-16T15:55:58.787Z"
   },
   {
    "duration": 3,
    "start_time": "2023-05-16T15:55:59.547Z"
   },
   {
    "duration": 84,
    "start_time": "2023-05-16T15:55:59.552Z"
   },
   {
    "duration": 64,
    "start_time": "2023-05-16T15:55:59.638Z"
   },
   {
    "duration": 55,
    "start_time": "2023-05-16T15:55:59.703Z"
   },
   {
    "duration": 352,
    "start_time": "2023-05-16T15:55:59.760Z"
   },
   {
    "duration": 7,
    "start_time": "2023-05-16T15:56:00.114Z"
   },
   {
    "duration": 118,
    "start_time": "2023-05-16T15:56:00.123Z"
   },
   {
    "duration": 25,
    "start_time": "2023-05-16T15:56:00.243Z"
   },
   {
    "duration": 49,
    "start_time": "2023-05-16T15:56:00.270Z"
   },
   {
    "duration": 221,
    "start_time": "2023-05-16T15:56:00.323Z"
   },
   {
    "duration": 3,
    "start_time": "2023-05-16T15:56:00.546Z"
   },
   {
    "duration": 53,
    "start_time": "2023-05-16T15:56:00.551Z"
   },
   {
    "duration": 57,
    "start_time": "2023-05-16T15:56:00.606Z"
   },
   {
    "duration": 804,
    "start_time": "2023-05-16T15:56:00.665Z"
   },
   {
    "duration": 3,
    "start_time": "2023-05-16T15:56:05.682Z"
   },
   {
    "duration": 9,
    "start_time": "2023-05-16T15:56:07.553Z"
   },
   {
    "duration": 4,
    "start_time": "2023-05-16T15:56:35.249Z"
   },
   {
    "duration": 1379,
    "start_time": "2023-05-16T15:56:35.255Z"
   },
   {
    "duration": 65,
    "start_time": "2023-05-16T15:56:36.636Z"
   },
   {
    "duration": 816,
    "start_time": "2023-05-16T15:56:36.704Z"
   },
   {
    "duration": 3,
    "start_time": "2023-05-16T15:56:37.522Z"
   },
   {
    "duration": 111,
    "start_time": "2023-05-16T15:56:37.527Z"
   },
   {
    "duration": 72,
    "start_time": "2023-05-16T15:56:37.640Z"
   },
   {
    "duration": 78,
    "start_time": "2023-05-16T15:56:37.714Z"
   },
   {
    "duration": 373,
    "start_time": "2023-05-16T15:56:37.794Z"
   },
   {
    "duration": 7,
    "start_time": "2023-05-16T15:56:38.169Z"
   },
   {
    "duration": 41,
    "start_time": "2023-05-16T15:56:38.178Z"
   },
   {
    "duration": 29,
    "start_time": "2023-05-16T15:56:38.222Z"
   },
   {
    "duration": 8,
    "start_time": "2023-05-16T15:56:38.253Z"
   },
   {
    "duration": 475,
    "start_time": "2023-05-16T15:57:00.147Z"
   },
   {
    "duration": 3,
    "start_time": "2023-05-16T15:57:04.884Z"
   },
   {
    "duration": 7,
    "start_time": "2023-05-16T15:57:12.690Z"
   },
   {
    "duration": 9,
    "start_time": "2023-05-16T15:57:17.353Z"
   },
   {
    "duration": 3,
    "start_time": "2023-05-16T15:57:50.215Z"
   },
   {
    "duration": 6,
    "start_time": "2023-05-16T15:57:51.294Z"
   },
   {
    "duration": 492,
    "start_time": "2023-05-16T15:58:22.848Z"
   },
   {
    "duration": 798,
    "start_time": "2023-05-16T15:58:49.286Z"
   },
   {
    "duration": 194,
    "start_time": "2023-05-16T16:03:01.925Z"
   },
   {
    "duration": 5,
    "start_time": "2023-05-16T16:03:13.102Z"
   },
   {
    "duration": 6,
    "start_time": "2023-05-16T16:04:12.890Z"
   },
   {
    "duration": 3,
    "start_time": "2023-05-16T16:04:30.649Z"
   },
   {
    "duration": 18720,
    "start_time": "2023-05-16T16:04:31.805Z"
   },
   {
    "duration": 215,
    "start_time": "2023-05-16T16:05:37.282Z"
   },
   {
    "duration": 222,
    "start_time": "2023-05-16T16:05:55.549Z"
   },
   {
    "duration": 18295,
    "start_time": "2023-05-16T16:06:15.586Z"
   },
   {
    "duration": 6740,
    "start_time": "2023-05-16T16:07:26.047Z"
   },
   {
    "duration": 6803,
    "start_time": "2023-05-16T16:07:42.396Z"
   },
   {
    "duration": 7197,
    "start_time": "2023-05-16T16:08:31.266Z"
   },
   {
    "duration": 25058,
    "start_time": "2023-05-16T16:09:30.254Z"
   },
   {
    "duration": 3,
    "start_time": "2023-05-16T16:09:55.315Z"
   },
   {
    "duration": 19045,
    "start_time": "2023-05-16T16:09:56.554Z"
   },
   {
    "duration": 10,
    "start_time": "2023-05-16T16:10:47.086Z"
   },
   {
    "duration": 11,
    "start_time": "2023-05-16T16:11:08.650Z"
   },
   {
    "duration": 3,
    "start_time": "2023-05-16T16:11:10.945Z"
   },
   {
    "duration": 13,
    "start_time": "2023-05-16T16:11:12.325Z"
   },
   {
    "duration": 10,
    "start_time": "2023-05-16T16:11:24.018Z"
   },
   {
    "duration": 11,
    "start_time": "2023-05-16T16:11:32.746Z"
   },
   {
    "duration": 4,
    "start_time": "2023-05-16T16:12:00.994Z"
   },
   {
    "duration": 70,
    "start_time": "2023-05-16T16:12:01.001Z"
   },
   {
    "duration": 120,
    "start_time": "2023-05-16T16:12:01.073Z"
   },
   {
    "duration": 898,
    "start_time": "2023-05-16T16:12:01.195Z"
   },
   {
    "duration": 4,
    "start_time": "2023-05-16T16:12:02.096Z"
   },
   {
    "duration": 137,
    "start_time": "2023-05-16T16:12:02.102Z"
   },
   {
    "duration": 76,
    "start_time": "2023-05-16T16:12:02.241Z"
   },
   {
    "duration": 70,
    "start_time": "2023-05-16T16:12:02.323Z"
   },
   {
    "duration": 459,
    "start_time": "2023-05-16T16:12:02.395Z"
   },
   {
    "duration": 8,
    "start_time": "2023-05-16T16:12:02.856Z"
   },
   {
    "duration": 51,
    "start_time": "2023-05-16T16:12:02.867Z"
   },
   {
    "duration": 10,
    "start_time": "2023-05-16T16:12:02.920Z"
   },
   {
    "duration": 48,
    "start_time": "2023-05-16T16:12:02.931Z"
   },
   {
    "duration": 245,
    "start_time": "2023-05-16T16:12:06.190Z"
   },
   {
    "duration": 3,
    "start_time": "2023-05-16T16:12:08.353Z"
   },
   {
    "duration": 9,
    "start_time": "2023-05-16T16:12:08.753Z"
   },
   {
    "duration": 8,
    "start_time": "2023-05-16T16:14:30.643Z"
   },
   {
    "duration": 9,
    "start_time": "2023-05-16T16:14:42.058Z"
   },
   {
    "duration": 2,
    "start_time": "2023-05-16T16:14:50.050Z"
   },
   {
    "duration": 21,
    "start_time": "2023-05-16T16:14:50.054Z"
   },
   {
    "duration": 66,
    "start_time": "2023-05-16T16:14:50.077Z"
   },
   {
    "duration": 806,
    "start_time": "2023-05-16T16:14:50.145Z"
   },
   {
    "duration": 3,
    "start_time": "2023-05-16T16:14:50.953Z"
   },
   {
    "duration": 118,
    "start_time": "2023-05-16T16:14:50.958Z"
   },
   {
    "duration": 79,
    "start_time": "2023-05-16T16:14:51.078Z"
   },
   {
    "duration": 60,
    "start_time": "2023-05-16T16:14:51.160Z"
   },
   {
    "duration": 362,
    "start_time": "2023-05-16T16:14:51.221Z"
   },
   {
    "duration": 7,
    "start_time": "2023-05-16T16:14:51.585Z"
   },
   {
    "duration": 70,
    "start_time": "2023-05-16T16:14:51.594Z"
   },
   {
    "duration": 9,
    "start_time": "2023-05-16T16:14:51.667Z"
   },
   {
    "duration": 38,
    "start_time": "2023-05-16T16:14:51.677Z"
   },
   {
    "duration": 227,
    "start_time": "2023-05-16T16:14:51.718Z"
   },
   {
    "duration": 3,
    "start_time": "2023-05-16T16:14:53.766Z"
   },
   {
    "duration": 8,
    "start_time": "2023-05-16T16:14:54.222Z"
   },
   {
    "duration": 8,
    "start_time": "2023-05-16T16:15:09.018Z"
   },
   {
    "duration": 9,
    "start_time": "2023-05-16T16:15:22.086Z"
   },
   {
    "duration": 2,
    "start_time": "2023-05-16T16:15:47.090Z"
   },
   {
    "duration": 5,
    "start_time": "2023-05-16T16:15:47.107Z"
   },
   {
    "duration": 65,
    "start_time": "2023-05-16T16:15:47.114Z"
   },
   {
    "duration": 788,
    "start_time": "2023-05-16T16:15:47.181Z"
   },
   {
    "duration": 3,
    "start_time": "2023-05-16T16:15:47.971Z"
   },
   {
    "duration": 95,
    "start_time": "2023-05-16T16:15:47.976Z"
   },
   {
    "duration": 74,
    "start_time": "2023-05-16T16:15:48.074Z"
   },
   {
    "duration": 41,
    "start_time": "2023-05-16T16:15:48.149Z"
   },
   {
    "duration": 387,
    "start_time": "2023-05-16T16:15:48.193Z"
   },
   {
    "duration": 7,
    "start_time": "2023-05-16T16:15:48.582Z"
   },
   {
    "duration": 58,
    "start_time": "2023-05-16T16:15:48.591Z"
   },
   {
    "duration": 10,
    "start_time": "2023-05-16T16:15:48.652Z"
   },
   {
    "duration": 19,
    "start_time": "2023-05-16T16:15:48.664Z"
   },
   {
    "duration": 217,
    "start_time": "2023-05-16T16:15:50.394Z"
   },
   {
    "duration": 4,
    "start_time": "2023-05-16T16:15:52.457Z"
   },
   {
    "duration": 10,
    "start_time": "2023-05-16T16:15:52.950Z"
   },
   {
    "duration": 8,
    "start_time": "2023-05-16T16:17:04.347Z"
   },
   {
    "duration": 9,
    "start_time": "2023-05-16T16:17:09.449Z"
   },
   {
    "duration": 4,
    "start_time": "2023-05-16T16:17:17.478Z"
   },
   {
    "duration": 1140,
    "start_time": "2023-05-16T16:17:17.484Z"
   },
   {
    "duration": 45,
    "start_time": "2023-05-16T16:17:18.626Z"
   },
   {
    "duration": 819,
    "start_time": "2023-05-16T16:17:18.673Z"
   },
   {
    "duration": 3,
    "start_time": "2023-05-16T16:17:19.494Z"
   },
   {
    "duration": 100,
    "start_time": "2023-05-16T16:17:19.499Z"
   },
   {
    "duration": 72,
    "start_time": "2023-05-16T16:17:19.600Z"
   },
   {
    "duration": 43,
    "start_time": "2023-05-16T16:17:19.674Z"
   },
   {
    "duration": 371,
    "start_time": "2023-05-16T16:17:19.719Z"
   },
   {
    "duration": 7,
    "start_time": "2023-05-16T16:17:20.091Z"
   },
   {
    "duration": 63,
    "start_time": "2023-05-16T16:17:20.100Z"
   },
   {
    "duration": 12,
    "start_time": "2023-05-16T16:17:20.165Z"
   },
   {
    "duration": 35,
    "start_time": "2023-05-16T16:17:20.180Z"
   },
   {
    "duration": 599,
    "start_time": "2023-05-16T16:17:20.217Z"
   },
   {
    "duration": 3,
    "start_time": "2023-05-16T16:17:20.860Z"
   },
   {
    "duration": 8,
    "start_time": "2023-05-16T16:17:21.627Z"
   },
   {
    "duration": 108,
    "start_time": "2023-05-16T16:17:24.603Z"
   },
   {
    "duration": 15,
    "start_time": "2023-05-16T16:17:37.647Z"
   },
   {
    "duration": 24,
    "start_time": "2023-05-16T16:17:57.459Z"
   },
   {
    "duration": 9,
    "start_time": "2023-05-16T16:18:44.653Z"
   },
   {
    "duration": 21,
    "start_time": "2023-05-16T16:18:49.790Z"
   },
   {
    "duration": 3,
    "start_time": "2023-05-16T16:19:27.281Z"
   },
   {
    "duration": 14,
    "start_time": "2023-05-16T16:19:27.286Z"
   },
   {
    "duration": 88,
    "start_time": "2023-05-16T16:19:27.302Z"
   },
   {
    "duration": 760,
    "start_time": "2023-05-16T16:19:27.391Z"
   },
   {
    "duration": 3,
    "start_time": "2023-05-16T16:19:28.154Z"
   },
   {
    "duration": 88,
    "start_time": "2023-05-16T16:19:28.158Z"
   },
   {
    "duration": 64,
    "start_time": "2023-05-16T16:19:28.248Z"
   },
   {
    "duration": 61,
    "start_time": "2023-05-16T16:19:28.313Z"
   },
   {
    "duration": 330,
    "start_time": "2023-05-16T16:19:28.375Z"
   },
   {
    "duration": 6,
    "start_time": "2023-05-16T16:19:28.707Z"
   },
   {
    "duration": 52,
    "start_time": "2023-05-16T16:19:28.715Z"
   },
   {
    "duration": 8,
    "start_time": "2023-05-16T16:19:28.769Z"
   },
   {
    "duration": 3,
    "start_time": "2023-05-16T16:19:28.779Z"
   },
   {
    "duration": 208,
    "start_time": "2023-05-16T16:19:28.785Z"
   },
   {
    "duration": 4,
    "start_time": "2023-05-16T16:19:28.995Z"
   },
   {
    "duration": 13,
    "start_time": "2023-05-16T16:19:29.001Z"
   },
   {
    "duration": 33,
    "start_time": "2023-05-16T16:19:29.016Z"
   },
   {
    "duration": 0,
    "start_time": "2023-05-16T16:19:29.051Z"
   },
   {
    "duration": 19,
    "start_time": "2023-05-16T16:19:41.249Z"
   },
   {
    "duration": 20,
    "start_time": "2023-05-16T16:20:03.109Z"
   },
   {
    "duration": 9,
    "start_time": "2023-05-16T16:20:10.089Z"
   },
   {
    "duration": 10,
    "start_time": "2023-05-16T16:20:23.206Z"
   },
   {
    "duration": 18,
    "start_time": "2023-05-16T16:20:35.586Z"
   },
   {
    "duration": 3,
    "start_time": "2023-05-16T16:20:46.707Z"
   },
   {
    "duration": 21,
    "start_time": "2023-05-16T16:20:46.713Z"
   },
   {
    "duration": 74,
    "start_time": "2023-05-16T16:20:46.736Z"
   },
   {
    "duration": 815,
    "start_time": "2023-05-16T16:20:46.813Z"
   },
   {
    "duration": 3,
    "start_time": "2023-05-16T16:20:47.631Z"
   },
   {
    "duration": 110,
    "start_time": "2023-05-16T16:20:47.635Z"
   },
   {
    "duration": 66,
    "start_time": "2023-05-16T16:20:47.747Z"
   },
   {
    "duration": 62,
    "start_time": "2023-05-16T16:20:47.815Z"
   },
   {
    "duration": 370,
    "start_time": "2023-05-16T16:20:47.879Z"
   },
   {
    "duration": 10,
    "start_time": "2023-05-16T16:20:48.252Z"
   },
   {
    "duration": 66,
    "start_time": "2023-05-16T16:20:48.265Z"
   },
   {
    "duration": 16,
    "start_time": "2023-05-16T16:20:48.333Z"
   },
   {
    "duration": 29,
    "start_time": "2023-05-16T16:20:48.351Z"
   },
   {
    "duration": 215,
    "start_time": "2023-05-16T16:20:48.383Z"
   },
   {
    "duration": 3,
    "start_time": "2023-05-16T16:20:48.600Z"
   },
   {
    "duration": 37,
    "start_time": "2023-05-16T16:20:48.605Z"
   },
   {
    "duration": 21,
    "start_time": "2023-05-16T16:20:49.694Z"
   },
   {
    "duration": 21,
    "start_time": "2023-05-16T16:21:01.256Z"
   },
   {
    "duration": 3,
    "start_time": "2023-05-16T16:21:04.651Z"
   },
   {
    "duration": 40,
    "start_time": "2023-05-16T16:21:04.657Z"
   },
   {
    "duration": 101,
    "start_time": "2023-05-16T16:21:04.700Z"
   },
   {
    "duration": 794,
    "start_time": "2023-05-16T16:21:04.803Z"
   },
   {
    "duration": 4,
    "start_time": "2023-05-16T16:21:05.600Z"
   },
   {
    "duration": 109,
    "start_time": "2023-05-16T16:21:05.605Z"
   },
   {
    "duration": 72,
    "start_time": "2023-05-16T16:21:05.716Z"
   },
   {
    "duration": 79,
    "start_time": "2023-05-16T16:21:05.789Z"
   },
   {
    "duration": 378,
    "start_time": "2023-05-16T16:21:05.869Z"
   },
   {
    "duration": 7,
    "start_time": "2023-05-16T16:21:06.249Z"
   },
   {
    "duration": 86,
    "start_time": "2023-05-16T16:21:06.257Z"
   },
   {
    "duration": 15,
    "start_time": "2023-05-16T16:21:06.345Z"
   },
   {
    "duration": 21,
    "start_time": "2023-05-16T16:21:06.362Z"
   },
   {
    "duration": 239,
    "start_time": "2023-05-16T16:21:06.385Z"
   },
   {
    "duration": 19,
    "start_time": "2023-05-16T16:21:06.631Z"
   },
   {
    "duration": 9,
    "start_time": "2023-05-16T16:21:07.522Z"
   },
   {
    "duration": 18,
    "start_time": "2023-05-16T16:21:11.130Z"
   },
   {
    "duration": 824,
    "start_time": "2023-05-16T16:21:21.545Z"
   },
   {
    "duration": 882,
    "start_time": "2023-05-16T16:22:18.653Z"
   },
   {
    "duration": 199,
    "start_time": "2023-05-16T16:22:39.336Z"
   },
   {
    "duration": 331,
    "start_time": "2023-05-16T16:23:02.238Z"
   },
   {
    "duration": 80,
    "start_time": "2023-05-16T16:23:39.330Z"
   },
   {
    "duration": 916,
    "start_time": "2023-05-16T16:23:43.052Z"
   },
   {
    "duration": 786,
    "start_time": "2023-05-16T16:23:46.851Z"
   },
   {
    "duration": 293,
    "start_time": "2023-05-16T16:24:20.455Z"
   },
   {
    "duration": 260,
    "start_time": "2023-05-16T16:24:29.361Z"
   },
   {
    "duration": 242,
    "start_time": "2023-05-16T16:24:37.018Z"
   },
   {
    "duration": 857,
    "start_time": "2023-05-16T16:24:53.446Z"
   },
   {
    "duration": 762,
    "start_time": "2023-05-16T16:26:06.886Z"
   },
   {
    "duration": 797,
    "start_time": "2023-05-16T16:26:14.693Z"
   },
   {
    "duration": 1240,
    "start_time": "2023-05-16T16:27:09.285Z"
   },
   {
    "duration": 1164,
    "start_time": "2023-05-16T16:28:37.351Z"
   },
   {
    "duration": 11,
    "start_time": "2023-05-16T16:29:11.550Z"
   },
   {
    "duration": 1016,
    "start_time": "2023-05-16T16:29:18.522Z"
   },
   {
    "duration": 2137,
    "start_time": "2023-05-16T16:29:31.490Z"
   },
   {
    "duration": 2174,
    "start_time": "2023-05-16T16:30:51.450Z"
   },
   {
    "duration": 2170,
    "start_time": "2023-05-16T16:31:01.448Z"
   },
   {
    "duration": 1866,
    "start_time": "2023-05-16T16:31:07.901Z"
   },
   {
    "duration": 1918,
    "start_time": "2023-05-16T16:31:16.349Z"
   },
   {
    "duration": 3,
    "start_time": "2023-05-16T16:37:57.020Z"
   },
   {
    "duration": 182,
    "start_time": "2023-05-16T16:40:04.743Z"
   },
   {
    "duration": 200,
    "start_time": "2023-05-16T16:40:07.549Z"
   },
   {
    "duration": 352,
    "start_time": "2023-05-16T16:40:15.449Z"
   },
   {
    "duration": 3,
    "start_time": "2023-05-16T16:40:40.917Z"
   },
   {
    "duration": 3,
    "start_time": "2023-05-16T16:40:40.950Z"
   },
   {
    "duration": 48,
    "start_time": "2023-05-16T16:40:40.956Z"
   },
   {
    "duration": 749,
    "start_time": "2023-05-16T16:40:41.007Z"
   },
   {
    "duration": 4,
    "start_time": "2023-05-16T16:40:41.758Z"
   },
   {
    "duration": 84,
    "start_time": "2023-05-16T16:40:41.765Z"
   },
   {
    "duration": 67,
    "start_time": "2023-05-16T16:40:41.851Z"
   },
   {
    "duration": 66,
    "start_time": "2023-05-16T16:40:41.921Z"
   },
   {
    "duration": 379,
    "start_time": "2023-05-16T16:40:41.989Z"
   },
   {
    "duration": 7,
    "start_time": "2023-05-16T16:40:42.371Z"
   },
   {
    "duration": 119,
    "start_time": "2023-05-16T16:40:42.380Z"
   },
   {
    "duration": 42,
    "start_time": "2023-05-16T16:40:42.502Z"
   },
   {
    "duration": 59,
    "start_time": "2023-05-16T16:40:42.547Z"
   },
   {
    "duration": 186,
    "start_time": "2023-05-16T16:40:44.781Z"
   },
   {
    "duration": 205,
    "start_time": "2023-05-16T16:40:46.689Z"
   },
   {
    "duration": 215,
    "start_time": "2023-05-16T16:40:47.623Z"
   },
   {
    "duration": 5,
    "start_time": "2023-05-16T16:42:06.497Z"
   },
   {
    "duration": 8,
    "start_time": "2023-05-16T16:42:15.737Z"
   },
   {
    "duration": 6,
    "start_time": "2023-05-16T16:42:22.347Z"
   },
   {
    "duration": 10,
    "start_time": "2023-05-16T16:43:51.989Z"
   },
   {
    "duration": 3,
    "start_time": "2023-05-16T16:43:54.996Z"
   },
   {
    "duration": 8,
    "start_time": "2023-05-16T16:43:55.389Z"
   },
   {
    "duration": 22,
    "start_time": "2023-05-16T16:44:11.315Z"
   },
   {
    "duration": 27,
    "start_time": "2023-05-16T16:45:17.146Z"
   },
   {
    "duration": 18,
    "start_time": "2023-05-16T16:46:48.651Z"
   },
   {
    "duration": 22,
    "start_time": "2023-05-16T16:46:54.398Z"
   },
   {
    "duration": 234,
    "start_time": "2023-05-16T16:47:23.484Z"
   },
   {
    "duration": 238,
    "start_time": "2023-05-16T16:47:30.696Z"
   },
   {
    "duration": 272,
    "start_time": "2023-05-16T16:47:39.150Z"
   },
   {
    "duration": 1921,
    "start_time": "2023-05-16T16:48:19.208Z"
   },
   {
    "duration": 233,
    "start_time": "2023-05-16T16:48:33.684Z"
   },
   {
    "duration": 2038,
    "start_time": "2023-05-16T16:48:55.992Z"
   },
   {
    "duration": 3,
    "start_time": "2023-05-16T16:50:49.552Z"
   },
   {
    "duration": 179,
    "start_time": "2023-05-16T16:51:38.817Z"
   },
   {
    "duration": 1955,
    "start_time": "2023-05-16T16:51:47.247Z"
   },
   {
    "duration": 537,
    "start_time": "2023-05-16T16:51:58.183Z"
   },
   {
    "duration": 1962,
    "start_time": "2023-05-16T16:53:17.151Z"
   },
   {
    "duration": 1881,
    "start_time": "2023-05-16T16:53:23.258Z"
   },
   {
    "duration": 198,
    "start_time": "2023-05-16T16:53:29.848Z"
   },
   {
    "duration": 185,
    "start_time": "2023-05-16T16:53:35.805Z"
   },
   {
    "duration": 2248,
    "start_time": "2023-05-16T16:54:41.704Z"
   },
   {
    "duration": 2166,
    "start_time": "2023-05-16T16:54:48.914Z"
   },
   {
    "duration": 2146,
    "start_time": "2023-05-16T16:55:01.551Z"
   },
   {
    "duration": 2050,
    "start_time": "2023-05-16T16:55:16.896Z"
   },
   {
    "duration": 2173,
    "start_time": "2023-05-16T16:55:29.089Z"
   },
   {
    "duration": 609,
    "start_time": "2023-05-16T16:56:38.307Z"
   },
   {
    "duration": 585,
    "start_time": "2023-05-16T16:56:43.845Z"
   },
   {
    "duration": 855,
    "start_time": "2023-05-16T16:56:53.197Z"
   },
   {
    "duration": 634,
    "start_time": "2023-05-16T16:57:31.169Z"
   },
   {
    "duration": 1964,
    "start_time": "2023-05-16T16:57:54.052Z"
   },
   {
    "duration": 2224,
    "start_time": "2023-05-16T16:58:22.408Z"
   },
   {
    "duration": 2020,
    "start_time": "2023-05-16T16:58:26.605Z"
   },
   {
    "duration": 1994,
    "start_time": "2023-05-16T16:59:43.847Z"
   },
   {
    "duration": 2071,
    "start_time": "2023-05-16T17:00:08.613Z"
   },
   {
    "duration": 2540,
    "start_time": "2023-05-16T17:00:45.348Z"
   },
   {
    "duration": 2416,
    "start_time": "2023-05-16T17:01:13.402Z"
   },
   {
    "duration": 2423,
    "start_time": "2023-05-16T17:01:27.496Z"
   },
   {
    "duration": 2774,
    "start_time": "2023-05-16T17:02:22.420Z"
   },
   {
    "duration": 12,
    "start_time": "2023-05-16T17:03:16.204Z"
   },
   {
    "duration": 212,
    "start_time": "2023-05-16T17:03:21.849Z"
   },
   {
    "duration": 2463,
    "start_time": "2023-05-16T17:05:07.048Z"
   },
   {
    "duration": 2755,
    "start_time": "2023-05-16T17:05:50.213Z"
   },
   {
    "duration": 3105,
    "start_time": "2023-05-16T17:06:07.122Z"
   },
   {
    "duration": 200,
    "start_time": "2023-05-16T17:06:50.284Z"
   },
   {
    "duration": 96,
    "start_time": "2023-05-16T17:07:43.288Z"
   },
   {
    "duration": 221,
    "start_time": "2023-05-16T17:08:01.285Z"
   },
   {
    "duration": 401,
    "start_time": "2023-05-16T17:08:09.448Z"
   },
   {
    "duration": 172,
    "start_time": "2023-05-16T17:08:54.650Z"
   },
   {
    "duration": 173,
    "start_time": "2023-05-16T17:09:43.399Z"
   },
   {
    "duration": 234,
    "start_time": "2023-05-16T17:11:51.615Z"
   },
   {
    "duration": 119,
    "start_time": "2023-05-16T17:12:52.753Z"
   },
   {
    "duration": 243,
    "start_time": "2023-05-16T17:12:58.222Z"
   },
   {
    "duration": 83,
    "start_time": "2023-05-16T17:13:31.192Z"
   },
   {
    "duration": 164,
    "start_time": "2023-05-16T17:13:39.883Z"
   },
   {
    "duration": 235,
    "start_time": "2023-05-16T17:14:35.719Z"
   },
   {
    "duration": 251,
    "start_time": "2023-05-16T17:14:53.084Z"
   },
   {
    "duration": 249,
    "start_time": "2023-05-16T17:15:36.011Z"
   },
   {
    "duration": 261,
    "start_time": "2023-05-16T17:16:27.441Z"
   },
   {
    "duration": 2419,
    "start_time": "2023-05-16T17:16:57.165Z"
   },
   {
    "duration": 2524,
    "start_time": "2023-05-16T17:17:19.255Z"
   },
   {
    "duration": 120,
    "start_time": "2023-05-16T17:20:29.304Z"
   },
   {
    "duration": 404,
    "start_time": "2023-05-16T17:53:33.743Z"
   },
   {
    "duration": 709,
    "start_time": "2023-05-16T17:53:41.843Z"
   },
   {
    "duration": 1205,
    "start_time": "2023-05-16T17:54:06.379Z"
   },
   {
    "duration": 1000,
    "start_time": "2023-05-16T17:54:34.618Z"
   },
   {
    "duration": 1197,
    "start_time": "2023-05-16T17:55:40.987Z"
   },
   {
    "duration": 1158,
    "start_time": "2023-05-16T17:55:55.005Z"
   },
   {
    "duration": 649,
    "start_time": "2023-05-16T17:56:06.597Z"
   },
   {
    "duration": 1139,
    "start_time": "2023-05-16T17:56:11.037Z"
   },
   {
    "duration": 1020,
    "start_time": "2023-05-16T17:58:04.612Z"
   },
   {
    "duration": 1289,
    "start_time": "2023-05-16T17:59:41.482Z"
   },
   {
    "duration": 1141,
    "start_time": "2023-05-16T17:59:50.683Z"
   },
   {
    "duration": 1052,
    "start_time": "2023-05-16T18:00:31.975Z"
   },
   {
    "duration": 1122,
    "start_time": "2023-05-16T18:02:10.184Z"
   },
   {
    "duration": 5,
    "start_time": "2023-05-16T18:03:25.040Z"
   },
   {
    "duration": 1111,
    "start_time": "2023-05-16T18:03:28.395Z"
   },
   {
    "duration": 77,
    "start_time": "2023-05-16T18:12:52.385Z"
   },
   {
    "duration": 1217,
    "start_time": "2023-05-16T18:12:59.121Z"
   },
   {
    "duration": 5,
    "start_time": "2023-05-16T18:13:34.235Z"
   },
   {
    "duration": 982,
    "start_time": "2023-05-16T18:13:36.900Z"
   },
   {
    "duration": 1286,
    "start_time": "2023-05-16T18:13:48.290Z"
   },
   {
    "duration": 978,
    "start_time": "2023-05-16T18:13:51.143Z"
   },
   {
    "duration": 4,
    "start_time": "2023-05-16T18:15:27.837Z"
   },
   {
    "duration": 1297,
    "start_time": "2023-05-16T18:15:28.403Z"
   },
   {
    "duration": 980,
    "start_time": "2023-05-16T18:15:33.541Z"
   },
   {
    "duration": 10,
    "start_time": "2023-05-16T18:16:03.522Z"
   },
   {
    "duration": 9,
    "start_time": "2023-05-16T18:16:15.823Z"
   },
   {
    "duration": 1314,
    "start_time": "2023-05-16T18:16:33.890Z"
   },
   {
    "duration": 12,
    "start_time": "2023-05-16T18:25:13.197Z"
   },
   {
    "duration": 7,
    "start_time": "2023-05-16T18:25:18.587Z"
   },
   {
    "duration": 340,
    "start_time": "2023-05-16T18:25:20.283Z"
   },
   {
    "duration": 6,
    "start_time": "2023-05-16T18:25:44.858Z"
   },
   {
    "duration": 4407,
    "start_time": "2023-05-16T18:25:50.241Z"
   },
   {
    "duration": 7,
    "start_time": "2023-05-16T18:26:05.609Z"
   },
   {
    "duration": 3208,
    "start_time": "2023-05-16T18:26:13.087Z"
   },
   {
    "duration": 7,
    "start_time": "2023-05-16T18:26:34.487Z"
   },
   {
    "duration": 3030,
    "start_time": "2023-05-16T18:27:04.943Z"
   },
   {
    "duration": 3388,
    "start_time": "2023-05-16T18:27:40.105Z"
   },
   {
    "duration": 6,
    "start_time": "2023-05-16T18:28:00.123Z"
   },
   {
    "duration": 3437,
    "start_time": "2023-05-16T18:28:00.614Z"
   },
   {
    "duration": 5,
    "start_time": "2023-05-16T18:28:37.672Z"
   },
   {
    "duration": 4431,
    "start_time": "2023-05-16T18:28:39.652Z"
   },
   {
    "duration": 3387,
    "start_time": "2023-05-16T18:28:44.086Z"
   },
   {
    "duration": 4006,
    "start_time": "2023-05-16T18:28:47.477Z"
   },
   {
    "duration": 126,
    "start_time": "2023-05-16T18:30:50.542Z"
   },
   {
    "duration": 12,
    "start_time": "2023-05-16T18:31:06.240Z"
   },
   {
    "duration": 17,
    "start_time": "2023-05-16T18:31:23.542Z"
   },
   {
    "duration": 16,
    "start_time": "2023-05-16T18:32:01.512Z"
   },
   {
    "duration": 1204,
    "start_time": "2023-05-16T18:32:31.942Z"
   },
   {
    "duration": 1713,
    "start_time": "2023-05-16T18:32:51.953Z"
   },
   {
    "duration": 4,
    "start_time": "2023-05-16T18:33:35.083Z"
   },
   {
    "duration": 8,
    "start_time": "2023-05-16T18:33:52.795Z"
   },
   {
    "duration": 1839,
    "start_time": "2023-05-16T18:45:47.499Z"
   },
   {
    "duration": 19,
    "start_time": "2023-05-16T18:46:45.241Z"
   },
   {
    "duration": 15,
    "start_time": "2023-05-16T18:47:10.114Z"
   },
   {
    "duration": 12,
    "start_time": "2023-05-16T18:47:34.059Z"
   },
   {
    "duration": 12,
    "start_time": "2023-05-16T18:48:15.932Z"
   },
   {
    "duration": 10,
    "start_time": "2023-05-16T18:48:31.887Z"
   },
   {
    "duration": 8388,
    "start_time": "2023-05-16T18:48:35.067Z"
   },
   {
    "duration": 9,
    "start_time": "2023-05-16T18:49:05.712Z"
   },
   {
    "duration": 12,
    "start_time": "2023-05-16T18:49:24.264Z"
   },
   {
    "duration": 2896,
    "start_time": "2023-05-16T18:49:32.091Z"
   },
   {
    "duration": 14,
    "start_time": "2023-05-16T18:50:01.515Z"
   },
   {
    "duration": 18,
    "start_time": "2023-05-16T18:50:11.681Z"
   },
   {
    "duration": 19,
    "start_time": "2023-05-16T18:50:31.538Z"
   },
   {
    "duration": 2500,
    "start_time": "2023-05-16T18:50:35.222Z"
   },
   {
    "duration": 29,
    "start_time": "2023-05-16T18:54:15.486Z"
   },
   {
    "duration": 108,
    "start_time": "2023-05-16T18:58:16.199Z"
   },
   {
    "duration": 2744,
    "start_time": "2023-05-16T19:01:41.292Z"
   },
   {
    "duration": 16,
    "start_time": "2023-05-16T19:02:00.903Z"
   },
   {
    "duration": 10,
    "start_time": "2023-05-16T19:02:07.892Z"
   },
   {
    "duration": 6,
    "start_time": "2023-05-16T19:02:23.313Z"
   },
   {
    "duration": 18,
    "start_time": "2023-05-16T19:02:30.080Z"
   },
   {
    "duration": 3470,
    "start_time": "2023-05-16T19:02:32.136Z"
   },
   {
    "duration": 3202,
    "start_time": "2023-05-16T19:02:50.085Z"
   },
   {
    "duration": 3640,
    "start_time": "2023-05-16T19:03:02.051Z"
   },
   {
    "duration": 2963,
    "start_time": "2023-05-16T19:03:44.124Z"
   },
   {
    "duration": 7,
    "start_time": "2023-05-16T19:05:21.693Z"
   },
   {
    "duration": 1619,
    "start_time": "2023-05-16T19:05:27.736Z"
   },
   {
    "duration": 1259,
    "start_time": "2023-05-16T19:05:37.605Z"
   },
   {
    "duration": 97,
    "start_time": "2023-05-16T19:08:10.620Z"
   },
   {
    "duration": 3,
    "start_time": "2023-05-16T19:17:49.035Z"
   },
   {
    "duration": 13,
    "start_time": "2023-05-16T19:17:54.111Z"
   },
   {
    "duration": 10,
    "start_time": "2023-05-16T19:18:04.396Z"
   },
   {
    "duration": 5,
    "start_time": "2023-05-16T19:18:08.565Z"
   },
   {
    "duration": 16,
    "start_time": "2023-05-16T19:18:37.987Z"
   },
   {
    "duration": 2890,
    "start_time": "2023-05-16T19:18:44.416Z"
   },
   {
    "duration": 17,
    "start_time": "2023-05-16T19:19:17.495Z"
   },
   {
    "duration": 7,
    "start_time": "2023-05-16T19:19:55.788Z"
   },
   {
    "duration": 3378,
    "start_time": "2023-05-16T19:19:56.730Z"
   },
   {
    "duration": 11,
    "start_time": "2023-05-16T19:21:23.543Z"
   },
   {
    "duration": 3523,
    "start_time": "2023-05-16T19:21:23.556Z"
   },
   {
    "duration": 118,
    "start_time": "2023-05-16T19:21:53.897Z"
   },
   {
    "duration": 4059,
    "start_time": "2023-05-16T19:21:54.679Z"
   },
   {
    "duration": 5,
    "start_time": "2023-05-16T19:22:11.598Z"
   },
   {
    "duration": 3581,
    "start_time": "2023-05-16T19:22:12.099Z"
   },
   {
    "duration": 4,
    "start_time": "2023-05-16T19:23:41.626Z"
   },
   {
    "duration": 7,
    "start_time": "2023-05-16T19:23:42.118Z"
   },
   {
    "duration": 3438,
    "start_time": "2023-05-16T19:23:43.739Z"
   },
   {
    "duration": 3194,
    "start_time": "2023-05-16T19:23:47.179Z"
   },
   {
    "duration": 3626,
    "start_time": "2023-05-16T19:23:50.378Z"
   },
   {
    "duration": 5,
    "start_time": "2023-05-16T19:44:01.621Z"
   },
   {
    "duration": 13,
    "start_time": "2023-05-16T19:44:51.638Z"
   },
   {
    "duration": 12,
    "start_time": "2023-05-16T19:44:55.466Z"
   },
   {
    "duration": 8,
    "start_time": "2023-05-16T19:45:02.363Z"
   },
   {
    "duration": 19,
    "start_time": "2023-05-16T19:45:11.791Z"
   },
   {
    "duration": 113,
    "start_time": "2023-05-16T20:04:25.811Z"
   },
   {
    "duration": 3,
    "start_time": "2023-05-16T20:04:37.688Z"
   },
   {
    "duration": 109,
    "start_time": "2023-05-16T20:05:32.740Z"
   },
   {
    "duration": 201,
    "start_time": "2023-05-16T20:05:37.641Z"
   },
   {
    "duration": 297,
    "start_time": "2023-05-16T20:05:47.016Z"
   },
   {
    "duration": 283,
    "start_time": "2023-05-16T20:06:23.057Z"
   },
   {
    "duration": 3,
    "start_time": "2023-05-17T10:25:26.888Z"
   },
   {
    "duration": 1555,
    "start_time": "2023-05-17T10:25:27.324Z"
   },
   {
    "duration": 36,
    "start_time": "2023-05-17T10:25:29.647Z"
   },
   {
    "duration": 3483,
    "start_time": "2023-05-17T10:25:32.477Z"
   },
   {
    "duration": 3,
    "start_time": "2023-05-17T10:25:35.962Z"
   },
   {
    "duration": 82,
    "start_time": "2023-05-17T10:25:36.592Z"
   },
   {
    "duration": 95,
    "start_time": "2023-05-17T10:25:37.207Z"
   },
   {
    "duration": 52,
    "start_time": "2023-05-17T10:25:38.037Z"
   },
   {
    "duration": 349,
    "start_time": "2023-05-17T10:25:38.629Z"
   },
   {
    "duration": 7,
    "start_time": "2023-05-17T10:25:39.497Z"
   },
   {
    "duration": 35,
    "start_time": "2023-05-17T10:25:40.727Z"
   },
   {
    "duration": 9,
    "start_time": "2023-05-17T10:25:42.500Z"
   },
   {
    "duration": 4,
    "start_time": "2023-05-17T10:25:44.021Z"
   },
   {
    "duration": 351,
    "start_time": "2023-05-17T10:25:45.785Z"
   },
   {
    "duration": 274,
    "start_time": "2023-05-17T10:27:00.804Z"
   },
   {
    "duration": 242,
    "start_time": "2023-05-17T10:28:37.407Z"
   },
   {
    "duration": 260,
    "start_time": "2023-05-17T10:30:06.956Z"
   },
   {
    "duration": 520,
    "start_time": "2023-05-17T10:43:16.652Z"
   },
   {
    "duration": 604,
    "start_time": "2023-05-17T10:43:29.529Z"
   },
   {
    "duration": 652,
    "start_time": "2023-05-17T10:43:58.195Z"
   },
   {
    "duration": 609,
    "start_time": "2023-05-17T10:44:03.821Z"
   },
   {
    "duration": 527,
    "start_time": "2023-05-17T10:44:24.502Z"
   },
   {
    "duration": 501,
    "start_time": "2023-05-17T10:44:32.651Z"
   },
   {
    "duration": 537,
    "start_time": "2023-05-17T10:44:40.992Z"
   },
   {
    "duration": 511,
    "start_time": "2023-05-17T10:45:00.044Z"
   },
   {
    "duration": 539,
    "start_time": "2023-05-17T10:45:15.093Z"
   },
   {
    "duration": 499,
    "start_time": "2023-05-17T10:45:31.955Z"
   },
   {
    "duration": 262,
    "start_time": "2023-05-17T10:45:56.058Z"
   },
   {
    "duration": 271,
    "start_time": "2023-05-17T10:46:00.733Z"
   },
   {
    "duration": 262,
    "start_time": "2023-05-17T10:46:12.985Z"
   },
   {
    "duration": 265,
    "start_time": "2023-05-17T10:46:34.553Z"
   },
   {
    "duration": 5,
    "start_time": "2023-05-17T10:46:36.313Z"
   },
   {
    "duration": 3,
    "start_time": "2023-05-17T10:46:36.782Z"
   },
   {
    "duration": 3,
    "start_time": "2023-05-17T10:46:37.702Z"
   },
   {
    "duration": 7,
    "start_time": "2023-05-17T10:46:38.140Z"
   },
   {
    "duration": 17,
    "start_time": "2023-05-17T10:46:39.494Z"
   },
   {
    "duration": 3,
    "start_time": "2023-05-17T10:46:42.870Z"
   },
   {
    "duration": 5,
    "start_time": "2023-05-17T10:46:43.706Z"
   },
   {
    "duration": 2629,
    "start_time": "2023-05-17T10:46:45.940Z"
   },
   {
    "duration": 9,
    "start_time": "2023-05-17T10:46:48.571Z"
   },
   {
    "duration": 0,
    "start_time": "2023-05-17T10:46:48.581Z"
   },
   {
    "duration": 3,
    "start_time": "2023-05-17T10:47:53.640Z"
   },
   {
    "duration": 2504,
    "start_time": "2023-05-17T10:47:56.990Z"
   },
   {
    "duration": 2683,
    "start_time": "2023-05-17T10:47:59.496Z"
   },
   {
    "duration": 1267,
    "start_time": "2023-05-17T10:48:07.716Z"
   },
   {
    "duration": 13,
    "start_time": "2023-05-17T10:48:16.292Z"
   },
   {
    "duration": 2198,
    "start_time": "2023-05-17T10:48:17.099Z"
   },
   {
    "duration": 4,
    "start_time": "2023-05-17T10:48:25.743Z"
   },
   {
    "duration": 3,
    "start_time": "2023-05-17T10:48:26.883Z"
   },
   {
    "duration": 5,
    "start_time": "2023-05-17T11:10:07.540Z"
   },
   {
    "duration": 6,
    "start_time": "2023-05-17T11:10:17.088Z"
   },
   {
    "duration": 20,
    "start_time": "2023-05-17T11:10:56.429Z"
   },
   {
    "duration": 15,
    "start_time": "2023-05-17T11:11:04.989Z"
   },
   {
    "duration": 6,
    "start_time": "2023-05-17T11:11:21.787Z"
   },
   {
    "duration": 14,
    "start_time": "2023-05-17T11:11:38.396Z"
   },
   {
    "duration": 63,
    "start_time": "2023-05-17T11:12:04.583Z"
   },
   {
    "duration": 8,
    "start_time": "2023-05-17T11:12:11.042Z"
   },
   {
    "duration": 15,
    "start_time": "2023-05-17T11:12:21.991Z"
   },
   {
    "duration": 10,
    "start_time": "2023-05-17T11:12:36.988Z"
   },
   {
    "duration": 4,
    "start_time": "2023-05-17T11:12:50.418Z"
   },
   {
    "duration": 179,
    "start_time": "2023-05-17T11:14:38.472Z"
   },
   {
    "duration": 3,
    "start_time": "2023-05-17T11:20:01.984Z"
   },
   {
    "duration": 10,
    "start_time": "2023-05-17T11:24:25.586Z"
   },
   {
    "duration": 10,
    "start_time": "2023-05-17T11:24:32.116Z"
   },
   {
    "duration": 9,
    "start_time": "2023-05-17T11:24:41.207Z"
   },
   {
    "duration": 4,
    "start_time": "2023-05-17T11:24:58.190Z"
   },
   {
    "duration": 12,
    "start_time": "2023-05-17T11:25:23.590Z"
   },
   {
    "duration": 6,
    "start_time": "2023-05-17T11:25:28.535Z"
   },
   {
    "duration": 6,
    "start_time": "2023-05-17T11:25:34.585Z"
   },
   {
    "duration": 10,
    "start_time": "2023-05-17T11:26:20.106Z"
   },
   {
    "duration": 88,
    "start_time": "2023-05-17T11:26:31.220Z"
   },
   {
    "duration": 11,
    "start_time": "2023-05-17T11:26:44.137Z"
   },
   {
    "duration": 6,
    "start_time": "2023-05-17T11:26:50.709Z"
   },
   {
    "duration": 18,
    "start_time": "2023-05-17T11:27:27.821Z"
   },
   {
    "duration": 24,
    "start_time": "2023-05-17T11:27:34.741Z"
   },
   {
    "duration": 13,
    "start_time": "2023-05-17T11:28:17.387Z"
   },
   {
    "duration": 4,
    "start_time": "2023-05-17T11:29:19.598Z"
   },
   {
    "duration": 7,
    "start_time": "2023-05-17T11:29:23.599Z"
   },
   {
    "duration": 6,
    "start_time": "2023-05-17T11:29:31.387Z"
   },
   {
    "duration": 7,
    "start_time": "2023-05-17T11:29:39.392Z"
   },
   {
    "duration": 12,
    "start_time": "2023-05-17T11:29:50.824Z"
   },
   {
    "duration": 10,
    "start_time": "2023-05-17T11:30:04.238Z"
   },
   {
    "duration": 62,
    "start_time": "2023-05-17T11:35:35.414Z"
   },
   {
    "duration": 7,
    "start_time": "2023-05-17T11:35:45.848Z"
   },
   {
    "duration": 6,
    "start_time": "2023-05-17T11:36:06.882Z"
   },
   {
    "duration": 7,
    "start_time": "2023-05-17T11:38:21.948Z"
   },
   {
    "duration": 66,
    "start_time": "2023-05-17T11:38:34.336Z"
   },
   {
    "duration": 8,
    "start_time": "2023-05-17T11:38:47.893Z"
   },
   {
    "duration": 11,
    "start_time": "2023-05-17T11:40:38.631Z"
   },
   {
    "duration": 5,
    "start_time": "2023-05-17T11:40:44.907Z"
   },
   {
    "duration": 11,
    "start_time": "2023-05-17T11:45:48.523Z"
   },
   {
    "duration": 2,
    "start_time": "2023-05-17T11:46:03.590Z"
   },
   {
    "duration": 17,
    "start_time": "2023-05-17T11:46:18.030Z"
   },
   {
    "duration": 57,
    "start_time": "2023-05-17T11:46:39.238Z"
   },
   {
    "duration": 16,
    "start_time": "2023-05-17T11:47:23.393Z"
   },
   {
    "duration": 8,
    "start_time": "2023-05-17T11:47:34.603Z"
   },
   {
    "duration": 14,
    "start_time": "2023-05-17T11:47:46.493Z"
   },
   {
    "duration": 3,
    "start_time": "2023-05-17T11:48:43.147Z"
   },
   {
    "duration": 9,
    "start_time": "2023-05-17T11:51:12.900Z"
   },
   {
    "duration": 13,
    "start_time": "2023-05-17T11:52:14.426Z"
   },
   {
    "duration": 9,
    "start_time": "2023-05-17T11:52:36.833Z"
   },
   {
    "duration": 212,
    "start_time": "2023-05-17T11:54:54.530Z"
   },
   {
    "duration": 37,
    "start_time": "2023-05-17T11:58:35.493Z"
   },
   {
    "duration": 232,
    "start_time": "2023-05-17T11:59:18.803Z"
   },
   {
    "duration": 207,
    "start_time": "2023-05-17T11:59:31.896Z"
   },
   {
    "duration": 1418,
    "start_time": "2023-05-17T11:59:40.994Z"
   },
   {
    "duration": 1573,
    "start_time": "2023-05-17T12:01:02.132Z"
   },
   {
    "duration": 1542,
    "start_time": "2023-05-17T12:02:40.489Z"
   },
   {
    "duration": 25,
    "start_time": "2023-05-17T12:02:48.882Z"
   },
   {
    "duration": 58,
    "start_time": "2023-05-17T12:06:37.097Z"
   },
   {
    "duration": 34,
    "start_time": "2023-05-17T12:06:50.208Z"
   },
   {
    "duration": 3,
    "start_time": "2023-05-17T12:09:34.511Z"
   },
   {
    "duration": 3,
    "start_time": "2023-05-17T12:11:52.614Z"
   },
   {
    "duration": 12,
    "start_time": "2023-05-17T12:11:52.619Z"
   },
   {
    "duration": 65,
    "start_time": "2023-05-17T12:11:52.634Z"
   },
   {
    "duration": 848,
    "start_time": "2023-05-17T12:11:52.700Z"
   },
   {
    "duration": 4,
    "start_time": "2023-05-17T12:11:53.552Z"
   },
   {
    "duration": 267,
    "start_time": "2023-05-17T12:11:53.558Z"
   },
   {
    "duration": 77,
    "start_time": "2023-05-17T12:11:53.828Z"
   },
   {
    "duration": 89,
    "start_time": "2023-05-17T12:11:53.907Z"
   },
   {
    "duration": 366,
    "start_time": "2023-05-17T12:11:53.998Z"
   },
   {
    "duration": 8,
    "start_time": "2023-05-17T12:11:54.367Z"
   },
   {
    "duration": 65,
    "start_time": "2023-05-17T12:11:54.378Z"
   },
   {
    "duration": 10,
    "start_time": "2023-05-17T12:11:54.445Z"
   },
   {
    "duration": 8,
    "start_time": "2023-05-17T12:11:54.456Z"
   },
   {
    "duration": 32,
    "start_time": "2023-05-17T12:12:00.537Z"
   },
   {
    "duration": 31,
    "start_time": "2023-05-17T12:12:30.010Z"
   },
   {
    "duration": 70,
    "start_time": "2023-05-17T12:13:57.045Z"
   },
   {
    "duration": 39,
    "start_time": "2023-05-17T12:14:01.509Z"
   },
   {
    "duration": 41,
    "start_time": "2023-05-17T12:19:11.008Z"
   },
   {
    "duration": 35,
    "start_time": "2023-05-17T12:24:05.422Z"
   },
   {
    "duration": 21,
    "start_time": "2023-05-17T12:24:08.228Z"
   },
   {
    "duration": 138,
    "start_time": "2023-05-17T12:25:47.518Z"
   },
   {
    "duration": 1384,
    "start_time": "2023-05-17T12:25:58.124Z"
   },
   {
    "duration": 3236,
    "start_time": "2023-05-17T12:26:30.796Z"
   },
   {
    "duration": 16,
    "start_time": "2023-05-17T12:56:28.600Z"
   },
   {
    "duration": 17,
    "start_time": "2023-05-17T12:57:40.226Z"
   },
   {
    "duration": 14,
    "start_time": "2023-05-17T12:57:54.804Z"
   },
   {
    "duration": 3,
    "start_time": "2023-05-17T12:58:06.888Z"
   },
   {
    "duration": 16,
    "start_time": "2023-05-17T12:58:17.500Z"
   },
   {
    "duration": 14,
    "start_time": "2023-05-17T13:07:53.046Z"
   },
   {
    "duration": 1311,
    "start_time": "2023-05-17T13:08:23.517Z"
   },
   {
    "duration": 5,
    "start_time": "2023-05-17T13:08:27.539Z"
   },
   {
    "duration": 33,
    "start_time": "2023-05-17T13:08:28.195Z"
   },
   {
    "duration": 1002,
    "start_time": "2023-05-17T13:08:30.959Z"
   },
   {
    "duration": 3,
    "start_time": "2023-05-17T13:08:31.964Z"
   },
   {
    "duration": 76,
    "start_time": "2023-05-17T13:08:39.360Z"
   },
   {
    "duration": 24,
    "start_time": "2023-05-17T13:08:45.800Z"
   },
   {
    "duration": 96,
    "start_time": "2023-05-17T13:27:51.113Z"
   },
   {
    "duration": 16,
    "start_time": "2023-05-17T13:28:18.944Z"
   },
   {
    "duration": 22,
    "start_time": "2023-05-17T13:28:26.930Z"
   },
   {
    "duration": 72,
    "start_time": "2023-05-17T13:29:28.204Z"
   },
   {
    "duration": 69,
    "start_time": "2023-05-17T13:29:45.600Z"
   },
   {
    "duration": 66,
    "start_time": "2023-05-17T13:30:11.006Z"
   },
   {
    "duration": 39,
    "start_time": "2023-05-17T13:30:20.830Z"
   },
   {
    "duration": 3978,
    "start_time": "2023-05-17T13:30:54.066Z"
   },
   {
    "duration": 4414,
    "start_time": "2023-05-17T13:31:09.205Z"
   },
   {
    "duration": 14,
    "start_time": "2023-05-17T13:35:04.038Z"
   },
   {
    "duration": 156,
    "start_time": "2023-05-17T13:36:00.814Z"
   },
   {
    "duration": 31,
    "start_time": "2023-05-17T13:36:13.245Z"
   },
   {
    "duration": 22,
    "start_time": "2023-05-17T13:36:28.986Z"
   },
   {
    "duration": 47,
    "start_time": "2023-05-17T13:36:46.390Z"
   },
   {
    "duration": 5,
    "start_time": "2023-05-17T13:37:38.826Z"
   },
   {
    "duration": 68,
    "start_time": "2023-05-17T13:37:49.291Z"
   },
   {
    "duration": 3,
    "start_time": "2023-05-17T13:38:13.401Z"
   },
   {
    "duration": 5,
    "start_time": "2023-05-17T13:38:13.407Z"
   },
   {
    "duration": 32,
    "start_time": "2023-05-17T13:38:13.414Z"
   },
   {
    "duration": 825,
    "start_time": "2023-05-17T13:38:13.448Z"
   },
   {
    "duration": 6,
    "start_time": "2023-05-17T13:38:14.276Z"
   },
   {
    "duration": 140,
    "start_time": "2023-05-17T13:38:14.283Z"
   },
   {
    "duration": 76,
    "start_time": "2023-05-17T13:38:14.425Z"
   },
   {
    "duration": 70,
    "start_time": "2023-05-17T13:38:14.503Z"
   },
   {
    "duration": 390,
    "start_time": "2023-05-17T13:38:14.575Z"
   },
   {
    "duration": 9,
    "start_time": "2023-05-17T13:38:14.967Z"
   },
   {
    "duration": 61,
    "start_time": "2023-05-17T13:38:14.978Z"
   },
   {
    "duration": 10,
    "start_time": "2023-05-17T13:38:15.041Z"
   },
   {
    "duration": 178,
    "start_time": "2023-05-17T13:38:15.053Z"
   },
   {
    "duration": 39,
    "start_time": "2023-05-17T13:38:15.235Z"
   },
   {
    "duration": 4101,
    "start_time": "2023-05-17T13:38:15.275Z"
   },
   {
    "duration": 332,
    "start_time": "2023-05-17T13:38:19.378Z"
   },
   {
    "duration": 5,
    "start_time": "2023-05-17T13:38:19.711Z"
   },
   {
    "duration": 4,
    "start_time": "2023-05-17T13:38:19.726Z"
   },
   {
    "duration": 4,
    "start_time": "2023-05-17T13:38:19.732Z"
   },
   {
    "duration": 14,
    "start_time": "2023-05-17T13:38:19.738Z"
   },
   {
    "duration": 22,
    "start_time": "2023-05-17T13:38:19.754Z"
   },
   {
    "duration": 4,
    "start_time": "2023-05-17T13:38:19.778Z"
   },
   {
    "duration": 41,
    "start_time": "2023-05-17T13:38:19.784Z"
   },
   {
    "duration": 3141,
    "start_time": "2023-05-17T13:38:19.827Z"
   },
   {
    "duration": 3105,
    "start_time": "2023-05-17T13:38:22.970Z"
   },
   {
    "duration": 3114,
    "start_time": "2023-05-17T13:38:26.077Z"
   },
   {
    "duration": 1587,
    "start_time": "2023-05-17T13:38:29.193Z"
   },
   {
    "duration": 18,
    "start_time": "2023-05-17T13:38:30.783Z"
   },
   {
    "duration": 2832,
    "start_time": "2023-05-17T13:38:30.803Z"
   },
   {
    "duration": 5,
    "start_time": "2023-05-17T13:38:33.637Z"
   },
   {
    "duration": 13,
    "start_time": "2023-05-17T13:38:33.644Z"
   },
   {
    "duration": 77,
    "start_time": "2023-05-17T13:38:35.801Z"
   },
   {
    "duration": 42,
    "start_time": "2023-05-17T13:38:48.162Z"
   },
   {
    "duration": 22,
    "start_time": "2023-05-17T13:38:58.794Z"
   },
   {
    "duration": 23,
    "start_time": "2023-05-17T13:39:07.499Z"
   },
   {
    "duration": 47,
    "start_time": "2023-05-17T13:41:35.697Z"
   },
   {
    "duration": 29,
    "start_time": "2023-05-17T13:41:42.679Z"
   },
   {
    "duration": 37,
    "start_time": "2023-05-17T13:42:21.236Z"
   },
   {
    "duration": 30,
    "start_time": "2023-05-17T13:42:47.119Z"
   },
   {
    "duration": 46,
    "start_time": "2023-05-17T13:45:29.803Z"
   },
   {
    "duration": 14,
    "start_time": "2023-05-17T13:45:47.721Z"
   },
   {
    "duration": 796,
    "start_time": "2023-05-17T13:48:45.146Z"
   },
   {
    "duration": 6,
    "start_time": "2023-05-17T13:49:02.516Z"
   },
   {
    "duration": 15,
    "start_time": "2023-05-17T13:49:10.392Z"
   },
   {
    "duration": 50,
    "start_time": "2023-05-17T13:53:54.937Z"
   },
   {
    "duration": 41,
    "start_time": "2023-05-17T13:54:01.813Z"
   },
   {
    "duration": 49,
    "start_time": "2023-05-17T13:55:12.647Z"
   },
   {
    "duration": 47,
    "start_time": "2023-05-17T13:55:21.229Z"
   },
   {
    "duration": 52,
    "start_time": "2023-05-17T13:55:28.247Z"
   },
   {
    "duration": 15,
    "start_time": "2023-05-17T13:55:31.162Z"
   },
   {
    "duration": 11,
    "start_time": "2023-05-17T13:56:16.885Z"
   },
   {
    "duration": 32,
    "start_time": "2023-05-17T13:57:09.177Z"
   },
   {
    "duration": 14,
    "start_time": "2023-05-17T13:57:25.326Z"
   },
   {
    "duration": 39,
    "start_time": "2023-05-17T14:26:19.603Z"
   },
   {
    "duration": 13,
    "start_time": "2023-05-17T14:28:19.485Z"
   },
   {
    "duration": 4,
    "start_time": "2023-05-17T14:29:56.981Z"
   },
   {
    "duration": 14,
    "start_time": "2023-05-17T14:30:11.978Z"
   },
   {
    "duration": 14,
    "start_time": "2023-05-17T15:38:51.742Z"
   },
   {
    "duration": 5,
    "start_time": "2023-05-17T15:39:38.430Z"
   },
   {
    "duration": 16,
    "start_time": "2023-05-17T15:39:43.713Z"
   },
   {
    "duration": 4,
    "start_time": "2023-05-17T15:41:18.893Z"
   },
   {
    "duration": 14,
    "start_time": "2023-05-17T15:41:47.823Z"
   },
   {
    "duration": 13,
    "start_time": "2023-05-17T15:42:20.697Z"
   },
   {
    "duration": 2662,
    "start_time": "2023-05-17T15:42:51.376Z"
   },
   {
    "duration": 6426,
    "start_time": "2023-05-17T15:47:01.609Z"
   },
   {
    "duration": 3814,
    "start_time": "2023-05-17T15:51:06.330Z"
   },
   {
    "duration": 3638,
    "start_time": "2023-05-17T16:03:42.793Z"
   },
   {
    "duration": 4034,
    "start_time": "2023-05-17T16:04:04.804Z"
   },
   {
    "duration": 4583,
    "start_time": "2023-05-17T16:04:59.256Z"
   },
   {
    "duration": 4029,
    "start_time": "2023-05-17T16:05:18.603Z"
   },
   {
    "duration": 6,
    "start_time": "2023-05-17T16:06:29.527Z"
   },
   {
    "duration": 3,
    "start_time": "2023-05-17T16:06:35.601Z"
   },
   {
    "duration": 4070,
    "start_time": "2023-05-17T16:06:39.555Z"
   },
   {
    "duration": 5156,
    "start_time": "2023-05-17T16:06:54.977Z"
   },
   {
    "duration": 4112,
    "start_time": "2023-05-17T16:10:23.016Z"
   },
   {
    "duration": 3980,
    "start_time": "2023-05-17T16:10:38.350Z"
   },
   {
    "duration": 51,
    "start_time": "2023-05-17T16:11:45.144Z"
   },
   {
    "duration": 55,
    "start_time": "2023-05-17T16:12:09.190Z"
   },
   {
    "duration": 7014,
    "start_time": "2023-05-17T16:18:38.118Z"
   },
   {
    "duration": 3470,
    "start_time": "2023-05-17T16:19:31.959Z"
   },
   {
    "duration": 3834,
    "start_time": "2023-05-17T16:19:38.694Z"
   },
   {
    "duration": 3102,
    "start_time": "2023-05-17T16:19:46.539Z"
   },
   {
    "duration": 2937,
    "start_time": "2023-05-17T16:19:52.500Z"
   },
   {
    "duration": 3039,
    "start_time": "2023-05-17T16:25:05.590Z"
   },
   {
    "duration": 62,
    "start_time": "2023-05-17T16:25:42.362Z"
   },
   {
    "duration": 29,
    "start_time": "2023-05-17T16:26:10.090Z"
   },
   {
    "duration": 3371,
    "start_time": "2023-05-17T16:26:15.089Z"
   },
   {
    "duration": 63639,
    "start_time": "2023-05-17T16:26:25.099Z"
   },
   {
    "duration": 3397,
    "start_time": "2023-05-17T16:27:28.740Z"
   },
   {
    "duration": 73822,
    "start_time": "2023-05-17T16:36:59.660Z"
   },
   {
    "duration": 72590,
    "start_time": "2023-05-17T16:50:46.388Z"
   },
   {
    "duration": 61,
    "start_time": "2023-05-17T16:52:36.126Z"
   },
   {
    "duration": 19,
    "start_time": "2023-05-17T16:53:21.714Z"
   },
   {
    "duration": 622997,
    "start_time": "2023-05-17T16:53:29.884Z"
   },
   {
    "duration": 3,
    "start_time": "2023-05-17T17:03:52.883Z"
   },
   {
    "duration": 10,
    "start_time": "2023-05-17T17:03:52.888Z"
   },
   {
    "duration": 51,
    "start_time": "2023-05-17T17:04:00.376Z"
   },
   {
    "duration": 73,
    "start_time": "2023-05-17T17:04:07.719Z"
   },
   {
    "duration": 3,
    "start_time": "2023-05-17T17:04:15.707Z"
   },
   {
    "duration": 5,
    "start_time": "2023-05-17T17:04:15.712Z"
   },
   {
    "duration": 49,
    "start_time": "2023-05-17T17:04:15.719Z"
   },
   {
    "duration": 806,
    "start_time": "2023-05-17T17:04:15.770Z"
   },
   {
    "duration": 4,
    "start_time": "2023-05-17T17:04:16.578Z"
   },
   {
    "duration": 115,
    "start_time": "2023-05-17T17:04:16.584Z"
   },
   {
    "duration": 65,
    "start_time": "2023-05-17T17:04:16.702Z"
   },
   {
    "duration": 80,
    "start_time": "2023-05-17T17:04:16.769Z"
   },
   {
    "duration": 349,
    "start_time": "2023-05-17T17:04:16.851Z"
   },
   {
    "duration": 8,
    "start_time": "2023-05-17T17:04:17.202Z"
   },
   {
    "duration": 61,
    "start_time": "2023-05-17T17:04:17.226Z"
   },
   {
    "duration": 9,
    "start_time": "2023-05-17T17:04:17.289Z"
   },
   {
    "duration": 4,
    "start_time": "2023-05-17T17:04:17.302Z"
   },
   {
    "duration": 49,
    "start_time": "2023-05-17T17:04:17.308Z"
   },
   {
    "duration": 3817,
    "start_time": "2023-05-17T17:04:17.359Z"
   },
   {
    "duration": 280,
    "start_time": "2023-05-17T17:04:21.178Z"
   },
   {
    "duration": 4,
    "start_time": "2023-05-17T17:04:21.460Z"
   },
   {
    "duration": 7,
    "start_time": "2023-05-17T17:04:21.466Z"
   },
   {
    "duration": 14,
    "start_time": "2023-05-17T17:04:21.476Z"
   },
   {
    "duration": 10,
    "start_time": "2023-05-17T17:04:21.492Z"
   },
   {
    "duration": 38,
    "start_time": "2023-05-17T17:04:21.504Z"
   },
   {
    "duration": 4,
    "start_time": "2023-05-17T17:04:21.544Z"
   },
   {
    "duration": 8,
    "start_time": "2023-05-17T17:04:21.550Z"
   },
   {
    "duration": 2732,
    "start_time": "2023-05-17T17:04:21.560Z"
   },
   {
    "duration": 2721,
    "start_time": "2023-05-17T17:04:24.294Z"
   },
   {
    "duration": 2731,
    "start_time": "2023-05-17T17:04:27.024Z"
   },
   {
    "duration": 1425,
    "start_time": "2023-05-17T17:04:29.758Z"
   },
   {
    "duration": 18,
    "start_time": "2023-05-17T17:04:31.185Z"
   },
   {
    "duration": 2645,
    "start_time": "2023-05-17T17:04:31.207Z"
   },
   {
    "duration": 4,
    "start_time": "2023-05-17T17:04:33.854Z"
   },
   {
    "duration": 5,
    "start_time": "2023-05-17T17:04:33.861Z"
   },
   {
    "duration": 58,
    "start_time": "2023-05-17T17:04:33.868Z"
   },
   {
    "duration": 3998,
    "start_time": "2023-05-17T17:04:33.929Z"
   },
   {
    "duration": 145,
    "start_time": "2023-05-17T17:04:37.933Z"
   },
   {
    "duration": 54,
    "start_time": "2023-05-17T17:05:28.287Z"
   },
   {
    "duration": 75471,
    "start_time": "2023-05-17T17:06:09.814Z"
   },
   {
    "duration": 75703,
    "start_time": "2023-05-17T17:07:27.219Z"
   },
   {
    "duration": 84429,
    "start_time": "2023-05-17T17:08:53.544Z"
   },
   {
    "duration": 46802,
    "start_time": "2023-05-17T17:10:37.793Z"
   },
   {
    "duration": 55,
    "start_time": "2023-05-17T17:12:36.838Z"
   },
   {
    "duration": 89792,
    "start_time": "2023-05-17T17:13:52.968Z"
   },
   {
    "duration": 24726,
    "start_time": "2023-05-17T17:15:42.517Z"
   },
   {
    "duration": 318399,
    "start_time": "2023-05-17T17:16:17.695Z"
   },
   {
    "duration": 8347,
    "start_time": "2023-05-17T17:33:16.013Z"
   },
   {
    "duration": 8651,
    "start_time": "2023-05-17T17:33:50.696Z"
   },
   {
    "duration": 8771,
    "start_time": "2023-05-17T17:34:59.892Z"
   },
   {
    "duration": 9,
    "start_time": "2023-05-17T17:37:49.034Z"
   },
   {
    "duration": 6,
    "start_time": "2023-05-17T17:37:57.207Z"
   },
   {
    "duration": 3,
    "start_time": "2023-05-17T17:38:27.211Z"
   },
   {
    "duration": 5,
    "start_time": "2023-05-17T17:38:27.216Z"
   },
   {
    "duration": 36,
    "start_time": "2023-05-17T17:38:27.223Z"
   },
   {
    "duration": 775,
    "start_time": "2023-05-17T17:38:27.261Z"
   },
   {
    "duration": 3,
    "start_time": "2023-05-17T17:38:28.039Z"
   },
   {
    "duration": 81,
    "start_time": "2023-05-17T17:38:28.044Z"
   },
   {
    "duration": 62,
    "start_time": "2023-05-17T17:38:28.127Z"
   },
   {
    "duration": 59,
    "start_time": "2023-05-17T17:38:28.190Z"
   },
   {
    "duration": 322,
    "start_time": "2023-05-17T17:38:28.251Z"
   },
   {
    "duration": 7,
    "start_time": "2023-05-17T17:38:28.575Z"
   },
   {
    "duration": 50,
    "start_time": "2023-05-17T17:38:28.584Z"
   },
   {
    "duration": 7,
    "start_time": "2023-05-17T17:38:28.636Z"
   },
   {
    "duration": 12,
    "start_time": "2023-05-17T17:38:28.645Z"
   },
   {
    "duration": 36,
    "start_time": "2023-05-17T17:38:28.658Z"
   },
   {
    "duration": 3498,
    "start_time": "2023-05-17T17:38:28.696Z"
   },
   {
    "duration": 281,
    "start_time": "2023-05-17T17:38:32.196Z"
   },
   {
    "duration": 4,
    "start_time": "2023-05-17T17:38:32.479Z"
   },
   {
    "duration": 18,
    "start_time": "2023-05-17T17:38:32.484Z"
   },
   {
    "duration": 11,
    "start_time": "2023-05-17T17:38:32.504Z"
   },
   {
    "duration": 18,
    "start_time": "2023-05-17T17:38:32.517Z"
   },
   {
    "duration": 16,
    "start_time": "2023-05-17T17:38:32.537Z"
   },
   {
    "duration": 3,
    "start_time": "2023-05-17T17:38:32.555Z"
   },
   {
    "duration": 10,
    "start_time": "2023-05-17T17:38:32.559Z"
   },
   {
    "duration": 2712,
    "start_time": "2023-05-17T17:38:32.570Z"
   },
   {
    "duration": 2732,
    "start_time": "2023-05-17T17:38:35.284Z"
   },
   {
    "duration": 2751,
    "start_time": "2023-05-17T17:38:38.025Z"
   },
   {
    "duration": 1335,
    "start_time": "2023-05-17T17:38:40.778Z"
   },
   {
    "duration": 20,
    "start_time": "2023-05-17T17:38:42.115Z"
   },
   {
    "duration": 2286,
    "start_time": "2023-05-17T17:38:42.138Z"
   },
   {
    "duration": 3,
    "start_time": "2023-05-17T17:38:44.426Z"
   },
   {
    "duration": 6,
    "start_time": "2023-05-17T17:38:44.431Z"
   },
   {
    "duration": 10,
    "start_time": "2023-05-17T17:38:50.613Z"
   },
   {
    "duration": 6,
    "start_time": "2023-05-17T17:39:01.999Z"
   },
   {
    "duration": 31,
    "start_time": "2023-05-17T17:39:34.799Z"
   },
   {
    "duration": 5,
    "start_time": "2023-05-17T17:39:38.751Z"
   },
   {
    "duration": 2,
    "start_time": "2023-05-17T17:40:48.496Z"
   },
   {
    "duration": 10,
    "start_time": "2023-05-17T17:40:48.500Z"
   },
   {
    "duration": 42,
    "start_time": "2023-05-17T17:40:48.512Z"
   },
   {
    "duration": 763,
    "start_time": "2023-05-17T17:40:48.556Z"
   },
   {
    "duration": 4,
    "start_time": "2023-05-17T17:40:49.321Z"
   },
   {
    "duration": 74,
    "start_time": "2023-05-17T17:40:49.327Z"
   },
   {
    "duration": 75,
    "start_time": "2023-05-17T17:40:49.403Z"
   },
   {
    "duration": 55,
    "start_time": "2023-05-17T17:40:49.480Z"
   },
   {
    "duration": 406,
    "start_time": "2023-05-17T17:40:49.537Z"
   },
   {
    "duration": 7,
    "start_time": "2023-05-17T17:40:49.945Z"
   },
   {
    "duration": 35,
    "start_time": "2023-05-17T17:40:49.955Z"
   },
   {
    "duration": 36,
    "start_time": "2023-05-17T17:40:49.992Z"
   },
   {
    "duration": 3,
    "start_time": "2023-05-17T17:40:50.030Z"
   },
   {
    "duration": 36,
    "start_time": "2023-05-17T17:40:50.035Z"
   },
   {
    "duration": 3419,
    "start_time": "2023-05-17T17:40:50.073Z"
   },
   {
    "duration": 285,
    "start_time": "2023-05-17T17:40:53.494Z"
   },
   {
    "duration": 4,
    "start_time": "2023-05-17T17:40:53.781Z"
   },
   {
    "duration": 19,
    "start_time": "2023-05-17T17:40:53.787Z"
   },
   {
    "duration": 17,
    "start_time": "2023-05-17T17:40:53.808Z"
   },
   {
    "duration": 25,
    "start_time": "2023-05-17T17:40:53.827Z"
   },
   {
    "duration": 13,
    "start_time": "2023-05-17T17:40:53.854Z"
   },
   {
    "duration": 3,
    "start_time": "2023-05-17T17:40:53.869Z"
   },
   {
    "duration": 19,
    "start_time": "2023-05-17T17:40:53.874Z"
   },
   {
    "duration": 2763,
    "start_time": "2023-05-17T17:40:53.894Z"
   },
   {
    "duration": 2519,
    "start_time": "2023-05-17T17:40:56.659Z"
   },
   {
    "duration": 0,
    "start_time": "2023-05-17T17:41:04.542Z"
   },
   {
    "duration": 0,
    "start_time": "2023-05-17T17:41:04.543Z"
   },
   {
    "duration": 0,
    "start_time": "2023-05-17T17:41:04.544Z"
   },
   {
    "duration": 0,
    "start_time": "2023-05-17T17:41:04.545Z"
   },
   {
    "duration": 0,
    "start_time": "2023-05-17T17:41:04.546Z"
   },
   {
    "duration": 0,
    "start_time": "2023-05-17T17:41:04.547Z"
   },
   {
    "duration": 0,
    "start_time": "2023-05-17T17:41:04.548Z"
   },
   {
    "duration": 0,
    "start_time": "2023-05-17T17:41:04.549Z"
   },
   {
    "duration": 0,
    "start_time": "2023-05-17T17:41:04.550Z"
   },
   {
    "duration": 0,
    "start_time": "2023-05-17T17:41:04.551Z"
   },
   {
    "duration": 0,
    "start_time": "2023-05-17T17:41:04.552Z"
   },
   {
    "duration": 0,
    "start_time": "2023-05-17T17:41:04.553Z"
   },
   {
    "duration": 0,
    "start_time": "2023-05-17T17:41:04.554Z"
   },
   {
    "duration": 0,
    "start_time": "2023-05-17T17:41:04.555Z"
   },
   {
    "duration": 0,
    "start_time": "2023-05-17T17:41:04.557Z"
   },
   {
    "duration": 0,
    "start_time": "2023-05-17T17:41:04.558Z"
   },
   {
    "duration": 0,
    "start_time": "2023-05-17T17:41:04.559Z"
   },
   {
    "duration": 0,
    "start_time": "2023-05-17T17:41:04.559Z"
   },
   {
    "duration": 0,
    "start_time": "2023-05-17T17:41:04.561Z"
   },
   {
    "duration": 0,
    "start_time": "2023-05-17T17:41:04.562Z"
   },
   {
    "duration": 0,
    "start_time": "2023-05-17T17:41:04.563Z"
   },
   {
    "duration": 0,
    "start_time": "2023-05-17T17:41:04.564Z"
   },
   {
    "duration": 0,
    "start_time": "2023-05-17T17:41:04.566Z"
   },
   {
    "duration": 0,
    "start_time": "2023-05-17T17:41:04.567Z"
   },
   {
    "duration": 0,
    "start_time": "2023-05-17T17:41:04.568Z"
   },
   {
    "duration": 0,
    "start_time": "2023-05-17T17:41:04.569Z"
   },
   {
    "duration": 0,
    "start_time": "2023-05-17T17:41:04.570Z"
   },
   {
    "duration": 0,
    "start_time": "2023-05-17T17:41:04.571Z"
   },
   {
    "duration": 0,
    "start_time": "2023-05-17T17:41:04.573Z"
   },
   {
    "duration": 0,
    "start_time": "2023-05-17T17:41:04.626Z"
   },
   {
    "duration": 0,
    "start_time": "2023-05-17T17:41:04.627Z"
   },
   {
    "duration": 0,
    "start_time": "2023-05-17T17:41:04.629Z"
   },
   {
    "duration": 0,
    "start_time": "2023-05-17T17:41:04.630Z"
   },
   {
    "duration": 0,
    "start_time": "2023-05-17T17:41:04.631Z"
   },
   {
    "duration": 0,
    "start_time": "2023-05-17T17:41:04.632Z"
   },
   {
    "duration": 0,
    "start_time": "2023-05-17T17:41:04.633Z"
   },
   {
    "duration": 3,
    "start_time": "2023-05-17T17:41:17.701Z"
   },
   {
    "duration": 14,
    "start_time": "2023-05-17T17:41:17.706Z"
   },
   {
    "duration": 44,
    "start_time": "2023-05-17T17:41:17.721Z"
   },
   {
    "duration": 773,
    "start_time": "2023-05-17T17:41:17.766Z"
   },
   {
    "duration": 3,
    "start_time": "2023-05-17T17:41:18.542Z"
   },
   {
    "duration": 87,
    "start_time": "2023-05-17T17:41:18.547Z"
   },
   {
    "duration": 59,
    "start_time": "2023-05-17T17:41:18.636Z"
   },
   {
    "duration": 56,
    "start_time": "2023-05-17T17:41:18.697Z"
   },
   {
    "duration": 337,
    "start_time": "2023-05-17T17:41:18.754Z"
   },
   {
    "duration": 6,
    "start_time": "2023-05-17T17:41:19.093Z"
   },
   {
    "duration": 49,
    "start_time": "2023-05-17T17:41:19.101Z"
   },
   {
    "duration": 9,
    "start_time": "2023-05-17T17:41:19.152Z"
   },
   {
    "duration": 3,
    "start_time": "2023-05-17T17:41:19.163Z"
   },
   {
    "duration": 41,
    "start_time": "2023-05-17T17:41:19.169Z"
   },
   {
    "duration": 3504,
    "start_time": "2023-05-17T17:41:19.226Z"
   },
   {
    "duration": 296,
    "start_time": "2023-05-17T17:41:22.732Z"
   },
   {
    "duration": 11,
    "start_time": "2023-05-17T17:41:23.031Z"
   },
   {
    "duration": 6,
    "start_time": "2023-05-17T17:41:23.044Z"
   },
   {
    "duration": 5,
    "start_time": "2023-05-17T17:41:23.053Z"
   },
   {
    "duration": 11,
    "start_time": "2023-05-17T17:41:23.060Z"
   },
   {
    "duration": 54,
    "start_time": "2023-05-17T17:41:23.073Z"
   },
   {
    "duration": 3,
    "start_time": "2023-05-17T17:41:23.130Z"
   },
   {
    "duration": 7,
    "start_time": "2023-05-17T17:41:23.135Z"
   },
   {
    "duration": 2796,
    "start_time": "2023-05-17T17:41:23.144Z"
   },
   {
    "duration": 2709,
    "start_time": "2023-05-17T17:41:25.942Z"
   },
   {
    "duration": 2650,
    "start_time": "2023-05-17T17:41:28.654Z"
   },
   {
    "duration": 1441,
    "start_time": "2023-05-17T17:41:31.305Z"
   },
   {
    "duration": 16,
    "start_time": "2023-05-17T17:41:32.748Z"
   },
   {
    "duration": 2513,
    "start_time": "2023-05-17T17:41:32.766Z"
   },
   {
    "duration": 4,
    "start_time": "2023-05-17T17:41:35.282Z"
   },
   {
    "duration": 9,
    "start_time": "2023-05-17T17:41:35.288Z"
   },
   {
    "duration": 37,
    "start_time": "2023-05-17T17:41:35.300Z"
   },
   {
    "duration": 50,
    "start_time": "2023-05-17T17:41:35.339Z"
   },
   {
    "duration": 2945,
    "start_time": "2023-05-17T17:41:35.391Z"
   },
   {
    "duration": 46545,
    "start_time": "2023-05-17T17:41:38.339Z"
   },
   {
    "duration": 315625,
    "start_time": "2023-05-17T17:42:24.886Z"
   },
   {
    "duration": 9952,
    "start_time": "2023-05-17T17:48:00.610Z"
   },
   {
    "duration": 806,
    "start_time": "2023-05-17T17:48:41.399Z"
   },
   {
    "duration": 65,
    "start_time": "2023-05-17T17:48:48.292Z"
   },
   {
    "duration": 8399,
    "start_time": "2023-05-17T17:50:24.588Z"
   },
   {
    "duration": 3,
    "start_time": "2023-05-17T17:52:08.004Z"
   },
   {
    "duration": 25,
    "start_time": "2023-05-17T17:52:08.010Z"
   },
   {
    "duration": 70,
    "start_time": "2023-05-17T17:52:08.037Z"
   },
   {
    "duration": 779,
    "start_time": "2023-05-17T17:52:08.110Z"
   },
   {
    "duration": 4,
    "start_time": "2023-05-17T17:52:08.891Z"
   },
   {
    "duration": 100,
    "start_time": "2023-05-17T17:52:08.897Z"
   },
   {
    "duration": 71,
    "start_time": "2023-05-17T17:52:09.000Z"
   },
   {
    "duration": 53,
    "start_time": "2023-05-17T17:52:09.072Z"
   },
   {
    "duration": 337,
    "start_time": "2023-05-17T17:52:09.127Z"
   },
   {
    "duration": 7,
    "start_time": "2023-05-17T17:52:09.468Z"
   },
   {
    "duration": 68,
    "start_time": "2023-05-17T17:52:09.477Z"
   },
   {
    "duration": 11,
    "start_time": "2023-05-17T17:52:09.547Z"
   },
   {
    "duration": 19,
    "start_time": "2023-05-17T17:52:09.560Z"
   },
   {
    "duration": 63,
    "start_time": "2023-05-17T17:52:09.581Z"
   },
   {
    "duration": 3679,
    "start_time": "2023-05-17T17:52:09.646Z"
   },
   {
    "duration": 303,
    "start_time": "2023-05-17T17:52:13.327Z"
   },
   {
    "duration": 4,
    "start_time": "2023-05-17T17:52:13.632Z"
   },
   {
    "duration": 4,
    "start_time": "2023-05-17T17:52:13.638Z"
   },
   {
    "duration": 4,
    "start_time": "2023-05-17T17:52:13.644Z"
   },
   {
    "duration": 11,
    "start_time": "2023-05-17T17:52:13.650Z"
   },
   {
    "duration": 17,
    "start_time": "2023-05-17T17:52:13.663Z"
   },
   {
    "duration": 4,
    "start_time": "2023-05-17T17:52:13.682Z"
   },
   {
    "duration": 44,
    "start_time": "2023-05-17T17:52:13.687Z"
   },
   {
    "duration": 2777,
    "start_time": "2023-05-17T17:52:13.733Z"
   },
   {
    "duration": 2620,
    "start_time": "2023-05-17T17:52:16.511Z"
   },
   {
    "duration": 2715,
    "start_time": "2023-05-17T17:52:19.132Z"
   },
   {
    "duration": 1327,
    "start_time": "2023-05-17T17:52:21.849Z"
   },
   {
    "duration": 15,
    "start_time": "2023-05-17T17:52:23.180Z"
   },
   {
    "duration": 2438,
    "start_time": "2023-05-17T17:52:23.198Z"
   },
   {
    "duration": 4,
    "start_time": "2023-05-17T17:52:25.638Z"
   },
   {
    "duration": 26,
    "start_time": "2023-05-17T17:52:25.643Z"
   },
   {
    "duration": 64,
    "start_time": "2023-05-17T17:52:25.672Z"
   },
   {
    "duration": 6,
    "start_time": "2023-05-17T17:52:25.738Z"
   },
   {
    "duration": 3594,
    "start_time": "2023-05-17T17:52:25.746Z"
   },
   {
    "duration": 8963,
    "start_time": "2023-05-17T17:54:05.688Z"
   },
   {
    "duration": 11,
    "start_time": "2023-05-17T18:01:39.192Z"
   },
   {
    "duration": 4,
    "start_time": "2023-05-17T18:02:12.699Z"
   },
   {
    "duration": 11,
    "start_time": "2023-05-17T18:02:16.758Z"
   },
   {
    "duration": 4,
    "start_time": "2023-05-17T18:37:24.498Z"
   },
   {
    "duration": 1328,
    "start_time": "2023-05-17T18:37:24.504Z"
   },
   {
    "duration": 34,
    "start_time": "2023-05-17T18:37:25.833Z"
   },
   {
    "duration": 833,
    "start_time": "2023-05-17T18:37:25.868Z"
   },
   {
    "duration": 3,
    "start_time": "2023-05-17T18:37:26.703Z"
   },
   {
    "duration": 86,
    "start_time": "2023-05-17T18:37:26.707Z"
   },
   {
    "duration": 86,
    "start_time": "2023-05-17T18:37:26.794Z"
   },
   {
    "duration": 51,
    "start_time": "2023-05-17T18:37:26.882Z"
   },
   {
    "duration": 351,
    "start_time": "2023-05-17T18:37:26.934Z"
   },
   {
    "duration": 6,
    "start_time": "2023-05-17T18:37:27.287Z"
   },
   {
    "duration": 60,
    "start_time": "2023-05-17T18:37:27.296Z"
   },
   {
    "duration": 8,
    "start_time": "2023-05-17T18:37:27.358Z"
   },
   {
    "duration": 6,
    "start_time": "2023-05-17T18:37:27.367Z"
   },
   {
    "duration": 63,
    "start_time": "2023-05-17T18:37:27.377Z"
   },
   {
    "duration": 3589,
    "start_time": "2023-05-17T18:37:27.442Z"
   },
   {
    "duration": 297,
    "start_time": "2023-05-17T18:37:31.033Z"
   },
   {
    "duration": 5,
    "start_time": "2023-05-17T18:37:31.332Z"
   },
   {
    "duration": 54,
    "start_time": "2023-05-17T18:37:31.338Z"
   },
   {
    "duration": 31,
    "start_time": "2023-05-17T18:37:31.395Z"
   },
   {
    "duration": 64,
    "start_time": "2023-05-17T18:37:31.428Z"
   },
   {
    "duration": 68,
    "start_time": "2023-05-17T18:37:31.494Z"
   },
   {
    "duration": 28,
    "start_time": "2023-05-17T18:37:31.564Z"
   },
   {
    "duration": 30,
    "start_time": "2023-05-17T18:37:31.594Z"
   },
   {
    "duration": 2811,
    "start_time": "2023-05-17T18:37:31.626Z"
   },
   {
    "duration": 2586,
    "start_time": "2023-05-17T18:37:34.439Z"
   },
   {
    "duration": 2533,
    "start_time": "2023-05-17T18:37:37.027Z"
   },
   {
    "duration": 1398,
    "start_time": "2023-05-17T18:37:39.562Z"
   },
   {
    "duration": 15,
    "start_time": "2023-05-17T18:37:40.962Z"
   },
   {
    "duration": 2176,
    "start_time": "2023-05-17T18:37:40.979Z"
   },
   {
    "duration": 3,
    "start_time": "2023-05-17T18:37:43.157Z"
   },
   {
    "duration": 11,
    "start_time": "2023-05-17T18:37:43.162Z"
   },
   {
    "duration": 41,
    "start_time": "2023-05-17T18:37:43.175Z"
   },
   {
    "duration": 8,
    "start_time": "2023-05-17T18:37:43.218Z"
   },
   {
    "duration": 3804,
    "start_time": "2023-05-17T18:37:43.227Z"
   },
   {
    "duration": 48326,
    "start_time": "2023-05-17T18:37:47.033Z"
   },
   {
    "duration": 141262,
    "start_time": "2023-05-17T18:38:35.360Z"
   },
   {
    "duration": 8419,
    "start_time": "2023-05-17T18:40:56.624Z"
   },
   {
    "duration": 9,
    "start_time": "2023-05-17T18:41:05.045Z"
   },
   {
    "duration": 47495,
    "start_time": "2023-05-17T18:41:05.057Z"
   },
   {
    "duration": 3770,
    "start_time": "2023-05-17T18:41:52.556Z"
   },
   {
    "duration": 4,
    "start_time": "2023-05-17T18:42:36.602Z"
   },
   {
    "duration": 1319,
    "start_time": "2023-05-17T18:42:36.609Z"
   },
   {
    "duration": 32,
    "start_time": "2023-05-17T18:42:37.930Z"
   },
   {
    "duration": 815,
    "start_time": "2023-05-17T18:42:37.963Z"
   },
   {
    "duration": 4,
    "start_time": "2023-05-17T18:42:38.779Z"
   },
   {
    "duration": 120,
    "start_time": "2023-05-17T18:42:38.786Z"
   },
   {
    "duration": 71,
    "start_time": "2023-05-17T18:42:38.908Z"
   },
   {
    "duration": 63,
    "start_time": "2023-05-17T18:42:38.982Z"
   },
   {
    "duration": 341,
    "start_time": "2023-05-17T18:42:39.047Z"
   },
   {
    "duration": 6,
    "start_time": "2023-05-17T18:42:39.390Z"
   },
   {
    "duration": 50,
    "start_time": "2023-05-17T18:42:39.398Z"
   },
   {
    "duration": 8,
    "start_time": "2023-05-17T18:42:39.450Z"
   },
   {
    "duration": 21,
    "start_time": "2023-05-17T18:42:39.459Z"
   },
   {
    "duration": 37,
    "start_time": "2023-05-17T18:42:39.482Z"
   },
   {
    "duration": 3425,
    "start_time": "2023-05-17T18:42:39.527Z"
   },
   {
    "duration": 282,
    "start_time": "2023-05-17T18:42:42.954Z"
   },
   {
    "duration": 4,
    "start_time": "2023-05-17T18:42:43.238Z"
   },
   {
    "duration": 7,
    "start_time": "2023-05-17T18:42:43.244Z"
   },
   {
    "duration": 4,
    "start_time": "2023-05-17T18:42:43.253Z"
   },
   {
    "duration": 9,
    "start_time": "2023-05-17T18:42:43.259Z"
   },
   {
    "duration": 22,
    "start_time": "2023-05-17T18:42:43.270Z"
   },
   {
    "duration": 4,
    "start_time": "2023-05-17T18:42:43.324Z"
   },
   {
    "duration": 9,
    "start_time": "2023-05-17T18:42:43.330Z"
   },
   {
    "duration": 2663,
    "start_time": "2023-05-17T18:42:43.341Z"
   },
   {
    "duration": 2531,
    "start_time": "2023-05-17T18:42:46.006Z"
   },
   {
    "duration": 2721,
    "start_time": "2023-05-17T18:42:48.540Z"
   },
   {
    "duration": 1307,
    "start_time": "2023-05-17T18:42:51.263Z"
   },
   {
    "duration": 15,
    "start_time": "2023-05-17T18:42:52.572Z"
   },
   {
    "duration": 2300,
    "start_time": "2023-05-17T18:42:52.589Z"
   },
   {
    "duration": 3,
    "start_time": "2023-05-17T18:42:54.891Z"
   },
   {
    "duration": 13,
    "start_time": "2023-05-17T18:42:54.896Z"
   },
   {
    "duration": 38,
    "start_time": "2023-05-17T18:42:54.911Z"
   },
   {
    "duration": 3579,
    "start_time": "2023-05-17T18:42:54.950Z"
   },
   {
    "duration": 46000,
    "start_time": "2023-05-17T18:42:58.532Z"
   },
   {
    "duration": 3,
    "start_time": "2023-05-17T18:43:44.535Z"
   },
   {
    "duration": 0,
    "start_time": "2023-05-17T18:43:44.540Z"
   },
   {
    "duration": 0,
    "start_time": "2023-05-17T18:43:44.542Z"
   },
   {
    "duration": 11,
    "start_time": "2023-05-17T18:47:03.700Z"
   },
   {
    "duration": 9840,
    "start_time": "2023-05-17T18:47:19.276Z"
   },
   {
    "duration": 22086,
    "start_time": "2023-05-17T18:47:40.530Z"
   },
   {
    "duration": 1401,
    "start_time": "2023-05-17T18:48:25.525Z"
   },
   {
    "duration": 46548,
    "start_time": "2023-05-17T18:48:58.414Z"
   },
   {
    "duration": 304950,
    "start_time": "2023-05-17T18:49:44.964Z"
   },
   {
    "duration": 8253,
    "start_time": "2023-05-17T18:54:49.916Z"
   },
   {
    "duration": 10,
    "start_time": "2023-05-17T18:54:58.171Z"
   },
   {
    "duration": 3,
    "start_time": "2023-05-17T18:57:31.912Z"
   },
   {
    "duration": 4,
    "start_time": "2023-05-17T19:02:12.057Z"
   },
   {
    "duration": 1211,
    "start_time": "2023-05-17T19:02:12.074Z"
   },
   {
    "duration": 33,
    "start_time": "2023-05-17T19:02:13.287Z"
   },
   {
    "duration": 798,
    "start_time": "2023-05-17T19:02:13.321Z"
   },
   {
    "duration": 3,
    "start_time": "2023-05-17T19:02:14.120Z"
   },
   {
    "duration": 85,
    "start_time": "2023-05-17T19:02:14.125Z"
   },
   {
    "duration": 112,
    "start_time": "2023-05-17T19:02:14.213Z"
   },
   {
    "duration": 53,
    "start_time": "2023-05-17T19:02:14.327Z"
   },
   {
    "duration": 345,
    "start_time": "2023-05-17T19:02:14.382Z"
   },
   {
    "duration": 7,
    "start_time": "2023-05-17T19:02:14.730Z"
   },
   {
    "duration": 59,
    "start_time": "2023-05-17T19:02:14.738Z"
   },
   {
    "duration": 8,
    "start_time": "2023-05-17T19:02:14.799Z"
   },
   {
    "duration": 7,
    "start_time": "2023-05-17T19:02:14.809Z"
   },
   {
    "duration": 53,
    "start_time": "2023-05-17T19:02:14.818Z"
   },
   {
    "duration": 3467,
    "start_time": "2023-05-17T19:02:14.874Z"
   },
   {
    "duration": 299,
    "start_time": "2023-05-17T19:02:18.343Z"
   },
   {
    "duration": 4,
    "start_time": "2023-05-17T19:02:18.644Z"
   },
   {
    "duration": 10,
    "start_time": "2023-05-17T19:02:18.650Z"
   },
   {
    "duration": 15,
    "start_time": "2023-05-17T19:02:18.662Z"
   },
   {
    "duration": 29,
    "start_time": "2023-05-17T19:02:18.679Z"
   },
   {
    "duration": 29,
    "start_time": "2023-05-17T19:02:18.710Z"
   },
   {
    "duration": 4,
    "start_time": "2023-05-17T19:02:18.741Z"
   },
   {
    "duration": 22,
    "start_time": "2023-05-17T19:02:18.747Z"
   },
   {
    "duration": 3015,
    "start_time": "2023-05-17T19:02:18.772Z"
   },
   {
    "duration": 2700,
    "start_time": "2023-05-17T19:02:21.790Z"
   },
   {
    "duration": 2770,
    "start_time": "2023-05-17T19:02:24.493Z"
   },
   {
    "duration": 1435,
    "start_time": "2023-05-17T19:02:27.268Z"
   },
   {
    "duration": 25,
    "start_time": "2023-05-17T19:02:28.705Z"
   },
   {
    "duration": 2517,
    "start_time": "2023-05-17T19:02:28.732Z"
   },
   {
    "duration": 3,
    "start_time": "2023-05-17T19:02:31.251Z"
   },
   {
    "duration": 46,
    "start_time": "2023-05-17T19:02:31.256Z"
   },
   {
    "duration": 71,
    "start_time": "2023-05-17T19:02:31.304Z"
   },
   {
    "duration": 4654,
    "start_time": "2023-05-17T19:02:31.377Z"
   },
   {
    "duration": 46968,
    "start_time": "2023-05-17T19:02:36.033Z"
   },
   {
    "duration": 310987,
    "start_time": "2023-05-17T19:03:23.003Z"
   },
   {
    "duration": 8582,
    "start_time": "2023-05-17T19:09:30.739Z"
   },
   {
    "duration": 11,
    "start_time": "2023-05-17T19:09:39.340Z"
   },
   {
    "duration": 52017,
    "start_time": "2023-05-17T19:09:39.354Z"
   },
   {
    "duration": 8448,
    "start_time": "2023-05-17T19:10:31.374Z"
   },
   {
    "duration": 3,
    "start_time": "2023-05-17T19:11:34.820Z"
   },
   {
    "duration": 3,
    "start_time": "2023-05-18T05:19:33.691Z"
   },
   {
    "duration": 2549,
    "start_time": "2023-05-18T05:19:33.699Z"
   },
   {
    "duration": 3,
    "start_time": "2023-05-18T05:19:36.250Z"
   },
   {
    "duration": 58,
    "start_time": "2023-05-18T05:19:36.255Z"
   },
   {
    "duration": 2024,
    "start_time": "2023-05-18T05:19:36.316Z"
   },
   {
    "duration": 4,
    "start_time": "2023-05-18T05:19:38.341Z"
   },
   {
    "duration": 79,
    "start_time": "2023-05-18T05:19:38.348Z"
   },
   {
    "duration": 68,
    "start_time": "2023-05-18T05:19:38.429Z"
   },
   {
    "duration": 49,
    "start_time": "2023-05-18T05:19:38.498Z"
   },
   {
    "duration": 293,
    "start_time": "2023-05-18T05:19:38.549Z"
   },
   {
    "duration": 5,
    "start_time": "2023-05-18T05:19:38.844Z"
   },
   {
    "duration": 37,
    "start_time": "2023-05-18T05:19:38.851Z"
   },
   {
    "duration": 6,
    "start_time": "2023-05-18T05:19:38.890Z"
   },
   {
    "duration": 5,
    "start_time": "2023-05-18T05:19:38.897Z"
   },
   {
    "duration": 34,
    "start_time": "2023-05-18T05:19:38.904Z"
   },
   {
    "duration": 2912,
    "start_time": "2023-05-18T05:19:38.940Z"
   },
   {
    "duration": 285,
    "start_time": "2023-05-18T05:19:41.854Z"
   },
   {
    "duration": 5,
    "start_time": "2023-05-18T05:19:42.141Z"
   },
   {
    "duration": 16,
    "start_time": "2023-05-18T05:19:42.148Z"
   },
   {
    "duration": 13,
    "start_time": "2023-05-18T05:19:42.166Z"
   },
   {
    "duration": 22,
    "start_time": "2023-05-18T05:19:42.181Z"
   },
   {
    "duration": 22,
    "start_time": "2023-05-18T05:19:42.206Z"
   },
   {
    "duration": 12,
    "start_time": "2023-05-18T05:19:42.229Z"
   },
   {
    "duration": 29,
    "start_time": "2023-05-18T05:19:42.243Z"
   },
   {
    "duration": 2345,
    "start_time": "2023-05-18T05:19:42.276Z"
   },
   {
    "duration": 2226,
    "start_time": "2023-05-18T05:19:44.622Z"
   },
   {
    "duration": 2096,
    "start_time": "2023-05-18T05:19:46.849Z"
   },
   {
    "duration": 1131,
    "start_time": "2023-05-18T05:19:48.947Z"
   },
   {
    "duration": 12,
    "start_time": "2023-05-18T05:19:50.084Z"
   },
   {
    "duration": 1944,
    "start_time": "2023-05-18T05:19:50.098Z"
   },
   {
    "duration": 4,
    "start_time": "2023-05-18T05:19:52.043Z"
   },
   {
    "duration": 28,
    "start_time": "2023-05-18T05:19:52.048Z"
   },
   {
    "duration": 30,
    "start_time": "2023-05-18T05:19:52.078Z"
   },
   {
    "duration": 15,
    "start_time": "2023-05-18T05:19:52.110Z"
   },
   {
    "duration": 13,
    "start_time": "2023-05-18T05:20:36.005Z"
   },
   {
    "duration": 57,
    "start_time": "2023-05-18T05:50:33.552Z"
   },
   {
    "duration": 3,
    "start_time": "2023-05-18T05:51:15.517Z"
   },
   {
    "duration": 1482,
    "start_time": "2023-05-18T05:51:15.521Z"
   },
   {
    "duration": 3,
    "start_time": "2023-05-18T05:51:17.005Z"
   },
   {
    "duration": 36,
    "start_time": "2023-05-18T05:51:17.010Z"
   },
   {
    "duration": 3489,
    "start_time": "2023-05-18T05:51:17.048Z"
   },
   {
    "duration": 3,
    "start_time": "2023-05-18T05:51:20.538Z"
   },
   {
    "duration": 78,
    "start_time": "2023-05-18T05:51:20.542Z"
   },
   {
    "duration": 71,
    "start_time": "2023-05-18T05:51:20.621Z"
   },
   {
    "duration": 40,
    "start_time": "2023-05-18T05:51:20.694Z"
   },
   {
    "duration": 325,
    "start_time": "2023-05-18T05:51:20.736Z"
   },
   {
    "duration": 15,
    "start_time": "2023-05-18T05:51:21.063Z"
   },
   {
    "duration": 37,
    "start_time": "2023-05-18T05:51:21.080Z"
   },
   {
    "duration": 8,
    "start_time": "2023-05-18T05:51:21.118Z"
   },
   {
    "duration": 4,
    "start_time": "2023-05-18T05:51:21.127Z"
   },
   {
    "duration": 54,
    "start_time": "2023-05-18T05:51:21.133Z"
   },
   {
    "duration": 3335,
    "start_time": "2023-05-18T05:51:21.188Z"
   },
   {
    "duration": 275,
    "start_time": "2023-05-18T05:51:24.525Z"
   },
   {
    "duration": 3,
    "start_time": "2023-05-18T05:51:24.802Z"
   },
   {
    "duration": 8,
    "start_time": "2023-05-18T05:51:24.806Z"
   },
   {
    "duration": 4,
    "start_time": "2023-05-18T05:51:24.816Z"
   },
   {
    "duration": 9,
    "start_time": "2023-05-18T05:51:24.821Z"
   },
   {
    "duration": 47,
    "start_time": "2023-05-18T05:51:24.831Z"
   },
   {
    "duration": 4,
    "start_time": "2023-05-18T05:51:24.882Z"
   },
   {
    "duration": 7,
    "start_time": "2023-05-18T05:51:24.888Z"
   },
   {
    "duration": 2474,
    "start_time": "2023-05-18T05:51:24.896Z"
   },
   {
    "duration": 2745,
    "start_time": "2023-05-18T05:51:27.371Z"
   },
   {
    "duration": 2555,
    "start_time": "2023-05-18T05:51:30.118Z"
   },
   {
    "duration": 1271,
    "start_time": "2023-05-18T05:51:32.675Z"
   },
   {
    "duration": 2,
    "start_time": "2023-05-18T05:55:03.061Z"
   },
   {
    "duration": 206,
    "start_time": "2023-05-18T06:01:43.570Z"
   },
   {
    "duration": 4,
    "start_time": "2023-05-18T06:02:00.065Z"
   },
   {
    "duration": 109,
    "start_time": "2023-05-18T06:02:13.958Z"
   },
   {
    "duration": 97,
    "start_time": "2023-05-18T06:03:08.675Z"
   },
   {
    "duration": 3,
    "start_time": "2023-05-18T06:03:26.870Z"
   },
   {
    "duration": 3,
    "start_time": "2023-05-18T06:03:50.966Z"
   },
   {
    "duration": 23,
    "start_time": "2023-05-18T06:03:50.971Z"
   },
   {
    "duration": 17,
    "start_time": "2023-05-18T06:03:50.996Z"
   },
   {
    "duration": 45,
    "start_time": "2023-05-18T06:03:51.015Z"
   },
   {
    "duration": 908,
    "start_time": "2023-05-18T06:03:51.062Z"
   },
   {
    "duration": 4,
    "start_time": "2023-05-18T06:03:51.971Z"
   },
   {
    "duration": 95,
    "start_time": "2023-05-18T06:03:51.977Z"
   },
   {
    "duration": 75,
    "start_time": "2023-05-18T06:03:52.074Z"
   },
   {
    "duration": 54,
    "start_time": "2023-05-18T06:03:52.150Z"
   },
   {
    "duration": 346,
    "start_time": "2023-05-18T06:03:52.206Z"
   },
   {
    "duration": 7,
    "start_time": "2023-05-18T06:03:52.554Z"
   },
   {
    "duration": 56,
    "start_time": "2023-05-18T06:03:52.562Z"
   },
   {
    "duration": 8,
    "start_time": "2023-05-18T06:03:52.620Z"
   },
   {
    "duration": 33,
    "start_time": "2023-05-18T06:03:52.630Z"
   },
   {
    "duration": 4103,
    "start_time": "2023-05-18T06:03:52.665Z"
   },
   {
    "duration": 545,
    "start_time": "2023-05-18T06:03:56.770Z"
   },
   {
    "duration": 4,
    "start_time": "2023-05-18T06:03:57.317Z"
   },
   {
    "duration": 10,
    "start_time": "2023-05-18T06:03:57.322Z"
   },
   {
    "duration": 5,
    "start_time": "2023-05-18T06:03:57.333Z"
   },
   {
    "duration": 9,
    "start_time": "2023-05-18T06:03:57.340Z"
   },
   {
    "duration": 12,
    "start_time": "2023-05-18T06:03:57.350Z"
   },
   {
    "duration": 16,
    "start_time": "2023-05-18T06:03:57.363Z"
   },
   {
    "duration": 22,
    "start_time": "2023-05-18T06:03:57.381Z"
   },
   {
    "duration": 3008,
    "start_time": "2023-05-18T06:03:57.405Z"
   },
   {
    "duration": 3022,
    "start_time": "2023-05-18T06:04:00.417Z"
   },
   {
    "duration": 2879,
    "start_time": "2023-05-18T06:04:03.441Z"
   },
   {
    "duration": 42,
    "start_time": "2023-05-18T06:04:21.122Z"
   },
   {
    "duration": 1529,
    "start_time": "2023-05-18T06:04:29.502Z"
   },
   {
    "duration": 1583,
    "start_time": "2023-05-18T06:05:39.522Z"
   },
   {
    "duration": 1441,
    "start_time": "2023-05-18T06:05:49.302Z"
   },
   {
    "duration": 1656,
    "start_time": "2023-05-18T06:06:11.380Z"
   },
   {
    "duration": 1471,
    "start_time": "2023-05-18T06:06:20.203Z"
   },
   {
    "duration": 82,
    "start_time": "2023-05-18T06:07:03.249Z"
   },
   {
    "duration": 53,
    "start_time": "2023-05-18T07:34:10.775Z"
   },
   {
    "duration": 4,
    "start_time": "2023-05-18T07:34:17.478Z"
   },
   {
    "duration": 1584,
    "start_time": "2023-05-18T07:34:17.484Z"
   },
   {
    "duration": 4,
    "start_time": "2023-05-18T07:34:19.069Z"
   },
   {
    "duration": 44,
    "start_time": "2023-05-18T07:34:19.080Z"
   },
   {
    "duration": 3435,
    "start_time": "2023-05-18T07:34:19.126Z"
   },
   {
    "duration": 3,
    "start_time": "2023-05-18T07:34:22.562Z"
   },
   {
    "duration": 1344,
    "start_time": "2023-05-18T07:34:22.566Z"
   },
   {
    "duration": 119,
    "start_time": "2023-05-18T07:34:23.912Z"
   },
   {
    "duration": 50,
    "start_time": "2023-05-18T07:34:24.033Z"
   },
   {
    "duration": 349,
    "start_time": "2023-05-18T07:34:24.085Z"
   },
   {
    "duration": 6,
    "start_time": "2023-05-18T07:34:24.435Z"
   },
   {
    "duration": 45,
    "start_time": "2023-05-18T07:34:24.443Z"
   },
   {
    "duration": 9,
    "start_time": "2023-05-18T07:34:24.490Z"
   },
   {
    "duration": 5,
    "start_time": "2023-05-18T07:34:29.058Z"
   },
   {
    "duration": 5,
    "start_time": "2023-05-18T07:34:46.654Z"
   },
   {
    "duration": 5,
    "start_time": "2023-05-18T07:34:53.622Z"
   },
   {
    "duration": 72,
    "start_time": "2023-05-18T07:41:13.592Z"
   },
   {
    "duration": 14,
    "start_time": "2023-05-18T07:41:29.255Z"
   },
   {
    "duration": 3,
    "start_time": "2023-05-18T07:41:34.592Z"
   },
   {
    "duration": 5,
    "start_time": "2023-05-18T07:41:34.597Z"
   },
   {
    "duration": 14,
    "start_time": "2023-05-18T07:41:34.604Z"
   },
   {
    "duration": 33,
    "start_time": "2023-05-18T07:41:34.620Z"
   },
   {
    "duration": 770,
    "start_time": "2023-05-18T07:41:34.655Z"
   },
   {
    "duration": 3,
    "start_time": "2023-05-18T07:41:35.427Z"
   },
   {
    "duration": 94,
    "start_time": "2023-05-18T07:41:35.432Z"
   },
   {
    "duration": 88,
    "start_time": "2023-05-18T07:41:35.527Z"
   },
   {
    "duration": 46,
    "start_time": "2023-05-18T07:41:35.617Z"
   },
   {
    "duration": 349,
    "start_time": "2023-05-18T07:41:35.664Z"
   },
   {
    "duration": 7,
    "start_time": "2023-05-18T07:41:36.014Z"
   },
   {
    "duration": 31,
    "start_time": "2023-05-18T07:41:36.022Z"
   },
   {
    "duration": 28,
    "start_time": "2023-05-18T07:41:36.055Z"
   },
   {
    "duration": 5,
    "start_time": "2023-05-18T07:41:36.086Z"
   },
   {
    "duration": 48,
    "start_time": "2023-05-18T07:41:36.092Z"
   },
   {
    "duration": 5198,
    "start_time": "2023-05-18T07:41:36.141Z"
   },
   {
    "duration": 273,
    "start_time": "2023-05-18T07:41:41.340Z"
   },
   {
    "duration": 4,
    "start_time": "2023-05-18T07:41:41.615Z"
   },
   {
    "duration": 9,
    "start_time": "2023-05-18T07:41:41.622Z"
   },
   {
    "duration": 12,
    "start_time": "2023-05-18T07:41:41.632Z"
   },
   {
    "duration": 22,
    "start_time": "2023-05-18T07:41:41.645Z"
   },
   {
    "duration": 28,
    "start_time": "2023-05-18T07:41:41.669Z"
   },
   {
    "duration": 3,
    "start_time": "2023-05-18T07:41:41.700Z"
   },
   {
    "duration": 7,
    "start_time": "2023-05-18T07:41:41.705Z"
   },
   {
    "duration": 2515,
    "start_time": "2023-05-18T07:41:41.714Z"
   },
   {
    "duration": 2634,
    "start_time": "2023-05-18T07:41:44.232Z"
   },
   {
    "duration": 2514,
    "start_time": "2023-05-18T07:41:46.867Z"
   },
   {
    "duration": 1297,
    "start_time": "2023-05-18T07:41:49.383Z"
   },
   {
    "duration": 13,
    "start_time": "2023-05-18T07:41:50.683Z"
   },
   {
    "duration": 2174,
    "start_time": "2023-05-18T07:41:50.699Z"
   },
   {
    "duration": 138,
    "start_time": "2023-05-18T07:41:53.058Z"
   },
   {
    "duration": 147,
    "start_time": "2023-05-18T07:42:08.199Z"
   },
   {
    "duration": 194,
    "start_time": "2023-05-18T07:42:22.102Z"
   },
   {
    "duration": 6,
    "start_time": "2023-05-18T07:48:10.778Z"
   },
   {
    "duration": 7,
    "start_time": "2023-05-18T07:48:23.519Z"
   },
   {
    "duration": 9,
    "start_time": "2023-05-18T07:48:31.378Z"
   },
   {
    "duration": 15,
    "start_time": "2023-05-18T07:53:16.575Z"
   },
   {
    "duration": 16,
    "start_time": "2023-05-18T07:53:25.701Z"
   },
   {
    "duration": 9,
    "start_time": "2023-05-18T07:53:34.958Z"
   },
   {
    "duration": 13,
    "start_time": "2023-05-18T07:53:49.093Z"
   },
   {
    "duration": 13,
    "start_time": "2023-05-18T07:55:15.963Z"
   },
   {
    "duration": 16,
    "start_time": "2023-05-18T07:55:24.070Z"
   },
   {
    "duration": 22,
    "start_time": "2023-05-18T07:55:42.288Z"
   },
   {
    "duration": 59,
    "start_time": "2023-05-18T07:56:52.111Z"
   },
   {
    "duration": 13,
    "start_time": "2023-05-18T07:57:00.358Z"
   },
   {
    "duration": 17,
    "start_time": "2023-05-18T07:57:47.477Z"
   },
   {
    "duration": 16,
    "start_time": "2023-05-18T07:57:58.990Z"
   },
   {
    "duration": 68,
    "start_time": "2023-05-18T07:58:11.663Z"
   },
   {
    "duration": 15,
    "start_time": "2023-05-18T07:58:23.055Z"
   },
   {
    "duration": 15,
    "start_time": "2023-05-18T07:58:54.825Z"
   },
   {
    "duration": 13,
    "start_time": "2023-05-18T08:02:30.795Z"
   },
   {
    "duration": 4,
    "start_time": "2023-05-18T08:02:38.715Z"
   },
   {
    "duration": 11,
    "start_time": "2023-05-18T08:05:09.009Z"
   },
   {
    "duration": 19,
    "start_time": "2023-05-18T08:05:24.571Z"
   },
   {
    "duration": 16,
    "start_time": "2023-05-18T08:05:39.550Z"
   },
   {
    "duration": 76,
    "start_time": "2023-05-18T08:05:54.695Z"
   },
   {
    "duration": 7,
    "start_time": "2023-05-18T08:06:32.679Z"
   },
   {
    "duration": 3,
    "start_time": "2023-05-18T08:06:41.263Z"
   },
   {
    "duration": 11,
    "start_time": "2023-05-18T08:06:41.268Z"
   },
   {
    "duration": 15,
    "start_time": "2023-05-18T08:06:41.282Z"
   },
   {
    "duration": 34,
    "start_time": "2023-05-18T08:06:41.299Z"
   },
   {
    "duration": 725,
    "start_time": "2023-05-18T08:06:41.336Z"
   },
   {
    "duration": 3,
    "start_time": "2023-05-18T08:06:42.063Z"
   },
   {
    "duration": 76,
    "start_time": "2023-05-18T08:06:42.067Z"
   },
   {
    "duration": 72,
    "start_time": "2023-05-18T08:06:42.146Z"
   },
   {
    "duration": 69,
    "start_time": "2023-05-18T08:06:42.220Z"
   },
   {
    "duration": 305,
    "start_time": "2023-05-18T08:06:42.290Z"
   },
   {
    "duration": 6,
    "start_time": "2023-05-18T08:06:42.597Z"
   },
   {
    "duration": 29,
    "start_time": "2023-05-18T08:06:42.605Z"
   },
   {
    "duration": 8,
    "start_time": "2023-05-18T08:06:42.635Z"
   },
   {
    "duration": 5,
    "start_time": "2023-05-18T08:06:42.645Z"
   },
   {
    "duration": 65,
    "start_time": "2023-05-18T08:06:42.652Z"
   },
   {
    "duration": 3633,
    "start_time": "2023-05-18T08:06:42.718Z"
   },
   {
    "duration": 301,
    "start_time": "2023-05-18T08:06:46.352Z"
   },
   {
    "duration": 4,
    "start_time": "2023-05-18T08:06:46.654Z"
   },
   {
    "duration": 25,
    "start_time": "2023-05-18T08:06:46.659Z"
   },
   {
    "duration": 3,
    "start_time": "2023-05-18T08:06:46.694Z"
   },
   {
    "duration": 12,
    "start_time": "2023-05-18T08:06:46.698Z"
   },
   {
    "duration": 17,
    "start_time": "2023-05-18T08:06:46.712Z"
   },
   {
    "duration": 3,
    "start_time": "2023-05-18T08:06:46.730Z"
   },
   {
    "duration": 5,
    "start_time": "2023-05-18T08:06:46.735Z"
   },
   {
    "duration": 2938,
    "start_time": "2023-05-18T08:06:46.778Z"
   },
   {
    "duration": 2722,
    "start_time": "2023-05-18T08:06:49.718Z"
   },
   {
    "duration": 2614,
    "start_time": "2023-05-18T08:06:52.442Z"
   },
   {
    "duration": 1342,
    "start_time": "2023-05-18T08:06:55.058Z"
   },
   {
    "duration": 13,
    "start_time": "2023-05-18T08:06:56.401Z"
   },
   {
    "duration": 2511,
    "start_time": "2023-05-18T08:06:56.416Z"
   },
   {
    "duration": 208,
    "start_time": "2023-05-18T08:06:58.929Z"
   },
   {
    "duration": 15,
    "start_time": "2023-05-18T08:06:59.139Z"
   },
   {
    "duration": 13,
    "start_time": "2023-05-18T08:06:59.156Z"
   },
   {
    "duration": 24,
    "start_time": "2023-05-18T08:06:59.170Z"
   },
   {
    "duration": 10,
    "start_time": "2023-05-18T08:07:38.524Z"
   },
   {
    "duration": 2421,
    "start_time": "2023-05-18T08:07:45.400Z"
   },
   {
    "duration": 222,
    "start_time": "2023-05-18T08:07:53.867Z"
   },
   {
    "duration": 194,
    "start_time": "2023-05-18T08:07:59.001Z"
   },
   {
    "duration": 16,
    "start_time": "2023-05-18T08:08:05.520Z"
   },
   {
    "duration": 2448,
    "start_time": "2023-05-18T08:08:07.171Z"
   },
   {
    "duration": 193,
    "start_time": "2023-05-18T08:08:13.763Z"
   },
   {
    "duration": 3,
    "start_time": "2023-05-18T11:35:46.302Z"
   },
   {
    "duration": 6,
    "start_time": "2023-05-18T11:35:46.307Z"
   },
   {
    "duration": 5,
    "start_time": "2023-05-18T11:35:46.400Z"
   },
   {
    "duration": 28,
    "start_time": "2023-05-18T11:35:46.408Z"
   },
   {
    "duration": 860,
    "start_time": "2023-05-18T11:35:46.438Z"
   },
   {
    "duration": 3,
    "start_time": "2023-05-18T11:35:47.308Z"
   },
   {
    "duration": 110,
    "start_time": "2023-05-18T11:35:47.313Z"
   },
   {
    "duration": 86,
    "start_time": "2023-05-18T11:35:47.425Z"
   },
   {
    "duration": 47,
    "start_time": "2023-05-18T11:35:47.512Z"
   },
   {
    "duration": 360,
    "start_time": "2023-05-18T11:35:47.561Z"
   },
   {
    "duration": 6,
    "start_time": "2023-05-18T11:35:47.923Z"
   },
   {
    "duration": 61,
    "start_time": "2023-05-18T11:35:47.930Z"
   },
   {
    "duration": 10,
    "start_time": "2023-05-18T11:35:47.992Z"
   },
   {
    "duration": 7,
    "start_time": "2023-05-18T11:35:48.006Z"
   },
   {
    "duration": 30,
    "start_time": "2023-05-18T11:35:48.015Z"
   },
   {
    "duration": 3767,
    "start_time": "2023-05-18T11:35:48.048Z"
   },
   {
    "duration": 296,
    "start_time": "2023-05-18T11:35:51.817Z"
   },
   {
    "duration": 5,
    "start_time": "2023-05-18T11:35:52.115Z"
   },
   {
    "duration": 4,
    "start_time": "2023-05-18T11:35:52.122Z"
   },
   {
    "duration": 7,
    "start_time": "2023-05-18T11:35:52.128Z"
   },
   {
    "duration": 11,
    "start_time": "2023-05-18T11:35:52.136Z"
   },
   {
    "duration": 50,
    "start_time": "2023-05-18T11:35:52.149Z"
   },
   {
    "duration": 7,
    "start_time": "2023-05-18T11:35:52.201Z"
   },
   {
    "duration": 5,
    "start_time": "2023-05-18T11:35:52.210Z"
   },
   {
    "duration": 2840,
    "start_time": "2023-05-18T11:35:52.218Z"
   },
   {
    "duration": 2971,
    "start_time": "2023-05-18T11:35:55.060Z"
   },
   {
    "duration": 2715,
    "start_time": "2023-05-18T11:35:58.032Z"
   },
   {
    "duration": 1463,
    "start_time": "2023-05-18T11:36:00.749Z"
   },
   {
    "duration": 13,
    "start_time": "2023-05-18T11:36:02.214Z"
   },
   {
    "duration": 2527,
    "start_time": "2023-05-18T11:36:02.228Z"
   },
   {
    "duration": 253,
    "start_time": "2023-05-18T11:36:04.757Z"
   },
   {
    "duration": 18,
    "start_time": "2023-05-18T11:36:05.012Z"
   },
   {
    "duration": 4,
    "start_time": "2023-05-18T11:36:05.032Z"
   },
   {
    "duration": 12,
    "start_time": "2023-05-18T11:36:05.038Z"
   },
   {
    "duration": 13,
    "start_time": "2023-05-18T11:36:05.078Z"
   },
   {
    "duration": 4,
    "start_time": "2023-05-18T11:36:05.102Z"
   },
   {
    "duration": 34,
    "start_time": "2023-05-18T11:36:05.108Z"
   },
   {
    "duration": 6156,
    "start_time": "2023-05-18T11:36:05.144Z"
   },
   {
    "duration": 46456,
    "start_time": "2023-05-18T11:36:11.312Z"
   },
   {
    "duration": 302620,
    "start_time": "2023-05-18T11:36:57.777Z"
   },
   {
    "duration": 7999,
    "start_time": "2023-05-18T11:42:00.399Z"
   },
   {
    "duration": 12,
    "start_time": "2023-05-18T11:42:08.400Z"
   },
   {
    "duration": 45620,
    "start_time": "2023-05-18T11:43:20.053Z"
   },
   {
    "duration": 47063,
    "start_time": "2023-05-18T11:46:49.104Z"
   },
   {
    "duration": 299212,
    "start_time": "2023-05-18T11:47:36.170Z"
   },
   {
    "duration": 8395,
    "start_time": "2023-05-18T11:52:35.390Z"
   },
   {
    "duration": 14,
    "start_time": "2023-05-18T11:52:43.796Z"
   },
   {
    "duration": 47044,
    "start_time": "2023-05-18T11:52:43.815Z"
   },
   {
    "duration": 11796,
    "start_time": "2023-05-18T11:53:47.746Z"
   },
   {
    "duration": 6243,
    "start_time": "2023-05-18T11:56:35.547Z"
   },
   {
    "duration": 67,
    "start_time": "2023-05-18T13:31:34.594Z"
   },
   {
    "duration": 13,
    "start_time": "2023-05-18T13:33:27.603Z"
   },
   {
    "duration": 1566,
    "start_time": "2023-05-18T13:42:57.047Z"
   },
   {
    "duration": 1558,
    "start_time": "2023-05-18T13:43:17.071Z"
   },
   {
    "duration": 3,
    "start_time": "2023-05-18T13:44:49.741Z"
   },
   {
    "duration": 7,
    "start_time": "2023-05-18T13:44:49.746Z"
   },
   {
    "duration": 8,
    "start_time": "2023-05-18T13:44:49.754Z"
   },
   {
    "duration": 110,
    "start_time": "2023-05-18T13:44:49.763Z"
   },
   {
    "duration": 920,
    "start_time": "2023-05-18T13:44:49.876Z"
   },
   {
    "duration": 11,
    "start_time": "2023-05-18T13:44:50.798Z"
   },
   {
    "duration": 100,
    "start_time": "2023-05-18T13:44:50.811Z"
   },
   {
    "duration": 72,
    "start_time": "2023-05-18T13:44:50.914Z"
   },
   {
    "duration": 60,
    "start_time": "2023-05-18T13:44:50.995Z"
   },
   {
    "duration": 352,
    "start_time": "2023-05-18T13:44:51.057Z"
   },
   {
    "duration": 8,
    "start_time": "2023-05-18T13:44:51.412Z"
   },
   {
    "duration": 36,
    "start_time": "2023-05-18T13:44:51.421Z"
   },
   {
    "duration": 33,
    "start_time": "2023-05-18T13:44:51.459Z"
   },
   {
    "duration": 12,
    "start_time": "2023-05-18T13:44:51.495Z"
   },
   {
    "duration": 51,
    "start_time": "2023-05-18T13:44:51.510Z"
   },
   {
    "duration": 3756,
    "start_time": "2023-05-18T13:44:51.563Z"
   },
   {
    "duration": 313,
    "start_time": "2023-05-18T13:44:55.322Z"
   },
   {
    "duration": 4,
    "start_time": "2023-05-18T13:44:55.637Z"
   },
   {
    "duration": 9,
    "start_time": "2023-05-18T13:44:55.643Z"
   },
   {
    "duration": 19,
    "start_time": "2023-05-18T13:44:55.654Z"
   },
   {
    "duration": 9,
    "start_time": "2023-05-18T13:44:55.675Z"
   },
   {
    "duration": 21,
    "start_time": "2023-05-18T13:44:55.689Z"
   },
   {
    "duration": 7,
    "start_time": "2023-05-18T13:44:55.711Z"
   },
   {
    "duration": 5,
    "start_time": "2023-05-18T13:44:55.719Z"
   },
   {
    "duration": 3132,
    "start_time": "2023-05-18T13:44:55.726Z"
   },
   {
    "duration": 2882,
    "start_time": "2023-05-18T13:44:58.860Z"
   },
   {
    "duration": 2883,
    "start_time": "2023-05-18T13:45:01.744Z"
   },
   {
    "duration": 9,
    "start_time": "2023-05-18T13:45:04.629Z"
   },
   {
    "duration": 1524,
    "start_time": "2023-05-18T13:45:04.640Z"
   },
   {
    "duration": 34,
    "start_time": "2023-05-18T13:45:06.166Z"
   },
   {
    "duration": 2478,
    "start_time": "2023-05-18T13:45:06.207Z"
   },
   {
    "duration": 229,
    "start_time": "2023-05-18T13:45:08.686Z"
   },
   {
    "duration": 15,
    "start_time": "2023-05-18T13:45:08.917Z"
   },
   {
    "duration": 4,
    "start_time": "2023-05-18T13:45:08.934Z"
   },
   {
    "duration": 14,
    "start_time": "2023-05-18T13:46:05.198Z"
   },
   {
    "duration": 43,
    "start_time": "2023-05-18T13:53:40.109Z"
   },
   {
    "duration": 37,
    "start_time": "2023-05-18T13:54:25.669Z"
   },
   {
    "duration": 108,
    "start_time": "2023-05-18T13:54:41.595Z"
   },
   {
    "duration": 16,
    "start_time": "2023-05-18T13:54:48.837Z"
   },
   {
    "duration": 24,
    "start_time": "2023-05-18T13:55:06.400Z"
   },
   {
    "duration": 5,
    "start_time": "2023-05-18T13:55:50.444Z"
   },
   {
    "duration": 7,
    "start_time": "2023-05-18T13:55:57.326Z"
   },
   {
    "duration": 15,
    "start_time": "2023-05-18T13:56:10.110Z"
   },
   {
    "duration": 35,
    "start_time": "2023-05-18T13:58:54.487Z"
   },
   {
    "duration": 48,
    "start_time": "2023-05-18T13:59:12.545Z"
   },
   {
    "duration": 56,
    "start_time": "2023-05-18T14:01:05.433Z"
   },
   {
    "duration": 79,
    "start_time": "2023-05-18T14:01:29.538Z"
   },
   {
    "duration": 48,
    "start_time": "2023-05-18T14:02:23.107Z"
   },
   {
    "duration": 6,
    "start_time": "2023-05-18T14:06:19.305Z"
   },
   {
    "duration": 5,
    "start_time": "2023-05-18T14:06:30.361Z"
   },
   {
    "duration": 6,
    "start_time": "2023-05-18T14:07:30.888Z"
   },
   {
    "duration": 5,
    "start_time": "2023-05-18T14:07:46.973Z"
   },
   {
    "duration": 4,
    "start_time": "2023-05-18T14:08:21.561Z"
   },
   {
    "duration": 4,
    "start_time": "2023-05-18T14:08:42.961Z"
   },
   {
    "duration": 7,
    "start_time": "2023-05-18T14:09:00.613Z"
   },
   {
    "duration": 24,
    "start_time": "2023-05-18T14:09:05.849Z"
   },
   {
    "duration": 53,
    "start_time": "2023-05-18T14:09:14.522Z"
   },
   {
    "duration": 60,
    "start_time": "2023-05-18T14:09:24.837Z"
   },
   {
    "duration": 49,
    "start_time": "2023-05-18T14:09:47.009Z"
   },
   {
    "duration": 20,
    "start_time": "2023-05-18T15:35:10.471Z"
   },
   {
    "duration": 2617,
    "start_time": "2023-05-18T15:35:23.626Z"
   },
   {
    "duration": 13,
    "start_time": "2023-05-18T15:35:38.901Z"
   },
   {
    "duration": 2533,
    "start_time": "2023-05-18T15:35:40.660Z"
   },
   {
    "duration": 2585,
    "start_time": "2023-05-18T15:36:10.131Z"
   },
   {
    "duration": 25,
    "start_time": "2023-05-18T15:38:32.508Z"
   },
   {
    "duration": 4,
    "start_time": "2023-05-18T15:39:05.810Z"
   },
   {
    "duration": 12,
    "start_time": "2023-05-18T15:39:05.816Z"
   },
   {
    "duration": 33,
    "start_time": "2023-05-18T15:39:05.829Z"
   },
   {
    "duration": 66,
    "start_time": "2023-05-18T15:39:05.864Z"
   },
   {
    "duration": 980,
    "start_time": "2023-05-18T15:39:05.934Z"
   },
   {
    "duration": 3,
    "start_time": "2023-05-18T15:39:06.916Z"
   },
   {
    "duration": 101,
    "start_time": "2023-05-18T15:39:06.921Z"
   },
   {
    "duration": 76,
    "start_time": "2023-05-18T15:39:07.024Z"
   },
   {
    "duration": 43,
    "start_time": "2023-05-18T15:39:07.110Z"
   },
   {
    "duration": 377,
    "start_time": "2023-05-18T15:39:07.155Z"
   },
   {
    "duration": 8,
    "start_time": "2023-05-18T15:39:07.534Z"
   },
   {
    "duration": 56,
    "start_time": "2023-05-18T15:39:07.544Z"
   },
   {
    "duration": 8,
    "start_time": "2023-05-18T15:39:07.602Z"
   },
   {
    "duration": 17,
    "start_time": "2023-05-18T15:39:07.613Z"
   },
   {
    "duration": 54,
    "start_time": "2023-05-18T15:39:07.632Z"
   },
   {
    "duration": 4093,
    "start_time": "2023-05-18T15:39:07.688Z"
   },
   {
    "duration": 275,
    "start_time": "2023-05-18T15:39:11.783Z"
   },
   {
    "duration": 4,
    "start_time": "2023-05-18T15:39:12.059Z"
   },
   {
    "duration": 15,
    "start_time": "2023-05-18T15:39:12.064Z"
   },
   {
    "duration": 16,
    "start_time": "2023-05-18T15:39:12.087Z"
   },
   {
    "duration": 7,
    "start_time": "2023-05-18T15:39:12.110Z"
   },
   {
    "duration": 16,
    "start_time": "2023-05-18T15:39:12.118Z"
   },
   {
    "duration": 5,
    "start_time": "2023-05-18T15:39:12.135Z"
   },
   {
    "duration": 11,
    "start_time": "2023-05-18T15:39:12.141Z"
   },
   {
    "duration": 2857,
    "start_time": "2023-05-18T15:39:12.154Z"
   },
   {
    "duration": 3112,
    "start_time": "2023-05-18T15:39:15.016Z"
   },
   {
    "duration": 2828,
    "start_time": "2023-05-18T15:39:18.130Z"
   },
   {
    "duration": 29,
    "start_time": "2023-05-18T15:39:20.961Z"
   },
   {
    "duration": 1365,
    "start_time": "2023-05-18T15:39:20.996Z"
   },
   {
    "duration": 2449,
    "start_time": "2023-05-18T15:39:22.362Z"
   },
   {
    "duration": 222,
    "start_time": "2023-05-18T15:39:24.813Z"
   },
   {
    "duration": 69,
    "start_time": "2023-05-18T15:39:25.037Z"
   },
   {
    "duration": 20,
    "start_time": "2023-05-18T15:40:02.099Z"
   },
   {
    "duration": 14,
    "start_time": "2023-05-18T15:40:33.620Z"
   },
   {
    "duration": 18,
    "start_time": "2023-05-18T15:44:32.958Z"
   },
   {
    "duration": 71,
    "start_time": "2023-05-18T15:44:58.687Z"
   },
   {
    "duration": 929,
    "start_time": "2023-05-18T15:45:12.308Z"
   },
   {
    "duration": 4,
    "start_time": "2023-05-18T15:45:53.220Z"
   },
   {
    "duration": 18,
    "start_time": "2023-05-18T15:45:59.420Z"
   },
   {
    "duration": 17,
    "start_time": "2023-05-18T15:46:39.603Z"
   },
   {
    "duration": 46,
    "start_time": "2023-05-18T15:47:11.422Z"
   },
   {
    "duration": 17,
    "start_time": "2023-05-18T15:47:19.500Z"
   },
   {
    "duration": 2712,
    "start_time": "2023-05-18T15:47:46.613Z"
   },
   {
    "duration": 15,
    "start_time": "2023-05-18T15:48:50.547Z"
   },
   {
    "duration": 14,
    "start_time": "2023-05-18T15:48:58.311Z"
   },
   {
    "duration": 19,
    "start_time": "2023-05-18T15:49:09.157Z"
   },
   {
    "duration": 3,
    "start_time": "2023-05-18T15:49:17.958Z"
   },
   {
    "duration": 29,
    "start_time": "2023-05-18T15:49:17.962Z"
   },
   {
    "duration": 4,
    "start_time": "2023-05-18T15:49:17.995Z"
   },
   {
    "duration": 54,
    "start_time": "2023-05-18T15:49:18.002Z"
   },
   {
    "duration": 838,
    "start_time": "2023-05-18T15:49:18.058Z"
   },
   {
    "duration": 4,
    "start_time": "2023-05-18T15:49:18.898Z"
   },
   {
    "duration": 96,
    "start_time": "2023-05-18T15:49:18.904Z"
   },
   {
    "duration": 101,
    "start_time": "2023-05-18T15:49:19.002Z"
   },
   {
    "duration": 56,
    "start_time": "2023-05-18T15:49:19.106Z"
   },
   {
    "duration": 437,
    "start_time": "2023-05-18T15:49:19.164Z"
   },
   {
    "duration": 9,
    "start_time": "2023-05-18T15:49:19.603Z"
   },
   {
    "duration": 96,
    "start_time": "2023-05-18T15:49:19.614Z"
   },
   {
    "duration": 29,
    "start_time": "2023-05-18T15:49:19.713Z"
   },
   {
    "duration": 6,
    "start_time": "2023-05-18T15:49:19.744Z"
   },
   {
    "duration": 51,
    "start_time": "2023-05-18T15:49:19.752Z"
   },
   {
    "duration": 3755,
    "start_time": "2023-05-18T15:49:19.806Z"
   },
   {
    "duration": 290,
    "start_time": "2023-05-18T15:49:23.562Z"
   },
   {
    "duration": 4,
    "start_time": "2023-05-18T15:49:23.854Z"
   },
   {
    "duration": 30,
    "start_time": "2023-05-18T15:49:23.860Z"
   },
   {
    "duration": 6,
    "start_time": "2023-05-18T15:49:23.895Z"
   },
   {
    "duration": 18,
    "start_time": "2023-05-18T15:49:23.910Z"
   },
   {
    "duration": 19,
    "start_time": "2023-05-18T15:49:23.929Z"
   },
   {
    "duration": 4,
    "start_time": "2023-05-18T15:49:23.950Z"
   },
   {
    "duration": 6,
    "start_time": "2023-05-18T15:49:23.956Z"
   },
   {
    "duration": 2953,
    "start_time": "2023-05-18T15:49:23.964Z"
   },
   {
    "duration": 3064,
    "start_time": "2023-05-18T15:49:26.919Z"
   },
   {
    "duration": 2933,
    "start_time": "2023-05-18T15:49:29.986Z"
   },
   {
    "duration": 9,
    "start_time": "2023-05-18T15:49:32.921Z"
   },
   {
    "duration": 1553,
    "start_time": "2023-05-18T15:49:32.932Z"
   },
   {
    "duration": 2960,
    "start_time": "2023-05-18T15:49:34.493Z"
   },
   {
    "duration": 297,
    "start_time": "2023-05-18T15:49:37.455Z"
   },
   {
    "duration": 16,
    "start_time": "2023-05-18T15:49:37.754Z"
   },
   {
    "duration": 34,
    "start_time": "2023-05-18T15:49:37.778Z"
   },
   {
    "duration": 8,
    "start_time": "2023-05-18T15:49:40.409Z"
   },
   {
    "duration": 2507,
    "start_time": "2023-05-18T15:49:42.746Z"
   },
   {
    "duration": 392,
    "start_time": "2023-05-18T15:50:12.945Z"
   },
   {
    "duration": 99,
    "start_time": "2023-05-18T15:51:04.146Z"
   },
   {
    "duration": 21,
    "start_time": "2023-05-18T15:52:55.606Z"
   },
   {
    "duration": 17,
    "start_time": "2023-05-18T15:52:56.144Z"
   },
   {
    "duration": 62,
    "start_time": "2023-05-18T15:53:25.566Z"
   },
   {
    "duration": 11,
    "start_time": "2023-05-18T15:53:30.812Z"
   },
   {
    "duration": 7,
    "start_time": "2023-05-18T15:53:45.407Z"
   },
   {
    "duration": 2534,
    "start_time": "2023-05-18T15:53:46.332Z"
   },
   {
    "duration": 41,
    "start_time": "2023-05-18T15:55:35.309Z"
   },
   {
    "duration": 28,
    "start_time": "2023-05-18T15:55:41.762Z"
   },
   {
    "duration": 3,
    "start_time": "2023-05-18T15:55:47.660Z"
   },
   {
    "duration": 23,
    "start_time": "2023-05-18T15:55:47.666Z"
   },
   {
    "duration": 18,
    "start_time": "2023-05-18T15:55:47.699Z"
   },
   {
    "duration": 38,
    "start_time": "2023-05-18T15:55:47.721Z"
   },
   {
    "duration": 835,
    "start_time": "2023-05-18T15:55:47.761Z"
   },
   {
    "duration": 6,
    "start_time": "2023-05-18T15:55:48.602Z"
   },
   {
    "duration": 130,
    "start_time": "2023-05-18T15:55:48.611Z"
   },
   {
    "duration": 75,
    "start_time": "2023-05-18T15:55:48.742Z"
   },
   {
    "duration": 62,
    "start_time": "2023-05-18T15:55:48.819Z"
   },
   {
    "duration": 383,
    "start_time": "2023-05-18T15:55:48.883Z"
   },
   {
    "duration": 27,
    "start_time": "2023-05-18T15:55:49.268Z"
   },
   {
    "duration": 61,
    "start_time": "2023-05-18T15:55:49.298Z"
   },
   {
    "duration": 36,
    "start_time": "2023-05-18T15:55:49.360Z"
   },
   {
    "duration": 12,
    "start_time": "2023-05-18T15:55:49.397Z"
   },
   {
    "duration": 64,
    "start_time": "2023-05-18T15:55:49.411Z"
   },
   {
    "duration": 3602,
    "start_time": "2023-05-18T15:55:49.478Z"
   },
   {
    "duration": 272,
    "start_time": "2023-05-18T15:55:53.082Z"
   },
   {
    "duration": 3,
    "start_time": "2023-05-18T15:55:53.356Z"
   },
   {
    "duration": 34,
    "start_time": "2023-05-18T15:55:53.361Z"
   },
   {
    "duration": 4,
    "start_time": "2023-05-18T15:55:53.405Z"
   },
   {
    "duration": 20,
    "start_time": "2023-05-18T15:55:53.411Z"
   },
   {
    "duration": 35,
    "start_time": "2023-05-18T15:55:53.433Z"
   },
   {
    "duration": 4,
    "start_time": "2023-05-18T15:55:53.470Z"
   },
   {
    "duration": 20,
    "start_time": "2023-05-18T15:55:53.476Z"
   },
   {
    "duration": 2903,
    "start_time": "2023-05-18T15:55:53.497Z"
   },
   {
    "duration": 2949,
    "start_time": "2023-05-18T15:55:56.407Z"
   },
   {
    "duration": 2905,
    "start_time": "2023-05-18T15:55:59.358Z"
   },
   {
    "duration": 22,
    "start_time": "2023-05-18T15:56:02.265Z"
   },
   {
    "duration": 1431,
    "start_time": "2023-05-18T15:56:02.288Z"
   },
   {
    "duration": 2644,
    "start_time": "2023-05-18T15:56:03.721Z"
   },
   {
    "duration": 235,
    "start_time": "2023-05-18T15:56:06.367Z"
   },
   {
    "duration": 17,
    "start_time": "2023-05-18T15:56:06.604Z"
   },
   {
    "duration": 21,
    "start_time": "2023-05-18T15:56:06.625Z"
   },
   {
    "duration": 30,
    "start_time": "2023-05-18T15:57:16.006Z"
   },
   {
    "duration": 31,
    "start_time": "2023-05-18T15:59:04.043Z"
   },
   {
    "duration": 118,
    "start_time": "2023-05-18T15:59:41.254Z"
   },
   {
    "duration": 24,
    "start_time": "2023-05-18T16:00:02.031Z"
   },
   {
    "duration": 30,
    "start_time": "2023-05-18T16:00:09.056Z"
   },
   {
    "duration": 109,
    "start_time": "2023-05-18T16:00:53.735Z"
   },
   {
    "duration": 126,
    "start_time": "2023-05-18T16:00:59.016Z"
   },
   {
    "duration": 33,
    "start_time": "2023-05-18T16:01:50.104Z"
   },
   {
    "duration": 96,
    "start_time": "2023-05-18T16:02:28.642Z"
   },
   {
    "duration": 91,
    "start_time": "2023-05-18T16:04:43.841Z"
   },
   {
    "duration": 20,
    "start_time": "2023-05-18T16:05:16.702Z"
   },
   {
    "duration": 18,
    "start_time": "2023-05-18T16:05:22.744Z"
   },
   {
    "duration": 6,
    "start_time": "2023-05-18T16:05:29.909Z"
   },
   {
    "duration": 2492,
    "start_time": "2023-05-18T16:05:38.103Z"
   },
   {
    "duration": 13,
    "start_time": "2023-05-18T16:07:14.842Z"
   },
   {
    "duration": 4,
    "start_time": "2023-05-18T16:21:53.261Z"
   },
   {
    "duration": 1548,
    "start_time": "2023-05-18T16:21:53.311Z"
   },
   {
    "duration": 2,
    "start_time": "2023-05-18T16:21:54.862Z"
   },
   {
    "duration": 65,
    "start_time": "2023-05-18T16:21:54.866Z"
   },
   {
    "duration": 868,
    "start_time": "2023-05-18T16:21:54.933Z"
   },
   {
    "duration": 7,
    "start_time": "2023-05-18T16:21:55.815Z"
   },
   {
    "duration": 109,
    "start_time": "2023-05-18T16:21:55.823Z"
   },
   {
    "duration": 108,
    "start_time": "2023-05-18T16:21:55.933Z"
   },
   {
    "duration": 69,
    "start_time": "2023-05-18T16:21:56.043Z"
   },
   {
    "duration": 364,
    "start_time": "2023-05-18T16:21:56.115Z"
   },
   {
    "duration": 13,
    "start_time": "2023-05-18T16:21:56.488Z"
   },
   {
    "duration": 67,
    "start_time": "2023-05-18T16:21:56.503Z"
   },
   {
    "duration": 11,
    "start_time": "2023-05-18T16:21:56.572Z"
   },
   {
    "duration": 29,
    "start_time": "2023-05-18T16:21:56.592Z"
   },
   {
    "duration": 85,
    "start_time": "2023-05-18T16:21:56.626Z"
   },
   {
    "duration": 3830,
    "start_time": "2023-05-18T16:21:56.715Z"
   },
   {
    "duration": 320,
    "start_time": "2023-05-18T16:22:00.546Z"
   },
   {
    "duration": 4,
    "start_time": "2023-05-18T16:22:00.868Z"
   },
   {
    "duration": 7,
    "start_time": "2023-05-18T16:22:00.873Z"
   },
   {
    "duration": 31,
    "start_time": "2023-05-18T16:22:00.882Z"
   },
   {
    "duration": 35,
    "start_time": "2023-05-18T16:22:00.914Z"
   },
   {
    "duration": 51,
    "start_time": "2023-05-18T16:22:00.951Z"
   },
   {
    "duration": 9,
    "start_time": "2023-05-18T16:22:01.004Z"
   },
   {
    "duration": 7,
    "start_time": "2023-05-18T16:22:01.016Z"
   },
   {
    "duration": 3032,
    "start_time": "2023-05-18T16:22:01.026Z"
   },
   {
    "duration": 3107,
    "start_time": "2023-05-18T16:22:04.060Z"
   },
   {
    "duration": 2858,
    "start_time": "2023-05-18T16:22:07.179Z"
   },
   {
    "duration": 9,
    "start_time": "2023-05-18T16:22:10.039Z"
   },
   {
    "duration": 1591,
    "start_time": "2023-05-18T16:22:10.050Z"
   },
   {
    "duration": 2595,
    "start_time": "2023-05-18T16:22:11.644Z"
   },
   {
    "duration": 281,
    "start_time": "2023-05-18T16:22:14.241Z"
   },
   {
    "duration": 17,
    "start_time": "2023-05-18T16:22:14.526Z"
   },
   {
    "duration": 8,
    "start_time": "2023-05-18T16:22:14.545Z"
   },
   {
    "duration": 3,
    "start_time": "2023-05-18T16:22:14.556Z"
   },
   {
    "duration": 35,
    "start_time": "2023-05-18T16:22:14.561Z"
   },
   {
    "duration": 47,
    "start_time": "2023-05-18T16:22:14.600Z"
   },
   {
    "duration": 9155,
    "start_time": "2023-05-18T16:22:14.649Z"
   },
   {
    "duration": 44364,
    "start_time": "2023-05-18T16:22:23.808Z"
   },
   {
    "duration": 296610,
    "start_time": "2023-05-18T16:23:08.177Z"
   },
   {
    "duration": 11478,
    "start_time": "2023-05-18T16:28:04.790Z"
   },
   {
    "duration": 34,
    "start_time": "2023-05-18T16:28:16.271Z"
   }
  ],
  "kernelspec": {
   "display_name": "Python 3 (ipykernel)",
   "language": "python",
   "name": "python3"
  },
  "language_info": {
   "codemirror_mode": {
    "name": "ipython",
    "version": 3
   },
   "file_extension": ".py",
   "mimetype": "text/x-python",
   "name": "python",
   "nbconvert_exporter": "python",
   "pygments_lexer": "ipython3",
   "version": "3.11.4"
  },
  "toc": {
   "base_numbering": 1,
   "nav_menu": {},
   "number_sections": true,
   "sideBar": true,
   "skip_h1_title": true,
   "title_cell": "Содержание",
   "title_sidebar": "Contents",
   "toc_cell": true,
   "toc_position": {
    "height": "calc(100% - 180px)",
    "left": "10px",
    "top": "150px",
    "width": "251px"
   },
   "toc_section_display": true,
   "toc_window_display": true
  }
 },
 "nbformat": 4,
 "nbformat_minor": 4
}
